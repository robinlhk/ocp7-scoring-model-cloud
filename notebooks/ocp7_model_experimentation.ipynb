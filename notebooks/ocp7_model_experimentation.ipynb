{
 "cells": [
  {
   "cell_type": "raw",
   "source": [
    "---\n",
    "title: \"OCP7 -- Modélisation, note technique\"\n",
    "author: \"Robin Le Huérou-Kérisel\"\n",
    "format:\n",
    "    html:\n",
    "        code-fold: false\n",
    "jupyter: python3\n",
    "---"
   ],
   "metadata": {
    "collapsed": false
   },
   "id": "e019cf72371e6143"
  },
  {
   "cell_type": "code",
   "execution_count": 1,
   "id": "initial_id",
   "metadata": {
    "collapsed": true,
    "ExecuteTime": {
     "end_time": "2024-05-09T14:34:06.986967Z",
     "start_time": "2024-05-09T14:34:05.537970300Z"
    }
   },
   "outputs": [
    {
     "data": {
      "text/plain": "\u001B[2;36m                   \u001B[0m\u001B[2;36m \u001B[0m\u001B[34mINFO    \u001B[0m Resolved project path as:                                              \u001B]8;id=567487;file://C:\\Users\\9509298u\\AppData\\Local\\miniconda3\\envs\\ocp7-scoring-model-cloud\\lib\\site-packages\\kedro\\ipython\\__init__.py\u001B\\\u001B[2m__init__.py\u001B[0m\u001B]8;;\u001B\\\u001B[2m:\u001B[0m\u001B]8;id=983835;file://C:\\Users\\9509298u\\AppData\\Local\\miniconda3\\envs\\ocp7-scoring-model-cloud\\lib\\site-packages\\kedro\\ipython\\__init__.py#164\u001B\\\u001B[2m164\u001B[0m\u001B]8;;\u001B\\\n\u001B[2;36m                    \u001B[0m         C:\\Users\\9509298u\\Documents\\GitHub\\OC_Projects\\ocp7-scoring-model-clou \u001B[2m               \u001B[0m\n\u001B[2;36m                    \u001B[0m         d.                                                                     \u001B[2m               \u001B[0m\n\u001B[2;36m                    \u001B[0m         To set a different path, run \u001B[32m'%reload_kedro \u001B[0m\u001B[32m<\u001B[0m\u001B[32mproject_root\u001B[0m\u001B[32m>\u001B[0m\u001B[32m'\u001B[0m            \u001B[2m               \u001B[0m\n",
      "text/html": "<pre style=\"white-space:pre;overflow-x:auto;line-height:normal;font-family:Menlo,'DejaVu Sans Mono',consolas,'Courier New',monospace\"><span style=\"color: #7fbfbf; text-decoration-color: #7fbfbf\">                    </span><span style=\"color: #000080; text-decoration-color: #000080\">INFO    </span> Resolved project path as:                                              <a href=\"file://C:\\Users\\9509298u\\AppData\\Local\\miniconda3\\envs\\ocp7-scoring-model-cloud\\lib\\site-packages\\kedro\\ipython\\__init__.py\" target=\"_blank\"><span style=\"color: #7f7f7f; text-decoration-color: #7f7f7f\">__init__.py</span></a><span style=\"color: #7f7f7f; text-decoration-color: #7f7f7f\">:</span><a href=\"file://C:\\Users\\9509298u\\AppData\\Local\\miniconda3\\envs\\ocp7-scoring-model-cloud\\lib\\site-packages\\kedro\\ipython\\__init__.py#164\" target=\"_blank\"><span style=\"color: #7f7f7f; text-decoration-color: #7f7f7f\">164</span></a>\n<span style=\"color: #7fbfbf; text-decoration-color: #7fbfbf\">                    </span>         C:\\Users\\9509298u\\Documents\\GitHub\\OC_Projects\\ocp7-scoring-model-clou <span style=\"color: #7f7f7f; text-decoration-color: #7f7f7f\">               </span>\n<span style=\"color: #7fbfbf; text-decoration-color: #7fbfbf\">                    </span>         d.                                                                     <span style=\"color: #7f7f7f; text-decoration-color: #7f7f7f\">               </span>\n<span style=\"color: #7fbfbf; text-decoration-color: #7fbfbf\">                    </span>         To set a different path, run <span style=\"color: #008000; text-decoration-color: #008000\">'%reload_kedro &lt;project_root&gt;'</span>            <span style=\"color: #7f7f7f; text-decoration-color: #7f7f7f\">               </span>\n</pre>\n"
     },
     "metadata": {},
     "output_type": "display_data"
    },
    {
     "data": {
      "text/plain": "\u001B[2;36m[05/09/24 16:34:06]\u001B[0m\u001B[2;36m \u001B[0m\u001B[34mINFO    \u001B[0m Registering new custom resolver: \u001B[32m'km.random_name'\u001B[0m                    \u001B]8;id=385048;file://C:\\Users\\9509298u\\AppData\\Local\\miniconda3\\envs\\ocp7-scoring-model-cloud\\lib\\site-packages\\kedro_mlflow\\framework\\hooks\\mlflow_hook.py\u001B\\\u001B[2mmlflow_hook.py\u001B[0m\u001B]8;;\u001B\\\u001B[2m:\u001B[0m\u001B]8;id=344701;file://C:\\Users\\9509298u\\AppData\\Local\\miniconda3\\envs\\ocp7-scoring-model-cloud\\lib\\site-packages\\kedro_mlflow\\framework\\hooks\\mlflow_hook.py#65\u001B\\\u001B[2m65\u001B[0m\u001B]8;;\u001B\\\n",
      "text/html": "<pre style=\"white-space:pre;overflow-x:auto;line-height:normal;font-family:Menlo,'DejaVu Sans Mono',consolas,'Courier New',monospace\"><span style=\"color: #7fbfbf; text-decoration-color: #7fbfbf\">[05/09/24 16:34:06] </span><span style=\"color: #000080; text-decoration-color: #000080\">INFO    </span> Registering new custom resolver: <span style=\"color: #008000; text-decoration-color: #008000\">'km.random_name'</span>                    <a href=\"file://C:\\Users\\9509298u\\AppData\\Local\\miniconda3\\envs\\ocp7-scoring-model-cloud\\lib\\site-packages\\kedro_mlflow\\framework\\hooks\\mlflow_hook.py\" target=\"_blank\"><span style=\"color: #7f7f7f; text-decoration-color: #7f7f7f\">mlflow_hook.py</span></a><span style=\"color: #7f7f7f; text-decoration-color: #7f7f7f\">:</span><a href=\"file://C:\\Users\\9509298u\\AppData\\Local\\miniconda3\\envs\\ocp7-scoring-model-cloud\\lib\\site-packages\\kedro_mlflow\\framework\\hooks\\mlflow_hook.py#65\" target=\"_blank\"><span style=\"color: #7f7f7f; text-decoration-color: #7f7f7f\">65</span></a>\n</pre>\n"
     },
     "metadata": {},
     "output_type": "display_data"
    },
    {
     "data": {
      "text/plain": "\u001B[2;36m                   \u001B[0m\u001B[2;36m \u001B[0m\u001B[34mINFO    \u001B[0m The \u001B[32m'tracking_uri'\u001B[0m key in mlflow.yml is relative            \u001B]8;id=335945;file://C:\\Users\\9509298u\\AppData\\Local\\miniconda3\\envs\\ocp7-scoring-model-cloud\\lib\\site-packages\\kedro_mlflow\\config\\kedro_mlflow_config.py\u001B\\\u001B[2mkedro_mlflow_config.py\u001B[0m\u001B]8;;\u001B\\\u001B[2m:\u001B[0m\u001B]8;id=991090;file://C:\\Users\\9509298u\\AppData\\Local\\miniconda3\\envs\\ocp7-scoring-model-cloud\\lib\\site-packages\\kedro_mlflow\\config\\kedro_mlflow_config.py#260\u001B\\\u001B[2m260\u001B[0m\u001B]8;;\u001B\\\n\u001B[2;36m                    \u001B[0m         \u001B[1m(\u001B[0m\u001B[32m'server.mlflow_\u001B[0m\u001B[32m(\u001B[0m\u001B[32mtracking|registry\u001B[0m\u001B[32m)\u001B[0m\u001B[32m_uri = mlruns'\u001B[0m\u001B[1m)\u001B[0m. It is   \u001B[2m                          \u001B[0m\n\u001B[2;36m                    \u001B[0m         converted to a valid uri:                                   \u001B[2m                          \u001B[0m\n\u001B[2;36m                    \u001B[0m         \u001B[32m'file:///C:/Users/9509298u/Documents/GitHub/OC_Projects/ocp\u001B[0m \u001B[2m                          \u001B[0m\n\u001B[2;36m                    \u001B[0m         \u001B[32m7-scoring-model-cloud/mlruns'\u001B[0m                               \u001B[2m                          \u001B[0m\n",
      "text/html": "<pre style=\"white-space:pre;overflow-x:auto;line-height:normal;font-family:Menlo,'DejaVu Sans Mono',consolas,'Courier New',monospace\"><span style=\"color: #7fbfbf; text-decoration-color: #7fbfbf\">                    </span><span style=\"color: #000080; text-decoration-color: #000080\">INFO    </span> The <span style=\"color: #008000; text-decoration-color: #008000\">'tracking_uri'</span> key in mlflow.yml is relative            <a href=\"file://C:\\Users\\9509298u\\AppData\\Local\\miniconda3\\envs\\ocp7-scoring-model-cloud\\lib\\site-packages\\kedro_mlflow\\config\\kedro_mlflow_config.py\" target=\"_blank\"><span style=\"color: #7f7f7f; text-decoration-color: #7f7f7f\">kedro_mlflow_config.py</span></a><span style=\"color: #7f7f7f; text-decoration-color: #7f7f7f\">:</span><a href=\"file://C:\\Users\\9509298u\\AppData\\Local\\miniconda3\\envs\\ocp7-scoring-model-cloud\\lib\\site-packages\\kedro_mlflow\\config\\kedro_mlflow_config.py#260\" target=\"_blank\"><span style=\"color: #7f7f7f; text-decoration-color: #7f7f7f\">260</span></a>\n<span style=\"color: #7fbfbf; text-decoration-color: #7fbfbf\">                    </span>         <span style=\"font-weight: bold\">(</span><span style=\"color: #008000; text-decoration-color: #008000\">'server.mlflow_(tracking|registry)_uri = mlruns'</span><span style=\"font-weight: bold\">)</span>. It is   <span style=\"color: #7f7f7f; text-decoration-color: #7f7f7f\">                          </span>\n<span style=\"color: #7fbfbf; text-decoration-color: #7fbfbf\">                    </span>         converted to a valid uri:                                   <span style=\"color: #7f7f7f; text-decoration-color: #7f7f7f\">                          </span>\n<span style=\"color: #7fbfbf; text-decoration-color: #7fbfbf\">                    </span>         <span style=\"color: #008000; text-decoration-color: #008000\">'file:///C:/Users/9509298u/Documents/GitHub/OC_Projects/ocp</span> <span style=\"color: #7f7f7f; text-decoration-color: #7f7f7f\">                          </span>\n<span style=\"color: #7fbfbf; text-decoration-color: #7fbfbf\">                    </span>         <span style=\"color: #008000; text-decoration-color: #008000\">7-scoring-model-cloud/mlruns'</span>                               <span style=\"color: #7f7f7f; text-decoration-color: #7f7f7f\">                          </span>\n</pre>\n"
     },
     "metadata": {},
     "output_type": "display_data"
    },
    {
     "data": {
      "text/plain": "\u001B[2;36m                   \u001B[0m\u001B[2;36m \u001B[0m\u001B[34mINFO    \u001B[0m Kedro project ocp7_scoring_model_cloud                                 \u001B]8;id=908213;file://C:\\Users\\9509298u\\AppData\\Local\\miniconda3\\envs\\ocp7-scoring-model-cloud\\lib\\site-packages\\kedro\\ipython\\__init__.py\u001B\\\u001B[2m__init__.py\u001B[0m\u001B]8;;\u001B\\\u001B[2m:\u001B[0m\u001B]8;id=202051;file://C:\\Users\\9509298u\\AppData\\Local\\miniconda3\\envs\\ocp7-scoring-model-cloud\\lib\\site-packages\\kedro\\ipython\\__init__.py#134\u001B\\\u001B[2m134\u001B[0m\u001B]8;;\u001B\\\n",
      "text/html": "<pre style=\"white-space:pre;overflow-x:auto;line-height:normal;font-family:Menlo,'DejaVu Sans Mono',consolas,'Courier New',monospace\"><span style=\"color: #7fbfbf; text-decoration-color: #7fbfbf\">                    </span><span style=\"color: #000080; text-decoration-color: #000080\">INFO    </span> Kedro project ocp7_scoring_model_cloud                                 <a href=\"file://C:\\Users\\9509298u\\AppData\\Local\\miniconda3\\envs\\ocp7-scoring-model-cloud\\lib\\site-packages\\kedro\\ipython\\__init__.py\" target=\"_blank\"><span style=\"color: #7f7f7f; text-decoration-color: #7f7f7f\">__init__.py</span></a><span style=\"color: #7f7f7f; text-decoration-color: #7f7f7f\">:</span><a href=\"file://C:\\Users\\9509298u\\AppData\\Local\\miniconda3\\envs\\ocp7-scoring-model-cloud\\lib\\site-packages\\kedro\\ipython\\__init__.py#134\" target=\"_blank\"><span style=\"color: #7f7f7f; text-decoration-color: #7f7f7f\">134</span></a>\n</pre>\n"
     },
     "metadata": {},
     "output_type": "display_data"
    },
    {
     "data": {
      "text/plain": "\u001B[2;36m                   \u001B[0m\u001B[2;36m \u001B[0m\u001B[34mINFO    \u001B[0m Defined global variable \u001B[32m'context'\u001B[0m, \u001B[32m'session'\u001B[0m, \u001B[32m'catalog'\u001B[0m and            \u001B]8;id=182635;file://C:\\Users\\9509298u\\AppData\\Local\\miniconda3\\envs\\ocp7-scoring-model-cloud\\lib\\site-packages\\kedro\\ipython\\__init__.py\u001B\\\u001B[2m__init__.py\u001B[0m\u001B]8;;\u001B\\\u001B[2m:\u001B[0m\u001B]8;id=982633;file://C:\\Users\\9509298u\\AppData\\Local\\miniconda3\\envs\\ocp7-scoring-model-cloud\\lib\\site-packages\\kedro\\ipython\\__init__.py#135\u001B\\\u001B[2m135\u001B[0m\u001B]8;;\u001B\\\n\u001B[2;36m                    \u001B[0m         \u001B[32m'pipelines'\u001B[0m                                                            \u001B[2m               \u001B[0m\n",
      "text/html": "<pre style=\"white-space:pre;overflow-x:auto;line-height:normal;font-family:Menlo,'DejaVu Sans Mono',consolas,'Courier New',monospace\"><span style=\"color: #7fbfbf; text-decoration-color: #7fbfbf\">                    </span><span style=\"color: #000080; text-decoration-color: #000080\">INFO    </span> Defined global variable <span style=\"color: #008000; text-decoration-color: #008000\">'context'</span>, <span style=\"color: #008000; text-decoration-color: #008000\">'session'</span>, <span style=\"color: #008000; text-decoration-color: #008000\">'catalog'</span> and            <a href=\"file://C:\\Users\\9509298u\\AppData\\Local\\miniconda3\\envs\\ocp7-scoring-model-cloud\\lib\\site-packages\\kedro\\ipython\\__init__.py\" target=\"_blank\"><span style=\"color: #7f7f7f; text-decoration-color: #7f7f7f\">__init__.py</span></a><span style=\"color: #7f7f7f; text-decoration-color: #7f7f7f\">:</span><a href=\"file://C:\\Users\\9509298u\\AppData\\Local\\miniconda3\\envs\\ocp7-scoring-model-cloud\\lib\\site-packages\\kedro\\ipython\\__init__.py#135\" target=\"_blank\"><span style=\"color: #7f7f7f; text-decoration-color: #7f7f7f\">135</span></a>\n<span style=\"color: #7fbfbf; text-decoration-color: #7fbfbf\">                    </span>         <span style=\"color: #008000; text-decoration-color: #008000\">'pipelines'</span>                                                            <span style=\"color: #7f7f7f; text-decoration-color: #7f7f7f\">               </span>\n</pre>\n"
     },
     "metadata": {},
     "output_type": "display_data"
    },
    {
     "data": {
      "text/plain": "\u001B[2;36m                   \u001B[0m\u001B[2;36m \u001B[0m\u001B[34mINFO    \u001B[0m Registered line magic \u001B[32m'run_viz'\u001B[0m                                        \u001B]8;id=102419;file://C:\\Users\\9509298u\\AppData\\Local\\miniconda3\\envs\\ocp7-scoring-model-cloud\\lib\\site-packages\\kedro\\ipython\\__init__.py\u001B\\\u001B[2m__init__.py\u001B[0m\u001B]8;;\u001B\\\u001B[2m:\u001B[0m\u001B]8;id=152792;file://C:\\Users\\9509298u\\AppData\\Local\\miniconda3\\envs\\ocp7-scoring-model-cloud\\lib\\site-packages\\kedro\\ipython\\__init__.py#141\u001B\\\u001B[2m141\u001B[0m\u001B]8;;\u001B\\\n",
      "text/html": "<pre style=\"white-space:pre;overflow-x:auto;line-height:normal;font-family:Menlo,'DejaVu Sans Mono',consolas,'Courier New',monospace\"><span style=\"color: #7fbfbf; text-decoration-color: #7fbfbf\">                    </span><span style=\"color: #000080; text-decoration-color: #000080\">INFO    </span> Registered line magic <span style=\"color: #008000; text-decoration-color: #008000\">'run_viz'</span>                                        <a href=\"file://C:\\Users\\9509298u\\AppData\\Local\\miniconda3\\envs\\ocp7-scoring-model-cloud\\lib\\site-packages\\kedro\\ipython\\__init__.py\" target=\"_blank\"><span style=\"color: #7f7f7f; text-decoration-color: #7f7f7f\">__init__.py</span></a><span style=\"color: #7f7f7f; text-decoration-color: #7f7f7f\">:</span><a href=\"file://C:\\Users\\9509298u\\AppData\\Local\\miniconda3\\envs\\ocp7-scoring-model-cloud\\lib\\site-packages\\kedro\\ipython\\__init__.py#141\" target=\"_blank\"><span style=\"color: #7f7f7f; text-decoration-color: #7f7f7f\">141</span></a>\n</pre>\n"
     },
     "metadata": {},
     "output_type": "display_data"
    }
   ],
   "source": [
    "%reload_kedro"
   ]
  },
  {
   "cell_type": "code",
   "execution_count": 2,
   "outputs": [
    {
     "data": {
      "text/plain": "\u001B[2;36m                   \u001B[0m\u001B[2;36m \u001B[0m\u001B[34mINFO    \u001B[0m Loading data from \u001B[38;5;208mfull_df_train\u001B[0m \u001B[1m(\u001B[0mParquetDataset\u001B[1m)\u001B[0m\u001B[33m...\u001B[0m                \u001B]8;id=576406;file://C:\\Users\\9509298u\\AppData\\Local\\miniconda3\\envs\\ocp7-scoring-model-cloud\\lib\\site-packages\\kedro\\io\\data_catalog.py\u001B\\\u001B[2mdata_catalog.py\u001B[0m\u001B]8;;\u001B\\\u001B[2m:\u001B[0m\u001B]8;id=579918;file://C:\\Users\\9509298u\\AppData\\Local\\miniconda3\\envs\\ocp7-scoring-model-cloud\\lib\\site-packages\\kedro\\io\\data_catalog.py#483\u001B\\\u001B[2m483\u001B[0m\u001B]8;;\u001B\\\n",
      "text/html": "<pre style=\"white-space:pre;overflow-x:auto;line-height:normal;font-family:Menlo,'DejaVu Sans Mono',consolas,'Courier New',monospace\"><span style=\"color: #7fbfbf; text-decoration-color: #7fbfbf\">                    </span><span style=\"color: #000080; text-decoration-color: #000080\">INFO    </span> Loading data from <span style=\"color: #ff8700; text-decoration-color: #ff8700\">full_df_train</span> <span style=\"font-weight: bold\">(</span>ParquetDataset<span style=\"font-weight: bold\">)</span><span style=\"color: #808000; text-decoration-color: #808000\">...</span>                <a href=\"file://C:\\Users\\9509298u\\AppData\\Local\\miniconda3\\envs\\ocp7-scoring-model-cloud\\lib\\site-packages\\kedro\\io\\data_catalog.py\" target=\"_blank\"><span style=\"color: #7f7f7f; text-decoration-color: #7f7f7f\">data_catalog.py</span></a><span style=\"color: #7f7f7f; text-decoration-color: #7f7f7f\">:</span><a href=\"file://C:\\Users\\9509298u\\AppData\\Local\\miniconda3\\envs\\ocp7-scoring-model-cloud\\lib\\site-packages\\kedro\\io\\data_catalog.py#483\" target=\"_blank\"><span style=\"color: #7f7f7f; text-decoration-color: #7f7f7f\">483</span></a>\n</pre>\n"
     },
     "metadata": {},
     "output_type": "display_data"
    }
   ],
   "source": [
    "train_df = catalog.load(\"full_df_train\")"
   ],
   "metadata": {
    "collapsed": false,
    "ExecuteTime": {
     "end_time": "2024-05-09T14:34:07.902740900Z",
     "start_time": "2024-05-09T14:34:06.984965100Z"
    }
   },
   "id": "704e27514d804841"
  },
  {
   "cell_type": "code",
   "execution_count": 3,
   "outputs": [
    {
     "data": {
      "text/plain": "",
      "text/html": "<pre style=\"white-space:pre;overflow-x:auto;line-height:normal;font-family:Menlo,'DejaVu Sans Mono',consolas,'Courier New',monospace\"></pre>\n"
     },
     "metadata": {},
     "output_type": "display_data"
    },
    {
     "data": {
      "text/plain": "\n   SK_ID_CURR  TARGET  CODE_GENDER  FLAG_OWN_CAR  FLAG_OWN_REALTY  \\\n\u001B[1;36m0\u001B[0m      \u001B[1;36m100002\u001B[0m       \u001B[1;36m1\u001B[0m          \u001B[1;36m0.0\u001B[0m           \u001B[1;36m0.0\u001B[0m              \u001B[1;36m0.0\u001B[0m   \n\u001B[1;36m1\u001B[0m      \u001B[1;36m100003\u001B[0m       \u001B[1;36m0\u001B[0m          \u001B[1;36m1.0\u001B[0m           \u001B[1;36m0.0\u001B[0m              \u001B[1;36m1.0\u001B[0m   \n\u001B[1;36m2\u001B[0m      \u001B[1;36m100004\u001B[0m       \u001B[1;36m0\u001B[0m          \u001B[1;36m0.0\u001B[0m           \u001B[1;36m1.0\u001B[0m              \u001B[1;36m0.0\u001B[0m   \n\u001B[1;36m3\u001B[0m      \u001B[1;36m100006\u001B[0m       \u001B[1;36m0\u001B[0m          \u001B[1;36m1.0\u001B[0m           \u001B[1;36m0.0\u001B[0m              \u001B[1;36m0.0\u001B[0m   \n\u001B[1;36m4\u001B[0m      \u001B[1;36m100007\u001B[0m       \u001B[1;36m0\u001B[0m          \u001B[1;36m0.0\u001B[0m           \u001B[1;36m0.0\u001B[0m              \u001B[1;36m0.0\u001B[0m   \n\n   CNT_CHILDREN  AMT_INCOME_TOTAL  AMT_CREDIT  AMT_ANNUITY  AMT_GOODS_PRICE  \\\n\u001B[1;36m0\u001B[0m           \u001B[1;36m0.0\u001B[0m          \u001B[1;36m0.001512\u001B[0m    \u001B[1;36m0.090287\u001B[0m     \u001B[1;36m0.090032\u001B[0m         \u001B[1;36m0.077441\u001B[0m   \n\u001B[1;36m1\u001B[0m           \u001B[1;36m0.0\u001B[0m          \u001B[1;36m0.002089\u001B[0m    \u001B[1;36m0.311736\u001B[0m     \u001B[1;36m0.132924\u001B[0m         \u001B[1;36m0.271605\u001B[0m   \n\u001B[1;36m2\u001B[0m           \u001B[1;36m0.0\u001B[0m          \u001B[1;36m0.000358\u001B[0m    \u001B[1;36m0.022472\u001B[0m     \u001B[1;36m0.020025\u001B[0m         \u001B[1;36m0.023569\u001B[0m   \n\u001B[1;36m3\u001B[0m           \u001B[1;36m0.0\u001B[0m          \u001B[1;36m0.000935\u001B[0m    \u001B[1;36m0.066837\u001B[0m     \u001B[1;36m0.109477\u001B[0m         \u001B[1;36m0.063973\u001B[0m   \n\u001B[1;36m4\u001B[0m           \u001B[1;36m0.0\u001B[0m          \u001B[1;36m0.000819\u001B[0m    \u001B[1;36m0.116854\u001B[0m     \u001B[1;36m0.078975\u001B[0m         \u001B[1;36m0.117845\u001B[0m   \n\n   \u001B[33m...\u001B[0m  INSTAL_AMT_INSTALMENT_MEAN  INSTAL_AMT_INSTALMENT_SUM  \\\n\u001B[1;36m0\u001B[0m  \u001B[33m...\u001B[0m                    \u001B[1;36m0.004615\u001B[0m                   \u001B[1;36m0.009436\u001B[0m   \n\u001B[1;36m1\u001B[0m  \u001B[33m...\u001B[0m                    \u001B[1;36m0.025854\u001B[0m                   \u001B[1;36m0.069555\u001B[0m   \n\u001B[1;36m2\u001B[0m  \u001B[33m...\u001B[0m                    \u001B[1;36m0.002833\u001B[0m                   \u001B[1;36m0.000915\u001B[0m   \n\u001B[1;36m3\u001B[0m  \u001B[33m...\u001B[0m                    \u001B[1;36m0.025133\u001B[0m                   \u001B[1;36m0.043272\u001B[0m   \n\u001B[1;36m4\u001B[0m  \u001B[33m...\u001B[0m                    \u001B[1;36m0.005057\u001B[0m                   \u001B[1;36m0.035918\u001B[0m   \n\n   INSTAL_AMT_PAYMENT_MIN  INSTAL_AMT_PAYMENT_MAX  INSTAL_AMT_PAYMENT_MEAN  \\\n\u001B[1;36m0\u001B[0m            \u001B[1;36m3.693928e-03\u001B[0m                \u001B[1;36m0.014078\u001B[0m                 \u001B[1;36m0.004615\u001B[0m   \n\u001B[1;36m1\u001B[0m            \u001B[1;36m2.660304e-03\u001B[0m                \u001B[1;36m0.148704\u001B[0m                 \u001B[1;36m0.025854\u001B[0m   \n\u001B[1;36m2\u001B[0m            \u001B[1;36m2.138973e-03\u001B[0m                \u001B[1;36m0.002804\u001B[0m                 \u001B[1;36m0.002833\u001B[0m   \n\u001B[1;36m3\u001B[0m            \u001B[1;36m9.913480e-04\u001B[0m                \u001B[1;36m0.183425\u001B[0m                 \u001B[1;36m0.025133\u001B[0m   \n\u001B[1;36m4\u001B[0m            \u001B[1;36m7.186806e-08\u001B[0m                \u001B[1;36m0.006013\u001B[0m                 \u001B[1;36m0.004877\u001B[0m   \n\n   INSTAL_AMT_PAYMENT_SUM  INSTAL_DAYS_ENTRY_PAYMENT_MAX  \\\n\u001B[1;36m0\u001B[0m                \u001B[1;36m0.008600\u001B[0m                       \u001B[1;36m0.984365\u001B[0m   \n\u001B[1;36m1\u001B[0m                \u001B[1;36m0.063393\u001B[0m                       \u001B[1;36m0.823127\u001B[0m   \n\u001B[1;36m2\u001B[0m                \u001B[1;36m0.000834\u001B[0m                       \u001B[1;36m0.763518\u001B[0m   \n\u001B[1;36m3\u001B[0m                \u001B[1;36m0.039439\u001B[0m                       \u001B[1;36m0.996417\u001B[0m   \n\u001B[1;36m4\u001B[0m                \u001B[1;36m0.031567\u001B[0m                       \u001B[1;36m0.995765\u001B[0m   \n\n   INSTAL_DAYS_ENTRY_PAYMENT_MEAN  INSTAL_DAYS_ENTRY_PAYMENT_SUM  INSTAL_COUNT  \n\u001B[1;36m0\u001B[0m                        \u001B[1;36m0.898168\u001B[0m                       \u001B[1;36m0.990053\u001B[0m      \u001B[1;36m0.048518\u001B[0m  \n\u001B[1;36m1\u001B[0m                        \u001B[1;36m0.549439\u001B[0m                       \u001B[1;36m0.942518\u001B[0m      \u001B[1;36m0.064690\u001B[0m  \n\u001B[1;36m2\u001B[0m                        \u001B[1;36m0.752716\u001B[0m                       \u001B[1;36m0.996207\u001B[0m      \u001B[1;36m0.005391\u001B[0m  \n\u001B[1;36m3\u001B[0m                        \u001B[1;36m0.912443\u001B[0m                       \u001B[1;36m0.992787\u001B[0m      \u001B[1;36m0.040431\u001B[0m  \n\u001B[1;36m4\u001B[0m                        \u001B[1;36m0.664523\u001B[0m                       \u001B[1;36m0.886924\u001B[0m      \u001B[1;36m0.175202\u001B[0m  \n\n\u001B[1m[\u001B[0m\u001B[1;36m5\u001B[0m rows x \u001B[1;36m489\u001B[0m columns\u001B[1m]\u001B[0m",
      "text/html": "<div>\n<style scoped>\n    .dataframe tbody tr th:only-of-type {\n        vertical-align: middle;\n    }\n\n    .dataframe tbody tr th {\n        vertical-align: top;\n    }\n\n    .dataframe thead th {\n        text-align: right;\n    }\n</style>\n<table border=\"1\" class=\"dataframe\">\n  <thead>\n    <tr style=\"text-align: right;\">\n      <th></th>\n      <th>SK_ID_CURR</th>\n      <th>TARGET</th>\n      <th>CODE_GENDER</th>\n      <th>FLAG_OWN_CAR</th>\n      <th>FLAG_OWN_REALTY</th>\n      <th>CNT_CHILDREN</th>\n      <th>AMT_INCOME_TOTAL</th>\n      <th>AMT_CREDIT</th>\n      <th>AMT_ANNUITY</th>\n      <th>AMT_GOODS_PRICE</th>\n      <th>...</th>\n      <th>INSTAL_AMT_INSTALMENT_MEAN</th>\n      <th>INSTAL_AMT_INSTALMENT_SUM</th>\n      <th>INSTAL_AMT_PAYMENT_MIN</th>\n      <th>INSTAL_AMT_PAYMENT_MAX</th>\n      <th>INSTAL_AMT_PAYMENT_MEAN</th>\n      <th>INSTAL_AMT_PAYMENT_SUM</th>\n      <th>INSTAL_DAYS_ENTRY_PAYMENT_MAX</th>\n      <th>INSTAL_DAYS_ENTRY_PAYMENT_MEAN</th>\n      <th>INSTAL_DAYS_ENTRY_PAYMENT_SUM</th>\n      <th>INSTAL_COUNT</th>\n    </tr>\n  </thead>\n  <tbody>\n    <tr>\n      <th>0</th>\n      <td>100002</td>\n      <td>1</td>\n      <td>0.0</td>\n      <td>0.0</td>\n      <td>0.0</td>\n      <td>0.0</td>\n      <td>0.001512</td>\n      <td>0.090287</td>\n      <td>0.090032</td>\n      <td>0.077441</td>\n      <td>...</td>\n      <td>0.004615</td>\n      <td>0.009436</td>\n      <td>3.693928e-03</td>\n      <td>0.014078</td>\n      <td>0.004615</td>\n      <td>0.008600</td>\n      <td>0.984365</td>\n      <td>0.898168</td>\n      <td>0.990053</td>\n      <td>0.048518</td>\n    </tr>\n    <tr>\n      <th>1</th>\n      <td>100003</td>\n      <td>0</td>\n      <td>1.0</td>\n      <td>0.0</td>\n      <td>1.0</td>\n      <td>0.0</td>\n      <td>0.002089</td>\n      <td>0.311736</td>\n      <td>0.132924</td>\n      <td>0.271605</td>\n      <td>...</td>\n      <td>0.025854</td>\n      <td>0.069555</td>\n      <td>2.660304e-03</td>\n      <td>0.148704</td>\n      <td>0.025854</td>\n      <td>0.063393</td>\n      <td>0.823127</td>\n      <td>0.549439</td>\n      <td>0.942518</td>\n      <td>0.064690</td>\n    </tr>\n    <tr>\n      <th>2</th>\n      <td>100004</td>\n      <td>0</td>\n      <td>0.0</td>\n      <td>1.0</td>\n      <td>0.0</td>\n      <td>0.0</td>\n      <td>0.000358</td>\n      <td>0.022472</td>\n      <td>0.020025</td>\n      <td>0.023569</td>\n      <td>...</td>\n      <td>0.002833</td>\n      <td>0.000915</td>\n      <td>2.138973e-03</td>\n      <td>0.002804</td>\n      <td>0.002833</td>\n      <td>0.000834</td>\n      <td>0.763518</td>\n      <td>0.752716</td>\n      <td>0.996207</td>\n      <td>0.005391</td>\n    </tr>\n    <tr>\n      <th>3</th>\n      <td>100006</td>\n      <td>0</td>\n      <td>1.0</td>\n      <td>0.0</td>\n      <td>0.0</td>\n      <td>0.0</td>\n      <td>0.000935</td>\n      <td>0.066837</td>\n      <td>0.109477</td>\n      <td>0.063973</td>\n      <td>...</td>\n      <td>0.025133</td>\n      <td>0.043272</td>\n      <td>9.913480e-04</td>\n      <td>0.183425</td>\n      <td>0.025133</td>\n      <td>0.039439</td>\n      <td>0.996417</td>\n      <td>0.912443</td>\n      <td>0.992787</td>\n      <td>0.040431</td>\n    </tr>\n    <tr>\n      <th>4</th>\n      <td>100007</td>\n      <td>0</td>\n      <td>0.0</td>\n      <td>0.0</td>\n      <td>0.0</td>\n      <td>0.0</td>\n      <td>0.000819</td>\n      <td>0.116854</td>\n      <td>0.078975</td>\n      <td>0.117845</td>\n      <td>...</td>\n      <td>0.005057</td>\n      <td>0.035918</td>\n      <td>7.186806e-08</td>\n      <td>0.006013</td>\n      <td>0.004877</td>\n      <td>0.031567</td>\n      <td>0.995765</td>\n      <td>0.664523</td>\n      <td>0.886924</td>\n      <td>0.175202</td>\n    </tr>\n  </tbody>\n</table>\n<p>5 rows × 489 columns</p>\n</div>"
     },
     "execution_count": 3,
     "metadata": {},
     "output_type": "execute_result"
    }
   ],
   "source": [
    "train_df.head()"
   ],
   "metadata": {
    "collapsed": false,
    "ExecuteTime": {
     "end_time": "2024-05-09T11:49:10.602320300Z",
     "start_time": "2024-05-09T11:49:10.549042900Z"
    }
   },
   "id": "837db8b57f6ca548"
  },
  {
   "cell_type": "code",
   "execution_count": 3,
   "outputs": [],
   "source": [
    "import warnings\n",
    "warnings.filterwarnings(\"ignore\")\n",
    "\n",
    "import pandas as pd\n",
    "import numpy as np\n",
    "from sklearn.model_selection import train_test_split\n",
    "from sklearn.ensemble import RandomForestClassifier\n",
    "from sklearn.linear_model import LogisticRegression\n",
    "from sklearn.metrics import roc_auc_score, roc_curve\n",
    "from sklearn.model_selection import StratifiedKFold, cross_val_predict\n",
    "\n",
    "import matplotlib.pyplot as plt\n",
    "\n",
    "import mlflow"
   ],
   "metadata": {
    "collapsed": false,
    "ExecuteTime": {
     "end_time": "2024-05-09T14:34:15.488760700Z",
     "start_time": "2024-05-09T14:34:14.033594600Z"
    }
   },
   "id": "955e9b543661ca1c"
  },
  {
   "cell_type": "code",
   "execution_count": 4,
   "outputs": [],
   "source": [
    "def split_data(df, train_size=0.8, test_size=0.2, random_state=42):\n",
    "    features = [f for f in df.columns if f not in [\"SK_ID_CURR\", \"TARGET\"]]\n",
    "    X = df[features] # Features\n",
    "    y = df[\"TARGET\"]  # Target variable\n",
    "    X_train, X_test, y_train, y_test = train_test_split(X, y, train_size=train_size, test_size=test_size, random_state=random_state)\n",
    "    return X_train, X_test, y_train, y_test\n",
    "\n",
    "def train_model(X_train, y_train, model):\n",
    "    model.fit(X_train, y_train)\n",
    "    return model\n",
    "\n",
    "def evaluate_model(X_test, y_test, model):\n",
    "    y_pred = model.predict_proba(X_test)[:,1]\n",
    "    roc_auc = roc_auc_score(y_test, y_pred)\n",
    "    return roc_auc"
   ],
   "metadata": {
    "collapsed": false,
    "ExecuteTime": {
     "end_time": "2024-05-09T14:34:16.357765300Z",
     "start_time": "2024-05-09T14:34:16.338314300Z"
    }
   },
   "id": "5b8504d7292f45cf"
  },
  {
   "cell_type": "code",
   "execution_count": 19,
   "outputs": [],
   "source": [
    "import mlflow\n",
    "from sklearn.model_selection import StratifiedKFold, cross_val_predict\n",
    "from sklearn.metrics import roc_auc_score, roc_curve\n",
    "import matplotlib.pyplot as plt\n",
    "\n",
    "def train_and_evaluate_model(X, y, model, model_name, params, folds=5):\n",
    "    \"\"\"\n",
    "    Trains and evaluates a machine learning model using cross-validation and logs the results with MLflow.\n",
    "    \n",
    "    Parameters:\n",
    "        X (array-like): Features.\n",
    "        y (array-like): Target variable.\n",
    "        model: The machine learning model to be trained and evaluated.\n",
    "        model_name (str): Name of the model for logging purposes.\n",
    "        params (dict): Parameters of the model.\n",
    "        folds (int, optional): Number of cross-validation folds. Default is 5.\n",
    "    \n",
    "    Returns:\n",
    "        float: ROC-AUC score of the model.\n",
    "    \"\"\"\n",
    "    # Start an MLflow run\n",
    "    with mlflow.start_run(run_name=model_name):\n",
    "        # Setup cross-validation\n",
    "        cv = StratifiedKFold(n_splits=folds)\n",
    "        \n",
    "        # Cross-validate predictions\n",
    "        print(\"Performing cross-validation...\")\n",
    "        \n",
    "        y_probs = cross_val_predict(model, X, y, cv=cv, method='predict_proba')\n",
    "        y_scores = y_probs[:, 1]  # get the probability of class 1\n",
    "        model = model.fit(X, y)\n",
    "        # Compute ROC-AUC\n",
    "        print(\"Calculating ROC-AUC score...\")\n",
    "        roc_auc = roc_auc_score(y, y_scores)\n",
    "        \n",
    "        # Log parameters, metrics, and model\n",
    "        print(\"Logging parameters, metrics, and model with MLflow...\")\n",
    "        mlflow.log_params(params)\n",
    "        mlflow.log_metric(\"ROC_AUC\", roc_auc)\n",
    "        mlflow.sklearn.log_model(model, \"model\")\n",
    "\n",
    "        # Plot ROC curve and save as an artifact\n",
    "        print(\"Plotting ROC curve...\")\n",
    "        fpr, tpr, _ = roc_curve(y, y_scores)\n",
    "        fig = plt.figure(figsize=(6,6))\n",
    "        plt.plot(fpr, tpr, label='ROC curve (area = %0.2f)' % roc_auc)\n",
    "        plt.plot([0, 1], [0, 1], 'k--')\n",
    "        plt.xlim([0.0, 1.0])\n",
    "        plt.ylim([0.0, 1.05])\n",
    "        plt.xlabel('False Positive Rate')\n",
    "        plt.ylabel('True Positive Rate')\n",
    "        plt.title('Receiver Operating Characteristic')\n",
    "        plt.legend(loc=\"lower right\")\n",
    "        roc_curve_path = \"roc_curve.png\"\n",
    "        plt.savefig(roc_curve_path)\n",
    "        plt.close(fig)\n",
    "        print(\"Saving ROC curve as an artifact...\")\n",
    "        mlflow.log_artifact(roc_curve_path)\n",
    "\n",
    "        print(\"Training and evaluation completed.\")\n",
    "        return roc_auc\n"
   ],
   "metadata": {
    "collapsed": false,
    "ExecuteTime": {
     "end_time": "2024-05-09T14:39:36.792981400Z",
     "start_time": "2024-05-09T14:39:36.776123300Z"
    }
   },
   "id": "b4490dbc2a500183"
  },
  {
   "cell_type": "code",
   "execution_count": 23,
   "outputs": [
    {
     "name": "stderr",
     "output_type": "stream",
     "text": [
      "2024/05/09 16:42:08 INFO mlflow.tracking.fluent: Experiment with name 'OCP7_modelisation_090524_sample3' does not exist. Creating a new experiment.\n"
     ]
    },
    {
     "data": {
      "text/plain": "",
      "text/html": "<pre style=\"white-space:pre;overflow-x:auto;line-height:normal;font-family:Menlo,'DejaVu Sans Mono',consolas,'Courier New',monospace\"></pre>\n"
     },
     "metadata": {},
     "output_type": "display_data"
    },
    {
     "data": {
      "text/plain": "\u001B[1m<\u001B[0m\u001B[1;95mExperiment:\u001B[0m\u001B[39m \u001B[0m\u001B[33martifact_location\u001B[0m\u001B[39m=\u001B[0m\u001B[32m'file:///C:/Users/9509298u/Documents/GitHub/OC_Projects/ocp7-scoring-model-cloud/notebooks/mlruns/222251615874136268'\u001B[0m\u001B[39m, \u001B[0m\u001B[33mcreation_time\u001B[0m\u001B[39m=\u001B[0m\u001B[1;36m1715265728178\u001B[0m\u001B[39m, \u001B[0m\u001B[33mexperiment_id\u001B[0m\u001B[39m=\u001B[0m\u001B[32m'222251615874136268'\u001B[0m\u001B[39m, \u001B[0m\u001B[33mlast_update_time\u001B[0m\u001B[39m=\u001B[0m\u001B[1;36m1715265728178\u001B[0m\u001B[39m, \u001B[0m\u001B[33mlifecycle_stage\u001B[0m\u001B[39m=\u001B[0m\u001B[32m'active'\u001B[0m\u001B[39m, \u001B[0m\u001B[33mname\u001B[0m\u001B[39m=\u001B[0m\u001B[32m'OCP7_modelisation_090524_sample3'\u001B[0m\u001B[39m, \u001B[0m\u001B[33mtags\u001B[0m\u001B[39m=\u001B[0m\u001B[1;39m{\u001B[0m\u001B[1;39m}\u001B[0m\u001B[1m>\u001B[0m"
     },
     "execution_count": 23,
     "metadata": {},
     "output_type": "execute_result"
    }
   ],
   "source": [
    "mlflow.set_tracking_uri(\"mlruns\")\n",
    "mlflow.set_experiment(\"OCP7_modelisation_090524_sample3\")"
   ],
   "metadata": {
    "collapsed": false,
    "ExecuteTime": {
     "end_time": "2024-05-09T14:42:08.211603700Z",
     "start_time": "2024-05-09T14:42:08.164395400Z"
    }
   },
   "id": "15a3e0f9e40ee144"
  },
  {
   "cell_type": "code",
   "execution_count": 24,
   "outputs": [
    {
     "name": "stdout",
     "output_type": "stream",
     "text": [
      "Performing cross-validation...\n",
      "Calculating ROC-AUC score...\n",
      "Logging parameters, metrics, and model with MLflow...\n",
      "Plotting ROC curve...\n",
      "Saving ROC curve as an artifact...\n",
      "Training and evaluation completed.\n",
      "Performing cross-validation...\n",
      "Calculating ROC-AUC score...\n",
      "Logging parameters, metrics, and model with MLflow...\n",
      "Plotting ROC curve...\n",
      "Saving ROC curve as an artifact...\n",
      "Training and evaluation completed.\n",
      "Performing cross-validation...\n",
      "[LightGBM] [Warning] feature_fraction is set=0.9, colsample_bytree=1.0 will be ignored. Current value: feature_fraction=0.9\n",
      "[LightGBM] [Warning] bagging_fraction is set=0.8, subsample=1.0 will be ignored. Current value: bagging_fraction=0.8\n",
      "[LightGBM] [Warning] bagging_freq is set=5, subsample_freq=0 will be ignored. Current value: bagging_freq=5\n",
      "[LightGBM] [Warning] feature_fraction is set=0.9, colsample_bytree=1.0 will be ignored. Current value: feature_fraction=0.9\n",
      "[LightGBM] [Warning] bagging_fraction is set=0.8, subsample=1.0 will be ignored. Current value: bagging_fraction=0.8\n",
      "[LightGBM] [Warning] bagging_freq is set=5, subsample_freq=0 will be ignored. Current value: bagging_freq=5\n",
      "[LightGBM] [Info] Number of positive: 3210, number of negative: 36150\n",
      "[LightGBM] [Info] Auto-choosing col-wise multi-threading, the overhead of testing was 0.032613 seconds.\n",
      "You can set `force_col_wise=true` to remove the overhead.\n",
      "[LightGBM] [Info] Total Bins 41117\n",
      "[LightGBM] [Info] Number of data points in the train set: 39360, number of used features: 444\n",
      "[LightGBM] [Info] [binary:BoostFromScore]: pavg=0.081555 -> initscore=-2.421406\n",
      "[LightGBM] [Info] Start training from score -2.421406\n",
      "[LightGBM] [Warning] feature_fraction is set=0.9, colsample_bytree=1.0 will be ignored. Current value: feature_fraction=0.9\n",
      "[LightGBM] [Warning] bagging_fraction is set=0.8, subsample=1.0 will be ignored. Current value: bagging_fraction=0.8\n",
      "[LightGBM] [Warning] bagging_freq is set=5, subsample_freq=0 will be ignored. Current value: bagging_freq=5\n",
      "[LightGBM] [Warning] feature_fraction is set=0.9, colsample_bytree=1.0 will be ignored. Current value: feature_fraction=0.9\n",
      "[LightGBM] [Warning] bagging_fraction is set=0.8, subsample=1.0 will be ignored. Current value: bagging_fraction=0.8\n",
      "[LightGBM] [Warning] bagging_freq is set=5, subsample_freq=0 will be ignored. Current value: bagging_freq=5\n",
      "[LightGBM] [Warning] feature_fraction is set=0.9, colsample_bytree=1.0 will be ignored. Current value: feature_fraction=0.9\n",
      "[LightGBM] [Warning] bagging_fraction is set=0.8, subsample=1.0 will be ignored. Current value: bagging_fraction=0.8\n",
      "[LightGBM] [Warning] bagging_freq is set=5, subsample_freq=0 will be ignored. Current value: bagging_freq=5\n",
      "[LightGBM] [Info] Number of positive: 3210, number of negative: 36150\n",
      "[LightGBM] [Info] Auto-choosing col-wise multi-threading, the overhead of testing was 0.034590 seconds.\n",
      "You can set `force_col_wise=true` to remove the overhead.\n",
      "[LightGBM] [Info] Total Bins 41047\n",
      "[LightGBM] [Info] Number of data points in the train set: 39360, number of used features: 443\n",
      "[LightGBM] [Info] [binary:BoostFromScore]: pavg=0.081555 -> initscore=-2.421406\n",
      "[LightGBM] [Info] Start training from score -2.421406\n",
      "[LightGBM] [Warning] feature_fraction is set=0.9, colsample_bytree=1.0 will be ignored. Current value: feature_fraction=0.9\n",
      "[LightGBM] [Warning] bagging_fraction is set=0.8, subsample=1.0 will be ignored. Current value: bagging_fraction=0.8\n",
      "[LightGBM] [Warning] bagging_freq is set=5, subsample_freq=0 will be ignored. Current value: bagging_freq=5\n",
      "[LightGBM] [Warning] feature_fraction is set=0.9, colsample_bytree=1.0 will be ignored. Current value: feature_fraction=0.9\n",
      "[LightGBM] [Warning] bagging_fraction is set=0.8, subsample=1.0 will be ignored. Current value: bagging_fraction=0.8\n",
      "[LightGBM] [Warning] bagging_freq is set=5, subsample_freq=0 will be ignored. Current value: bagging_freq=5\n",
      "[LightGBM] [Warning] feature_fraction is set=0.9, colsample_bytree=1.0 will be ignored. Current value: feature_fraction=0.9\n",
      "[LightGBM] [Warning] bagging_fraction is set=0.8, subsample=1.0 will be ignored. Current value: bagging_fraction=0.8\n",
      "[LightGBM] [Warning] bagging_freq is set=5, subsample_freq=0 will be ignored. Current value: bagging_freq=5\n",
      "[LightGBM] [Info] Number of positive: 3210, number of negative: 36150\n",
      "[LightGBM] [Info] Auto-choosing col-wise multi-threading, the overhead of testing was 0.033607 seconds.\n",
      "You can set `force_col_wise=true` to remove the overhead.\n",
      "[LightGBM] [Info] Total Bins 40904\n",
      "[LightGBM] [Info] Number of data points in the train set: 39360, number of used features: 444\n",
      "[LightGBM] [Info] [binary:BoostFromScore]: pavg=0.081555 -> initscore=-2.421406\n",
      "[LightGBM] [Info] Start training from score -2.421406\n",
      "[LightGBM] [Warning] feature_fraction is set=0.9, colsample_bytree=1.0 will be ignored. Current value: feature_fraction=0.9\n",
      "[LightGBM] [Warning] bagging_fraction is set=0.8, subsample=1.0 will be ignored. Current value: bagging_fraction=0.8\n",
      "[LightGBM] [Warning] bagging_freq is set=5, subsample_freq=0 will be ignored. Current value: bagging_freq=5\n",
      "[LightGBM] [Warning] feature_fraction is set=0.9, colsample_bytree=1.0 will be ignored. Current value: feature_fraction=0.9\n",
      "[LightGBM] [Warning] bagging_fraction is set=0.8, subsample=1.0 will be ignored. Current value: bagging_fraction=0.8\n",
      "[LightGBM] [Warning] bagging_freq is set=5, subsample_freq=0 will be ignored. Current value: bagging_freq=5\n",
      "[LightGBM] [Warning] feature_fraction is set=0.9, colsample_bytree=1.0 will be ignored. Current value: feature_fraction=0.9\n",
      "[LightGBM] [Warning] bagging_fraction is set=0.8, subsample=1.0 will be ignored. Current value: bagging_fraction=0.8\n",
      "[LightGBM] [Warning] bagging_freq is set=5, subsample_freq=0 will be ignored. Current value: bagging_freq=5\n",
      "[LightGBM] [Info] Number of positive: 3209, number of negative: 36151\n",
      "[LightGBM] [Info] Auto-choosing col-wise multi-threading, the overhead of testing was 0.029560 seconds.\n",
      "You can set `force_col_wise=true` to remove the overhead.\n",
      "[LightGBM] [Info] Total Bins 40914\n",
      "[LightGBM] [Info] Number of data points in the train set: 39360, number of used features: 443\n",
      "[LightGBM] [Info] [binary:BoostFromScore]: pavg=0.081529 -> initscore=-2.421745\n",
      "[LightGBM] [Info] Start training from score -2.421745\n",
      "[LightGBM] [Warning] feature_fraction is set=0.9, colsample_bytree=1.0 will be ignored. Current value: feature_fraction=0.9\n",
      "[LightGBM] [Warning] bagging_fraction is set=0.8, subsample=1.0 will be ignored. Current value: bagging_fraction=0.8\n",
      "[LightGBM] [Warning] bagging_freq is set=5, subsample_freq=0 will be ignored. Current value: bagging_freq=5\n",
      "[LightGBM] [Warning] feature_fraction is set=0.9, colsample_bytree=1.0 will be ignored. Current value: feature_fraction=0.9\n",
      "[LightGBM] [Warning] bagging_fraction is set=0.8, subsample=1.0 will be ignored. Current value: bagging_fraction=0.8\n",
      "[LightGBM] [Warning] bagging_freq is set=5, subsample_freq=0 will be ignored. Current value: bagging_freq=5\n",
      "[LightGBM] [Warning] feature_fraction is set=0.9, colsample_bytree=1.0 will be ignored. Current value: feature_fraction=0.9\n",
      "[LightGBM] [Warning] bagging_fraction is set=0.8, subsample=1.0 will be ignored. Current value: bagging_fraction=0.8\n",
      "[LightGBM] [Warning] bagging_freq is set=5, subsample_freq=0 will be ignored. Current value: bagging_freq=5\n",
      "[LightGBM] [Info] Number of positive: 3209, number of negative: 36151\n",
      "[LightGBM] [Info] Auto-choosing col-wise multi-threading, the overhead of testing was 0.030964 seconds.\n",
      "You can set `force_col_wise=true` to remove the overhead.\n",
      "[LightGBM] [Info] Total Bins 41017\n",
      "[LightGBM] [Info] Number of data points in the train set: 39360, number of used features: 444\n",
      "[LightGBM] [Info] [binary:BoostFromScore]: pavg=0.081529 -> initscore=-2.421745\n",
      "[LightGBM] [Info] Start training from score -2.421745\n",
      "[LightGBM] [Warning] feature_fraction is set=0.9, colsample_bytree=1.0 will be ignored. Current value: feature_fraction=0.9\n",
      "[LightGBM] [Warning] bagging_fraction is set=0.8, subsample=1.0 will be ignored. Current value: bagging_fraction=0.8\n",
      "[LightGBM] [Warning] bagging_freq is set=5, subsample_freq=0 will be ignored. Current value: bagging_freq=5\n",
      "Calculating ROC-AUC score...\n",
      "Logging parameters, metrics, and model with MLflow...\n",
      "Plotting ROC curve...\n",
      "Saving ROC curve as an artifact...\n",
      "Training and evaluation completed.\n"
     ]
    },
    {
     "data": {
      "text/plain": "",
      "text/html": "<pre style=\"white-space:pre;overflow-x:auto;line-height:normal;font-family:Menlo,'DejaVu Sans Mono',consolas,'Courier New',monospace\"></pre>\n"
     },
     "metadata": {},
     "output_type": "display_data"
    },
    {
     "data": {
      "text/plain": "\u001B[1;36m0.762584877482274\u001B[0m"
     },
     "execution_count": 24,
     "metadata": {},
     "output_type": "execute_result"
    }
   ],
   "source": [
    "from sklearn.ensemble import RandomForestClassifier\n",
    "from sklearn.svm import SVC\n",
    "from sklearn.linear_model import LogisticRegression\n",
    "\n",
    "# Define your dataset\n",
    "X_train, X_test, y_train, y_test = split_data(train_df.sample(frac=0.2))\n",
    "\n",
    "# Random Forest\n",
    "params_rf = {'n_estimators': 50, 'max_depth': 10}\n",
    "model_rf = RandomForestClassifier(**params_rf)\n",
    "train_and_evaluate_model(X_train, y_train, model_rf, \"Random Forest\", params_rf)\n",
    "\n",
    "# Logistic Regression\n",
    "params_lr = {'C': 0.1}\n",
    "model_lr = LogisticRegression(**params_lr)\n",
    "train_and_evaluate_model(X_train, y_train, model_lr, \"Logistic Regression\", params_lr)\n",
    "\n",
    "# # SVM\n",
    "# params_svc = {'kernel': 'linear', 'C': 1}\n",
    "# model_svc = SVC(probability=True, **params_svc)\n",
    "# train_and_evaluate_model(X_train, y_train, model_svc, \"SVM\", params_svc)\n",
    "\n",
    "# LightGBM\n",
    "import lightgbm as lgb\n",
    "params_lgb = {\n",
    "    'boosting_type': 'gbdt',\n",
    "    'objective': 'binary',\n",
    "    'metric': 'auc',\n",
    "    'num_leaves': 31,\n",
    "    'learning_rate': 0.05,\n",
    "    'feature_fraction': 0.9,\n",
    "    'bagging_fraction': 0.8,\n",
    "    'bagging_freq': 5,\n",
    "    'verbose': 1\n",
    "}\n",
    "\n",
    "model_lgb = lgb.LGBMClassifier(**params_lgb)\n",
    "train_and_evaluate_model(X=X_train, y=y_train, model=model_lgb, model_name=\"LightGBM\", params=params_lgb)"
   ],
   "metadata": {
    "collapsed": false,
    "ExecuteTime": {
     "end_time": "2024-05-09T14:42:56.580911900Z",
     "start_time": "2024-05-09T14:42:08.314008300Z"
    }
   },
   "id": "4ab1ba5254f3b306"
  },
  {
   "cell_type": "code",
   "execution_count": 59,
   "outputs": [],
   "source": [
    "import mlflow\n",
    "from sklearn.model_selection import StratifiedKFold, cross_val_predict\n",
    "from sklearn.metrics import roc_auc_score, roc_curve\n",
    "import matplotlib.pyplot as plt\n",
    "\n",
    "def plot_roc_curve(y, y_scores, roc_auc, roc_curve_path_plot):\n",
    "        # Plot ROC curve and save as an artifact\n",
    "        print(\"Plotting ROC curve...\")\n",
    "        fpr, tpr, _ = roc_curve(y, y_scores)\n",
    "        fig = plt.figure(figsize=(6,6))\n",
    "        plt.plot(fpr, tpr, label='ROC curve (area = %0.2f)' % roc_auc)\n",
    "        plt.plot([0, 1], [0, 1], 'k--')\n",
    "        plt.xlim([0.0, 1.0])\n",
    "        plt.ylim([0.0, 1.05])\n",
    "        plt.xlabel('False Positive Rate')\n",
    "        plt.ylabel('True Positive Rate')\n",
    "        plt.title('Receiver Operating Characteristic')\n",
    "        plt.legend(loc=\"lower right\")\n",
    "        plt.savefig(roc_curve_path_plot)\n",
    "        plt.close(fig)\n",
    "        print(\"Saving ROC curve as an artifact...\")\n",
    "\n",
    "def train_and_evaluate_model(X, y, model, model_name, params, folds=5, roc_curve_path_plot = \"roc_curve.png\"):\n",
    "    with mlflow.start_run(run_name=model_name):\n",
    "        # Setup cross-validation\n",
    "        cv = StratifiedKFold(n_splits=folds)\n",
    "        # Cross-validate predictions\n",
    "        print(\"Performing cross-validation...\")\n",
    "        for n_folds, (train_idx, valid_idx) in enumerate(cv.split(X, y)):\n",
    "            X_train, y_train = X.iloc[train_idx], y.iloc[train_idx]\n",
    "            X_valid, y_valid = X.iloc[valid_idx], y.iloc[valid_idx]\n",
    "            extended_model = ExtendedModel(model)\n",
    "            model = model.fit(X_train, y_train)\n",
    "            y_probs = model.predict_proba(X_valid)\n",
    "            y_scores = y_probs[:, 1]  # get the probability of class 1\n",
    "            # Compute ROC-AUC\n",
    "            print(\"Calculating ROC-AUC score...\")\n",
    "            roc_auc = roc_auc_score(y_valid, y_scores)\n",
    "            # Log parameters, metrics, and model\n",
    "            print(\"Logging parameters, metrics, and model with MLflow...\")\n",
    "            mlflow.log_params(params)\n",
    "            mlflow.log_metric(\"ROC_AUC\", roc_auc)\n",
    "            mlflow.sklearn.log_model(extended_model, \"model\")\n",
    "            plot_roc_curve(y_valid, y_scores, roc_auc, roc_curve_path_plot = roc_curve_path_plot)\n",
    "            mlflow.log_artifact(roc_curve_path_plot)\n",
    "        print(\"Training and evaluation completed.\")\n",
    "        return roc_auc\n"
   ],
   "metadata": {
    "collapsed": false,
    "ExecuteTime": {
     "end_time": "2024-05-09T16:10:33.065592100Z",
     "start_time": "2024-05-09T16:10:33.037509800Z"
    }
   },
   "id": "68fc9fe80f3df0e3"
  },
  {
   "cell_type": "code",
   "execution_count": 60,
   "outputs": [],
   "source": [
    "from sklearn.base import BaseEstimator\n",
    "import numpy as np\n",
    "\n",
    "class ExtendedModel(BaseEstimator):\n",
    "    def __init__(self, model):\n",
    "        self.model = model\n",
    "    \n",
    "    def fit(self, X, y):\n",
    "        self.model.fit(X, y)\n",
    "        return self\n",
    "    \n",
    "    def predict(self, X):\n",
    "        return self.model.predict(X)\n",
    "    \n",
    "    def predict_proba(self, X):\n",
    "        if hasattr(self.model, 'predict_proba'):\n",
    "            return self.model.predict_proba(X)\n",
    "        else:\n",
    "            # Compute class probabilities manually if the model doesn't have predict_proba method\n",
    "            decision = self.model.decision_function(X)\n",
    "            probabilities = 1 / (1 + np.exp(-decision))\n",
    "            return np.vstack([1 - probabilities, probabilities]).T"
   ],
   "metadata": {
    "collapsed": false,
    "ExecuteTime": {
     "end_time": "2024-05-09T16:10:34.404595300Z",
     "start_time": "2024-05-09T16:10:34.391596500Z"
    }
   },
   "id": "3b3b5f695ab97d41"
  },
  {
   "cell_type": "code",
   "execution_count": 61,
   "outputs": [
    {
     "name": "stdout",
     "output_type": "stream",
     "text": [
      "Performing cross-validation...\n",
      "[LightGBM] [Warning] feature_fraction is set=0.9, colsample_bytree=1.0 will be ignored. Current value: feature_fraction=0.9\n",
      "[LightGBM] [Warning] bagging_fraction is set=0.8, subsample=1.0 will be ignored. Current value: bagging_fraction=0.8\n",
      "[LightGBM] [Warning] bagging_freq is set=5, subsample_freq=0 will be ignored. Current value: bagging_freq=5\n",
      "[LightGBM] [Warning] feature_fraction is set=0.9, colsample_bytree=1.0 will be ignored. Current value: feature_fraction=0.9\n",
      "[LightGBM] [Warning] bagging_fraction is set=0.8, subsample=1.0 will be ignored. Current value: bagging_fraction=0.8\n",
      "[LightGBM] [Warning] bagging_freq is set=5, subsample_freq=0 will be ignored. Current value: bagging_freq=5\n",
      "[LightGBM] [Info] Number of positive: 3110, number of negative: 36250\n",
      "[LightGBM] [Info] Auto-choosing col-wise multi-threading, the overhead of testing was 0.036955 seconds.\n",
      "You can set `force_col_wise=true` to remove the overhead.\n",
      "[LightGBM] [Info] Total Bins 41230\n",
      "[LightGBM] [Info] Number of data points in the train set: 39360, number of used features: 445\n",
      "[LightGBM] [Info] [binary:BoostFromScore]: pavg=0.079014 -> initscore=-2.455817\n",
      "[LightGBM] [Info] Start training from score -2.455817\n",
      "[LightGBM] [Warning] feature_fraction is set=0.9, colsample_bytree=1.0 will be ignored. Current value: feature_fraction=0.9\n",
      "[LightGBM] [Warning] bagging_fraction is set=0.8, subsample=1.0 will be ignored. Current value: bagging_fraction=0.8\n",
      "[LightGBM] [Warning] bagging_freq is set=5, subsample_freq=0 will be ignored. Current value: bagging_freq=5\n",
      "Calculating ROC-AUC score...\n",
      "Logging parameters, metrics, and model with MLflow...\n",
      "Plotting ROC curve...\n",
      "Saving ROC curve as an artifact...\n",
      "[LightGBM] [Warning] feature_fraction is set=0.9, colsample_bytree=1.0 will be ignored. Current value: feature_fraction=0.9\n",
      "[LightGBM] [Warning] bagging_fraction is set=0.8, subsample=1.0 will be ignored. Current value: bagging_fraction=0.8\n",
      "[LightGBM] [Warning] bagging_freq is set=5, subsample_freq=0 will be ignored. Current value: bagging_freq=5\n",
      "[LightGBM] [Warning] feature_fraction is set=0.9, colsample_bytree=1.0 will be ignored. Current value: feature_fraction=0.9\n",
      "[LightGBM] [Warning] bagging_fraction is set=0.8, subsample=1.0 will be ignored. Current value: bagging_fraction=0.8\n",
      "[LightGBM] [Warning] bagging_freq is set=5, subsample_freq=0 will be ignored. Current value: bagging_freq=5\n",
      "[LightGBM] [Info] Number of positive: 3110, number of negative: 36250\n",
      "[LightGBM] [Info] Auto-choosing col-wise multi-threading, the overhead of testing was 0.029605 seconds.\n",
      "You can set `force_col_wise=true` to remove the overhead.\n",
      "[LightGBM] [Info] Total Bins 41152\n",
      "[LightGBM] [Info] Number of data points in the train set: 39360, number of used features: 445\n",
      "[LightGBM] [Info] [binary:BoostFromScore]: pavg=0.079014 -> initscore=-2.455817\n",
      "[LightGBM] [Info] Start training from score -2.455817\n",
      "[LightGBM] [Warning] feature_fraction is set=0.9, colsample_bytree=1.0 will be ignored. Current value: feature_fraction=0.9\n",
      "[LightGBM] [Warning] bagging_fraction is set=0.8, subsample=1.0 will be ignored. Current value: bagging_fraction=0.8\n",
      "[LightGBM] [Warning] bagging_freq is set=5, subsample_freq=0 will be ignored. Current value: bagging_freq=5\n",
      "Calculating ROC-AUC score...\n",
      "Logging parameters, metrics, and model with MLflow...\n",
      "Plotting ROC curve...\n",
      "Saving ROC curve as an artifact...\n",
      "[LightGBM] [Warning] feature_fraction is set=0.9, colsample_bytree=1.0 will be ignored. Current value: feature_fraction=0.9\n",
      "[LightGBM] [Warning] bagging_fraction is set=0.8, subsample=1.0 will be ignored. Current value: bagging_fraction=0.8\n",
      "[LightGBM] [Warning] bagging_freq is set=5, subsample_freq=0 will be ignored. Current value: bagging_freq=5\n",
      "[LightGBM] [Warning] feature_fraction is set=0.9, colsample_bytree=1.0 will be ignored. Current value: feature_fraction=0.9\n",
      "[LightGBM] [Warning] bagging_fraction is set=0.8, subsample=1.0 will be ignored. Current value: bagging_fraction=0.8\n",
      "[LightGBM] [Warning] bagging_freq is set=5, subsample_freq=0 will be ignored. Current value: bagging_freq=5\n",
      "[LightGBM] [Info] Number of positive: 3110, number of negative: 36250\n",
      "[LightGBM] [Info] Auto-choosing col-wise multi-threading, the overhead of testing was 0.032092 seconds.\n",
      "You can set `force_col_wise=true` to remove the overhead.\n",
      "[LightGBM] [Info] Total Bins 41080\n",
      "[LightGBM] [Info] Number of data points in the train set: 39360, number of used features: 444\n",
      "[LightGBM] [Info] [binary:BoostFromScore]: pavg=0.079014 -> initscore=-2.455817\n",
      "[LightGBM] [Info] Start training from score -2.455817\n",
      "[LightGBM] [Warning] feature_fraction is set=0.9, colsample_bytree=1.0 will be ignored. Current value: feature_fraction=0.9\n",
      "[LightGBM] [Warning] bagging_fraction is set=0.8, subsample=1.0 will be ignored. Current value: bagging_fraction=0.8\n",
      "[LightGBM] [Warning] bagging_freq is set=5, subsample_freq=0 will be ignored. Current value: bagging_freq=5\n",
      "Calculating ROC-AUC score...\n",
      "Logging parameters, metrics, and model with MLflow...\n",
      "Plotting ROC curve...\n",
      "Saving ROC curve as an artifact...\n",
      "[LightGBM] [Warning] feature_fraction is set=0.9, colsample_bytree=1.0 will be ignored. Current value: feature_fraction=0.9\n",
      "[LightGBM] [Warning] bagging_fraction is set=0.8, subsample=1.0 will be ignored. Current value: bagging_fraction=0.8\n",
      "[LightGBM] [Warning] bagging_freq is set=5, subsample_freq=0 will be ignored. Current value: bagging_freq=5\n",
      "[LightGBM] [Warning] feature_fraction is set=0.9, colsample_bytree=1.0 will be ignored. Current value: feature_fraction=0.9\n",
      "[LightGBM] [Warning] bagging_fraction is set=0.8, subsample=1.0 will be ignored. Current value: bagging_fraction=0.8\n",
      "[LightGBM] [Warning] bagging_freq is set=5, subsample_freq=0 will be ignored. Current value: bagging_freq=5\n",
      "[LightGBM] [Info] Number of positive: 3109, number of negative: 36251\n",
      "[LightGBM] [Info] Auto-choosing col-wise multi-threading, the overhead of testing was 0.031746 seconds.\n",
      "You can set `force_col_wise=true` to remove the overhead.\n",
      "[LightGBM] [Info] Total Bins 41164\n",
      "[LightGBM] [Info] Number of data points in the train set: 39360, number of used features: 444\n",
      "[LightGBM] [Info] [binary:BoostFromScore]: pavg=0.078989 -> initscore=-2.456166\n",
      "[LightGBM] [Info] Start training from score -2.456166\n",
      "[LightGBM] [Warning] feature_fraction is set=0.9, colsample_bytree=1.0 will be ignored. Current value: feature_fraction=0.9\n",
      "[LightGBM] [Warning] bagging_fraction is set=0.8, subsample=1.0 will be ignored. Current value: bagging_fraction=0.8\n",
      "[LightGBM] [Warning] bagging_freq is set=5, subsample_freq=0 will be ignored. Current value: bagging_freq=5\n",
      "Calculating ROC-AUC score...\n",
      "Logging parameters, metrics, and model with MLflow...\n",
      "Plotting ROC curve...\n",
      "Saving ROC curve as an artifact...\n",
      "[LightGBM] [Warning] feature_fraction is set=0.9, colsample_bytree=1.0 will be ignored. Current value: feature_fraction=0.9\n",
      "[LightGBM] [Warning] bagging_fraction is set=0.8, subsample=1.0 will be ignored. Current value: bagging_fraction=0.8\n",
      "[LightGBM] [Warning] bagging_freq is set=5, subsample_freq=0 will be ignored. Current value: bagging_freq=5\n",
      "[LightGBM] [Warning] feature_fraction is set=0.9, colsample_bytree=1.0 will be ignored. Current value: feature_fraction=0.9\n",
      "[LightGBM] [Warning] bagging_fraction is set=0.8, subsample=1.0 will be ignored. Current value: bagging_fraction=0.8\n",
      "[LightGBM] [Warning] bagging_freq is set=5, subsample_freq=0 will be ignored. Current value: bagging_freq=5\n",
      "[LightGBM] [Info] Number of positive: 3109, number of negative: 36251\n",
      "[LightGBM] [Info] Auto-choosing col-wise multi-threading, the overhead of testing was 0.031717 seconds.\n",
      "You can set `force_col_wise=true` to remove the overhead.\n",
      "[LightGBM] [Info] Total Bins 41243\n",
      "[LightGBM] [Info] Number of data points in the train set: 39360, number of used features: 445\n",
      "[LightGBM] [Info] [binary:BoostFromScore]: pavg=0.078989 -> initscore=-2.456166\n",
      "[LightGBM] [Info] Start training from score -2.456166\n",
      "[LightGBM] [Warning] feature_fraction is set=0.9, colsample_bytree=1.0 will be ignored. Current value: feature_fraction=0.9\n",
      "[LightGBM] [Warning] bagging_fraction is set=0.8, subsample=1.0 will be ignored. Current value: bagging_fraction=0.8\n",
      "[LightGBM] [Warning] bagging_freq is set=5, subsample_freq=0 will be ignored. Current value: bagging_freq=5\n",
      "Calculating ROC-AUC score...\n",
      "Logging parameters, metrics, and model with MLflow...\n",
      "Plotting ROC curve...\n",
      "Saving ROC curve as an artifact...\n",
      "Training and evaluation completed.\n"
     ]
    },
    {
     "data": {
      "text/plain": "",
      "text/html": "<pre style=\"white-space:pre;overflow-x:auto;line-height:normal;font-family:Menlo,'DejaVu Sans Mono',consolas,'Courier New',monospace\"></pre>\n"
     },
     "metadata": {},
     "output_type": "display_data"
    },
    {
     "data": {
      "text/plain": "\u001B[1;36m0.7581106504803528\u001B[0m"
     },
     "execution_count": 61,
     "metadata": {},
     "output_type": "execute_result"
    }
   ],
   "source": [
    "from sklearn.ensemble import RandomForestClassifier\n",
    "from sklearn.svm import SVC\n",
    "from sklearn.linear_model import LogisticRegression\n",
    "\n",
    "# Define your dataset\n",
    "X_train, X_test, y_train, y_test = split_data(train_df.sample(frac=0.2))\n",
    "\n",
    "# # Random Forest\n",
    "# params_rf = {'n_estimators': 50, 'max_depth': 10}\n",
    "# model_rf = RandomForestClassifier(**params_rf)\n",
    "# train_and_evaluate_model(X_train, y_train, model_rf, \"Random Forest\", params_rf)\n",
    "# \n",
    "# # Logistic Regression\n",
    "# params_lr = {'C': 0.1}\n",
    "# model_lr = LogisticRegression(**params_lr)\n",
    "# train_and_evaluate_model(X_train, y_train, model_lr, \"Logistic Regression\", params_lr)\n",
    "\n",
    "# # SVM\n",
    "# params_svc = {'kernel': 'linear', 'C': 1}\n",
    "# model_svc = SVC(probability=True, **params_svc)\n",
    "# train_and_evaluate_model(X_train, y_train, model_svc, \"SVM\", params_svc)\n",
    "\n",
    "# LightGBM\n",
    "import lightgbm as lgb\n",
    "params_lgb = {\n",
    "    'boosting_type': 'gbdt',\n",
    "    'objective': 'binary',\n",
    "    'metric': 'auc',\n",
    "    'num_leaves': 31,\n",
    "    'learning_rate': 0.05,\n",
    "    'feature_fraction': 0.9,\n",
    "    'bagging_fraction': 0.8,\n",
    "    'bagging_freq': 5,\n",
    "    'verbose': 1\n",
    "}\n",
    "\n",
    "model_lgb = lgb.LGBMClassifier(**params_lgb)\n",
    "train_and_evaluate_model(X=X_train, y=y_train, model=model_lgb, model_name=\"LightGBM\", params=params_lgb)"
   ],
   "metadata": {
    "collapsed": false,
    "ExecuteTime": {
     "end_time": "2024-05-09T16:10:59.108818600Z",
     "start_time": "2024-05-09T16:10:41.424597400Z"
    }
   },
   "id": "35b20fe68061d2a4"
  },
  {
   "cell_type": "code",
   "execution_count": 70,
   "outputs": [],
   "source": [
    "logged_model = 'runs:/db4547fa3bbf4a2dad312e528dc53d59/model'\n",
    "\n",
    "# Load model as a PyFuncModel.\n",
    "loaded_model = mlflow.sklearn.load_model(logged_model)"
   ],
   "metadata": {
    "collapsed": false,
    "ExecuteTime": {
     "end_time": "2024-05-09T16:15:13.793224300Z",
     "start_time": "2024-05-09T16:15:13.760227500Z"
    }
   },
   "id": "865b5e3bd5e50666"
  },
  {
   "cell_type": "code",
   "execution_count": 72,
   "outputs": [
    {
     "name": "stdout",
     "output_type": "stream",
     "text": [
      "[LightGBM] [Warning] feature_fraction is set=0.9, colsample_bytree=1.0 will be ignored. Current value: feature_fraction=0.9\n",
      "[LightGBM] [Warning] bagging_fraction is set=0.8, subsample=1.0 will be ignored. Current value: bagging_fraction=0.8\n",
      "[LightGBM] [Warning] bagging_freq is set=5, subsample_freq=0 will be ignored. Current value: bagging_freq=5\n"
     ]
    }
   ],
   "source": [
    "probs = loaded_model.predict_proba(X_test)"
   ],
   "metadata": {
    "collapsed": false,
    "ExecuteTime": {
     "end_time": "2024-05-09T16:20:50.786435Z",
     "start_time": "2024-05-09T16:20:50.742364600Z"
    }
   },
   "id": "906e9b7690130342"
  },
  {
   "cell_type": "code",
   "execution_count": 81,
   "outputs": [],
   "source": [
    "probs_df = pd.DataFrame(probs)"
   ],
   "metadata": {
    "collapsed": false,
    "ExecuteTime": {
     "end_time": "2024-05-09T16:22:40.748655900Z",
     "start_time": "2024-05-09T16:22:40.722648400Z"
    }
   },
   "id": "fe9aad970c694c9f"
  },
  {
   "cell_type": "code",
   "execution_count": 88,
   "outputs": [
    {
     "data": {
      "text/plain": "",
      "text/html": "<pre style=\"white-space:pre;overflow-x:auto;line-height:normal;font-family:Menlo,'DejaVu Sans Mono',consolas,'Courier New',monospace\"></pre>\n"
     },
     "metadata": {},
     "output_type": "display_data"
    },
    {
     "data": {
      "text/plain": "\n       TARGET\n\u001B[1;36m0\u001B[0m           \u001B[1;36m1\u001B[0m\n\u001B[1;36m1\u001B[0m           \u001B[1;36m0\u001B[0m\n\u001B[1;36m2\u001B[0m           \u001B[1;36m0\u001B[0m\n\u001B[1;36m3\u001B[0m           \u001B[1;36m0\u001B[0m\n\u001B[1;36m4\u001B[0m           \u001B[1;36m0\u001B[0m\n\u001B[33m...\u001B[0m       \u001B[33m...\u001B[0m\n\u001B[1;36m12296\u001B[0m       \u001B[1;36m0\u001B[0m\n\u001B[1;36m12297\u001B[0m       \u001B[1;36m0\u001B[0m\n\u001B[1;36m12298\u001B[0m       \u001B[1;36m0\u001B[0m\n\u001B[1;36m12299\u001B[0m       \u001B[1;36m0\u001B[0m\n\u001B[1;36m12300\u001B[0m       \u001B[1;36m0\u001B[0m\n\n\u001B[1m[\u001B[0m\u001B[1;36m12301\u001B[0m rows x \u001B[1;36m1\u001B[0m columns\u001B[1m]\u001B[0m",
      "text/html": "<div>\n<style scoped>\n    .dataframe tbody tr th:only-of-type {\n        vertical-align: middle;\n    }\n\n    .dataframe tbody tr th {\n        vertical-align: top;\n    }\n\n    .dataframe thead th {\n        text-align: right;\n    }\n</style>\n<table border=\"1\" class=\"dataframe\">\n  <thead>\n    <tr style=\"text-align: right;\">\n      <th></th>\n      <th>TARGET</th>\n    </tr>\n  </thead>\n  <tbody>\n    <tr>\n      <th>0</th>\n      <td>1</td>\n    </tr>\n    <tr>\n      <th>1</th>\n      <td>0</td>\n    </tr>\n    <tr>\n      <th>2</th>\n      <td>0</td>\n    </tr>\n    <tr>\n      <th>3</th>\n      <td>0</td>\n    </tr>\n    <tr>\n      <th>4</th>\n      <td>0</td>\n    </tr>\n    <tr>\n      <th>...</th>\n      <td>...</td>\n    </tr>\n    <tr>\n      <th>12296</th>\n      <td>0</td>\n    </tr>\n    <tr>\n      <th>12297</th>\n      <td>0</td>\n    </tr>\n    <tr>\n      <th>12298</th>\n      <td>0</td>\n    </tr>\n    <tr>\n      <th>12299</th>\n      <td>0</td>\n    </tr>\n    <tr>\n      <th>12300</th>\n      <td>0</td>\n    </tr>\n  </tbody>\n</table>\n<p>12301 rows × 1 columns</p>\n</div>"
     },
     "execution_count": 88,
     "metadata": {},
     "output_type": "execute_result"
    }
   ],
   "source": [],
   "metadata": {
    "collapsed": false,
    "ExecuteTime": {
     "end_time": "2024-05-09T16:23:39.551411800Z",
     "start_time": "2024-05-09T16:23:39.519371200Z"
    }
   },
   "id": "87fb5e85195fe271"
  },
  {
   "cell_type": "code",
   "execution_count": 83,
   "outputs": [
    {
     "data": {
      "text/plain": "",
      "text/html": "<pre style=\"white-space:pre;overflow-x:auto;line-height:normal;font-family:Menlo,'DejaVu Sans Mono',consolas,'Courier New',monospace\"></pre>\n"
     },
     "metadata": {},
     "output_type": "display_data"
    },
    {
     "data": {
      "text/plain": "\n              \u001B[1;36m0\u001B[0m         \u001B[1;36m1\u001B[0m\n\u001B[1;36m0\u001B[0m      \u001B[1;36m0.843113\u001B[0m  \u001B[1;36m0.156887\u001B[0m\n\u001B[1;36m1\u001B[0m      \u001B[1;36m0.972848\u001B[0m  \u001B[1;36m0.027152\u001B[0m\n\u001B[1;36m2\u001B[0m      \u001B[1;36m0.956988\u001B[0m  \u001B[1;36m0.043012\u001B[0m\n\u001B[1;36m3\u001B[0m      \u001B[1;36m0.910977\u001B[0m  \u001B[1;36m0.089023\u001B[0m\n\u001B[1;36m4\u001B[0m      \u001B[1;36m0.966712\u001B[0m  \u001B[1;36m0.033288\u001B[0m\n\u001B[33m...\u001B[0m         \u001B[33m...\u001B[0m       \u001B[33m...\u001B[0m\n\u001B[1;36m12296\u001B[0m  \u001B[1;36m0.836330\u001B[0m  \u001B[1;36m0.163670\u001B[0m\n\u001B[1;36m12297\u001B[0m  \u001B[1;36m0.975183\u001B[0m  \u001B[1;36m0.024817\u001B[0m\n\u001B[1;36m12298\u001B[0m  \u001B[1;36m0.855178\u001B[0m  \u001B[1;36m0.144822\u001B[0m\n\u001B[1;36m12299\u001B[0m  \u001B[1;36m0.872744\u001B[0m  \u001B[1;36m0.127256\u001B[0m\n\u001B[1;36m12300\u001B[0m  \u001B[1;36m0.967969\u001B[0m  \u001B[1;36m0.032031\u001B[0m\n\n\u001B[1m[\u001B[0m\u001B[1;36m12301\u001B[0m rows x \u001B[1;36m2\u001B[0m columns\u001B[1m]\u001B[0m",
      "text/html": "<div>\n<style scoped>\n    .dataframe tbody tr th:only-of-type {\n        vertical-align: middle;\n    }\n\n    .dataframe tbody tr th {\n        vertical-align: top;\n    }\n\n    .dataframe thead th {\n        text-align: right;\n    }\n</style>\n<table border=\"1\" class=\"dataframe\">\n  <thead>\n    <tr style=\"text-align: right;\">\n      <th></th>\n      <th>0</th>\n      <th>1</th>\n    </tr>\n  </thead>\n  <tbody>\n    <tr>\n      <th>0</th>\n      <td>0.843113</td>\n      <td>0.156887</td>\n    </tr>\n    <tr>\n      <th>1</th>\n      <td>0.972848</td>\n      <td>0.027152</td>\n    </tr>\n    <tr>\n      <th>2</th>\n      <td>0.956988</td>\n      <td>0.043012</td>\n    </tr>\n    <tr>\n      <th>3</th>\n      <td>0.910977</td>\n      <td>0.089023</td>\n    </tr>\n    <tr>\n      <th>4</th>\n      <td>0.966712</td>\n      <td>0.033288</td>\n    </tr>\n    <tr>\n      <th>...</th>\n      <td>...</td>\n      <td>...</td>\n    </tr>\n    <tr>\n      <th>12296</th>\n      <td>0.836330</td>\n      <td>0.163670</td>\n    </tr>\n    <tr>\n      <th>12297</th>\n      <td>0.975183</td>\n      <td>0.024817</td>\n    </tr>\n    <tr>\n      <th>12298</th>\n      <td>0.855178</td>\n      <td>0.144822</td>\n    </tr>\n    <tr>\n      <th>12299</th>\n      <td>0.872744</td>\n      <td>0.127256</td>\n    </tr>\n    <tr>\n      <th>12300</th>\n      <td>0.967969</td>\n      <td>0.032031</td>\n    </tr>\n  </tbody>\n</table>\n<p>12301 rows × 2 columns</p>\n</div>"
     },
     "execution_count": 83,
     "metadata": {},
     "output_type": "execute_result"
    }
   ],
   "source": [
    "probs_df"
   ],
   "metadata": {
    "collapsed": false,
    "ExecuteTime": {
     "end_time": "2024-05-09T16:22:50.907079100Z",
     "start_time": "2024-05-09T16:22:50.878073300Z"
    }
   },
   "id": "ece3233b3bf59808"
  },
  {
   "cell_type": "code",
   "execution_count": 90,
   "outputs": [],
   "source": [
    "test_results = pd.concat([pd.DataFrame(y_test).reset_index(drop=True), pd.DataFrame(probs)], axis=1)"
   ],
   "metadata": {
    "collapsed": false,
    "ExecuteTime": {
     "end_time": "2024-05-09T16:24:05.240020400Z",
     "start_time": "2024-05-09T16:24:05.211401500Z"
    }
   },
   "id": "9ece31efa6c3146d"
  },
  {
   "cell_type": "code",
   "execution_count": 91,
   "outputs": [
    {
     "data": {
      "text/plain": "",
      "text/html": "<pre style=\"white-space:pre;overflow-x:auto;line-height:normal;font-family:Menlo,'DejaVu Sans Mono',consolas,'Courier New',monospace\"></pre>\n"
     },
     "metadata": {},
     "output_type": "display_data"
    },
    {
     "data": {
      "text/plain": "\nTARGET\n\u001B[1;36m0\u001B[0m    \u001B[1;36m11280\u001B[0m\n\u001B[1;36m1\u001B[0m     \u001B[1;36m1021\u001B[0m\nName: count, dtype: int64"
     },
     "execution_count": 91,
     "metadata": {},
     "output_type": "execute_result"
    }
   ],
   "source": [
    "test_results[\"TARGET\"].value_counts()"
   ],
   "metadata": {
    "collapsed": false,
    "ExecuteTime": {
     "end_time": "2024-05-09T16:24:35.227520900Z",
     "start_time": "2024-05-09T16:24:35.200540300Z"
    }
   },
   "id": "875ebf10c1dd1353"
  },
  {
   "cell_type": "code",
   "execution_count": 95,
   "outputs": [
    {
     "data": {
      "text/plain": "",
      "text/html": "<pre style=\"white-space:pre;overflow-x:auto;line-height:normal;font-family:Menlo,'DejaVu Sans Mono',consolas,'Courier New',monospace\"></pre>\n"
     },
     "metadata": {},
     "output_type": "display_data"
    },
    {
     "data": {
      "text/plain": "\n\u001B[1;36m0\u001B[0m        \u001B[1;36m0.156887\u001B[0m\n\u001B[1;36m1\u001B[0m        \u001B[1;36m0.027152\u001B[0m\n\u001B[1;36m2\u001B[0m        \u001B[1;36m0.043012\u001B[0m\n\u001B[1;36m3\u001B[0m        \u001B[1;36m0.089023\u001B[0m\n\u001B[1;36m4\u001B[0m        \u001B[1;36m0.033288\u001B[0m\n           \u001B[33m...\u001B[0m   \n\u001B[1;36m12296\u001B[0m    \u001B[1;36m0.163670\u001B[0m\n\u001B[1;36m12297\u001B[0m    \u001B[1;36m0.024817\u001B[0m\n\u001B[1;36m12298\u001B[0m    \u001B[1;36m0.144822\u001B[0m\n\u001B[1;36m12299\u001B[0m    \u001B[1;36m0.127256\u001B[0m\n\u001B[1;36m12300\u001B[0m    \u001B[1;36m0.032031\u001B[0m\nName: \u001B[1;36m1\u001B[0m, Length: \u001B[1;36m12301\u001B[0m, dtype: float64"
     },
     "execution_count": 95,
     "metadata": {},
     "output_type": "execute_result"
    }
   ],
   "source": [
    "test_results[1]"
   ],
   "metadata": {
    "collapsed": false,
    "ExecuteTime": {
     "end_time": "2024-05-09T16:25:31.910543700Z",
     "start_time": "2024-05-09T16:25:31.885545100Z"
    }
   },
   "id": "cbb6a0e4bbf4c4cb"
  },
  {
   "cell_type": "code",
   "execution_count": 100,
   "outputs": [
    {
     "data": {
      "text/plain": "",
      "text/html": "<pre style=\"white-space:pre;overflow-x:auto;line-height:normal;font-family:Menlo,'DejaVu Sans Mono',consolas,'Courier New',monospace\"></pre>\n"
     },
     "metadata": {},
     "output_type": "display_data"
    },
    {
     "data": {
      "text/plain": "\nTARGET\n\u001B[1;36m0\u001B[0m    \u001B[1;36m2227\u001B[0m\n\u001B[1;36m1\u001B[0m     \u001B[1;36m570\u001B[0m\nName: count, dtype: int64"
     },
     "execution_count": 100,
     "metadata": {},
     "output_type": "execute_result"
    }
   ],
   "source": [
    "test_results.loc[test_results[1] >0.1, :].TARGET.value_counts()"
   ],
   "metadata": {
    "collapsed": false,
    "ExecuteTime": {
     "end_time": "2024-05-09T16:26:58.189296200Z",
     "start_time": "2024-05-09T16:26:58.148317900Z"
    }
   },
   "id": "42cc4216b4b8d1ae"
  },
  {
   "cell_type": "code",
   "execution_count": null,
   "outputs": [],
   "source": [
    "def kfold_lightgbm(df, num_folds):\n",
    "    # Divide in training/validation and test data\n",
    "    train_df = df[df['TARGET'].notnull()]\n",
    "    test_df = df[df['TARGET'].isnull()]\n",
    "    print(\"Starting LightGBM. Train shape: {}, test shape: {}\".format(train_df.shape, test_df.shape))\n",
    "    # Cross validation model\n",
    "    folds = StratifiedKFold(n_splits= num_folds, shuffle=True, random_state=1001)\n",
    "    # Create arrays and dataframes to store results\n",
    "    oof_preds = np.zeros(train_df.shape[0])\n",
    "    sub_preds = np.zeros(test_df.shape[0])\n",
    "    feature_importance_df = pd.DataFrame()\n",
    "    feats = [f for f in train_df.columns if f not in ['TARGET','SK_ID_CURR','SK_ID_BUREAU','SK_ID_PREV','index']]\n",
    "    \n",
    "    for n_fold, (train_idx, valid_idx) in enumerate(folds.split(train_df[feats], train_df['TARGET'])):\n",
    "        train_x, train_y = train_df[feats].iloc[train_idx], train_df['TARGET'].iloc[train_idx]\n",
    "        valid_x, valid_y = train_df[feats].iloc[valid_idx], train_df['TARGET'].iloc[valid_idx]\n",
    "\n",
    "        # LightGBM parameters found by Bayesian optimization\n",
    "        clf = lgb.LGBMClassifier(\n",
    "            nthread=4,\n",
    "            n_estimators=10000,\n",
    "            learning_rate=0.02,\n",
    "            num_leaves=34,\n",
    "            colsample_bytree=0.9497036,\n",
    "            subsample=0.8715623,\n",
    "            max_depth=8,\n",
    "            reg_alpha=0.041545473,\n",
    "            reg_lambda=0.0735294,\n",
    "            min_split_gain=0.0222415,\n",
    "            min_child_weight=39.3259775,\n",
    "            silent=-1,\n",
    "            verbose=-1, )\n",
    "\n",
    "        clf.fit(train_x, train_y, eval_set=[(train_x, train_y), (valid_x, valid_y)], \n",
    "            eval_metric= 'auc', verbose= 200, early_stopping_rounds= 200)\n",
    "\n",
    "        oof_preds[valid_idx] = clf.predict_proba(valid_x, num_iteration=clf.best_iteration_)[:, 1]\n",
    "        sub_preds += clf.predict_proba(test_df[feats], num_iteration=clf.best_iteration_)[:, 1] / folds.n_splits\n",
    "\n",
    "        fold_importance_df = pd.DataFrame()\n",
    "        fold_importance_df[\"feature\"] = feats\n",
    "        fold_importance_df[\"importance\"] = clf.feature_importances_\n",
    "        fold_importance_df[\"fold\"] = n_fold + 1\n",
    "        feature_importance_df = pd.concat([feature_importance_df, fold_importance_df], axis=0)\n",
    "        print('Fold %2d AUC : %.6f' % (n_fold + 1, roc_auc_score(valid_y, oof_preds[valid_idx])))\n",
    "        del clf, train_x, train_y, valid_x, valid_y\n",
    "        \n",
    "    print('Full AUC score %.6f' % roc_auc_score(train_df['TARGET'], oof_preds))\n",
    "    # Write submission file and plot feature importance\n",
    "    return feature_importance_df"
   ],
   "metadata": {
    "collapsed": false
   },
   "id": "1deefae3ea1c1cdd"
  },
  {
   "cell_type": "code",
   "execution_count": 28,
   "outputs": [
    {
     "name": "stdout",
     "output_type": "stream",
     "text": [
      "^C\n"
     ]
    }
   ],
   "source": [
    "!mlflow ui --port 5001"
   ],
   "metadata": {
    "collapsed": false,
    "ExecuteTime": {
     "end_time": "2024-05-09T12:27:18.172462800Z",
     "start_time": "2024-05-09T12:26:13.521210600Z"
    }
   },
   "id": "3d70537b1e0cdf6f"
  },
  {
   "cell_type": "code",
   "execution_count": null,
   "outputs": [],
   "source": [],
   "metadata": {
    "collapsed": false
   },
   "id": "319dd7a5290ea69a"
  }
 ],
 "metadata": {
  "kernelspec": {
   "name": "kedro_ocp7_scoring_model_cloud",
   "language": "python",
   "display_name": "Kedro (ocp7_scoring_model_cloud)"
  },
  "language_info": {
   "codemirror_mode": {
    "name": "ipython",
    "version": 2
   },
   "file_extension": ".py",
   "mimetype": "text/x-python",
   "name": "python",
   "nbconvert_exporter": "python",
   "pygments_lexer": "ipython2",
   "version": "2.7.6"
  }
 },
 "nbformat": 4,
 "nbformat_minor": 5
}
