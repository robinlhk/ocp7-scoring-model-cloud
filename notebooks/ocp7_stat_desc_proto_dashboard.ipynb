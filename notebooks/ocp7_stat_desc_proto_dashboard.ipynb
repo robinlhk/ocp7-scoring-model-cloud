{
 "cells": [
  {
   "cell_type": "code",
   "execution_count": 56,
   "id": "initial_id",
   "metadata": {
    "collapsed": true,
    "ExecuteTime": {
     "end_time": "2024-05-07T10:57:26.442995500Z",
     "start_time": "2024-05-07T10:57:25.280191200Z"
    }
   },
   "outputs": [
    {
     "data": {
      "text/plain": "\u001B[2;36m[05/07/24 12:57:25]\u001B[0m\u001B[2;36m \u001B[0m\u001B[34mINFO    \u001B[0m Resolved project path as:                                              \u001B]8;id=331697;file://C:\\Users\\9509298u\\AppData\\Local\\miniconda3\\envs\\ocp7-scoring-model-cloud\\lib\\site-packages\\kedro\\ipython\\__init__.py\u001B\\\u001B[2m__init__.py\u001B[0m\u001B]8;;\u001B\\\u001B[2m:\u001B[0m\u001B]8;id=716299;file://C:\\Users\\9509298u\\AppData\\Local\\miniconda3\\envs\\ocp7-scoring-model-cloud\\lib\\site-packages\\kedro\\ipython\\__init__.py#164\u001B\\\u001B[2m164\u001B[0m\u001B]8;;\u001B\\\n\u001B[2;36m                    \u001B[0m         C:\\Users\\9509298u\\Documents\\GitHub\\OC_Projects\\ocp7-scoring-model-clou \u001B[2m               \u001B[0m\n\u001B[2;36m                    \u001B[0m         d.                                                                     \u001B[2m               \u001B[0m\n\u001B[2;36m                    \u001B[0m         To set a different path, run \u001B[32m'%reload_kedro \u001B[0m\u001B[32m<\u001B[0m\u001B[32mproject_root\u001B[0m\u001B[32m>\u001B[0m\u001B[32m'\u001B[0m            \u001B[2m               \u001B[0m\n",
      "text/html": "<pre style=\"white-space:pre;overflow-x:auto;line-height:normal;font-family:Menlo,'DejaVu Sans Mono',consolas,'Courier New',monospace\"><span style=\"color: #7fbfbf; text-decoration-color: #7fbfbf\">[05/07/24 12:57:25] </span><span style=\"color: #000080; text-decoration-color: #000080\">INFO    </span> Resolved project path as:                                              <a href=\"file://C:\\Users\\9509298u\\AppData\\Local\\miniconda3\\envs\\ocp7-scoring-model-cloud\\lib\\site-packages\\kedro\\ipython\\__init__.py\" target=\"_blank\"><span style=\"color: #7f7f7f; text-decoration-color: #7f7f7f\">__init__.py</span></a><span style=\"color: #7f7f7f; text-decoration-color: #7f7f7f\">:</span><a href=\"file://C:\\Users\\9509298u\\AppData\\Local\\miniconda3\\envs\\ocp7-scoring-model-cloud\\lib\\site-packages\\kedro\\ipython\\__init__.py#164\" target=\"_blank\"><span style=\"color: #7f7f7f; text-decoration-color: #7f7f7f\">164</span></a>\n<span style=\"color: #7fbfbf; text-decoration-color: #7fbfbf\">                    </span>         C:\\Users\\9509298u\\Documents\\GitHub\\OC_Projects\\ocp7-scoring-model-clou <span style=\"color: #7f7f7f; text-decoration-color: #7f7f7f\">               </span>\n<span style=\"color: #7fbfbf; text-decoration-color: #7fbfbf\">                    </span>         d.                                                                     <span style=\"color: #7f7f7f; text-decoration-color: #7f7f7f\">               </span>\n<span style=\"color: #7fbfbf; text-decoration-color: #7fbfbf\">                    </span>         To set a different path, run <span style=\"color: #008000; text-decoration-color: #008000\">'%reload_kedro &lt;project_root&gt;'</span>            <span style=\"color: #7f7f7f; text-decoration-color: #7f7f7f\">               </span>\n</pre>\n"
     },
     "metadata": {},
     "output_type": "display_data"
    },
    {
     "data": {
      "text/plain": "\u001B[2;36m[05/07/24 12:57:26]\u001B[0m\u001B[2;36m \u001B[0m\u001B[34mINFO    \u001B[0m Registering new custom resolver: \u001B[32m'km.random_name'\u001B[0m                    \u001B]8;id=488013;file://C:\\Users\\9509298u\\AppData\\Local\\miniconda3\\envs\\ocp7-scoring-model-cloud\\lib\\site-packages\\kedro_mlflow\\framework\\hooks\\mlflow_hook.py\u001B\\\u001B[2mmlflow_hook.py\u001B[0m\u001B]8;;\u001B\\\u001B[2m:\u001B[0m\u001B]8;id=269294;file://C:\\Users\\9509298u\\AppData\\Local\\miniconda3\\envs\\ocp7-scoring-model-cloud\\lib\\site-packages\\kedro_mlflow\\framework\\hooks\\mlflow_hook.py#65\u001B\\\u001B[2m65\u001B[0m\u001B]8;;\u001B\\\n",
      "text/html": "<pre style=\"white-space:pre;overflow-x:auto;line-height:normal;font-family:Menlo,'DejaVu Sans Mono',consolas,'Courier New',monospace\"><span style=\"color: #7fbfbf; text-decoration-color: #7fbfbf\">[05/07/24 12:57:26] </span><span style=\"color: #000080; text-decoration-color: #000080\">INFO    </span> Registering new custom resolver: <span style=\"color: #008000; text-decoration-color: #008000\">'km.random_name'</span>                    <a href=\"file://C:\\Users\\9509298u\\AppData\\Local\\miniconda3\\envs\\ocp7-scoring-model-cloud\\lib\\site-packages\\kedro_mlflow\\framework\\hooks\\mlflow_hook.py\" target=\"_blank\"><span style=\"color: #7f7f7f; text-decoration-color: #7f7f7f\">mlflow_hook.py</span></a><span style=\"color: #7f7f7f; text-decoration-color: #7f7f7f\">:</span><a href=\"file://C:\\Users\\9509298u\\AppData\\Local\\miniconda3\\envs\\ocp7-scoring-model-cloud\\lib\\site-packages\\kedro_mlflow\\framework\\hooks\\mlflow_hook.py#65\" target=\"_blank\"><span style=\"color: #7f7f7f; text-decoration-color: #7f7f7f\">65</span></a>\n</pre>\n"
     },
     "metadata": {},
     "output_type": "display_data"
    },
    {
     "data": {
      "text/plain": "\u001B[2;36m                   \u001B[0m\u001B[2;36m \u001B[0m\u001B[34mINFO    \u001B[0m The \u001B[32m'tracking_uri'\u001B[0m key in mlflow.yml is relative            \u001B]8;id=661768;file://C:\\Users\\9509298u\\AppData\\Local\\miniconda3\\envs\\ocp7-scoring-model-cloud\\lib\\site-packages\\kedro_mlflow\\config\\kedro_mlflow_config.py\u001B\\\u001B[2mkedro_mlflow_config.py\u001B[0m\u001B]8;;\u001B\\\u001B[2m:\u001B[0m\u001B]8;id=220872;file://C:\\Users\\9509298u\\AppData\\Local\\miniconda3\\envs\\ocp7-scoring-model-cloud\\lib\\site-packages\\kedro_mlflow\\config\\kedro_mlflow_config.py#260\u001B\\\u001B[2m260\u001B[0m\u001B]8;;\u001B\\\n\u001B[2;36m                    \u001B[0m         \u001B[1m(\u001B[0m\u001B[32m'server.mlflow_\u001B[0m\u001B[32m(\u001B[0m\u001B[32mtracking|registry\u001B[0m\u001B[32m)\u001B[0m\u001B[32m_uri = mlruns'\u001B[0m\u001B[1m)\u001B[0m. It is   \u001B[2m                          \u001B[0m\n\u001B[2;36m                    \u001B[0m         converted to a valid uri:                                   \u001B[2m                          \u001B[0m\n\u001B[2;36m                    \u001B[0m         \u001B[32m'file:///C:/Users/9509298u/Documents/GitHub/OC_Projects/ocp\u001B[0m \u001B[2m                          \u001B[0m\n\u001B[2;36m                    \u001B[0m         \u001B[32m7-scoring-model-cloud/mlruns'\u001B[0m                               \u001B[2m                          \u001B[0m\n",
      "text/html": "<pre style=\"white-space:pre;overflow-x:auto;line-height:normal;font-family:Menlo,'DejaVu Sans Mono',consolas,'Courier New',monospace\"><span style=\"color: #7fbfbf; text-decoration-color: #7fbfbf\">                    </span><span style=\"color: #000080; text-decoration-color: #000080\">INFO    </span> The <span style=\"color: #008000; text-decoration-color: #008000\">'tracking_uri'</span> key in mlflow.yml is relative            <a href=\"file://C:\\Users\\9509298u\\AppData\\Local\\miniconda3\\envs\\ocp7-scoring-model-cloud\\lib\\site-packages\\kedro_mlflow\\config\\kedro_mlflow_config.py\" target=\"_blank\"><span style=\"color: #7f7f7f; text-decoration-color: #7f7f7f\">kedro_mlflow_config.py</span></a><span style=\"color: #7f7f7f; text-decoration-color: #7f7f7f\">:</span><a href=\"file://C:\\Users\\9509298u\\AppData\\Local\\miniconda3\\envs\\ocp7-scoring-model-cloud\\lib\\site-packages\\kedro_mlflow\\config\\kedro_mlflow_config.py#260\" target=\"_blank\"><span style=\"color: #7f7f7f; text-decoration-color: #7f7f7f\">260</span></a>\n<span style=\"color: #7fbfbf; text-decoration-color: #7fbfbf\">                    </span>         <span style=\"font-weight: bold\">(</span><span style=\"color: #008000; text-decoration-color: #008000\">'server.mlflow_(tracking|registry)_uri = mlruns'</span><span style=\"font-weight: bold\">)</span>. It is   <span style=\"color: #7f7f7f; text-decoration-color: #7f7f7f\">                          </span>\n<span style=\"color: #7fbfbf; text-decoration-color: #7fbfbf\">                    </span>         converted to a valid uri:                                   <span style=\"color: #7f7f7f; text-decoration-color: #7f7f7f\">                          </span>\n<span style=\"color: #7fbfbf; text-decoration-color: #7fbfbf\">                    </span>         <span style=\"color: #008000; text-decoration-color: #008000\">'file:///C:/Users/9509298u/Documents/GitHub/OC_Projects/ocp</span> <span style=\"color: #7f7f7f; text-decoration-color: #7f7f7f\">                          </span>\n<span style=\"color: #7fbfbf; text-decoration-color: #7fbfbf\">                    </span>         <span style=\"color: #008000; text-decoration-color: #008000\">7-scoring-model-cloud/mlruns'</span>                               <span style=\"color: #7f7f7f; text-decoration-color: #7f7f7f\">                          </span>\n</pre>\n"
     },
     "metadata": {},
     "output_type": "display_data"
    },
    {
     "data": {
      "text/plain": "\u001B[2;36m                   \u001B[0m\u001B[2;36m \u001B[0m\u001B[34mINFO    \u001B[0m Kedro project ocp7_scoring_model_cloud                                 \u001B]8;id=630143;file://C:\\Users\\9509298u\\AppData\\Local\\miniconda3\\envs\\ocp7-scoring-model-cloud\\lib\\site-packages\\kedro\\ipython\\__init__.py\u001B\\\u001B[2m__init__.py\u001B[0m\u001B]8;;\u001B\\\u001B[2m:\u001B[0m\u001B]8;id=953903;file://C:\\Users\\9509298u\\AppData\\Local\\miniconda3\\envs\\ocp7-scoring-model-cloud\\lib\\site-packages\\kedro\\ipython\\__init__.py#134\u001B\\\u001B[2m134\u001B[0m\u001B]8;;\u001B\\\n",
      "text/html": "<pre style=\"white-space:pre;overflow-x:auto;line-height:normal;font-family:Menlo,'DejaVu Sans Mono',consolas,'Courier New',monospace\"><span style=\"color: #7fbfbf; text-decoration-color: #7fbfbf\">                    </span><span style=\"color: #000080; text-decoration-color: #000080\">INFO    </span> Kedro project ocp7_scoring_model_cloud                                 <a href=\"file://C:\\Users\\9509298u\\AppData\\Local\\miniconda3\\envs\\ocp7-scoring-model-cloud\\lib\\site-packages\\kedro\\ipython\\__init__.py\" target=\"_blank\"><span style=\"color: #7f7f7f; text-decoration-color: #7f7f7f\">__init__.py</span></a><span style=\"color: #7f7f7f; text-decoration-color: #7f7f7f\">:</span><a href=\"file://C:\\Users\\9509298u\\AppData\\Local\\miniconda3\\envs\\ocp7-scoring-model-cloud\\lib\\site-packages\\kedro\\ipython\\__init__.py#134\" target=\"_blank\"><span style=\"color: #7f7f7f; text-decoration-color: #7f7f7f\">134</span></a>\n</pre>\n"
     },
     "metadata": {},
     "output_type": "display_data"
    },
    {
     "data": {
      "text/plain": "\u001B[2;36m                   \u001B[0m\u001B[2;36m \u001B[0m\u001B[34mINFO    \u001B[0m Defined global variable \u001B[32m'context'\u001B[0m, \u001B[32m'session'\u001B[0m, \u001B[32m'catalog'\u001B[0m and            \u001B]8;id=803239;file://C:\\Users\\9509298u\\AppData\\Local\\miniconda3\\envs\\ocp7-scoring-model-cloud\\lib\\site-packages\\kedro\\ipython\\__init__.py\u001B\\\u001B[2m__init__.py\u001B[0m\u001B]8;;\u001B\\\u001B[2m:\u001B[0m\u001B]8;id=537927;file://C:\\Users\\9509298u\\AppData\\Local\\miniconda3\\envs\\ocp7-scoring-model-cloud\\lib\\site-packages\\kedro\\ipython\\__init__.py#135\u001B\\\u001B[2m135\u001B[0m\u001B]8;;\u001B\\\n\u001B[2;36m                    \u001B[0m         \u001B[32m'pipelines'\u001B[0m                                                            \u001B[2m               \u001B[0m\n",
      "text/html": "<pre style=\"white-space:pre;overflow-x:auto;line-height:normal;font-family:Menlo,'DejaVu Sans Mono',consolas,'Courier New',monospace\"><span style=\"color: #7fbfbf; text-decoration-color: #7fbfbf\">                    </span><span style=\"color: #000080; text-decoration-color: #000080\">INFO    </span> Defined global variable <span style=\"color: #008000; text-decoration-color: #008000\">'context'</span>, <span style=\"color: #008000; text-decoration-color: #008000\">'session'</span>, <span style=\"color: #008000; text-decoration-color: #008000\">'catalog'</span> and            <a href=\"file://C:\\Users\\9509298u\\AppData\\Local\\miniconda3\\envs\\ocp7-scoring-model-cloud\\lib\\site-packages\\kedro\\ipython\\__init__.py\" target=\"_blank\"><span style=\"color: #7f7f7f; text-decoration-color: #7f7f7f\">__init__.py</span></a><span style=\"color: #7f7f7f; text-decoration-color: #7f7f7f\">:</span><a href=\"file://C:\\Users\\9509298u\\AppData\\Local\\miniconda3\\envs\\ocp7-scoring-model-cloud\\lib\\site-packages\\kedro\\ipython\\__init__.py#135\" target=\"_blank\"><span style=\"color: #7f7f7f; text-decoration-color: #7f7f7f\">135</span></a>\n<span style=\"color: #7fbfbf; text-decoration-color: #7fbfbf\">                    </span>         <span style=\"color: #008000; text-decoration-color: #008000\">'pipelines'</span>                                                            <span style=\"color: #7f7f7f; text-decoration-color: #7f7f7f\">               </span>\n</pre>\n"
     },
     "metadata": {},
     "output_type": "display_data"
    },
    {
     "data": {
      "text/plain": "\u001B[2;36m                   \u001B[0m\u001B[2;36m \u001B[0m\u001B[34mINFO    \u001B[0m Registered line magic \u001B[32m'run_viz'\u001B[0m                                        \u001B]8;id=387023;file://C:\\Users\\9509298u\\AppData\\Local\\miniconda3\\envs\\ocp7-scoring-model-cloud\\lib\\site-packages\\kedro\\ipython\\__init__.py\u001B\\\u001B[2m__init__.py\u001B[0m\u001B]8;;\u001B\\\u001B[2m:\u001B[0m\u001B]8;id=532540;file://C:\\Users\\9509298u\\AppData\\Local\\miniconda3\\envs\\ocp7-scoring-model-cloud\\lib\\site-packages\\kedro\\ipython\\__init__.py#141\u001B\\\u001B[2m141\u001B[0m\u001B]8;;\u001B\\\n",
      "text/html": "<pre style=\"white-space:pre;overflow-x:auto;line-height:normal;font-family:Menlo,'DejaVu Sans Mono',consolas,'Courier New',monospace\"><span style=\"color: #7fbfbf; text-decoration-color: #7fbfbf\">                    </span><span style=\"color: #000080; text-decoration-color: #000080\">INFO    </span> Registered line magic <span style=\"color: #008000; text-decoration-color: #008000\">'run_viz'</span>                                        <a href=\"file://C:\\Users\\9509298u\\AppData\\Local\\miniconda3\\envs\\ocp7-scoring-model-cloud\\lib\\site-packages\\kedro\\ipython\\__init__.py\" target=\"_blank\"><span style=\"color: #7f7f7f; text-decoration-color: #7f7f7f\">__init__.py</span></a><span style=\"color: #7f7f7f; text-decoration-color: #7f7f7f\">:</span><a href=\"file://C:\\Users\\9509298u\\AppData\\Local\\miniconda3\\envs\\ocp7-scoring-model-cloud\\lib\\site-packages\\kedro\\ipython\\__init__.py#141\" target=\"_blank\"><span style=\"color: #7f7f7f; text-decoration-color: #7f7f7f\">141</span></a>\n</pre>\n"
     },
     "metadata": {},
     "output_type": "display_data"
    }
   ],
   "source": [
    "%reload_kedro"
   ]
  },
  {
   "cell_type": "code",
   "execution_count": 24,
   "outputs": [],
   "source": [
    "%reload_ext autoreload\n",
    "%autoreload 2\n",
    "\n",
    "import pandas as pd\n",
    "import numpy as np\n",
    "\n",
    "from sklearn.preprocessing import LabelEncoder\n",
    "\n",
    "# Suppress warnings \n",
    "import warnings\n",
    "warnings.filterwarnings('ignore')\n",
    "\n",
    "import matplotlib.pyplot as plt\n",
    "import missingno as msno\n"
   ],
   "metadata": {
    "collapsed": false,
    "ExecuteTime": {
     "end_time": "2024-05-07T10:44:35.346273400Z",
     "start_time": "2024-05-07T10:44:35.070947700Z"
    }
   },
   "id": "6c69f1b78af8cc51"
  },
  {
   "cell_type": "code",
   "execution_count": 49,
   "outputs": [
    {
     "data": {
      "text/plain": "\u001B[2;36m[05/07/24 12:53:11]\u001B[0m\u001B[2;36m \u001B[0m\u001B[34mINFO    \u001B[0m Loading data from \u001B[38;5;208mapplication_train\u001B[0m \u001B[1m(\u001B[0mCSVDataset\u001B[1m)\u001B[0m\u001B[33m...\u001B[0m                \u001B]8;id=626101;file://C:\\Users\\9509298u\\AppData\\Local\\miniconda3\\envs\\ocp7-scoring-model-cloud\\lib\\site-packages\\kedro\\io\\data_catalog.py\u001B\\\u001B[2mdata_catalog.py\u001B[0m\u001B]8;;\u001B\\\u001B[2m:\u001B[0m\u001B]8;id=816360;file://C:\\Users\\9509298u\\AppData\\Local\\miniconda3\\envs\\ocp7-scoring-model-cloud\\lib\\site-packages\\kedro\\io\\data_catalog.py#483\u001B\\\u001B[2m483\u001B[0m\u001B]8;;\u001B\\\n",
      "text/html": "<pre style=\"white-space:pre;overflow-x:auto;line-height:normal;font-family:Menlo,'DejaVu Sans Mono',consolas,'Courier New',monospace\"><span style=\"color: #7fbfbf; text-decoration-color: #7fbfbf\">[05/07/24 12:53:11] </span><span style=\"color: #000080; text-decoration-color: #000080\">INFO    </span> Loading data from <span style=\"color: #ff8700; text-decoration-color: #ff8700\">application_train</span> <span style=\"font-weight: bold\">(</span>CSVDataset<span style=\"font-weight: bold\">)</span><span style=\"color: #808000; text-decoration-color: #808000\">...</span>                <a href=\"file://C:\\Users\\9509298u\\AppData\\Local\\miniconda3\\envs\\ocp7-scoring-model-cloud\\lib\\site-packages\\kedro\\io\\data_catalog.py\" target=\"_blank\"><span style=\"color: #7f7f7f; text-decoration-color: #7f7f7f\">data_catalog.py</span></a><span style=\"color: #7f7f7f; text-decoration-color: #7f7f7f\">:</span><a href=\"file://C:\\Users\\9509298u\\AppData\\Local\\miniconda3\\envs\\ocp7-scoring-model-cloud\\lib\\site-packages\\kedro\\io\\data_catalog.py#483\" target=\"_blank\"><span style=\"color: #7f7f7f; text-decoration-color: #7f7f7f\">483</span></a>\n</pre>\n"
     },
     "metadata": {},
     "output_type": "display_data"
    },
    {
     "data": {
      "text/plain": "\u001B[2;36m[05/07/24 12:53:13]\u001B[0m\u001B[2;36m \u001B[0m\u001B[34mINFO    \u001B[0m Loading data from \u001B[38;5;208mapplication_test\u001B[0m \u001B[1m(\u001B[0mCSVDataset\u001B[1m)\u001B[0m\u001B[33m...\u001B[0m                 \u001B]8;id=674169;file://C:\\Users\\9509298u\\AppData\\Local\\miniconda3\\envs\\ocp7-scoring-model-cloud\\lib\\site-packages\\kedro\\io\\data_catalog.py\u001B\\\u001B[2mdata_catalog.py\u001B[0m\u001B]8;;\u001B\\\u001B[2m:\u001B[0m\u001B]8;id=35910;file://C:\\Users\\9509298u\\AppData\\Local\\miniconda3\\envs\\ocp7-scoring-model-cloud\\lib\\site-packages\\kedro\\io\\data_catalog.py#483\u001B\\\u001B[2m483\u001B[0m\u001B]8;;\u001B\\\n",
      "text/html": "<pre style=\"white-space:pre;overflow-x:auto;line-height:normal;font-family:Menlo,'DejaVu Sans Mono',consolas,'Courier New',monospace\"><span style=\"color: #7fbfbf; text-decoration-color: #7fbfbf\">[05/07/24 12:53:13] </span><span style=\"color: #000080; text-decoration-color: #000080\">INFO    </span> Loading data from <span style=\"color: #ff8700; text-decoration-color: #ff8700\">application_test</span> <span style=\"font-weight: bold\">(</span>CSVDataset<span style=\"font-weight: bold\">)</span><span style=\"color: #808000; text-decoration-color: #808000\">...</span>                 <a href=\"file://C:\\Users\\9509298u\\AppData\\Local\\miniconda3\\envs\\ocp7-scoring-model-cloud\\lib\\site-packages\\kedro\\io\\data_catalog.py\" target=\"_blank\"><span style=\"color: #7f7f7f; text-decoration-color: #7f7f7f\">data_catalog.py</span></a><span style=\"color: #7f7f7f; text-decoration-color: #7f7f7f\">:</span><a href=\"file://C:\\Users\\9509298u\\AppData\\Local\\miniconda3\\envs\\ocp7-scoring-model-cloud\\lib\\site-packages\\kedro\\io\\data_catalog.py#483\" target=\"_blank\"><span style=\"color: #7f7f7f; text-decoration-color: #7f7f7f\">483</span></a>\n</pre>\n"
     },
     "metadata": {},
     "output_type": "display_data"
    }
   ],
   "source": [
    "dataset_type = \"\" #change for \"_debug\" to load the debug dataset\n",
    "\n",
    "df_train = catalog.load(\"application_train\" + dataset_type)\n",
    "df_test = catalog.load(\"application_test\" + dataset_type)"
   ],
   "metadata": {
    "collapsed": false,
    "ExecuteTime": {
     "end_time": "2024-05-07T10:53:13.542473Z",
     "start_time": "2024-05-07T10:53:10.839146500Z"
    }
   },
   "id": "70c922dff153a3b"
  },
  {
   "cell_type": "code",
   "execution_count": 11,
   "outputs": [],
   "source": [
    "invididual_variables = [\"DAYS_BIRTH\", \"CODE_GENDER\", \"NAME_EDUCATION_TYPE\"]\n",
    "work_variables = [\"DAYS_EMPLOYED\", \"OCCUPATION_TYPE\", \"ORGANIZATION_TYPE\", \"AMT_INCOME_TOTAL\"]\n",
    "loan_variables = [\"AMT_CREDIT\", \"AMT_ANNUITY\", \"AMT_GOODS_PRICE\"]\n",
    "ext_variables = [\"EXT_SOURCE_1\", \"EXT_SOURCE_2\", \"EXT_SOURCE_3\"]\n",
    "variables_interest = invididual_variables + work_variables + loan_variables + ext_variables\n",
    "# liés à l'emprunt, liées à la personne, liées au travail, liées aux autres sources financières"
   ],
   "metadata": {
    "collapsed": false,
    "ExecuteTime": {
     "end_time": "2024-05-07T09:26:31.813945500Z",
     "start_time": "2024-05-07T09:26:31.706303700Z"
    }
   },
   "id": "a205aa2a5d70f3c4"
  },
  {
   "cell_type": "markdown",
   "source": [
    "nous voulons retenir les variables les plus importantes pour l'analyse \n",
    "nous pouvons observer les variables les mieux corrélées au défaut de crédit"
   ],
   "metadata": {
    "collapsed": false
   },
   "id": "a48247e3d9d8be43"
  },
  {
   "cell_type": "code",
   "execution_count": 28,
   "outputs": [],
   "source": [
    "from src.ocp7_scoring_model_cloud.pipelines.preprocessing.nodes import (\n",
    "    preprocess_application_train_test_for_visualization)"
   ],
   "metadata": {
    "collapsed": false,
    "ExecuteTime": {
     "end_time": "2024-05-07T10:45:01.536093400Z",
     "start_time": "2024-05-07T10:45:01.251054500Z"
    }
   },
   "id": "f1e6e8512fd81220"
  },
  {
   "cell_type": "code",
   "execution_count": 29,
   "outputs": [
    {
     "name": "stdout",
     "output_type": "stream",
     "text": [
      "Df lenght: 307511, number of columns : 122\n"
     ]
    }
   ],
   "source": [
    "preprocess_train_df = preprocess_application_train_test_for_visualization(df_train)"
   ],
   "metadata": {
    "collapsed": false,
    "ExecuteTime": {
     "end_time": "2024-05-07T10:45:02.351372800Z",
     "start_time": "2024-05-07T10:45:01.536093400Z"
    }
   },
   "id": "9223b2385d299f36"
  },
  {
   "cell_type": "code",
   "execution_count": 53,
   "outputs": [],
   "source": [
    "def compute_age(df):\n",
    "    df[\"AGE\"] = -df[\"DAYS_BIRTH\"] // 365\n",
    "    return df\n",
    "\n",
    "def compute_time_employed(df):\n",
    "    df[\"TIME_CURRENT_JOB_YEARS\"] = -df[\"DAYS_EMPLOYED\"] // 365\n",
    "    return df\n",
    "\n",
    "def compute_viz_df(df, variables_interest):\n",
    "    df = compute_age(df)\n",
    "    df = compute_time_employed(df)\n",
    "    df = df[[\"SK_ID_CURR\"] + [\"AGE\", \"TIME_CURRENT_JOB_YEARS\"] + variables_interest]\n",
    "    return df"
   ],
   "metadata": {
    "collapsed": false,
    "ExecuteTime": {
     "end_time": "2024-05-07T10:55:14.605719600Z",
     "start_time": "2024-05-07T10:55:14.337379700Z"
    }
   },
   "id": "8966a0cf26a090bb"
  },
  {
   "cell_type": "code",
   "execution_count": null,
   "outputs": [],
   "source": [
    "def find_outliers"
   ],
   "metadata": {
    "collapsed": false
   },
   "id": "53b1b9b12126ae7e"
  },
  {
   "cell_type": "code",
   "execution_count": 54,
   "outputs": [],
   "source": [
    "viz_df_train = compute_viz_df(preprocess_train_df, variables_interest)\n",
    "viz_df_test = compute_viz_df(preprocess_test_df, variables_interest)"
   ],
   "metadata": {
    "collapsed": false,
    "ExecuteTime": {
     "end_time": "2024-05-07T10:55:18.844046200Z",
     "start_time": "2024-05-07T10:55:18.500944800Z"
    }
   },
   "id": "cb48d4e0ffef4a"
  },
  {
   "cell_type": "code",
   "execution_count": 89,
   "outputs": [],
   "source": [
    "preprocess_train_df[\"AMT_INCOME_TOTAL_zscore\"] = (preprocess_train_df[\"AMT_INCOME_TOTAL\"] - preprocess_train_df[\"AMT_INCOME_TOTAL\"].mean()) / preprocess_train_df[\"AMT_INCOME_TOTAL\"].std()"
   ],
   "metadata": {
    "collapsed": false,
    "ExecuteTime": {
     "end_time": "2024-05-07T15:25:55.460711400Z",
     "start_time": "2024-05-07T15:25:55.194923600Z"
    }
   },
   "id": "b55b51064b9cd51"
  },
  {
   "cell_type": "code",
   "execution_count": 91,
   "outputs": [],
   "source": [
    "preprocess_train_income_outliers = preprocess_train_df.loc[preprocess_train_df[\"AMT_INCOME_TOTAL_zscore\"]>3,:]"
   ],
   "metadata": {
    "collapsed": false,
    "ExecuteTime": {
     "end_time": "2024-05-07T15:26:23.862196100Z",
     "start_time": "2024-05-07T15:26:23.597423300Z"
    }
   },
   "id": "8512ae0b33ed0aaf"
  },
  {
   "cell_type": "code",
   "execution_count": 94,
   "outputs": [
    {
     "data": {
      "text/plain": "",
      "text/html": "<pre style=\"white-space:pre;overflow-x:auto;line-height:normal;font-family:Menlo,'DejaVu Sans Mono',consolas,'Courier New',monospace\"></pre>\n"
     },
     "metadata": {},
     "output_type": "display_data"
    },
    {
     "data": {
      "text/plain": "\u001B[1;36m0.05286343612334802\u001B[0m"
     },
     "execution_count": 94,
     "metadata": {},
     "output_type": "execute_result"
    }
   ],
   "source": [
    "preprocess_train_income_outliers[\"TARGET\"].value_counts()[1]/(preprocess_train_income_outliers[\"TARGET\"].value_counts()[0]+preprocess_train_income_outliers[\"TARGET\"].value_counts()[1])"
   ],
   "metadata": {
    "collapsed": false,
    "ExecuteTime": {
     "end_time": "2024-05-07T15:27:13.906889800Z",
     "start_time": "2024-05-07T15:27:13.638910Z"
    }
   },
   "id": "497ed231e60d7a30"
  },
  {
   "cell_type": "code",
   "execution_count": 95,
   "outputs": [
    {
     "data": {
      "text/plain": "",
      "text/html": "<pre style=\"white-space:pre;overflow-x:auto;line-height:normal;font-family:Menlo,'DejaVu Sans Mono',consolas,'Courier New',monospace\"></pre>\n"
     },
     "metadata": {},
     "output_type": "display_data"
    },
    {
     "data": {
      "text/plain": "\u001B[1;36m0.08072986956394489\u001B[0m"
     },
     "execution_count": 95,
     "metadata": {},
     "output_type": "execute_result"
    }
   ],
   "source": [
    "preprocess_train_df[\"TARGET\"].value_counts()[1]/(preprocess_train_df[\"TARGET\"].value_counts()[0]+preprocess_train_df[\"TARGET\"].value_counts()[1])"
   ],
   "metadata": {
    "collapsed": false,
    "ExecuteTime": {
     "end_time": "2024-05-07T15:27:47.778956Z",
     "start_time": "2024-05-07T15:27:47.496897100Z"
    }
   },
   "id": "3d7c6c6fe0f3b976"
  },
  {
   "cell_type": "code",
   "execution_count": 75,
   "outputs": [],
   "source": [
    "viz_df_train[\"AMT_INCOME_TOTAL_zscore\"] = (viz_df_train[\"AMT_INCOME_TOTAL\"] - viz_df_train[\"AMT_INCOME_TOTAL\"].mean()) / viz_df_train[\"AMT_INCOME_TOTAL\"].std()"
   ],
   "metadata": {
    "collapsed": false,
    "ExecuteTime": {
     "end_time": "2024-05-07T15:16:55.401924400Z",
     "start_time": "2024-05-07T15:16:55.131993Z"
    }
   },
   "id": "62d3e4e012b2be60"
  },
  {
   "cell_type": "code",
   "execution_count": 81,
   "outputs": [],
   "source": [
    "viz_df_test[\"AMT_INCOME_TOTAL_zscore\"] = (viz_df_test[\"AMT_INCOME_TOTAL\"] - viz_df_test[\"AMT_INCOME_TOTAL\"].mean()) / viz_df_test[\"AMT_INCOME_TOTAL\"].std()"
   ],
   "metadata": {
    "collapsed": false,
    "ExecuteTime": {
     "end_time": "2024-05-07T15:19:18.264704800Z",
     "start_time": "2024-05-07T15:19:18.007896500Z"
    }
   },
   "id": "ef84a53210ed267f"
  },
  {
   "cell_type": "code",
   "execution_count": 88,
   "outputs": [
    {
     "data": {
      "text/plain": "",
      "text/html": "<pre style=\"white-space:pre;overflow-x:auto;line-height:normal;font-family:Menlo,'DejaVu Sans Mono',consolas,'Courier New',monospace\"></pre>\n"
     },
     "metadata": {},
     "output_type": "display_data"
    },
    {
     "data": {
      "text/plain": "\u001B[1m<\u001B[0m\u001B[1;95mAxes:\u001B[0m\u001B[39m \u001B[0m\u001B[1m>\u001B[0m"
     },
     "execution_count": 88,
     "metadata": {},
     "output_type": "execute_result"
    },
    {
     "data": {
      "text/plain": "",
      "text/html": "<pre style=\"white-space:pre;overflow-x:auto;line-height:normal;font-family:Menlo,'DejaVu Sans Mono',consolas,'Courier New',monospace\"></pre>\n"
     },
     "metadata": {},
     "output_type": "display_data"
    },
    {
     "data": {
      "text/plain": "\u001B[1m<\u001B[0m\u001B[1;95mFigure\u001B[0m\u001B[39m size 64\u001B[0m\u001B[1;36m0x480\u001B[0m\u001B[39m with \u001B[0m\u001B[1;36m1\u001B[0m\u001B[39m Axes\u001B[0m\u001B[1m>\u001B[0m",
      "image/png": "[encoded data removed]"
     },
     "metadata": {},
     "output_type": "display_data"
    }
   ],
   "source": [
    "viz_df_test.loc[viz_df_test[\"AMT_INCOME_TOTAL_zscore\"]>3,:][\"AMT_INCOME_TOTAL\"].hist()"
   ],
   "metadata": {
    "collapsed": false,
    "ExecuteTime": {
     "end_time": "2024-05-07T15:24:11.227571200Z",
     "start_time": "2024-05-07T15:24:10.737934700Z"
    }
   },
   "id": "170afda297a1eeca"
  },
  {
   "cell_type": "code",
   "execution_count": 99,
   "outputs": [],
   "source": [
    "from sklearn.ensemble import IsolationForest\n",
    "from sklearn.impute import SimpleImputer"
   ],
   "metadata": {
    "collapsed": false,
    "ExecuteTime": {
     "end_time": "2024-05-07T15:33:06.925782900Z",
     "start_time": "2024-05-07T15:33:06.635914500Z"
    }
   },
   "id": "d6481ab287b59e3b"
  },
  {
   "cell_type": "code",
   "execution_count": 100,
   "outputs": [],
   "source": [
    "clf = IsolationForest(contamination=0.05)\n",
    "exp_df = preprocess_train_df.copy()\n",
    "imputer = SimpleImputer(strategy=\"mean\")\n",
    "exp_df[[\"AMT_INCOME_TOTAL\", \"AMT_CREDIT\", \"AMT_ANNUITY\", \"AMT_GOODS_PRICE\"]] = imputer.fit_transform(exp_df[[\"AMT_INCOME_TOTAL\", \"AMT_CREDIT\", \"AMT_ANNUITY\", \"AMT_GOODS_PRICE\"]])\n",
    "exp_df[\"Anomaly\"] = clf.fit_predict(exp_df[[\"AMT_INCOME_TOTAL\", \"AMT_CREDIT\", \"AMT_ANNUITY\", \"AMT_GOODS_PRICE\"]])"
   ],
   "metadata": {
    "collapsed": false,
    "ExecuteTime": {
     "end_time": "2024-05-07T15:33:10.419713600Z",
     "start_time": "2024-05-07T15:33:06.929793500Z"
    }
   },
   "id": "52011b98085de777"
  },
  {
   "cell_type": "code",
   "execution_count": 101,
   "outputs": [
    {
     "data": {
      "text/plain": "",
      "text/html": "<pre style=\"white-space:pre;overflow-x:auto;line-height:normal;font-family:Menlo,'DejaVu Sans Mono',consolas,'Courier New',monospace\"></pre>\n"
     },
     "metadata": {},
     "output_type": "display_data"
    },
    {
     "data": {
      "text/plain": "\nAnomaly\n \u001B[1;36m1\u001B[0m    \u001B[1;36m292131\u001B[0m\n\u001B[1;36m-1\u001B[0m     \u001B[1;36m15376\u001B[0m\nName: count, dtype: int64"
     },
     "execution_count": 101,
     "metadata": {},
     "output_type": "execute_result"
    }
   ],
   "source": [
    "exp_df[\"Anomaly\"].value_counts()"
   ],
   "metadata": {
    "collapsed": false,
    "ExecuteTime": {
     "end_time": "2024-05-07T15:33:14.985497100Z",
     "start_time": "2024-05-07T15:33:14.701306600Z"
    }
   },
   "id": "8735a37f319eead2"
  },
  {
   "cell_type": "code",
   "execution_count": 102,
   "outputs": [
    {
     "data": {
      "text/plain": "",
      "text/html": "<pre style=\"white-space:pre;overflow-x:auto;line-height:normal;font-family:Menlo,'DejaVu Sans Mono',consolas,'Courier New',monospace\"></pre>\n"
     },
     "metadata": {},
     "output_type": "display_data"
    },
    {
     "data": {
      "text/plain": "\nTARGET\n\u001B[1;36m0\u001B[0m    \u001B[1;36m14659\u001B[0m\n\u001B[1;36m1\u001B[0m      \u001B[1;36m717\u001B[0m\nName: count, dtype: int64"
     },
     "execution_count": 102,
     "metadata": {},
     "output_type": "execute_result"
    }
   ],
   "source": [
    "exp_df.loc[exp_df[\"Anomaly\"] == -1,:][\"TARGET\"].value_counts()"
   ],
   "metadata": {
    "collapsed": false,
    "ExecuteTime": {
     "end_time": "2024-05-07T15:33:26.609946Z",
     "start_time": "2024-05-07T15:33:26.295725400Z"
    }
   },
   "id": "ca9abdd800aed80f"
  },
  {
   "cell_type": "code",
   "execution_count": 85,
   "outputs": [
    {
     "data": {
      "text/plain": "",
      "text/html": "<pre style=\"white-space:pre;overflow-x:auto;line-height:normal;font-family:Menlo,'DejaVu Sans Mono',consolas,'Courier New',monospace\"></pre>\n"
     },
     "metadata": {},
     "output_type": "display_data"
    },
    {
     "data": {
      "text/plain": "\n        SK_ID_CURR  AGE  TIME_CURRENT_JOB_YEARS  DAYS_BIRTH  CODE_GENDER  \\\n\u001B[1;36m1504\u001B[0m        \u001B[1;36m101769\u001B[0m   \u001B[1;36m37\u001B[0m                    \u001B[1;36m15.0\u001B[0m      \u001B[1;36m-13633\u001B[0m            \u001B[1;36m0\u001B[0m   \n\u001B[1;36m1723\u001B[0m        \u001B[1;36m102015\u001B[0m   \u001B[1;36m51\u001B[0m                     NaN      \u001B[1;36m-18636\u001B[0m            \u001B[1;36m1\u001B[0m   \n\u001B[1;36m3371\u001B[0m        \u001B[1;36m103938\u001B[0m   \u001B[1;36m33\u001B[0m                     \u001B[1;36m2.0\u001B[0m      \u001B[1;36m-12213\u001B[0m            \u001B[1;36m1\u001B[0m   \n\u001B[1;36m4603\u001B[0m        \u001B[1;36m105384\u001B[0m   \u001B[1;36m40\u001B[0m                    \u001B[1;36m13.0\u001B[0m      \u001B[1;36m-14781\u001B[0m            \u001B[1;36m1\u001B[0m   \n\u001B[1;36m5673\u001B[0m        \u001B[1;36m106637\u001B[0m   \u001B[1;36m32\u001B[0m                     \u001B[1;36m1.0\u001B[0m      \u001B[1;36m-11901\u001B[0m            \u001B[1;36m0\u001B[0m   \n\u001B[33m...\u001B[0m            \u001B[33m...\u001B[0m  \u001B[33m...\u001B[0m                     \u001B[33m...\u001B[0m         \u001B[33m...\u001B[0m          \u001B[33m...\u001B[0m   \n\u001B[1;36m304477\u001B[0m      \u001B[1;36m452764\u001B[0m   \u001B[1;36m42\u001B[0m                     \u001B[1;36m2.0\u001B[0m      \u001B[1;36m-15532\u001B[0m            \u001B[1;36m1\u001B[0m   \n\u001B[1;36m305577\u001B[0m      \u001B[1;36m454039\u001B[0m   \u001B[1;36m57\u001B[0m                    \u001B[1;36m11.0\u001B[0m      \u001B[1;36m-20986\u001B[0m            \u001B[1;36m0\u001B[0m   \n\u001B[1;36m306028\u001B[0m      \u001B[1;36m454569\u001B[0m   \u001B[1;36m35\u001B[0m                     \u001B[1;36m0.0\u001B[0m      \u001B[1;36m-12947\u001B[0m            \u001B[1;36m0\u001B[0m   \n\u001B[1;36m306179\u001B[0m      \u001B[1;36m454746\u001B[0m   \u001B[1;36m38\u001B[0m                     \u001B[1;36m4.0\u001B[0m      \u001B[1;36m-14111\u001B[0m            \u001B[1;36m0\u001B[0m   \n\u001B[1;36m306285\u001B[0m      \u001B[1;36m454864\u001B[0m   \u001B[1;36m39\u001B[0m                     \u001B[1;36m5.0\u001B[0m      \u001B[1;36m-14510\u001B[0m            \u001B[1;36m1\u001B[0m   \n\n                  NAME_EDUCATION_TYPE  DAYS_EMPLOYED OCCUPATION_TYPE  \\\n\u001B[1;36m1504\u001B[0m                 Higher education        \u001B[1;36m-5536.0\u001B[0m             NaN   \n\u001B[1;36m1723\u001B[0m    Secondary \u001B[35m/\u001B[0m secondary special            NaN             NaN   \n\u001B[1;36m3371\u001B[0m                 Higher education         \u001B[1;36m-843.0\u001B[0m        Managers   \n\u001B[1;36m4603\u001B[0m                 Higher education        \u001B[1;36m-4768.0\u001B[0m        Managers   \n\u001B[1;36m5673\u001B[0m                 Higher education         \u001B[1;36m-546.0\u001B[0m        Managers   \n\u001B[33m...\u001B[0m                               \u001B[33m...\u001B[0m            \u001B[33m...\u001B[0m             \u001B[33m...\u001B[0m   \n\u001B[1;36m304477\u001B[0m               Higher education         \u001B[1;36m-953.0\u001B[0m        Managers   \n\u001B[1;36m305577\u001B[0m               Higher education        \u001B[1;36m-4237.0\u001B[0m        Managers   \n\u001B[1;36m306028\u001B[0m               Higher education         \u001B[1;36m-316.0\u001B[0m        Managers   \n\u001B[1;36m306179\u001B[0m               Higher education        \u001B[1;36m-1487.0\u001B[0m        Managers   \n\u001B[1;36m306285\u001B[0m               Higher education        \u001B[1;36m-2095.0\u001B[0m     Accountants   \n\n             ORGANIZATION_TYPE  AMT_INCOME_TOTAL  AMT_CREDIT  AMT_ANNUITY  \\\n\u001B[1;36m1504\u001B[0m    Business Entity Type \u001B[1;36m3\u001B[0m         \u001B[1;36m1080000.0\u001B[0m    \u001B[1;36m180000.0\u001B[0m       \u001B[1;36m9000.0\u001B[0m   \n\u001B[1;36m1723\u001B[0m                       XNA         \u001B[1;36m1935000.0\u001B[0m    \u001B[1;36m269550.0\u001B[0m      \u001B[1;36m10534.5\u001B[0m   \n\u001B[1;36m3371\u001B[0m                   Housing         \u001B[1;36m1350000.0\u001B[0m   \u001B[1;36m2410380.0\u001B[0m     \u001B[1;36m109053.0\u001B[0m   \n\u001B[1;36m4603\u001B[0m    Business Entity Type \u001B[1;36m3\u001B[0m         \u001B[1;36m1350000.0\u001B[0m    \u001B[1;36m405000.0\u001B[0m      \u001B[1;36m20250.0\u001B[0m   \n\u001B[1;36m5673\u001B[0m    Business Entity Type \u001B[1;36m3\u001B[0m          \u001B[1;36m967500.0\u001B[0m    \u001B[1;36m450000.0\u001B[0m      \u001B[1;36m30073.5\u001B[0m   \n\u001B[33m...\u001B[0m                        \u001B[33m...\u001B[0m               \u001B[33m...\u001B[0m         \u001B[33m...\u001B[0m          \u001B[33m...\u001B[0m   \n\u001B[1;36m304477\u001B[0m  Business Entity Type \u001B[1;36m3\u001B[0m         \u001B[1;36m2025000.0\u001B[0m    \u001B[1;36m935640.0\u001B[0m      \u001B[1;36m93487.5\u001B[0m   \n\u001B[1;36m305577\u001B[0m  Business Entity Type \u001B[1;36m3\u001B[0m         \u001B[1;36m1215000.0\u001B[0m   \u001B[1;36m1264738.5\u001B[0m      \u001B[1;36m67513.5\u001B[0m   \n\u001B[1;36m306028\u001B[0m  Business Entity Type \u001B[1;36m3\u001B[0m         \u001B[1;36m1350000.0\u001B[0m   \u001B[1;36m1575000.0\u001B[0m      \u001B[1;36m78750.0\u001B[0m   \n\u001B[1;36m306179\u001B[0m  Business Entity Type \u001B[1;36m3\u001B[0m          \u001B[1;36m949500.0\u001B[0m    \u001B[1;36m735579.0\u001B[0m      \u001B[1;36m35518.5\u001B[0m   \n\u001B[1;36m306285\u001B[0m           Self-employed          \u001B[1;36m936000.0\u001B[0m   \u001B[1;36m1014493.5\u001B[0m      \u001B[1;36m55165.5\u001B[0m   \n\n        AMT_GOODS_PRICE  EXT_SOURCE_1  EXT_SOURCE_2  EXT_SOURCE_3  \\\n\u001B[1;36m1504\u001B[0m           \u001B[1;36m180000.0\u001B[0m           NaN      \u001B[1;36m0.652924\u001B[0m      \u001B[1;36m0.456110\u001B[0m   \n\u001B[1;36m1723\u001B[0m           \u001B[1;36m225000.0\u001B[0m      \u001B[1;36m0.658977\u001B[0m      \u001B[1;36m0.268663\u001B[0m      \u001B[1;36m0.331251\u001B[0m   \n\u001B[1;36m3371\u001B[0m          \u001B[1;36m2250000.0\u001B[0m           NaN      \u001B[1;36m0.724541\u001B[0m      \u001B[1;36m0.569149\u001B[0m   \n\u001B[1;36m4603\u001B[0m           \u001B[1;36m405000.0\u001B[0m           NaN      \u001B[1;36m0.661593\u001B[0m      \u001B[1;36m0.725276\u001B[0m   \n\u001B[1;36m5673\u001B[0m           \u001B[1;36m450000.0\u001B[0m      \u001B[1;36m0.697907\u001B[0m      \u001B[1;36m0.492086\u001B[0m      \u001B[1;36m0.454321\u001B[0m   \n\u001B[33m...\u001B[0m                 \u001B[33m...\u001B[0m           \u001B[33m...\u001B[0m           \u001B[33m...\u001B[0m           \u001B[33m...\u001B[0m   \n\u001B[1;36m304477\u001B[0m         \u001B[1;36m900000.0\u001B[0m           NaN      \u001B[1;36m0.759875\u001B[0m      \u001B[1;36m0.676993\u001B[0m   \n\u001B[1;36m305577\u001B[0m        \u001B[1;36m1138500.0\u001B[0m      \u001B[1;36m0.798563\u001B[0m      \u001B[1;36m0.697679\u001B[0m      \u001B[1;36m0.260856\u001B[0m   \n\u001B[1;36m306028\u001B[0m        \u001B[1;36m1575000.0\u001B[0m      \u001B[1;36m0.490475\u001B[0m      \u001B[1;36m0.772679\u001B[0m      \u001B[1;36m0.529890\u001B[0m   \n\u001B[1;36m306179\u001B[0m         \u001B[1;36m585000.0\u001B[0m      \u001B[1;36m0.441853\u001B[0m      \u001B[1;36m0.539413\u001B[0m      \u001B[1;36m0.526295\u001B[0m   \n\u001B[1;36m306285\u001B[0m         \u001B[1;36m891000.0\u001B[0m           NaN      \u001B[1;36m0.757621\u001B[0m      \u001B[1;36m0.210350\u001B[0m   \n\n        AMT_INCOME_TOTAL_zscore  \n\u001B[1;36m1504\u001B[0m                   \u001B[1;36m3.842715\u001B[0m  \n\u001B[1;36m1723\u001B[0m                   \u001B[1;36m7.448414\u001B[0m  \n\u001B[1;36m3371\u001B[0m                   \u001B[1;36m4.981357\u001B[0m  \n\u001B[1;36m4603\u001B[0m                   \u001B[1;36m4.981357\u001B[0m  \n\u001B[1;36m5673\u001B[0m                   \u001B[1;36m3.368281\u001B[0m  \n\u001B[33m...\u001B[0m                         \u001B[33m...\u001B[0m  \n\u001B[1;36m304477\u001B[0m                 \u001B[1;36m7.827961\u001B[0m  \n\u001B[1;36m305577\u001B[0m                 \u001B[1;36m4.412036\u001B[0m  \n\u001B[1;36m306028\u001B[0m                 \u001B[1;36m4.981357\u001B[0m  \n\u001B[1;36m306179\u001B[0m                 \u001B[1;36m3.292371\u001B[0m  \n\u001B[1;36m306285\u001B[0m                 \u001B[1;36m3.235439\u001B[0m  \n\n\u001B[1m[\u001B[0m\u001B[1;36m454\u001B[0m rows x \u001B[1;36m17\u001B[0m columns\u001B[1m]\u001B[0m",
      "text/html": "<div>\n<style scoped>\n    .dataframe tbody tr th:only-of-type {\n        vertical-align: middle;\n    }\n\n    .dataframe tbody tr th {\n        vertical-align: top;\n    }\n\n    .dataframe thead th {\n        text-align: right;\n    }\n</style>\n<table border=\"1\" class=\"dataframe\">\n  <thead>\n    <tr style=\"text-align: right;\">\n      <th></th>\n      <th>SK_ID_CURR</th>\n      <th>AGE</th>\n      <th>TIME_CURRENT_JOB_YEARS</th>\n      <th>DAYS_BIRTH</th>\n      <th>CODE_GENDER</th>\n      <th>NAME_EDUCATION_TYPE</th>\n      <th>DAYS_EMPLOYED</th>\n      <th>OCCUPATION_TYPE</th>\n      <th>ORGANIZATION_TYPE</th>\n      <th>AMT_INCOME_TOTAL</th>\n      <th>AMT_CREDIT</th>\n      <th>AMT_ANNUITY</th>\n      <th>AMT_GOODS_PRICE</th>\n      <th>EXT_SOURCE_1</th>\n      <th>EXT_SOURCE_2</th>\n      <th>EXT_SOURCE_3</th>\n      <th>AMT_INCOME_TOTAL_zscore</th>\n    </tr>\n  </thead>\n  <tbody>\n    <tr>\n      <th>1504</th>\n      <td>101769</td>\n      <td>37</td>\n      <td>15.0</td>\n      <td>-13633</td>\n      <td>0</td>\n      <td>Higher education</td>\n      <td>-5536.0</td>\n      <td>NaN</td>\n      <td>Business Entity Type 3</td>\n      <td>1080000.0</td>\n      <td>180000.0</td>\n      <td>9000.0</td>\n      <td>180000.0</td>\n      <td>NaN</td>\n      <td>0.652924</td>\n      <td>0.456110</td>\n      <td>3.842715</td>\n    </tr>\n    <tr>\n      <th>1723</th>\n      <td>102015</td>\n      <td>51</td>\n      <td>NaN</td>\n      <td>-18636</td>\n      <td>1</td>\n      <td>Secondary / secondary special</td>\n      <td>NaN</td>\n      <td>NaN</td>\n      <td>XNA</td>\n      <td>1935000.0</td>\n      <td>269550.0</td>\n      <td>10534.5</td>\n      <td>225000.0</td>\n      <td>0.658977</td>\n      <td>0.268663</td>\n      <td>0.331251</td>\n      <td>7.448414</td>\n    </tr>\n    <tr>\n      <th>3371</th>\n      <td>103938</td>\n      <td>33</td>\n      <td>2.0</td>\n      <td>-12213</td>\n      <td>1</td>\n      <td>Higher education</td>\n      <td>-843.0</td>\n      <td>Managers</td>\n      <td>Housing</td>\n      <td>1350000.0</td>\n      <td>2410380.0</td>\n      <td>109053.0</td>\n      <td>2250000.0</td>\n      <td>NaN</td>\n      <td>0.724541</td>\n      <td>0.569149</td>\n      <td>4.981357</td>\n    </tr>\n    <tr>\n      <th>4603</th>\n      <td>105384</td>\n      <td>40</td>\n      <td>13.0</td>\n      <td>-14781</td>\n      <td>1</td>\n      <td>Higher education</td>\n      <td>-4768.0</td>\n      <td>Managers</td>\n      <td>Business Entity Type 3</td>\n      <td>1350000.0</td>\n      <td>405000.0</td>\n      <td>20250.0</td>\n      <td>405000.0</td>\n      <td>NaN</td>\n      <td>0.661593</td>\n      <td>0.725276</td>\n      <td>4.981357</td>\n    </tr>\n    <tr>\n      <th>5673</th>\n      <td>106637</td>\n      <td>32</td>\n      <td>1.0</td>\n      <td>-11901</td>\n      <td>0</td>\n      <td>Higher education</td>\n      <td>-546.0</td>\n      <td>Managers</td>\n      <td>Business Entity Type 3</td>\n      <td>967500.0</td>\n      <td>450000.0</td>\n      <td>30073.5</td>\n      <td>450000.0</td>\n      <td>0.697907</td>\n      <td>0.492086</td>\n      <td>0.454321</td>\n      <td>3.368281</td>\n    </tr>\n    <tr>\n      <th>...</th>\n      <td>...</td>\n      <td>...</td>\n      <td>...</td>\n      <td>...</td>\n      <td>...</td>\n      <td>...</td>\n      <td>...</td>\n      <td>...</td>\n      <td>...</td>\n      <td>...</td>\n      <td>...</td>\n      <td>...</td>\n      <td>...</td>\n      <td>...</td>\n      <td>...</td>\n      <td>...</td>\n      <td>...</td>\n    </tr>\n    <tr>\n      <th>304477</th>\n      <td>452764</td>\n      <td>42</td>\n      <td>2.0</td>\n      <td>-15532</td>\n      <td>1</td>\n      <td>Higher education</td>\n      <td>-953.0</td>\n      <td>Managers</td>\n      <td>Business Entity Type 3</td>\n      <td>2025000.0</td>\n      <td>935640.0</td>\n      <td>93487.5</td>\n      <td>900000.0</td>\n      <td>NaN</td>\n      <td>0.759875</td>\n      <td>0.676993</td>\n      <td>7.827961</td>\n    </tr>\n    <tr>\n      <th>305577</th>\n      <td>454039</td>\n      <td>57</td>\n      <td>11.0</td>\n      <td>-20986</td>\n      <td>0</td>\n      <td>Higher education</td>\n      <td>-4237.0</td>\n      <td>Managers</td>\n      <td>Business Entity Type 3</td>\n      <td>1215000.0</td>\n      <td>1264738.5</td>\n      <td>67513.5</td>\n      <td>1138500.0</td>\n      <td>0.798563</td>\n      <td>0.697679</td>\n      <td>0.260856</td>\n      <td>4.412036</td>\n    </tr>\n    <tr>\n      <th>306028</th>\n      <td>454569</td>\n      <td>35</td>\n      <td>0.0</td>\n      <td>-12947</td>\n      <td>0</td>\n      <td>Higher education</td>\n      <td>-316.0</td>\n      <td>Managers</td>\n      <td>Business Entity Type 3</td>\n      <td>1350000.0</td>\n      <td>1575000.0</td>\n      <td>78750.0</td>\n      <td>1575000.0</td>\n      <td>0.490475</td>\n      <td>0.772679</td>\n      <td>0.529890</td>\n      <td>4.981357</td>\n    </tr>\n    <tr>\n      <th>306179</th>\n      <td>454746</td>\n      <td>38</td>\n      <td>4.0</td>\n      <td>-14111</td>\n      <td>0</td>\n      <td>Higher education</td>\n      <td>-1487.0</td>\n      <td>Managers</td>\n      <td>Business Entity Type 3</td>\n      <td>949500.0</td>\n      <td>735579.0</td>\n      <td>35518.5</td>\n      <td>585000.0</td>\n      <td>0.441853</td>\n      <td>0.539413</td>\n      <td>0.526295</td>\n      <td>3.292371</td>\n    </tr>\n    <tr>\n      <th>306285</th>\n      <td>454864</td>\n      <td>39</td>\n      <td>5.0</td>\n      <td>-14510</td>\n      <td>1</td>\n      <td>Higher education</td>\n      <td>-2095.0</td>\n      <td>Accountants</td>\n      <td>Self-employed</td>\n      <td>936000.0</td>\n      <td>1014493.5</td>\n      <td>55165.5</td>\n      <td>891000.0</td>\n      <td>NaN</td>\n      <td>0.757621</td>\n      <td>0.210350</td>\n      <td>3.235439</td>\n    </tr>\n  </tbody>\n</table>\n<p>454 rows × 17 columns</p>\n</div>"
     },
     "execution_count": 85,
     "metadata": {},
     "output_type": "execute_result"
    }
   ],
   "source": [
    "viz_df_train.loc[viz_df_train[\"AMT_INCOME_TOTAL_zscore\"]>3,:]"
   ],
   "metadata": {
    "collapsed": false,
    "ExecuteTime": {
     "end_time": "2024-05-07T15:19:45.719084800Z",
     "start_time": "2024-05-07T15:19:45.411070700Z"
    }
   },
   "id": "c11ae38d7e4032b1"
  },
  {
   "cell_type": "code",
   "execution_count": 57,
   "outputs": [
    {
     "data": {
      "text/plain": "\u001B[2;36m[05/07/24 12:57:30]\u001B[0m\u001B[2;36m \u001B[0m\u001B[34mINFO    \u001B[0m Saving data to \u001B[38;5;208mviz_df_train\u001B[0m \u001B[1m(\u001B[0mParquetDataset\u001B[1m)\u001B[0m\u001B[33m...\u001B[0m                    \u001B]8;id=931801;file://C:\\Users\\9509298u\\AppData\\Local\\miniconda3\\envs\\ocp7-scoring-model-cloud\\lib\\site-packages\\kedro\\io\\data_catalog.py\u001B\\\u001B[2mdata_catalog.py\u001B[0m\u001B]8;;\u001B\\\u001B[2m:\u001B[0m\u001B]8;id=315123;file://C:\\Users\\9509298u\\AppData\\Local\\miniconda3\\envs\\ocp7-scoring-model-cloud\\lib\\site-packages\\kedro\\io\\data_catalog.py#525\u001B\\\u001B[2m525\u001B[0m\u001B]8;;\u001B\\\n",
      "text/html": "<pre style=\"white-space:pre;overflow-x:auto;line-height:normal;font-family:Menlo,'DejaVu Sans Mono',consolas,'Courier New',monospace\"><span style=\"color: #7fbfbf; text-decoration-color: #7fbfbf\">[05/07/24 12:57:30] </span><span style=\"color: #000080; text-decoration-color: #000080\">INFO    </span> Saving data to <span style=\"color: #ff8700; text-decoration-color: #ff8700\">viz_df_train</span> <span style=\"font-weight: bold\">(</span>ParquetDataset<span style=\"font-weight: bold\">)</span><span style=\"color: #808000; text-decoration-color: #808000\">...</span>                    <a href=\"file://C:\\Users\\9509298u\\AppData\\Local\\miniconda3\\envs\\ocp7-scoring-model-cloud\\lib\\site-packages\\kedro\\io\\data_catalog.py\" target=\"_blank\"><span style=\"color: #7f7f7f; text-decoration-color: #7f7f7f\">data_catalog.py</span></a><span style=\"color: #7f7f7f; text-decoration-color: #7f7f7f\">:</span><a href=\"file://C:\\Users\\9509298u\\AppData\\Local\\miniconda3\\envs\\ocp7-scoring-model-cloud\\lib\\site-packages\\kedro\\io\\data_catalog.py#525\" target=\"_blank\"><span style=\"color: #7f7f7f; text-decoration-color: #7f7f7f\">525</span></a>\n</pre>\n"
     },
     "metadata": {},
     "output_type": "display_data"
    },
    {
     "data": {
      "text/plain": "\u001B[2;36m[05/07/24 12:57:31]\u001B[0m\u001B[2;36m \u001B[0m\u001B[34mINFO    \u001B[0m Saving data to \u001B[38;5;208mviz_df_test\u001B[0m \u001B[1m(\u001B[0mParquetDataset\u001B[1m)\u001B[0m\u001B[33m...\u001B[0m                     \u001B]8;id=66978;file://C:\\Users\\9509298u\\AppData\\Local\\miniconda3\\envs\\ocp7-scoring-model-cloud\\lib\\site-packages\\kedro\\io\\data_catalog.py\u001B\\\u001B[2mdata_catalog.py\u001B[0m\u001B]8;;\u001B\\\u001B[2m:\u001B[0m\u001B]8;id=13227;file://C:\\Users\\9509298u\\AppData\\Local\\miniconda3\\envs\\ocp7-scoring-model-cloud\\lib\\site-packages\\kedro\\io\\data_catalog.py#525\u001B\\\u001B[2m525\u001B[0m\u001B]8;;\u001B\\\n",
      "text/html": "<pre style=\"white-space:pre;overflow-x:auto;line-height:normal;font-family:Menlo,'DejaVu Sans Mono',consolas,'Courier New',monospace\"><span style=\"color: #7fbfbf; text-decoration-color: #7fbfbf\">[05/07/24 12:57:31] </span><span style=\"color: #000080; text-decoration-color: #000080\">INFO    </span> Saving data to <span style=\"color: #ff8700; text-decoration-color: #ff8700\">viz_df_test</span> <span style=\"font-weight: bold\">(</span>ParquetDataset<span style=\"font-weight: bold\">)</span><span style=\"color: #808000; text-decoration-color: #808000\">...</span>                     <a href=\"file://C:\\Users\\9509298u\\AppData\\Local\\miniconda3\\envs\\ocp7-scoring-model-cloud\\lib\\site-packages\\kedro\\io\\data_catalog.py\" target=\"_blank\"><span style=\"color: #7f7f7f; text-decoration-color: #7f7f7f\">data_catalog.py</span></a><span style=\"color: #7f7f7f; text-decoration-color: #7f7f7f\">:</span><a href=\"file://C:\\Users\\9509298u\\AppData\\Local\\miniconda3\\envs\\ocp7-scoring-model-cloud\\lib\\site-packages\\kedro\\io\\data_catalog.py#525\" target=\"_blank\"><span style=\"color: #7f7f7f; text-decoration-color: #7f7f7f\">525</span></a>\n</pre>\n"
     },
     "metadata": {},
     "output_type": "display_data"
    }
   ],
   "source": [
    "catalog.save(\"viz_df_train\", viz_df_train)\n",
    "catalog.save(\"viz_df_test\", viz_df_test)"
   ],
   "metadata": {
    "collapsed": false,
    "ExecuteTime": {
     "end_time": "2024-05-07T10:57:31.095381200Z",
     "start_time": "2024-05-07T10:57:30.119795500Z"
    }
   },
   "id": "e47f2134810da3c8"
  },
  {
   "cell_type": "code",
   "execution_count": 71,
   "outputs": [
    {
     "data": {
      "text/plain": "",
      "text/html": "<pre style=\"white-space:pre;overflow-x:auto;line-height:normal;font-family:Menlo,'DejaVu Sans Mono',consolas,'Courier New',monospace\"></pre>\n"
     },
     "metadata": {},
     "output_type": "display_data"
    },
    {
     "data": {
      "text/plain": "\n                                     \u001B[1;36m0\u001B[0m\nSK_ID_CURR                      \u001B[1;36m100002\u001B[0m\nTARGET                               \u001B[1;36m1\u001B[0m\nNAME_CONTRACT_TYPE          Cash loans\nCODE_GENDER                          M\nFLAG_OWN_CAR                         N\n\u001B[33m...\u001B[0m                                \u001B[33m...\u001B[0m\nAMT_REQ_CREDIT_BUREAU_DAY          \u001B[1;36m0.0\u001B[0m\nAMT_REQ_CREDIT_BUREAU_WEEK         \u001B[1;36m0.0\u001B[0m\nAMT_REQ_CREDIT_BUREAU_MON          \u001B[1;36m0.0\u001B[0m\nAMT_REQ_CREDIT_BUREAU_QRT          \u001B[1;36m0.0\u001B[0m\nAMT_REQ_CREDIT_BUREAU_YEAR         \u001B[1;36m1.0\u001B[0m\n\n\u001B[1m[\u001B[0m\u001B[1;36m122\u001B[0m rows x \u001B[1;36m1\u001B[0m columns\u001B[1m]\u001B[0m",
      "text/html": "<div>\n<style scoped>\n    .dataframe tbody tr th:only-of-type {\n        vertical-align: middle;\n    }\n\n    .dataframe tbody tr th {\n        vertical-align: top;\n    }\n\n    .dataframe thead th {\n        text-align: right;\n    }\n</style>\n<table border=\"1\" class=\"dataframe\">\n  <thead>\n    <tr style=\"text-align: right;\">\n      <th></th>\n      <th>0</th>\n    </tr>\n  </thead>\n  <tbody>\n    <tr>\n      <th>SK_ID_CURR</th>\n      <td>100002</td>\n    </tr>\n    <tr>\n      <th>TARGET</th>\n      <td>1</td>\n    </tr>\n    <tr>\n      <th>NAME_CONTRACT_TYPE</th>\n      <td>Cash loans</td>\n    </tr>\n    <tr>\n      <th>CODE_GENDER</th>\n      <td>M</td>\n    </tr>\n    <tr>\n      <th>FLAG_OWN_CAR</th>\n      <td>N</td>\n    </tr>\n    <tr>\n      <th>...</th>\n      <td>...</td>\n    </tr>\n    <tr>\n      <th>AMT_REQ_CREDIT_BUREAU_DAY</th>\n      <td>0.0</td>\n    </tr>\n    <tr>\n      <th>AMT_REQ_CREDIT_BUREAU_WEEK</th>\n      <td>0.0</td>\n    </tr>\n    <tr>\n      <th>AMT_REQ_CREDIT_BUREAU_MON</th>\n      <td>0.0</td>\n    </tr>\n    <tr>\n      <th>AMT_REQ_CREDIT_BUREAU_QRT</th>\n      <td>0.0</td>\n    </tr>\n    <tr>\n      <th>AMT_REQ_CREDIT_BUREAU_YEAR</th>\n      <td>1.0</td>\n    </tr>\n  </tbody>\n</table>\n<p>122 rows × 1 columns</p>\n</div>"
     },
     "execution_count": 71,
     "metadata": {},
     "output_type": "execute_result"
    }
   ],
   "source": [
    "df_train[df_train[(\"SK_ID_CURR\")] == 100002].T"
   ],
   "metadata": {
    "collapsed": false,
    "ExecuteTime": {
     "end_time": "2024-05-07T13:04:18.607179400Z",
     "start_time": "2024-05-07T13:04:18.213644300Z"
    }
   },
   "id": "4a137281c61265c6"
  },
  {
   "cell_type": "code",
   "execution_count": 67,
   "outputs": [],
   "source": [
    "cols = df_train.columns.tolist().remove(\"SK_ID_CURR\")"
   ],
   "metadata": {
    "collapsed": false,
    "ExecuteTime": {
     "end_time": "2024-05-07T12:12:15.769942200Z",
     "start_time": "2024-05-07T12:12:15.509037600Z"
    }
   },
   "id": "a81aea01fead5ca8"
  },
  {
   "cell_type": "code",
   "execution_count": 70,
   "outputs": [
    {
     "data": {
      "text/plain": "",
      "text/html": "<pre style=\"white-space:pre;overflow-x:auto;line-height:normal;font-family:Menlo,'DejaVu Sans Mono',consolas,'Courier New',monospace\"></pre>\n"
     },
     "metadata": {},
     "output_type": "display_data"
    },
    {
     "data": {
      "text/plain": "\n\u001B[1m[\u001B[0m\n    \u001B[32m'SK_ID_CURR'\u001B[0m,\n    \u001B[32m'TARGET'\u001B[0m,\n    \u001B[32m'NAME_CONTRACT_TYPE'\u001B[0m,\n    \u001B[32m'CODE_GENDER'\u001B[0m,\n    \u001B[32m'FLAG_OWN_CAR'\u001B[0m,\n    \u001B[32m'FLAG_OWN_REALTY'\u001B[0m,\n    \u001B[32m'CNT_CHILDREN'\u001B[0m,\n    \u001B[32m'AMT_INCOME_TOTAL'\u001B[0m,\n    \u001B[32m'AMT_CREDIT'\u001B[0m,\n    \u001B[32m'AMT_ANNUITY'\u001B[0m,\n    \u001B[32m'AMT_GOODS_PRICE'\u001B[0m,\n    \u001B[32m'NAME_TYPE_SUITE'\u001B[0m,\n    \u001B[32m'NAME_INCOME_TYPE'\u001B[0m,\n    \u001B[32m'NAME_EDUCATION_TYPE'\u001B[0m,\n    \u001B[32m'NAME_FAMILY_STATUS'\u001B[0m,\n    \u001B[32m'NAME_HOUSING_TYPE'\u001B[0m,\n    \u001B[32m'REGION_POPULATION_RELATIVE'\u001B[0m,\n    \u001B[32m'DAYS_BIRTH'\u001B[0m,\n    \u001B[32m'DAYS_EMPLOYED'\u001B[0m,\n    \u001B[32m'DAYS_REGISTRATION'\u001B[0m,\n    \u001B[32m'DAYS_ID_PUBLISH'\u001B[0m,\n    \u001B[32m'OWN_CAR_AGE'\u001B[0m,\n    \u001B[32m'FLAG_MOBIL'\u001B[0m,\n    \u001B[32m'FLAG_EMP_PHONE'\u001B[0m,\n    \u001B[32m'FLAG_WORK_PHONE'\u001B[0m,\n    \u001B[32m'FLAG_CONT_MOBILE'\u001B[0m,\n    \u001B[32m'FLAG_PHONE'\u001B[0m,\n    \u001B[32m'FLAG_EMAIL'\u001B[0m,\n    \u001B[32m'OCCUPATION_TYPE'\u001B[0m,\n    \u001B[32m'CNT_FAM_MEMBERS'\u001B[0m,\n    \u001B[32m'REGION_RATING_CLIENT'\u001B[0m,\n    \u001B[32m'REGION_RATING_CLIENT_W_CITY'\u001B[0m,\n    \u001B[32m'WEEKDAY_APPR_PROCESS_START'\u001B[0m,\n    \u001B[32m'HOUR_APPR_PROCESS_START'\u001B[0m,\n    \u001B[32m'REG_REGION_NOT_LIVE_REGION'\u001B[0m,\n    \u001B[32m'REG_REGION_NOT_WORK_REGION'\u001B[0m,\n    \u001B[32m'LIVE_REGION_NOT_WORK_REGION'\u001B[0m,\n    \u001B[32m'REG_CITY_NOT_LIVE_CITY'\u001B[0m,\n    \u001B[32m'REG_CITY_NOT_WORK_CITY'\u001B[0m,\n    \u001B[32m'LIVE_CITY_NOT_WORK_CITY'\u001B[0m,\n    \u001B[32m'ORGANIZATION_TYPE'\u001B[0m,\n    \u001B[32m'EXT_SOURCE_1'\u001B[0m,\n    \u001B[32m'EXT_SOURCE_2'\u001B[0m,\n    \u001B[32m'EXT_SOURCE_3'\u001B[0m,\n    \u001B[32m'APARTMENTS_AVG'\u001B[0m,\n    \u001B[32m'BASEMENTAREA_AVG'\u001B[0m,\n    \u001B[32m'YEARS_BEGINEXPLUATATION_AVG'\u001B[0m,\n    \u001B[32m'YEARS_BUILD_AVG'\u001B[0m,\n    \u001B[32m'COMMONAREA_AVG'\u001B[0m,\n    \u001B[32m'ELEVATORS_AVG'\u001B[0m,\n    \u001B[32m'ENTRANCES_AVG'\u001B[0m,\n    \u001B[32m'FLOORSMAX_AVG'\u001B[0m,\n    \u001B[32m'FLOORSMIN_AVG'\u001B[0m,\n    \u001B[32m'LANDAREA_AVG'\u001B[0m,\n    \u001B[32m'LIVINGAPARTMENTS_AVG'\u001B[0m,\n    \u001B[32m'LIVINGAREA_AVG'\u001B[0m,\n    \u001B[32m'NONLIVINGAPARTMENTS_AVG'\u001B[0m,\n    \u001B[32m'NONLIVINGAREA_AVG'\u001B[0m,\n    \u001B[32m'APARTMENTS_MODE'\u001B[0m,\n    \u001B[32m'BASEMENTAREA_MODE'\u001B[0m,\n    \u001B[32m'YEARS_BEGINEXPLUATATION_MODE'\u001B[0m,\n    \u001B[32m'YEARS_BUILD_MODE'\u001B[0m,\n    \u001B[32m'COMMONAREA_MODE'\u001B[0m,\n    \u001B[32m'ELEVATORS_MODE'\u001B[0m,\n    \u001B[32m'ENTRANCES_MODE'\u001B[0m,\n    \u001B[32m'FLOORSMAX_MODE'\u001B[0m,\n    \u001B[32m'FLOORSMIN_MODE'\u001B[0m,\n    \u001B[32m'LANDAREA_MODE'\u001B[0m,\n    \u001B[32m'LIVINGAPARTMENTS_MODE'\u001B[0m,\n    \u001B[32m'LIVINGAREA_MODE'\u001B[0m,\n    \u001B[32m'NONLIVINGAPARTMENTS_MODE'\u001B[0m,\n    \u001B[32m'NONLIVINGAREA_MODE'\u001B[0m,\n    \u001B[32m'APARTMENTS_MEDI'\u001B[0m,\n    \u001B[32m'BASEMENTAREA_MEDI'\u001B[0m,\n    \u001B[32m'YEARS_BEGINEXPLUATATION_MEDI'\u001B[0m,\n    \u001B[32m'YEARS_BUILD_MEDI'\u001B[0m,\n    \u001B[32m'COMMONAREA_MEDI'\u001B[0m,\n    \u001B[32m'ELEVATORS_MEDI'\u001B[0m,\n    \u001B[32m'ENTRANCES_MEDI'\u001B[0m,\n    \u001B[32m'FLOORSMAX_MEDI'\u001B[0m,\n    \u001B[32m'FLOORSMIN_MEDI'\u001B[0m,\n    \u001B[32m'LANDAREA_MEDI'\u001B[0m,\n    \u001B[32m'LIVINGAPARTMENTS_MEDI'\u001B[0m,\n    \u001B[32m'LIVINGAREA_MEDI'\u001B[0m,\n    \u001B[32m'NONLIVINGAPARTMENTS_MEDI'\u001B[0m,\n    \u001B[32m'NONLIVINGAREA_MEDI'\u001B[0m,\n    \u001B[32m'FONDKAPREMONT_MODE'\u001B[0m,\n    \u001B[32m'HOUSETYPE_MODE'\u001B[0m,\n    \u001B[32m'TOTALAREA_MODE'\u001B[0m,\n    \u001B[32m'WALLSMATERIAL_MODE'\u001B[0m,\n    \u001B[32m'EMERGENCYSTATE_MODE'\u001B[0m,\n    \u001B[32m'OBS_30_CNT_SOCIAL_CIRCLE'\u001B[0m,\n    \u001B[32m'DEF_30_CNT_SOCIAL_CIRCLE'\u001B[0m,\n    \u001B[32m'OBS_60_CNT_SOCIAL_CIRCLE'\u001B[0m,\n    \u001B[32m'DEF_60_CNT_SOCIAL_CIRCLE'\u001B[0m,\n    \u001B[32m'DAYS_LAST_PHONE_CHANGE'\u001B[0m,\n    \u001B[32m'FLAG_DOCUMENT_2'\u001B[0m,\n    \u001B[32m'FLAG_DOCUMENT_3'\u001B[0m,\n    \u001B[32m'FLAG_DOCUMENT_4'\u001B[0m,\n    \u001B[32m'FLAG_DOCUMENT_5'\u001B[0m,\n    \u001B[32m'FLAG_DOCUMENT_6'\u001B[0m,\n    \u001B[32m'FLAG_DOCUMENT_7'\u001B[0m,\n    \u001B[32m'FLAG_DOCUMENT_8'\u001B[0m,\n    \u001B[32m'FLAG_DOCUMENT_9'\u001B[0m,\n    \u001B[32m'FLAG_DOCUMENT_10'\u001B[0m,\n    \u001B[32m'FLAG_DOCUMENT_11'\u001B[0m,\n    \u001B[32m'FLAG_DOCUMENT_12'\u001B[0m,\n    \u001B[32m'FLAG_DOCUMENT_13'\u001B[0m,\n    \u001B[32m'FLAG_DOCUMENT_14'\u001B[0m,\n    \u001B[32m'FLAG_DOCUMENT_15'\u001B[0m,\n    \u001B[32m'FLAG_DOCUMENT_16'\u001B[0m,\n    \u001B[32m'FLAG_DOCUMENT_17'\u001B[0m,\n    \u001B[32m'FLAG_DOCUMENT_18'\u001B[0m,\n    \u001B[32m'FLAG_DOCUMENT_19'\u001B[0m,\n    \u001B[32m'FLAG_DOCUMENT_20'\u001B[0m,\n    \u001B[32m'FLAG_DOCUMENT_21'\u001B[0m,\n    \u001B[32m'AMT_REQ_CREDIT_BUREAU_HOUR'\u001B[0m,\n    \u001B[32m'AMT_REQ_CREDIT_BUREAU_DAY'\u001B[0m,\n    \u001B[32m'AMT_REQ_CREDIT_BUREAU_WEEK'\u001B[0m,\n    \u001B[32m'AMT_REQ_CREDIT_BUREAU_MON'\u001B[0m,\n    \u001B[32m'AMT_REQ_CREDIT_BUREAU_QRT'\u001B[0m,\n    \u001B[32m'AMT_REQ_CREDIT_BUREAU_YEAR'\u001B[0m\n\u001B[1m]\u001B[0m"
     },
     "execution_count": 70,
     "metadata": {},
     "output_type": "execute_result"
    }
   ],
   "source": [
    "df_train.columns.tolist()"
   ],
   "metadata": {
    "collapsed": false,
    "ExecuteTime": {
     "end_time": "2024-05-07T12:12:31.438152400Z",
     "start_time": "2024-05-07T12:12:31.179845100Z"
    }
   },
   "id": "cacdd865498260e8"
  },
  {
   "cell_type": "code",
   "execution_count": null,
   "outputs": [],
   "source": [],
   "metadata": {
    "collapsed": false
   },
   "id": "2e0469a87ea903f7"
  }
 ],
 "metadata": {
  "kernelspec": {
   "name": "kedro_ocp7_scoring_model_cloud",
   "language": "python",
   "display_name": "Kedro (ocp7_scoring_model_cloud)"
  },
  "language_info": {
   "codemirror_mode": {
    "name": "ipython",
    "version": 2
   },
   "file_extension": ".py",
   "mimetype": "text/x-python",
   "name": "python",
   "nbconvert_exporter": "python",
   "pygments_lexer": "ipython2",
   "version": "2.7.6"
  }
 },
 "nbformat": 4,
 "nbformat_minor": 5
}
