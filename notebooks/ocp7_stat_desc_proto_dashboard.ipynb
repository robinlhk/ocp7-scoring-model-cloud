{
 "cells": [
  {
   "cell_type": "code",
   "execution_count": 1,
   "id": "initial_id",
   "metadata": {
    "collapsed": true,
    "ExecuteTime": {
     "end_time": "2024-05-09T06:08:54.799292600Z",
     "start_time": "2024-05-09T06:08:53.218609700Z"
    }
   },
   "outputs": [
    {
     "data": {
      "text/plain": "\u001B[2;36m                   \u001B[0m\u001B[2;36m \u001B[0m\u001B[34mINFO    \u001B[0m Resolved project path as:                                              \u001B]8;id=496717;file://C:\\Users\\9509298u\\AppData\\Local\\miniconda3\\envs\\ocp7-scoring-model-cloud\\lib\\site-packages\\kedro\\ipython\\__init__.py\u001B\\\u001B[2m__init__.py\u001B[0m\u001B]8;;\u001B\\\u001B[2m:\u001B[0m\u001B]8;id=668474;file://C:\\Users\\9509298u\\AppData\\Local\\miniconda3\\envs\\ocp7-scoring-model-cloud\\lib\\site-packages\\kedro\\ipython\\__init__.py#164\u001B\\\u001B[2m164\u001B[0m\u001B]8;;\u001B\\\n\u001B[2;36m                    \u001B[0m         C:\\Users\\9509298u\\Documents\\GitHub\\OC_Projects\\ocp7-scoring-model-clou \u001B[2m               \u001B[0m\n\u001B[2;36m                    \u001B[0m         d.                                                                     \u001B[2m               \u001B[0m\n\u001B[2;36m                    \u001B[0m         To set a different path, run \u001B[32m'%reload_kedro \u001B[0m\u001B[32m<\u001B[0m\u001B[32mproject_root\u001B[0m\u001B[32m>\u001B[0m\u001B[32m'\u001B[0m            \u001B[2m               \u001B[0m\n",
      "text/html": "<pre style=\"white-space:pre;overflow-x:auto;line-height:normal;font-family:Menlo,'DejaVu Sans Mono',consolas,'Courier New',monospace\"><span style=\"color: #7fbfbf; text-decoration-color: #7fbfbf\">                    </span><span style=\"color: #000080; text-decoration-color: #000080\">INFO    </span> Resolved project path as:                                              <a href=\"file://C:\\Users\\9509298u\\AppData\\Local\\miniconda3\\envs\\ocp7-scoring-model-cloud\\lib\\site-packages\\kedro\\ipython\\__init__.py\" target=\"_blank\"><span style=\"color: #7f7f7f; text-decoration-color: #7f7f7f\">__init__.py</span></a><span style=\"color: #7f7f7f; text-decoration-color: #7f7f7f\">:</span><a href=\"file://C:\\Users\\9509298u\\AppData\\Local\\miniconda3\\envs\\ocp7-scoring-model-cloud\\lib\\site-packages\\kedro\\ipython\\__init__.py#164\" target=\"_blank\"><span style=\"color: #7f7f7f; text-decoration-color: #7f7f7f\">164</span></a>\n<span style=\"color: #7fbfbf; text-decoration-color: #7fbfbf\">                    </span>         C:\\Users\\9509298u\\Documents\\GitHub\\OC_Projects\\ocp7-scoring-model-clou <span style=\"color: #7f7f7f; text-decoration-color: #7f7f7f\">               </span>\n<span style=\"color: #7fbfbf; text-decoration-color: #7fbfbf\">                    </span>         d.                                                                     <span style=\"color: #7f7f7f; text-decoration-color: #7f7f7f\">               </span>\n<span style=\"color: #7fbfbf; text-decoration-color: #7fbfbf\">                    </span>         To set a different path, run <span style=\"color: #008000; text-decoration-color: #008000\">'%reload_kedro &lt;project_root&gt;'</span>            <span style=\"color: #7f7f7f; text-decoration-color: #7f7f7f\">               </span>\n</pre>\n"
     },
     "metadata": {},
     "output_type": "display_data"
    },
    {
     "data": {
      "text/plain": "\u001B[2;36m                   \u001B[0m\u001B[2;36m \u001B[0m\u001B[34mINFO    \u001B[0m Registering new custom resolver: \u001B[32m'km.random_name'\u001B[0m                    \u001B]8;id=670699;file://C:\\Users\\9509298u\\AppData\\Local\\miniconda3\\envs\\ocp7-scoring-model-cloud\\lib\\site-packages\\kedro_mlflow\\framework\\hooks\\mlflow_hook.py\u001B\\\u001B[2mmlflow_hook.py\u001B[0m\u001B]8;;\u001B\\\u001B[2m:\u001B[0m\u001B]8;id=20035;file://C:\\Users\\9509298u\\AppData\\Local\\miniconda3\\envs\\ocp7-scoring-model-cloud\\lib\\site-packages\\kedro_mlflow\\framework\\hooks\\mlflow_hook.py#65\u001B\\\u001B[2m65\u001B[0m\u001B]8;;\u001B\\\n",
      "text/html": "<pre style=\"white-space:pre;overflow-x:auto;line-height:normal;font-family:Menlo,'DejaVu Sans Mono',consolas,'Courier New',monospace\"><span style=\"color: #7fbfbf; text-decoration-color: #7fbfbf\">                    </span><span style=\"color: #000080; text-decoration-color: #000080\">INFO    </span> Registering new custom resolver: <span style=\"color: #008000; text-decoration-color: #008000\">'km.random_name'</span>                    <a href=\"file://C:\\Users\\9509298u\\AppData\\Local\\miniconda3\\envs\\ocp7-scoring-model-cloud\\lib\\site-packages\\kedro_mlflow\\framework\\hooks\\mlflow_hook.py\" target=\"_blank\"><span style=\"color: #7f7f7f; text-decoration-color: #7f7f7f\">mlflow_hook.py</span></a><span style=\"color: #7f7f7f; text-decoration-color: #7f7f7f\">:</span><a href=\"file://C:\\Users\\9509298u\\AppData\\Local\\miniconda3\\envs\\ocp7-scoring-model-cloud\\lib\\site-packages\\kedro_mlflow\\framework\\hooks\\mlflow_hook.py#65\" target=\"_blank\"><span style=\"color: #7f7f7f; text-decoration-color: #7f7f7f\">65</span></a>\n</pre>\n"
     },
     "metadata": {},
     "output_type": "display_data"
    },
    {
     "data": {
      "text/plain": "\u001B[2;36m                   \u001B[0m\u001B[2;36m \u001B[0m\u001B[34mINFO    \u001B[0m The \u001B[32m'tracking_uri'\u001B[0m key in mlflow.yml is relative            \u001B]8;id=68099;file://C:\\Users\\9509298u\\AppData\\Local\\miniconda3\\envs\\ocp7-scoring-model-cloud\\lib\\site-packages\\kedro_mlflow\\config\\kedro_mlflow_config.py\u001B\\\u001B[2mkedro_mlflow_config.py\u001B[0m\u001B]8;;\u001B\\\u001B[2m:\u001B[0m\u001B]8;id=411963;file://C:\\Users\\9509298u\\AppData\\Local\\miniconda3\\envs\\ocp7-scoring-model-cloud\\lib\\site-packages\\kedro_mlflow\\config\\kedro_mlflow_config.py#260\u001B\\\u001B[2m260\u001B[0m\u001B]8;;\u001B\\\n\u001B[2;36m                    \u001B[0m         \u001B[1m(\u001B[0m\u001B[32m'server.mlflow_\u001B[0m\u001B[32m(\u001B[0m\u001B[32mtracking|registry\u001B[0m\u001B[32m)\u001B[0m\u001B[32m_uri = mlruns'\u001B[0m\u001B[1m)\u001B[0m. It is   \u001B[2m                          \u001B[0m\n\u001B[2;36m                    \u001B[0m         converted to a valid uri:                                   \u001B[2m                          \u001B[0m\n\u001B[2;36m                    \u001B[0m         \u001B[32m'file:///C:/Users/9509298u/Documents/GitHub/OC_Projects/ocp\u001B[0m \u001B[2m                          \u001B[0m\n\u001B[2;36m                    \u001B[0m         \u001B[32m7-scoring-model-cloud/mlruns'\u001B[0m                               \u001B[2m                          \u001B[0m\n",
      "text/html": "<pre style=\"white-space:pre;overflow-x:auto;line-height:normal;font-family:Menlo,'DejaVu Sans Mono',consolas,'Courier New',monospace\"><span style=\"color: #7fbfbf; text-decoration-color: #7fbfbf\">                    </span><span style=\"color: #000080; text-decoration-color: #000080\">INFO    </span> The <span style=\"color: #008000; text-decoration-color: #008000\">'tracking_uri'</span> key in mlflow.yml is relative            <a href=\"file://C:\\Users\\9509298u\\AppData\\Local\\miniconda3\\envs\\ocp7-scoring-model-cloud\\lib\\site-packages\\kedro_mlflow\\config\\kedro_mlflow_config.py\" target=\"_blank\"><span style=\"color: #7f7f7f; text-decoration-color: #7f7f7f\">kedro_mlflow_config.py</span></a><span style=\"color: #7f7f7f; text-decoration-color: #7f7f7f\">:</span><a href=\"file://C:\\Users\\9509298u\\AppData\\Local\\miniconda3\\envs\\ocp7-scoring-model-cloud\\lib\\site-packages\\kedro_mlflow\\config\\kedro_mlflow_config.py#260\" target=\"_blank\"><span style=\"color: #7f7f7f; text-decoration-color: #7f7f7f\">260</span></a>\n<span style=\"color: #7fbfbf; text-decoration-color: #7fbfbf\">                    </span>         <span style=\"font-weight: bold\">(</span><span style=\"color: #008000; text-decoration-color: #008000\">'server.mlflow_(tracking|registry)_uri = mlruns'</span><span style=\"font-weight: bold\">)</span>. It is   <span style=\"color: #7f7f7f; text-decoration-color: #7f7f7f\">                          </span>\n<span style=\"color: #7fbfbf; text-decoration-color: #7fbfbf\">                    </span>         converted to a valid uri:                                   <span style=\"color: #7f7f7f; text-decoration-color: #7f7f7f\">                          </span>\n<span style=\"color: #7fbfbf; text-decoration-color: #7fbfbf\">                    </span>         <span style=\"color: #008000; text-decoration-color: #008000\">'file:///C:/Users/9509298u/Documents/GitHub/OC_Projects/ocp</span> <span style=\"color: #7f7f7f; text-decoration-color: #7f7f7f\">                          </span>\n<span style=\"color: #7fbfbf; text-decoration-color: #7fbfbf\">                    </span>         <span style=\"color: #008000; text-decoration-color: #008000\">7-scoring-model-cloud/mlruns'</span>                               <span style=\"color: #7f7f7f; text-decoration-color: #7f7f7f\">                          </span>\n</pre>\n"
     },
     "metadata": {},
     "output_type": "display_data"
    },
    {
     "data": {
      "text/plain": "\u001B[2;36m[05/09/24 08:08:54]\u001B[0m\u001B[2;36m \u001B[0m\u001B[34mINFO    \u001B[0m Kedro project ocp7_scoring_model_cloud                                 \u001B]8;id=477113;file://C:\\Users\\9509298u\\AppData\\Local\\miniconda3\\envs\\ocp7-scoring-model-cloud\\lib\\site-packages\\kedro\\ipython\\__init__.py\u001B\\\u001B[2m__init__.py\u001B[0m\u001B]8;;\u001B\\\u001B[2m:\u001B[0m\u001B]8;id=703238;file://C:\\Users\\9509298u\\AppData\\Local\\miniconda3\\envs\\ocp7-scoring-model-cloud\\lib\\site-packages\\kedro\\ipython\\__init__.py#134\u001B\\\u001B[2m134\u001B[0m\u001B]8;;\u001B\\\n",
      "text/html": "<pre style=\"white-space:pre;overflow-x:auto;line-height:normal;font-family:Menlo,'DejaVu Sans Mono',consolas,'Courier New',monospace\"><span style=\"color: #7fbfbf; text-decoration-color: #7fbfbf\">[05/09/24 08:08:54] </span><span style=\"color: #000080; text-decoration-color: #000080\">INFO    </span> Kedro project ocp7_scoring_model_cloud                                 <a href=\"file://C:\\Users\\9509298u\\AppData\\Local\\miniconda3\\envs\\ocp7-scoring-model-cloud\\lib\\site-packages\\kedro\\ipython\\__init__.py\" target=\"_blank\"><span style=\"color: #7f7f7f; text-decoration-color: #7f7f7f\">__init__.py</span></a><span style=\"color: #7f7f7f; text-decoration-color: #7f7f7f\">:</span><a href=\"file://C:\\Users\\9509298u\\AppData\\Local\\miniconda3\\envs\\ocp7-scoring-model-cloud\\lib\\site-packages\\kedro\\ipython\\__init__.py#134\" target=\"_blank\"><span style=\"color: #7f7f7f; text-decoration-color: #7f7f7f\">134</span></a>\n</pre>\n"
     },
     "metadata": {},
     "output_type": "display_data"
    },
    {
     "data": {
      "text/plain": "\u001B[2;36m                   \u001B[0m\u001B[2;36m \u001B[0m\u001B[34mINFO    \u001B[0m Defined global variable \u001B[32m'context'\u001B[0m, \u001B[32m'session'\u001B[0m, \u001B[32m'catalog'\u001B[0m and            \u001B]8;id=735197;file://C:\\Users\\9509298u\\AppData\\Local\\miniconda3\\envs\\ocp7-scoring-model-cloud\\lib\\site-packages\\kedro\\ipython\\__init__.py\u001B\\\u001B[2m__init__.py\u001B[0m\u001B]8;;\u001B\\\u001B[2m:\u001B[0m\u001B]8;id=221883;file://C:\\Users\\9509298u\\AppData\\Local\\miniconda3\\envs\\ocp7-scoring-model-cloud\\lib\\site-packages\\kedro\\ipython\\__init__.py#135\u001B\\\u001B[2m135\u001B[0m\u001B]8;;\u001B\\\n\u001B[2;36m                    \u001B[0m         \u001B[32m'pipelines'\u001B[0m                                                            \u001B[2m               \u001B[0m\n",
      "text/html": "<pre style=\"white-space:pre;overflow-x:auto;line-height:normal;font-family:Menlo,'DejaVu Sans Mono',consolas,'Courier New',monospace\"><span style=\"color: #7fbfbf; text-decoration-color: #7fbfbf\">                    </span><span style=\"color: #000080; text-decoration-color: #000080\">INFO    </span> Defined global variable <span style=\"color: #008000; text-decoration-color: #008000\">'context'</span>, <span style=\"color: #008000; text-decoration-color: #008000\">'session'</span>, <span style=\"color: #008000; text-decoration-color: #008000\">'catalog'</span> and            <a href=\"file://C:\\Users\\9509298u\\AppData\\Local\\miniconda3\\envs\\ocp7-scoring-model-cloud\\lib\\site-packages\\kedro\\ipython\\__init__.py\" target=\"_blank\"><span style=\"color: #7f7f7f; text-decoration-color: #7f7f7f\">__init__.py</span></a><span style=\"color: #7f7f7f; text-decoration-color: #7f7f7f\">:</span><a href=\"file://C:\\Users\\9509298u\\AppData\\Local\\miniconda3\\envs\\ocp7-scoring-model-cloud\\lib\\site-packages\\kedro\\ipython\\__init__.py#135\" target=\"_blank\"><span style=\"color: #7f7f7f; text-decoration-color: #7f7f7f\">135</span></a>\n<span style=\"color: #7fbfbf; text-decoration-color: #7fbfbf\">                    </span>         <span style=\"color: #008000; text-decoration-color: #008000\">'pipelines'</span>                                                            <span style=\"color: #7f7f7f; text-decoration-color: #7f7f7f\">               </span>\n</pre>\n"
     },
     "metadata": {},
     "output_type": "display_data"
    },
    {
     "data": {
      "text/plain": "\u001B[2;36m                   \u001B[0m\u001B[2;36m \u001B[0m\u001B[34mINFO    \u001B[0m Registered line magic \u001B[32m'run_viz'\u001B[0m                                        \u001B]8;id=446018;file://C:\\Users\\9509298u\\AppData\\Local\\miniconda3\\envs\\ocp7-scoring-model-cloud\\lib\\site-packages\\kedro\\ipython\\__init__.py\u001B\\\u001B[2m__init__.py\u001B[0m\u001B]8;;\u001B\\\u001B[2m:\u001B[0m\u001B]8;id=249230;file://C:\\Users\\9509298u\\AppData\\Local\\miniconda3\\envs\\ocp7-scoring-model-cloud\\lib\\site-packages\\kedro\\ipython\\__init__.py#141\u001B\\\u001B[2m141\u001B[0m\u001B]8;;\u001B\\\n",
      "text/html": "<pre style=\"white-space:pre;overflow-x:auto;line-height:normal;font-family:Menlo,'DejaVu Sans Mono',consolas,'Courier New',monospace\"><span style=\"color: #7fbfbf; text-decoration-color: #7fbfbf\">                    </span><span style=\"color: #000080; text-decoration-color: #000080\">INFO    </span> Registered line magic <span style=\"color: #008000; text-decoration-color: #008000\">'run_viz'</span>                                        <a href=\"file://C:\\Users\\9509298u\\AppData\\Local\\miniconda3\\envs\\ocp7-scoring-model-cloud\\lib\\site-packages\\kedro\\ipython\\__init__.py\" target=\"_blank\"><span style=\"color: #7f7f7f; text-decoration-color: #7f7f7f\">__init__.py</span></a><span style=\"color: #7f7f7f; text-decoration-color: #7f7f7f\">:</span><a href=\"file://C:\\Users\\9509298u\\AppData\\Local\\miniconda3\\envs\\ocp7-scoring-model-cloud\\lib\\site-packages\\kedro\\ipython\\__init__.py#141\" target=\"_blank\"><span style=\"color: #7f7f7f; text-decoration-color: #7f7f7f\">141</span></a>\n</pre>\n"
     },
     "metadata": {},
     "output_type": "display_data"
    }
   ],
   "source": [
    "%reload_kedro"
   ]
  },
  {
   "cell_type": "code",
   "execution_count": 2,
   "outputs": [],
   "source": [
    "%reload_ext autoreload\n",
    "%autoreload 2\n",
    "\n",
    "import pandas as pd\n",
    "import numpy as np\n",
    "\n",
    "from sklearn.preprocessing import LabelEncoder\n",
    "\n",
    "# Suppress warnings \n",
    "import warnings\n",
    "warnings.filterwarnings('ignore')\n",
    "\n",
    "import matplotlib.pyplot as plt\n",
    "import missingno as msno\n"
   ],
   "metadata": {
    "collapsed": false,
    "ExecuteTime": {
     "end_time": "2024-05-09T06:08:58.961186700Z",
     "start_time": "2024-05-09T06:08:54.788249900Z"
    }
   },
   "id": "6c69f1b78af8cc51"
  },
  {
   "cell_type": "code",
   "execution_count": 3,
   "outputs": [
    {
     "data": {
      "text/plain": "\u001B[2;36m[05/09/24 08:09:01]\u001B[0m\u001B[2;36m \u001B[0m\u001B[34mINFO    \u001B[0m Loading data from \u001B[38;5;208mapplication_train\u001B[0m \u001B[1m(\u001B[0mCSVDataset\u001B[1m)\u001B[0m\u001B[33m...\u001B[0m                \u001B]8;id=260609;file://C:\\Users\\9509298u\\AppData\\Local\\miniconda3\\envs\\ocp7-scoring-model-cloud\\lib\\site-packages\\kedro\\io\\data_catalog.py\u001B\\\u001B[2mdata_catalog.py\u001B[0m\u001B]8;;\u001B\\\u001B[2m:\u001B[0m\u001B]8;id=841402;file://C:\\Users\\9509298u\\AppData\\Local\\miniconda3\\envs\\ocp7-scoring-model-cloud\\lib\\site-packages\\kedro\\io\\data_catalog.py#483\u001B\\\u001B[2m483\u001B[0m\u001B]8;;\u001B\\\n",
      "text/html": "<pre style=\"white-space:pre;overflow-x:auto;line-height:normal;font-family:Menlo,'DejaVu Sans Mono',consolas,'Courier New',monospace\"><span style=\"color: #7fbfbf; text-decoration-color: #7fbfbf\">[05/09/24 08:09:01] </span><span style=\"color: #000080; text-decoration-color: #000080\">INFO    </span> Loading data from <span style=\"color: #ff8700; text-decoration-color: #ff8700\">application_train</span> <span style=\"font-weight: bold\">(</span>CSVDataset<span style=\"font-weight: bold\">)</span><span style=\"color: #808000; text-decoration-color: #808000\">...</span>                <a href=\"file://C:\\Users\\9509298u\\AppData\\Local\\miniconda3\\envs\\ocp7-scoring-model-cloud\\lib\\site-packages\\kedro\\io\\data_catalog.py\" target=\"_blank\"><span style=\"color: #7f7f7f; text-decoration-color: #7f7f7f\">data_catalog.py</span></a><span style=\"color: #7f7f7f; text-decoration-color: #7f7f7f\">:</span><a href=\"file://C:\\Users\\9509298u\\AppData\\Local\\miniconda3\\envs\\ocp7-scoring-model-cloud\\lib\\site-packages\\kedro\\io\\data_catalog.py#483\" target=\"_blank\"><span style=\"color: #7f7f7f; text-decoration-color: #7f7f7f\">483</span></a>\n</pre>\n"
     },
     "metadata": {},
     "output_type": "display_data"
    },
    {
     "data": {
      "text/plain": "\u001B[2;36m[05/09/24 08:09:03]\u001B[0m\u001B[2;36m \u001B[0m\u001B[34mINFO    \u001B[0m Loading data from \u001B[38;5;208mapplication_test\u001B[0m \u001B[1m(\u001B[0mCSVDataset\u001B[1m)\u001B[0m\u001B[33m...\u001B[0m                 \u001B]8;id=340317;file://C:\\Users\\9509298u\\AppData\\Local\\miniconda3\\envs\\ocp7-scoring-model-cloud\\lib\\site-packages\\kedro\\io\\data_catalog.py\u001B\\\u001B[2mdata_catalog.py\u001B[0m\u001B]8;;\u001B\\\u001B[2m:\u001B[0m\u001B]8;id=376987;file://C:\\Users\\9509298u\\AppData\\Local\\miniconda3\\envs\\ocp7-scoring-model-cloud\\lib\\site-packages\\kedro\\io\\data_catalog.py#483\u001B\\\u001B[2m483\u001B[0m\u001B]8;;\u001B\\\n",
      "text/html": "<pre style=\"white-space:pre;overflow-x:auto;line-height:normal;font-family:Menlo,'DejaVu Sans Mono',consolas,'Courier New',monospace\"><span style=\"color: #7fbfbf; text-decoration-color: #7fbfbf\">[05/09/24 08:09:03] </span><span style=\"color: #000080; text-decoration-color: #000080\">INFO    </span> Loading data from <span style=\"color: #ff8700; text-decoration-color: #ff8700\">application_test</span> <span style=\"font-weight: bold\">(</span>CSVDataset<span style=\"font-weight: bold\">)</span><span style=\"color: #808000; text-decoration-color: #808000\">...</span>                 <a href=\"file://C:\\Users\\9509298u\\AppData\\Local\\miniconda3\\envs\\ocp7-scoring-model-cloud\\lib\\site-packages\\kedro\\io\\data_catalog.py\" target=\"_blank\"><span style=\"color: #7f7f7f; text-decoration-color: #7f7f7f\">data_catalog.py</span></a><span style=\"color: #7f7f7f; text-decoration-color: #7f7f7f\">:</span><a href=\"file://C:\\Users\\9509298u\\AppData\\Local\\miniconda3\\envs\\ocp7-scoring-model-cloud\\lib\\site-packages\\kedro\\io\\data_catalog.py#483\" target=\"_blank\"><span style=\"color: #7f7f7f; text-decoration-color: #7f7f7f\">483</span></a>\n</pre>\n"
     },
     "metadata": {},
     "output_type": "display_data"
    }
   ],
   "source": [
    "dataset_type = \"\" #change for \"_debug\" to load the debug dataset\n",
    "\n",
    "df_train = catalog.load(\"application_train\" + dataset_type)\n",
    "df_test = catalog.load(\"application_test\" + dataset_type)"
   ],
   "metadata": {
    "collapsed": false,
    "ExecuteTime": {
     "end_time": "2024-05-09T06:09:04.008092400Z",
     "start_time": "2024-05-09T06:09:01.540407100Z"
    }
   },
   "id": "70c922dff153a3b"
  },
  {
   "cell_type": "code",
   "execution_count": 4,
   "outputs": [],
   "source": [
    "invididual_variables = [\"DAYS_BIRTH\", \"CODE_GENDER\", \"NAME_EDUCATION_TYPE\"]\n",
    "work_variables = [\"DAYS_EMPLOYED\", \"OCCUPATION_TYPE\", \"ORGANIZATION_TYPE\", \"AMT_INCOME_TOTAL\"]\n",
    "loan_variables = [\"AMT_CREDIT\", \"AMT_ANNUITY\", \"AMT_GOODS_PRICE\"]\n",
    "ext_variables = [\"EXT_SOURCE_1\", \"EXT_SOURCE_2\", \"EXT_SOURCE_3\"]\n",
    "variables_interest = invididual_variables + work_variables + loan_variables + ext_variables\n",
    "# liés à l'emprunt, liées à la personne, liées au travail, liées aux autres sources financières"
   ],
   "metadata": {
    "collapsed": false,
    "ExecuteTime": {
     "end_time": "2024-05-09T06:09:06.518457400Z",
     "start_time": "2024-05-09T06:09:06.403322400Z"
    }
   },
   "id": "a205aa2a5d70f3c4"
  },
  {
   "cell_type": "markdown",
   "source": [
    "nous voulons retenir les variables les plus importantes pour l'analyse \n",
    "nous pouvons observer les variables les mieux corrélées au défaut de crédit"
   ],
   "metadata": {
    "collapsed": false
   },
   "id": "a48247e3d9d8be43"
  },
  {
   "cell_type": "code",
   "execution_count": 5,
   "outputs": [],
   "source": [
    "from src.ocp7_scoring_model_cloud.pipelines.preprocessing.nodes import (\n",
    "    preprocess_application_train_test_for_visualization)"
   ],
   "metadata": {
    "collapsed": false,
    "ExecuteTime": {
     "end_time": "2024-05-09T06:09:12.195367600Z",
     "start_time": "2024-05-09T06:09:11.438439500Z"
    }
   },
   "id": "f1e6e8512fd81220"
  },
  {
   "cell_type": "code",
   "execution_count": 7,
   "outputs": [
    {
     "name": "stdout",
     "output_type": "stream",
     "text": [
      "df lenght: 307511, number of columns : 122\n",
      "df lenght: 48744, number of columns : 121\n"
     ]
    }
   ],
   "source": [
    "preprocess_train_df = preprocess_application_train_test_for_visualization(df_train)\n",
    "preprocess_test_df = preprocess_application_train_test_for_visualization(df_test)"
   ],
   "metadata": {
    "collapsed": false,
    "ExecuteTime": {
     "end_time": "2024-05-09T06:09:36.848318600Z",
     "start_time": "2024-05-09T06:09:36.178411700Z"
    }
   },
   "id": "9223b2385d299f36"
  },
  {
   "cell_type": "code",
   "execution_count": 8,
   "outputs": [],
   "source": [
    "def compute_age(df):\n",
    "    df[\"AGE\"] = -df[\"DAYS_BIRTH\"] // 365\n",
    "    return df\n",
    "\n",
    "def compute_time_employed(df):\n",
    "    df[\"TIME_CURRENT_JOB_YEARS\"] = -df[\"DAYS_EMPLOYED\"] // 365\n",
    "    return df\n",
    "\n",
    "def compute_viz_df(df, variables_interest):\n",
    "    df = compute_age(df)\n",
    "    df = compute_time_employed(df)\n",
    "    df = df[[\"SK_ID_CURR\"] + [\"AGE\", \"TIME_CURRENT_JOB_YEARS\"] + variables_interest]\n",
    "    return df"
   ],
   "metadata": {
    "collapsed": false,
    "ExecuteTime": {
     "end_time": "2024-05-09T06:09:42.913500800Z",
     "start_time": "2024-05-09T06:09:42.818327900Z"
    }
   },
   "id": "8966a0cf26a090bb"
  },
  {
   "cell_type": "code",
   "execution_count": 9,
   "outputs": [],
   "source": [
    "viz_df_train = compute_viz_df(preprocess_train_df, variables_interest)\n",
    "viz_df_test = compute_viz_df(preprocess_test_df, variables_interest)"
   ],
   "metadata": {
    "collapsed": false,
    "ExecuteTime": {
     "end_time": "2024-05-09T06:09:50.340791500Z",
     "start_time": "2024-05-09T06:09:50.209980300Z"
    }
   },
   "id": "cb48d4e0ffef4a"
  },
  {
   "cell_type": "code",
   "execution_count": 10,
   "outputs": [
    {
     "data": {
      "text/plain": "\u001B[2;36m[05/09/24 08:10:31]\u001B[0m\u001B[2;36m \u001B[0m\u001B[34mINFO    \u001B[0m Saving data to \u001B[38;5;208mviz_df_train\u001B[0m \u001B[1m(\u001B[0mParquetDataset\u001B[1m)\u001B[0m\u001B[33m...\u001B[0m                    \u001B]8;id=651965;file://C:\\Users\\9509298u\\AppData\\Local\\miniconda3\\envs\\ocp7-scoring-model-cloud\\lib\\site-packages\\kedro\\io\\data_catalog.py\u001B\\\u001B[2mdata_catalog.py\u001B[0m\u001B]8;;\u001B\\\u001B[2m:\u001B[0m\u001B]8;id=736159;file://C:\\Users\\9509298u\\AppData\\Local\\miniconda3\\envs\\ocp7-scoring-model-cloud\\lib\\site-packages\\kedro\\io\\data_catalog.py#525\u001B\\\u001B[2m525\u001B[0m\u001B]8;;\u001B\\\n",
      "text/html": "<pre style=\"white-space:pre;overflow-x:auto;line-height:normal;font-family:Menlo,'DejaVu Sans Mono',consolas,'Courier New',monospace\"><span style=\"color: #7fbfbf; text-decoration-color: #7fbfbf\">[05/09/24 08:10:31] </span><span style=\"color: #000080; text-decoration-color: #000080\">INFO    </span> Saving data to <span style=\"color: #ff8700; text-decoration-color: #ff8700\">viz_df_train</span> <span style=\"font-weight: bold\">(</span>ParquetDataset<span style=\"font-weight: bold\">)</span><span style=\"color: #808000; text-decoration-color: #808000\">...</span>                    <a href=\"file://C:\\Users\\9509298u\\AppData\\Local\\miniconda3\\envs\\ocp7-scoring-model-cloud\\lib\\site-packages\\kedro\\io\\data_catalog.py\" target=\"_blank\"><span style=\"color: #7f7f7f; text-decoration-color: #7f7f7f\">data_catalog.py</span></a><span style=\"color: #7f7f7f; text-decoration-color: #7f7f7f\">:</span><a href=\"file://C:\\Users\\9509298u\\AppData\\Local\\miniconda3\\envs\\ocp7-scoring-model-cloud\\lib\\site-packages\\kedro\\io\\data_catalog.py#525\" target=\"_blank\"><span style=\"color: #7f7f7f; text-decoration-color: #7f7f7f\">525</span></a>\n</pre>\n"
     },
     "metadata": {},
     "output_type": "display_data"
    },
    {
     "data": {
      "text/plain": "\u001B[2;36m[05/09/24 08:10:32]\u001B[0m\u001B[2;36m \u001B[0m\u001B[34mINFO    \u001B[0m Saving data to \u001B[38;5;208mviz_df_test\u001B[0m \u001B[1m(\u001B[0mParquetDataset\u001B[1m)\u001B[0m\u001B[33m...\u001B[0m                     \u001B]8;id=945185;file://C:\\Users\\9509298u\\AppData\\Local\\miniconda3\\envs\\ocp7-scoring-model-cloud\\lib\\site-packages\\kedro\\io\\data_catalog.py\u001B\\\u001B[2mdata_catalog.py\u001B[0m\u001B]8;;\u001B\\\u001B[2m:\u001B[0m\u001B]8;id=447073;file://C:\\Users\\9509298u\\AppData\\Local\\miniconda3\\envs\\ocp7-scoring-model-cloud\\lib\\site-packages\\kedro\\io\\data_catalog.py#525\u001B\\\u001B[2m525\u001B[0m\u001B]8;;\u001B\\\n",
      "text/html": "<pre style=\"white-space:pre;overflow-x:auto;line-height:normal;font-family:Menlo,'DejaVu Sans Mono',consolas,'Courier New',monospace\"><span style=\"color: #7fbfbf; text-decoration-color: #7fbfbf\">[05/09/24 08:10:32] </span><span style=\"color: #000080; text-decoration-color: #000080\">INFO    </span> Saving data to <span style=\"color: #ff8700; text-decoration-color: #ff8700\">viz_df_test</span> <span style=\"font-weight: bold\">(</span>ParquetDataset<span style=\"font-weight: bold\">)</span><span style=\"color: #808000; text-decoration-color: #808000\">...</span>                     <a href=\"file://C:\\Users\\9509298u\\AppData\\Local\\miniconda3\\envs\\ocp7-scoring-model-cloud\\lib\\site-packages\\kedro\\io\\data_catalog.py\" target=\"_blank\"><span style=\"color: #7f7f7f; text-decoration-color: #7f7f7f\">data_catalog.py</span></a><span style=\"color: #7f7f7f; text-decoration-color: #7f7f7f\">:</span><a href=\"file://C:\\Users\\9509298u\\AppData\\Local\\miniconda3\\envs\\ocp7-scoring-model-cloud\\lib\\site-packages\\kedro\\io\\data_catalog.py#525\" target=\"_blank\"><span style=\"color: #7f7f7f; text-decoration-color: #7f7f7f\">525</span></a>\n</pre>\n"
     },
     "metadata": {},
     "output_type": "display_data"
    }
   ],
   "source": [
    "catalog.save(\"viz_df_train\", viz_df_train)\n",
    "catalog.save(\"viz_df_test\", viz_df_test)"
   ],
   "metadata": {
    "collapsed": false,
    "ExecuteTime": {
     "end_time": "2024-05-09T06:10:32.154050Z",
     "start_time": "2024-05-09T06:10:31.356757600Z"
    }
   },
   "id": "e47f2134810da3c8"
  },
  {
   "cell_type": "code",
   "execution_count": 71,
   "outputs": [
    {
     "data": {
      "text/plain": "",
      "text/html": "<pre style=\"white-space:pre;overflow-x:auto;line-height:normal;font-family:Menlo,'DejaVu Sans Mono',consolas,'Courier New',monospace\"></pre>\n"
     },
     "metadata": {},
     "output_type": "display_data"
    },
    {
     "data": {
      "text/plain": "\n                                     \u001B[1;36m0\u001B[0m\nSK_ID_CURR                      \u001B[1;36m100002\u001B[0m\nTARGET                               \u001B[1;36m1\u001B[0m\nNAME_CONTRACT_TYPE          Cash loans\nCODE_GENDER                          M\nFLAG_OWN_CAR                         N\n\u001B[33m...\u001B[0m                                \u001B[33m...\u001B[0m\nAMT_REQ_CREDIT_BUREAU_DAY          \u001B[1;36m0.0\u001B[0m\nAMT_REQ_CREDIT_BUREAU_WEEK         \u001B[1;36m0.0\u001B[0m\nAMT_REQ_CREDIT_BUREAU_MON          \u001B[1;36m0.0\u001B[0m\nAMT_REQ_CREDIT_BUREAU_QRT          \u001B[1;36m0.0\u001B[0m\nAMT_REQ_CREDIT_BUREAU_YEAR         \u001B[1;36m1.0\u001B[0m\n\n\u001B[1m[\u001B[0m\u001B[1;36m122\u001B[0m rows x \u001B[1;36m1\u001B[0m columns\u001B[1m]\u001B[0m",
      "text/html": "<div>\n<style scoped>\n    .dataframe tbody tr th:only-of-type {\n        vertical-align: middle;\n    }\n\n    .dataframe tbody tr th {\n        vertical-align: top;\n    }\n\n    .dataframe thead th {\n        text-align: right;\n    }\n</style>\n<table border=\"1\" class=\"dataframe\">\n  <thead>\n    <tr style=\"text-align: right;\">\n      <th></th>\n      <th>0</th>\n    </tr>\n  </thead>\n  <tbody>\n    <tr>\n      <th>SK_ID_CURR</th>\n      <td>100002</td>\n    </tr>\n    <tr>\n      <th>TARGET</th>\n      <td>1</td>\n    </tr>\n    <tr>\n      <th>NAME_CONTRACT_TYPE</th>\n      <td>Cash loans</td>\n    </tr>\n    <tr>\n      <th>CODE_GENDER</th>\n      <td>M</td>\n    </tr>\n    <tr>\n      <th>FLAG_OWN_CAR</th>\n      <td>N</td>\n    </tr>\n    <tr>\n      <th>...</th>\n      <td>...</td>\n    </tr>\n    <tr>\n      <th>AMT_REQ_CREDIT_BUREAU_DAY</th>\n      <td>0.0</td>\n    </tr>\n    <tr>\n      <th>AMT_REQ_CREDIT_BUREAU_WEEK</th>\n      <td>0.0</td>\n    </tr>\n    <tr>\n      <th>AMT_REQ_CREDIT_BUREAU_MON</th>\n      <td>0.0</td>\n    </tr>\n    <tr>\n      <th>AMT_REQ_CREDIT_BUREAU_QRT</th>\n      <td>0.0</td>\n    </tr>\n    <tr>\n      <th>AMT_REQ_CREDIT_BUREAU_YEAR</th>\n      <td>1.0</td>\n    </tr>\n  </tbody>\n</table>\n<p>122 rows × 1 columns</p>\n</div>"
     },
     "execution_count": 71,
     "metadata": {},
     "output_type": "execute_result"
    }
   ],
   "source": [
    "df_train[df_train[(\"SK_ID_CURR\")] == 100002].T"
   ],
   "metadata": {
    "collapsed": false,
    "ExecuteTime": {
     "end_time": "2024-05-07T13:04:18.607179400Z",
     "start_time": "2024-05-07T13:04:18.213644300Z"
    }
   },
   "id": "4a137281c61265c6"
  },
  {
   "cell_type": "code",
   "execution_count": 67,
   "outputs": [],
   "source": [
    "cols = df_train.columns.tolist().remove(\"SK_ID_CURR\")"
   ],
   "metadata": {
    "collapsed": false,
    "ExecuteTime": {
     "end_time": "2024-05-07T12:12:15.769942200Z",
     "start_time": "2024-05-07T12:12:15.509037600Z"
    }
   },
   "id": "a81aea01fead5ca8"
  },
  {
   "cell_type": "code",
   "execution_count": 70,
   "outputs": [
    {
     "data": {
      "text/plain": "",
      "text/html": "<pre style=\"white-space:pre;overflow-x:auto;line-height:normal;font-family:Menlo,'DejaVu Sans Mono',consolas,'Courier New',monospace\"></pre>\n"
     },
     "metadata": {},
     "output_type": "display_data"
    },
    {
     "data": {
      "text/plain": "\n\u001B[1m[\u001B[0m\n    \u001B[32m'SK_ID_CURR'\u001B[0m,\n    \u001B[32m'TARGET'\u001B[0m,\n    \u001B[32m'NAME_CONTRACT_TYPE'\u001B[0m,\n    \u001B[32m'CODE_GENDER'\u001B[0m,\n    \u001B[32m'FLAG_OWN_CAR'\u001B[0m,\n    \u001B[32m'FLAG_OWN_REALTY'\u001B[0m,\n    \u001B[32m'CNT_CHILDREN'\u001B[0m,\n    \u001B[32m'AMT_INCOME_TOTAL'\u001B[0m,\n    \u001B[32m'AMT_CREDIT'\u001B[0m,\n    \u001B[32m'AMT_ANNUITY'\u001B[0m,\n    \u001B[32m'AMT_GOODS_PRICE'\u001B[0m,\n    \u001B[32m'NAME_TYPE_SUITE'\u001B[0m,\n    \u001B[32m'NAME_INCOME_TYPE'\u001B[0m,\n    \u001B[32m'NAME_EDUCATION_TYPE'\u001B[0m,\n    \u001B[32m'NAME_FAMILY_STATUS'\u001B[0m,\n    \u001B[32m'NAME_HOUSING_TYPE'\u001B[0m,\n    \u001B[32m'REGION_POPULATION_RELATIVE'\u001B[0m,\n    \u001B[32m'DAYS_BIRTH'\u001B[0m,\n    \u001B[32m'DAYS_EMPLOYED'\u001B[0m,\n    \u001B[32m'DAYS_REGISTRATION'\u001B[0m,\n    \u001B[32m'DAYS_ID_PUBLISH'\u001B[0m,\n    \u001B[32m'OWN_CAR_AGE'\u001B[0m,\n    \u001B[32m'FLAG_MOBIL'\u001B[0m,\n    \u001B[32m'FLAG_EMP_PHONE'\u001B[0m,\n    \u001B[32m'FLAG_WORK_PHONE'\u001B[0m,\n    \u001B[32m'FLAG_CONT_MOBILE'\u001B[0m,\n    \u001B[32m'FLAG_PHONE'\u001B[0m,\n    \u001B[32m'FLAG_EMAIL'\u001B[0m,\n    \u001B[32m'OCCUPATION_TYPE'\u001B[0m,\n    \u001B[32m'CNT_FAM_MEMBERS'\u001B[0m,\n    \u001B[32m'REGION_RATING_CLIENT'\u001B[0m,\n    \u001B[32m'REGION_RATING_CLIENT_W_CITY'\u001B[0m,\n    \u001B[32m'WEEKDAY_APPR_PROCESS_START'\u001B[0m,\n    \u001B[32m'HOUR_APPR_PROCESS_START'\u001B[0m,\n    \u001B[32m'REG_REGION_NOT_LIVE_REGION'\u001B[0m,\n    \u001B[32m'REG_REGION_NOT_WORK_REGION'\u001B[0m,\n    \u001B[32m'LIVE_REGION_NOT_WORK_REGION'\u001B[0m,\n    \u001B[32m'REG_CITY_NOT_LIVE_CITY'\u001B[0m,\n    \u001B[32m'REG_CITY_NOT_WORK_CITY'\u001B[0m,\n    \u001B[32m'LIVE_CITY_NOT_WORK_CITY'\u001B[0m,\n    \u001B[32m'ORGANIZATION_TYPE'\u001B[0m,\n    \u001B[32m'EXT_SOURCE_1'\u001B[0m,\n    \u001B[32m'EXT_SOURCE_2'\u001B[0m,\n    \u001B[32m'EXT_SOURCE_3'\u001B[0m,\n    \u001B[32m'APARTMENTS_AVG'\u001B[0m,\n    \u001B[32m'BASEMENTAREA_AVG'\u001B[0m,\n    \u001B[32m'YEARS_BEGINEXPLUATATION_AVG'\u001B[0m,\n    \u001B[32m'YEARS_BUILD_AVG'\u001B[0m,\n    \u001B[32m'COMMONAREA_AVG'\u001B[0m,\n    \u001B[32m'ELEVATORS_AVG'\u001B[0m,\n    \u001B[32m'ENTRANCES_AVG'\u001B[0m,\n    \u001B[32m'FLOORSMAX_AVG'\u001B[0m,\n    \u001B[32m'FLOORSMIN_AVG'\u001B[0m,\n    \u001B[32m'LANDAREA_AVG'\u001B[0m,\n    \u001B[32m'LIVINGAPARTMENTS_AVG'\u001B[0m,\n    \u001B[32m'LIVINGAREA_AVG'\u001B[0m,\n    \u001B[32m'NONLIVINGAPARTMENTS_AVG'\u001B[0m,\n    \u001B[32m'NONLIVINGAREA_AVG'\u001B[0m,\n    \u001B[32m'APARTMENTS_MODE'\u001B[0m,\n    \u001B[32m'BASEMENTAREA_MODE'\u001B[0m,\n    \u001B[32m'YEARS_BEGINEXPLUATATION_MODE'\u001B[0m,\n    \u001B[32m'YEARS_BUILD_MODE'\u001B[0m,\n    \u001B[32m'COMMONAREA_MODE'\u001B[0m,\n    \u001B[32m'ELEVATORS_MODE'\u001B[0m,\n    \u001B[32m'ENTRANCES_MODE'\u001B[0m,\n    \u001B[32m'FLOORSMAX_MODE'\u001B[0m,\n    \u001B[32m'FLOORSMIN_MODE'\u001B[0m,\n    \u001B[32m'LANDAREA_MODE'\u001B[0m,\n    \u001B[32m'LIVINGAPARTMENTS_MODE'\u001B[0m,\n    \u001B[32m'LIVINGAREA_MODE'\u001B[0m,\n    \u001B[32m'NONLIVINGAPARTMENTS_MODE'\u001B[0m,\n    \u001B[32m'NONLIVINGAREA_MODE'\u001B[0m,\n    \u001B[32m'APARTMENTS_MEDI'\u001B[0m,\n    \u001B[32m'BASEMENTAREA_MEDI'\u001B[0m,\n    \u001B[32m'YEARS_BEGINEXPLUATATION_MEDI'\u001B[0m,\n    \u001B[32m'YEARS_BUILD_MEDI'\u001B[0m,\n    \u001B[32m'COMMONAREA_MEDI'\u001B[0m,\n    \u001B[32m'ELEVATORS_MEDI'\u001B[0m,\n    \u001B[32m'ENTRANCES_MEDI'\u001B[0m,\n    \u001B[32m'FLOORSMAX_MEDI'\u001B[0m,\n    \u001B[32m'FLOORSMIN_MEDI'\u001B[0m,\n    \u001B[32m'LANDAREA_MEDI'\u001B[0m,\n    \u001B[32m'LIVINGAPARTMENTS_MEDI'\u001B[0m,\n    \u001B[32m'LIVINGAREA_MEDI'\u001B[0m,\n    \u001B[32m'NONLIVINGAPARTMENTS_MEDI'\u001B[0m,\n    \u001B[32m'NONLIVINGAREA_MEDI'\u001B[0m,\n    \u001B[32m'FONDKAPREMONT_MODE'\u001B[0m,\n    \u001B[32m'HOUSETYPE_MODE'\u001B[0m,\n    \u001B[32m'TOTALAREA_MODE'\u001B[0m,\n    \u001B[32m'WALLSMATERIAL_MODE'\u001B[0m,\n    \u001B[32m'EMERGENCYSTATE_MODE'\u001B[0m,\n    \u001B[32m'OBS_30_CNT_SOCIAL_CIRCLE'\u001B[0m,\n    \u001B[32m'DEF_30_CNT_SOCIAL_CIRCLE'\u001B[0m,\n    \u001B[32m'OBS_60_CNT_SOCIAL_CIRCLE'\u001B[0m,\n    \u001B[32m'DEF_60_CNT_SOCIAL_CIRCLE'\u001B[0m,\n    \u001B[32m'DAYS_LAST_PHONE_CHANGE'\u001B[0m,\n    \u001B[32m'FLAG_DOCUMENT_2'\u001B[0m,\n    \u001B[32m'FLAG_DOCUMENT_3'\u001B[0m,\n    \u001B[32m'FLAG_DOCUMENT_4'\u001B[0m,\n    \u001B[32m'FLAG_DOCUMENT_5'\u001B[0m,\n    \u001B[32m'FLAG_DOCUMENT_6'\u001B[0m,\n    \u001B[32m'FLAG_DOCUMENT_7'\u001B[0m,\n    \u001B[32m'FLAG_DOCUMENT_8'\u001B[0m,\n    \u001B[32m'FLAG_DOCUMENT_9'\u001B[0m,\n    \u001B[32m'FLAG_DOCUMENT_10'\u001B[0m,\n    \u001B[32m'FLAG_DOCUMENT_11'\u001B[0m,\n    \u001B[32m'FLAG_DOCUMENT_12'\u001B[0m,\n    \u001B[32m'FLAG_DOCUMENT_13'\u001B[0m,\n    \u001B[32m'FLAG_DOCUMENT_14'\u001B[0m,\n    \u001B[32m'FLAG_DOCUMENT_15'\u001B[0m,\n    \u001B[32m'FLAG_DOCUMENT_16'\u001B[0m,\n    \u001B[32m'FLAG_DOCUMENT_17'\u001B[0m,\n    \u001B[32m'FLAG_DOCUMENT_18'\u001B[0m,\n    \u001B[32m'FLAG_DOCUMENT_19'\u001B[0m,\n    \u001B[32m'FLAG_DOCUMENT_20'\u001B[0m,\n    \u001B[32m'FLAG_DOCUMENT_21'\u001B[0m,\n    \u001B[32m'AMT_REQ_CREDIT_BUREAU_HOUR'\u001B[0m,\n    \u001B[32m'AMT_REQ_CREDIT_BUREAU_DAY'\u001B[0m,\n    \u001B[32m'AMT_REQ_CREDIT_BUREAU_WEEK'\u001B[0m,\n    \u001B[32m'AMT_REQ_CREDIT_BUREAU_MON'\u001B[0m,\n    \u001B[32m'AMT_REQ_CREDIT_BUREAU_QRT'\u001B[0m,\n    \u001B[32m'AMT_REQ_CREDIT_BUREAU_YEAR'\u001B[0m\n\u001B[1m]\u001B[0m"
     },
     "execution_count": 70,
     "metadata": {},
     "output_type": "execute_result"
    }
   ],
   "source": [
    "df_train.columns.tolist()"
   ],
   "metadata": {
    "collapsed": false,
    "ExecuteTime": {
     "end_time": "2024-05-07T12:12:31.438152400Z",
     "start_time": "2024-05-07T12:12:31.179845100Z"
    }
   },
   "id": "cacdd865498260e8"
  },
  {
   "cell_type": "code",
   "execution_count": 12,
   "outputs": [
    {
     "data": {
      "text/plain": "",
      "text/html": "<pre style=\"white-space:pre;overflow-x:auto;line-height:normal;font-family:Menlo,'DejaVu Sans Mono',consolas,'Courier New',monospace\"></pre>\n"
     },
     "metadata": {},
     "output_type": "display_data"
    },
    {
     "data": {
      "text/plain": "\n        SK_ID_CURR  AGE  TIME_CURRENT_JOB_YEARS  DAYS_BIRTH  CODE_GENDER  \\\n\u001B[1;36m0\u001B[0m           \u001B[1;36m100002\u001B[0m   \u001B[1;36m25\u001B[0m                     \u001B[1;36m1.0\u001B[0m       \u001B[1;36m-9461\u001B[0m            \u001B[1;36m0\u001B[0m   \n\u001B[1;36m1\u001B[0m           \u001B[1;36m100003\u001B[0m   \u001B[1;36m45\u001B[0m                     \u001B[1;36m3.0\u001B[0m      \u001B[1;36m-16765\u001B[0m            \u001B[1;36m1\u001B[0m   \n\u001B[1;36m2\u001B[0m           \u001B[1;36m100004\u001B[0m   \u001B[1;36m52\u001B[0m                     \u001B[1;36m0.0\u001B[0m      \u001B[1;36m-19046\u001B[0m            \u001B[1;36m0\u001B[0m   \n\u001B[1;36m3\u001B[0m           \u001B[1;36m100006\u001B[0m   \u001B[1;36m52\u001B[0m                     \u001B[1;36m8.0\u001B[0m      \u001B[1;36m-19005\u001B[0m            \u001B[1;36m1\u001B[0m   \n\u001B[1;36m4\u001B[0m           \u001B[1;36m100007\u001B[0m   \u001B[1;36m54\u001B[0m                     \u001B[1;36m8.0\u001B[0m      \u001B[1;36m-19932\u001B[0m            \u001B[1;36m0\u001B[0m   \n\u001B[33m...\u001B[0m            \u001B[33m...\u001B[0m  \u001B[33m...\u001B[0m                     \u001B[33m...\u001B[0m         \u001B[33m...\u001B[0m          \u001B[33m...\u001B[0m   \n\u001B[1;36m307506\u001B[0m      \u001B[1;36m456251\u001B[0m   \u001B[1;36m25\u001B[0m                     \u001B[1;36m0.0\u001B[0m       \u001B[1;36m-9327\u001B[0m            \u001B[1;36m0\u001B[0m   \n\u001B[1;36m307507\u001B[0m      \u001B[1;36m456252\u001B[0m   \u001B[1;36m56\u001B[0m                     NaN      \u001B[1;36m-20775\u001B[0m            \u001B[1;36m1\u001B[0m   \n\u001B[1;36m307508\u001B[0m      \u001B[1;36m456253\u001B[0m   \u001B[1;36m41\u001B[0m                    \u001B[1;36m21.0\u001B[0m      \u001B[1;36m-14966\u001B[0m            \u001B[1;36m1\u001B[0m   \n\u001B[1;36m307509\u001B[0m      \u001B[1;36m456254\u001B[0m   \u001B[1;36m32\u001B[0m                    \u001B[1;36m13.0\u001B[0m      \u001B[1;36m-11961\u001B[0m            \u001B[1;36m1\u001B[0m   \n\u001B[1;36m307510\u001B[0m      \u001B[1;36m456255\u001B[0m   \u001B[1;36m46\u001B[0m                     \u001B[1;36m3.0\u001B[0m      \u001B[1;36m-16856\u001B[0m            \u001B[1;36m1\u001B[0m   \n\n                  NAME_EDUCATION_TYPE  DAYS_EMPLOYED OCCUPATION_TYPE  \\\n\u001B[1;36m0\u001B[0m       Secondary \u001B[35m/\u001B[0m secondary special         \u001B[1;36m-637.0\u001B[0m        Laborers   \n\u001B[1;36m1\u001B[0m                    Higher education        \u001B[1;36m-1188.0\u001B[0m      Core staff   \n\u001B[1;36m2\u001B[0m       Secondary \u001B[35m/\u001B[0m secondary special         \u001B[1;36m-225.0\u001B[0m        Laborers   \n\u001B[1;36m3\u001B[0m       Secondary \u001B[35m/\u001B[0m secondary special        \u001B[1;36m-3039.0\u001B[0m        Laborers   \n\u001B[1;36m4\u001B[0m       Secondary \u001B[35m/\u001B[0m secondary special        \u001B[1;36m-3038.0\u001B[0m      Core staff   \n\u001B[33m...\u001B[0m                               \u001B[33m...\u001B[0m            \u001B[33m...\u001B[0m             \u001B[33m...\u001B[0m   \n\u001B[1;36m307506\u001B[0m  Secondary \u001B[35m/\u001B[0m secondary special         \u001B[1;36m-236.0\u001B[0m     Sales staff   \n\u001B[1;36m307507\u001B[0m  Secondary \u001B[35m/\u001B[0m secondary special            NaN             NaN   \n\u001B[1;36m307508\u001B[0m               Higher education        \u001B[1;36m-7921.0\u001B[0m        Managers   \n\u001B[1;36m307509\u001B[0m  Secondary \u001B[35m/\u001B[0m secondary special        \u001B[1;36m-4786.0\u001B[0m        Laborers   \n\u001B[1;36m307510\u001B[0m               Higher education        \u001B[1;36m-1262.0\u001B[0m        Laborers   \n\n             ORGANIZATION_TYPE  AMT_INCOME_TOTAL  AMT_CREDIT  AMT_ANNUITY  \\\n\u001B[1;36m0\u001B[0m       Business Entity Type \u001B[1;36m3\u001B[0m          \u001B[1;36m202500.0\u001B[0m    \u001B[1;36m406597.5\u001B[0m      \u001B[1;36m24700.5\u001B[0m   \n\u001B[1;36m1\u001B[0m                       School          \u001B[1;36m270000.0\u001B[0m   \u001B[1;36m1293502.5\u001B[0m      \u001B[1;36m35698.5\u001B[0m   \n\u001B[1;36m2\u001B[0m                   Government           \u001B[1;36m67500.0\u001B[0m    \u001B[1;36m135000.0\u001B[0m       \u001B[1;36m6750.0\u001B[0m   \n\u001B[1;36m3\u001B[0m       Business Entity Type \u001B[1;36m3\u001B[0m          \u001B[1;36m135000.0\u001B[0m    \u001B[1;36m312682.5\u001B[0m      \u001B[1;36m29686.5\u001B[0m   \n\u001B[1;36m4\u001B[0m                     Religion          \u001B[1;36m121500.0\u001B[0m    \u001B[1;36m513000.0\u001B[0m      \u001B[1;36m21865.5\u001B[0m   \n\u001B[33m...\u001B[0m                        \u001B[33m...\u001B[0m               \u001B[33m...\u001B[0m         \u001B[33m...\u001B[0m          \u001B[33m...\u001B[0m   \n\u001B[1;36m307506\u001B[0m                Services          \u001B[1;36m157500.0\u001B[0m    \u001B[1;36m254700.0\u001B[0m      \u001B[1;36m27558.0\u001B[0m   \n\u001B[1;36m307507\u001B[0m                     XNA           \u001B[1;36m72000.0\u001B[0m    \u001B[1;36m269550.0\u001B[0m      \u001B[1;36m12001.5\u001B[0m   \n\u001B[1;36m307508\u001B[0m                  School          \u001B[1;36m153000.0\u001B[0m    \u001B[1;36m677664.0\u001B[0m      \u001B[1;36m29979.0\u001B[0m   \n\u001B[1;36m307509\u001B[0m  Business Entity Type \u001B[1;36m1\u001B[0m          \u001B[1;36m171000.0\u001B[0m    \u001B[1;36m370107.0\u001B[0m      \u001B[1;36m20205.0\u001B[0m   \n\u001B[1;36m307510\u001B[0m  Business Entity Type \u001B[1;36m3\u001B[0m          \u001B[1;36m157500.0\u001B[0m    \u001B[1;36m675000.0\u001B[0m      \u001B[1;36m49117.5\u001B[0m   \n\n        AMT_GOODS_PRICE  EXT_SOURCE_1  EXT_SOURCE_2  EXT_SOURCE_3  \n\u001B[1;36m0\u001B[0m              \u001B[1;36m351000.0\u001B[0m      \u001B[1;36m0.083037\u001B[0m      \u001B[1;36m0.262949\u001B[0m      \u001B[1;36m0.139376\u001B[0m  \n\u001B[1;36m1\u001B[0m             \u001B[1;36m1129500.0\u001B[0m      \u001B[1;36m0.311267\u001B[0m      \u001B[1;36m0.622246\u001B[0m           NaN  \n\u001B[1;36m2\u001B[0m              \u001B[1;36m135000.0\u001B[0m           NaN      \u001B[1;36m0.555912\u001B[0m      \u001B[1;36m0.729567\u001B[0m  \n\u001B[1;36m3\u001B[0m              \u001B[1;36m297000.0\u001B[0m           NaN      \u001B[1;36m0.650442\u001B[0m           NaN  \n\u001B[1;36m4\u001B[0m              \u001B[1;36m513000.0\u001B[0m           NaN      \u001B[1;36m0.322738\u001B[0m           NaN  \n\u001B[33m...\u001B[0m                 \u001B[33m...\u001B[0m           \u001B[33m...\u001B[0m           \u001B[33m...\u001B[0m           \u001B[33m...\u001B[0m  \n\u001B[1;36m307506\u001B[0m         \u001B[1;36m225000.0\u001B[0m      \u001B[1;36m0.145570\u001B[0m      \u001B[1;36m0.681632\u001B[0m           NaN  \n\u001B[1;36m307507\u001B[0m         \u001B[1;36m225000.0\u001B[0m           NaN      \u001B[1;36m0.115992\u001B[0m           NaN  \n\u001B[1;36m307508\u001B[0m         \u001B[1;36m585000.0\u001B[0m      \u001B[1;36m0.744026\u001B[0m      \u001B[1;36m0.535722\u001B[0m      \u001B[1;36m0.218859\u001B[0m  \n\u001B[1;36m307509\u001B[0m         \u001B[1;36m319500.0\u001B[0m           NaN      \u001B[1;36m0.514163\u001B[0m      \u001B[1;36m0.661024\u001B[0m  \n\u001B[1;36m307510\u001B[0m         \u001B[1;36m675000.0\u001B[0m      \u001B[1;36m0.734460\u001B[0m      \u001B[1;36m0.708569\u001B[0m      \u001B[1;36m0.113922\u001B[0m  \n\n\u001B[1m[\u001B[0m\u001B[1;36m307507\u001B[0m rows x \u001B[1;36m16\u001B[0m columns\u001B[1m]\u001B[0m",
      "text/html": "<div>\n<style scoped>\n    .dataframe tbody tr th:only-of-type {\n        vertical-align: middle;\n    }\n\n    .dataframe tbody tr th {\n        vertical-align: top;\n    }\n\n    .dataframe thead th {\n        text-align: right;\n    }\n</style>\n<table border=\"1\" class=\"dataframe\">\n  <thead>\n    <tr style=\"text-align: right;\">\n      <th></th>\n      <th>SK_ID_CURR</th>\n      <th>AGE</th>\n      <th>TIME_CURRENT_JOB_YEARS</th>\n      <th>DAYS_BIRTH</th>\n      <th>CODE_GENDER</th>\n      <th>NAME_EDUCATION_TYPE</th>\n      <th>DAYS_EMPLOYED</th>\n      <th>OCCUPATION_TYPE</th>\n      <th>ORGANIZATION_TYPE</th>\n      <th>AMT_INCOME_TOTAL</th>\n      <th>AMT_CREDIT</th>\n      <th>AMT_ANNUITY</th>\n      <th>AMT_GOODS_PRICE</th>\n      <th>EXT_SOURCE_1</th>\n      <th>EXT_SOURCE_2</th>\n      <th>EXT_SOURCE_3</th>\n    </tr>\n  </thead>\n  <tbody>\n    <tr>\n      <th>0</th>\n      <td>100002</td>\n      <td>25</td>\n      <td>1.0</td>\n      <td>-9461</td>\n      <td>0</td>\n      <td>Secondary / secondary special</td>\n      <td>-637.0</td>\n      <td>Laborers</td>\n      <td>Business Entity Type 3</td>\n      <td>202500.0</td>\n      <td>406597.5</td>\n      <td>24700.5</td>\n      <td>351000.0</td>\n      <td>0.083037</td>\n      <td>0.262949</td>\n      <td>0.139376</td>\n    </tr>\n    <tr>\n      <th>1</th>\n      <td>100003</td>\n      <td>45</td>\n      <td>3.0</td>\n      <td>-16765</td>\n      <td>1</td>\n      <td>Higher education</td>\n      <td>-1188.0</td>\n      <td>Core staff</td>\n      <td>School</td>\n      <td>270000.0</td>\n      <td>1293502.5</td>\n      <td>35698.5</td>\n      <td>1129500.0</td>\n      <td>0.311267</td>\n      <td>0.622246</td>\n      <td>NaN</td>\n    </tr>\n    <tr>\n      <th>2</th>\n      <td>100004</td>\n      <td>52</td>\n      <td>0.0</td>\n      <td>-19046</td>\n      <td>0</td>\n      <td>Secondary / secondary special</td>\n      <td>-225.0</td>\n      <td>Laborers</td>\n      <td>Government</td>\n      <td>67500.0</td>\n      <td>135000.0</td>\n      <td>6750.0</td>\n      <td>135000.0</td>\n      <td>NaN</td>\n      <td>0.555912</td>\n      <td>0.729567</td>\n    </tr>\n    <tr>\n      <th>3</th>\n      <td>100006</td>\n      <td>52</td>\n      <td>8.0</td>\n      <td>-19005</td>\n      <td>1</td>\n      <td>Secondary / secondary special</td>\n      <td>-3039.0</td>\n      <td>Laborers</td>\n      <td>Business Entity Type 3</td>\n      <td>135000.0</td>\n      <td>312682.5</td>\n      <td>29686.5</td>\n      <td>297000.0</td>\n      <td>NaN</td>\n      <td>0.650442</td>\n      <td>NaN</td>\n    </tr>\n    <tr>\n      <th>4</th>\n      <td>100007</td>\n      <td>54</td>\n      <td>8.0</td>\n      <td>-19932</td>\n      <td>0</td>\n      <td>Secondary / secondary special</td>\n      <td>-3038.0</td>\n      <td>Core staff</td>\n      <td>Religion</td>\n      <td>121500.0</td>\n      <td>513000.0</td>\n      <td>21865.5</td>\n      <td>513000.0</td>\n      <td>NaN</td>\n      <td>0.322738</td>\n      <td>NaN</td>\n    </tr>\n    <tr>\n      <th>...</th>\n      <td>...</td>\n      <td>...</td>\n      <td>...</td>\n      <td>...</td>\n      <td>...</td>\n      <td>...</td>\n      <td>...</td>\n      <td>...</td>\n      <td>...</td>\n      <td>...</td>\n      <td>...</td>\n      <td>...</td>\n      <td>...</td>\n      <td>...</td>\n      <td>...</td>\n      <td>...</td>\n    </tr>\n    <tr>\n      <th>307506</th>\n      <td>456251</td>\n      <td>25</td>\n      <td>0.0</td>\n      <td>-9327</td>\n      <td>0</td>\n      <td>Secondary / secondary special</td>\n      <td>-236.0</td>\n      <td>Sales staff</td>\n      <td>Services</td>\n      <td>157500.0</td>\n      <td>254700.0</td>\n      <td>27558.0</td>\n      <td>225000.0</td>\n      <td>0.145570</td>\n      <td>0.681632</td>\n      <td>NaN</td>\n    </tr>\n    <tr>\n      <th>307507</th>\n      <td>456252</td>\n      <td>56</td>\n      <td>NaN</td>\n      <td>-20775</td>\n      <td>1</td>\n      <td>Secondary / secondary special</td>\n      <td>NaN</td>\n      <td>NaN</td>\n      <td>XNA</td>\n      <td>72000.0</td>\n      <td>269550.0</td>\n      <td>12001.5</td>\n      <td>225000.0</td>\n      <td>NaN</td>\n      <td>0.115992</td>\n      <td>NaN</td>\n    </tr>\n    <tr>\n      <th>307508</th>\n      <td>456253</td>\n      <td>41</td>\n      <td>21.0</td>\n      <td>-14966</td>\n      <td>1</td>\n      <td>Higher education</td>\n      <td>-7921.0</td>\n      <td>Managers</td>\n      <td>School</td>\n      <td>153000.0</td>\n      <td>677664.0</td>\n      <td>29979.0</td>\n      <td>585000.0</td>\n      <td>0.744026</td>\n      <td>0.535722</td>\n      <td>0.218859</td>\n    </tr>\n    <tr>\n      <th>307509</th>\n      <td>456254</td>\n      <td>32</td>\n      <td>13.0</td>\n      <td>-11961</td>\n      <td>1</td>\n      <td>Secondary / secondary special</td>\n      <td>-4786.0</td>\n      <td>Laborers</td>\n      <td>Business Entity Type 1</td>\n      <td>171000.0</td>\n      <td>370107.0</td>\n      <td>20205.0</td>\n      <td>319500.0</td>\n      <td>NaN</td>\n      <td>0.514163</td>\n      <td>0.661024</td>\n    </tr>\n    <tr>\n      <th>307510</th>\n      <td>456255</td>\n      <td>46</td>\n      <td>3.0</td>\n      <td>-16856</td>\n      <td>1</td>\n      <td>Higher education</td>\n      <td>-1262.0</td>\n      <td>Laborers</td>\n      <td>Business Entity Type 3</td>\n      <td>157500.0</td>\n      <td>675000.0</td>\n      <td>49117.5</td>\n      <td>675000.0</td>\n      <td>0.734460</td>\n      <td>0.708569</td>\n      <td>0.113922</td>\n    </tr>\n  </tbody>\n</table>\n<p>307507 rows × 16 columns</p>\n</div>"
     },
     "execution_count": 12,
     "metadata": {},
     "output_type": "execute_result"
    }
   ],
   "source": [
    "viz_df_train"
   ],
   "metadata": {
    "collapsed": false,
    "ExecuteTime": {
     "end_time": "2024-05-09T06:11:38.367936Z",
     "start_time": "2024-05-09T06:11:38.239073Z"
    }
   },
   "id": "21906ffa8725d989"
  },
  {
   "cell_type": "code",
   "execution_count": 14,
   "outputs": [
    {
     "data": {
      "text/plain": "",
      "text/html": "<pre style=\"white-space:pre;overflow-x:auto;line-height:normal;font-family:Menlo,'DejaVu Sans Mono',consolas,'Courier New',monospace\"></pre>\n"
     },
     "metadata": {},
     "output_type": "display_data"
    },
    {
     "data": {
      "text/plain": "\u001B[1;36m599028.5967327573\u001B[0m"
     },
     "execution_count": 14,
     "metadata": {},
     "output_type": "execute_result"
    }
   ],
   "source": [
    "viz_df_train[\"AMT_CREDIT\"].mean()"
   ],
   "metadata": {
    "collapsed": false,
    "ExecuteTime": {
     "end_time": "2024-05-09T06:15:52.564812300Z",
     "start_time": "2024-05-09T06:15:52.394342300Z"
    }
   },
   "id": "c6654218acc93184"
  },
  {
   "cell_type": "code",
   "execution_count": null,
   "outputs": [],
   "source": [
    "viz_df_train[\"AMT_\"]"
   ],
   "metadata": {
    "collapsed": false
   },
   "id": "37ab2aea37a0ff8b"
  },
  {
   "cell_type": "code",
   "execution_count": 24,
   "outputs": [
    {
     "data": {
      "text/plain": "",
      "text/html": "<pre style=\"white-space:pre;overflow-x:auto;line-height:normal;font-family:Menlo,'DejaVu Sans Mono',consolas,'Courier New',monospace\"></pre>\n"
     },
     "metadata": {},
     "output_type": "display_data"
    },
    {
     "data": {
      "text/plain": "\u001B[1m<\u001B[0m\u001B[1;95mAxes:\u001B[0m\u001B[39m \u001B[0m\u001B[1m>\u001B[0m"
     },
     "execution_count": 24,
     "metadata": {},
     "output_type": "execute_result"
    },
    {
     "data": {
      "text/plain": "",
      "text/html": "<pre style=\"white-space:pre;overflow-x:auto;line-height:normal;font-family:Menlo,'DejaVu Sans Mono',consolas,'Courier New',monospace\"></pre>\n"
     },
     "metadata": {},
     "output_type": "display_data"
    },
    {
     "data": {
      "text/plain": "\u001B[1m<\u001B[0m\u001B[1;95mFigure\u001B[0m\u001B[39m size 64\u001B[0m\u001B[1;36m0x480\u001B[0m\u001B[39m with \u001B[0m\u001B[1;36m1\u001B[0m\u001B[39m Axes\u001B[0m\u001B[1m>\u001B[0m",
      "image/png": "[encoded data removed]"
     },
     "metadata": {},
     "output_type": "display_data"
    }
   ],
   "source": [
    "((viz_df_train[\"AMT_CREDIT\"] - viz_df_train[\"AMT_GOODS_PRICE\"])/viz_df_train[\"AMT_CREDIT\"]).hist()"
   ],
   "metadata": {
    "collapsed": false,
    "ExecuteTime": {
     "end_time": "2024-05-09T06:50:20.829641500Z",
     "start_time": "2024-05-09T06:50:20.452055600Z"
    }
   },
   "id": "10b9290b3261df0a"
  },
  {
   "cell_type": "code",
   "execution_count": 20,
   "outputs": [
    {
     "data": {
      "text/plain": "",
      "text/html": "<pre style=\"white-space:pre;overflow-x:auto;line-height:normal;font-family:Menlo,'DejaVu Sans Mono',consolas,'Courier New',monospace\"></pre>\n"
     },
     "metadata": {},
     "output_type": "display_data"
    },
    {
     "data": {
      "text/plain": "\n\u001B[1;36m0\u001B[0m         \u001B[1;36m11389.5\u001B[0m\n\u001B[1;36m1\u001B[0m          \u001B[1;36m8356.5\u001B[0m\n\u001B[1;36m2\u001B[0m             \u001B[1;36m0.0\u001B[0m\n\u001B[1;36m3\u001B[0m         \u001B[1;36m15817.5\u001B[0m\n\u001B[1;36m4\u001B[0m         \u001B[1;36m10093.5\u001B[0m\n           \u001B[33m...\u001B[0m   \n\u001B[1;36m307506\u001B[0m     \u001B[1;36m6678.0\u001B[0m\n\u001B[1;36m307507\u001B[0m     \u001B[1;36m5517.0\u001B[0m\n\u001B[1;36m307508\u001B[0m    \u001B[1;36m18126.0\u001B[0m\n\u001B[1;36m307509\u001B[0m     \u001B[1;36m6417.0\u001B[0m\n\u001B[1;36m307510\u001B[0m    \u001B[1;36m36472.5\u001B[0m\nLength: \u001B[1;36m307507\u001B[0m, dtype: float64"
     },
     "execution_count": 20,
     "metadata": {},
     "output_type": "execute_result"
    }
   ],
   "source": [
    "(viz_df_train[\"AMT_CREDIT\"]%viz_df_train[\"AMT_ANNUITY\"])"
   ],
   "metadata": {
    "collapsed": false,
    "ExecuteTime": {
     "end_time": "2024-05-09T06:21:21.063709800Z",
     "start_time": "2024-05-09T06:21:20.942969500Z"
    }
   },
   "id": "7aa8edcda4f8c98e"
  },
  {
   "cell_type": "code",
   "execution_count": 22,
   "outputs": [],
   "source": [
    "loan_interest_rate = 0.1"
   ],
   "metadata": {
    "collapsed": false,
    "ExecuteTime": {
     "end_time": "2024-05-09T06:23:11.644437500Z",
     "start_time": "2024-05-09T06:23:11.532654Z"
    }
   },
   "id": "7ba9e6029b6a9508"
  },
  {
   "cell_type": "code",
   "execution_count": 23,
   "outputs": [
    {
     "data": {
      "text/plain": "",
      "text/html": "<pre style=\"white-space:pre;overflow-x:auto;line-height:normal;font-family:Menlo,'DejaVu Sans Mono',consolas,'Courier New',monospace\"></pre>\n"
     },
     "metadata": {},
     "output_type": "display_data"
    },
    {
     "data": {
      "text/plain": "\u001B[1;36m0.09090909090909091\u001B[0m"
     },
     "execution_count": 23,
     "metadata": {},
     "output_type": "execute_result"
    }
   ],
   "source": [
    "loan_interest_rate / (loan_interest_rate+1)"
   ],
   "metadata": {
    "collapsed": false,
    "ExecuteTime": {
     "end_time": "2024-05-09T06:23:11.892495900Z",
     "start_time": "2024-05-09T06:23:11.795869400Z"
    }
   },
   "id": "4dbd56c52a1c8a52"
  },
  {
   "cell_type": "code",
   "execution_count": null,
   "outputs": [],
   "source": [
    "# Anomalies / outliers in revenues ?"
   ],
   "metadata": {
    "collapsed": false
   },
   "id": "2e0469a87ea903f7"
  },
  {
   "cell_type": "code",
   "execution_count": 89,
   "outputs": [],
   "source": [
    "preprocess_train_df[\"AMT_INCOME_TOTAL_zscore\"] = (preprocess_train_df[\"AMT_INCOME_TOTAL\"] - preprocess_train_df[\"AMT_INCOME_TOTAL\"].mean()) / preprocess_train_df[\"AMT_INCOME_TOTAL\"].std()"
   ],
   "metadata": {
    "collapsed": false
   },
   "id": "54a8ead5094e75fc"
  },
  {
   "cell_type": "code",
   "execution_count": 91,
   "outputs": [],
   "source": [
    "preprocess_train_income_outliers = preprocess_train_df.loc[preprocess_train_df[\"AMT_INCOME_TOTAL_zscore\"]>3,:]"
   ],
   "metadata": {
    "collapsed": false
   },
   "id": "8c23d69cb8c5c8b6"
  },
  {
   "cell_type": "code",
   "execution_count": 94,
   "outputs": [
    {
     "data": {
      "text/plain": "",
      "text/html": "<pre style=\"white-space:pre;overflow-x:auto;line-height:normal;font-family:Menlo,'DejaVu Sans Mono',consolas,'Courier New',monospace\"></pre>\n"
     },
     "metadata": {},
     "output_type": "display_data"
    },
    {
     "data": {
      "text/plain": "\u001B[1;36m0.05286343612334802\u001B[0m"
     },
     "execution_count": 94,
     "metadata": {},
     "output_type": "execute_result"
    }
   ],
   "source": [
    "preprocess_train_income_outliers[\"TARGET\"].value_counts()[1]/(preprocess_train_income_outliers[\"TARGET\"].value_counts()[0]+preprocess_train_income_outliers[\"TARGET\"].value_counts()[1])"
   ],
   "metadata": {
    "collapsed": false
   },
   "id": "23dbe7c0c4fedc84"
  },
  {
   "cell_type": "code",
   "execution_count": 95,
   "outputs": [
    {
     "data": {
      "text/plain": "",
      "text/html": "<pre style=\"white-space:pre;overflow-x:auto;line-height:normal;font-family:Menlo,'DejaVu Sans Mono',consolas,'Courier New',monospace\"></pre>\n"
     },
     "metadata": {},
     "output_type": "display_data"
    },
    {
     "data": {
      "text/plain": "\u001B[1;36m0.08072986956394489\u001B[0m"
     },
     "execution_count": 95,
     "metadata": {},
     "output_type": "execute_result"
    }
   ],
   "source": [
    "preprocess_train_df[\"TARGET\"].value_counts()[1]/(preprocess_train_df[\"TARGET\"].value_counts()[0]+preprocess_train_df[\"TARGET\"].value_counts()[1])"
   ],
   "metadata": {
    "collapsed": false
   },
   "id": "79ec3d5a8ee83725"
  },
  {
   "cell_type": "code",
   "execution_count": 75,
   "outputs": [],
   "source": [
    "viz_df_train[\"AMT_INCOME_TOTAL_zscore\"] = (viz_df_train[\"AMT_INCOME_TOTAL\"] - viz_df_train[\"AMT_INCOME_TOTAL\"].mean()) / viz_df_train[\"AMT_INCOME_TOTAL\"].std()"
   ],
   "metadata": {
    "collapsed": false
   },
   "id": "10b7bbd0f9da3351"
  },
  {
   "cell_type": "code",
   "execution_count": 81,
   "outputs": [],
   "source": [
    "viz_df_test[\"AMT_INCOME_TOTAL_zscore\"] = (viz_df_test[\"AMT_INCOME_TOTAL\"] - viz_df_test[\"AMT_INCOME_TOTAL\"].mean()) / viz_df_test[\"AMT_INCOME_TOTAL\"].std()"
   ],
   "metadata": {
    "collapsed": false
   },
   "id": "b8917a2e57ac4c04"
  },
  {
   "cell_type": "code",
   "execution_count": 88,
   "outputs": [
    {
     "data": {
      "text/plain": "",
      "text/html": "<pre style=\"white-space:pre;overflow-x:auto;line-height:normal;font-family:Menlo,'DejaVu Sans Mono',consolas,'Courier New',monospace\"></pre>\n"
     },
     "metadata": {},
     "output_type": "display_data"
    },
    {
     "data": {
      "text/plain": "\u001B[1m<\u001B[0m\u001B[1;95mAxes:\u001B[0m\u001B[39m \u001B[0m\u001B[1m>\u001B[0m"
     },
     "execution_count": 88,
     "metadata": {},
     "output_type": "execute_result"
    },
    {
     "data": {
      "text/plain": "",
      "text/html": "<pre style=\"white-space:pre;overflow-x:auto;line-height:normal;font-family:Menlo,'DejaVu Sans Mono',consolas,'Courier New',monospace\"></pre>\n"
     },
     "metadata": {},
     "output_type": "display_data"
    },
    {
     "data": {
      "text/plain": "\u001B[1m<\u001B[0m\u001B[1;95mFigure\u001B[0m\u001B[39m size 64\u001B[0m\u001B[1;36m0x480\u001B[0m\u001B[39m with \u001B[0m\u001B[1;36m1\u001B[0m\u001B[39m Axes\u001B[0m\u001B[1m>\u001B[0m",
      "image/png": "[encoded data removed]"
     },
     "metadata": {},
     "output_type": "display_data"
    }
   ],
   "source": [
    "viz_df_test.loc[viz_df_test[\"AMT_INCOME_TOTAL_zscore\"]>3,:][\"AMT_INCOME_TOTAL\"].hist()"
   ],
   "metadata": {
    "collapsed": false
   },
   "id": "87d3eaa7fbd4f5c5"
  },
  {
   "cell_type": "code",
   "execution_count": 99,
   "outputs": [],
   "source": [
    "from sklearn.ensemble import IsolationForest\n",
    "from sklearn.impute import SimpleImputer"
   ],
   "metadata": {
    "collapsed": false
   },
   "id": "7845dca297e20447"
  },
  {
   "cell_type": "code",
   "execution_count": 100,
   "outputs": [],
   "source": [
    "clf = IsolationForest(contamination=0.05)\n",
    "exp_df = preprocess_train_df.copy()\n",
    "imputer = SimpleImputer(strategy=\"mean\")\n",
    "exp_df[[\"AMT_INCOME_TOTAL\", \"AMT_CREDIT\", \"AMT_ANNUITY\", \"AMT_GOODS_PRICE\"]] = imputer.fit_transform(exp_df[[\"AMT_INCOME_TOTAL\", \"AMT_CREDIT\", \"AMT_ANNUITY\", \"AMT_GOODS_PRICE\"]])\n",
    "exp_df[\"Anomaly\"] = clf.fit_predict(exp_df[[\"AMT_INCOME_TOTAL\", \"AMT_CREDIT\", \"AMT_ANNUITY\", \"AMT_GOODS_PRICE\"]])"
   ],
   "metadata": {
    "collapsed": false
   },
   "id": "20beaa7ec2c4c139"
  },
  {
   "cell_type": "code",
   "execution_count": 101,
   "outputs": [
    {
     "data": {
      "text/plain": "",
      "text/html": "<pre style=\"white-space:pre;overflow-x:auto;line-height:normal;font-family:Menlo,'DejaVu Sans Mono',consolas,'Courier New',monospace\"></pre>\n"
     },
     "metadata": {},
     "output_type": "display_data"
    },
    {
     "data": {
      "text/plain": "\nAnomaly\n \u001B[1;36m1\u001B[0m    \u001B[1;36m292131\u001B[0m\n\u001B[1;36m-1\u001B[0m     \u001B[1;36m15376\u001B[0m\nName: count, dtype: int64"
     },
     "execution_count": 101,
     "metadata": {},
     "output_type": "execute_result"
    }
   ],
   "source": [
    "exp_df[\"Anomaly\"].value_counts()"
   ],
   "metadata": {
    "collapsed": false
   },
   "id": "45d51d02bfc1cd1e"
  },
  {
   "cell_type": "code",
   "execution_count": 102,
   "outputs": [
    {
     "data": {
      "text/plain": "",
      "text/html": "<pre style=\"white-space:pre;overflow-x:auto;line-height:normal;font-family:Menlo,'DejaVu Sans Mono',consolas,'Courier New',monospace\"></pre>\n"
     },
     "metadata": {},
     "output_type": "display_data"
    },
    {
     "data": {
      "text/plain": "\nTARGET\n\u001B[1;36m0\u001B[0m    \u001B[1;36m14659\u001B[0m\n\u001B[1;36m1\u001B[0m      \u001B[1;36m717\u001B[0m\nName: count, dtype: int64"
     },
     "execution_count": 102,
     "metadata": {},
     "output_type": "execute_result"
    }
   ],
   "source": [
    "exp_df.loc[exp_df[\"Anomaly\"] == -1,:][\"TARGET\"].value_counts()"
   ],
   "metadata": {
    "collapsed": false
   },
   "id": "405abb408422b7d"
  },
  {
   "cell_type": "code",
   "execution_count": 85,
   "outputs": [
    {
     "data": {
      "text/plain": "",
      "text/html": "<pre style=\"white-space:pre;overflow-x:auto;line-height:normal;font-family:Menlo,'DejaVu Sans Mono',consolas,'Courier New',monospace\"></pre>\n"
     },
     "metadata": {},
     "output_type": "display_data"
    },
    {
     "data": {
      "text/plain": "\n        SK_ID_CURR  AGE  TIME_CURRENT_JOB_YEARS  DAYS_BIRTH  CODE_GENDER  \\\n\u001B[1;36m1504\u001B[0m        \u001B[1;36m101769\u001B[0m   \u001B[1;36m37\u001B[0m                    \u001B[1;36m15.0\u001B[0m      \u001B[1;36m-13633\u001B[0m            \u001B[1;36m0\u001B[0m   \n\u001B[1;36m1723\u001B[0m        \u001B[1;36m102015\u001B[0m   \u001B[1;36m51\u001B[0m                     NaN      \u001B[1;36m-18636\u001B[0m            \u001B[1;36m1\u001B[0m   \n\u001B[1;36m3371\u001B[0m        \u001B[1;36m103938\u001B[0m   \u001B[1;36m33\u001B[0m                     \u001B[1;36m2.0\u001B[0m      \u001B[1;36m-12213\u001B[0m            \u001B[1;36m1\u001B[0m   \n\u001B[1;36m4603\u001B[0m        \u001B[1;36m105384\u001B[0m   \u001B[1;36m40\u001B[0m                    \u001B[1;36m13.0\u001B[0m      \u001B[1;36m-14781\u001B[0m            \u001B[1;36m1\u001B[0m   \n\u001B[1;36m5673\u001B[0m        \u001B[1;36m106637\u001B[0m   \u001B[1;36m32\u001B[0m                     \u001B[1;36m1.0\u001B[0m      \u001B[1;36m-11901\u001B[0m            \u001B[1;36m0\u001B[0m   \n\u001B[33m...\u001B[0m            \u001B[33m...\u001B[0m  \u001B[33m...\u001B[0m                     \u001B[33m...\u001B[0m         \u001B[33m...\u001B[0m          \u001B[33m...\u001B[0m   \n\u001B[1;36m304477\u001B[0m      \u001B[1;36m452764\u001B[0m   \u001B[1;36m42\u001B[0m                     \u001B[1;36m2.0\u001B[0m      \u001B[1;36m-15532\u001B[0m            \u001B[1;36m1\u001B[0m   \n\u001B[1;36m305577\u001B[0m      \u001B[1;36m454039\u001B[0m   \u001B[1;36m57\u001B[0m                    \u001B[1;36m11.0\u001B[0m      \u001B[1;36m-20986\u001B[0m            \u001B[1;36m0\u001B[0m   \n\u001B[1;36m306028\u001B[0m      \u001B[1;36m454569\u001B[0m   \u001B[1;36m35\u001B[0m                     \u001B[1;36m0.0\u001B[0m      \u001B[1;36m-12947\u001B[0m            \u001B[1;36m0\u001B[0m   \n\u001B[1;36m306179\u001B[0m      \u001B[1;36m454746\u001B[0m   \u001B[1;36m38\u001B[0m                     \u001B[1;36m4.0\u001B[0m      \u001B[1;36m-14111\u001B[0m            \u001B[1;36m0\u001B[0m   \n\u001B[1;36m306285\u001B[0m      \u001B[1;36m454864\u001B[0m   \u001B[1;36m39\u001B[0m                     \u001B[1;36m5.0\u001B[0m      \u001B[1;36m-14510\u001B[0m            \u001B[1;36m1\u001B[0m   \n\n                  NAME_EDUCATION_TYPE  DAYS_EMPLOYED OCCUPATION_TYPE  \\\n\u001B[1;36m1504\u001B[0m                 Higher education        \u001B[1;36m-5536.0\u001B[0m             NaN   \n\u001B[1;36m1723\u001B[0m    Secondary \u001B[35m/\u001B[0m secondary special            NaN             NaN   \n\u001B[1;36m3371\u001B[0m                 Higher education         \u001B[1;36m-843.0\u001B[0m        Managers   \n\u001B[1;36m4603\u001B[0m                 Higher education        \u001B[1;36m-4768.0\u001B[0m        Managers   \n\u001B[1;36m5673\u001B[0m                 Higher education         \u001B[1;36m-546.0\u001B[0m        Managers   \n\u001B[33m...\u001B[0m                               \u001B[33m...\u001B[0m            \u001B[33m...\u001B[0m             \u001B[33m...\u001B[0m   \n\u001B[1;36m304477\u001B[0m               Higher education         \u001B[1;36m-953.0\u001B[0m        Managers   \n\u001B[1;36m305577\u001B[0m               Higher education        \u001B[1;36m-4237.0\u001B[0m        Managers   \n\u001B[1;36m306028\u001B[0m               Higher education         \u001B[1;36m-316.0\u001B[0m        Managers   \n\u001B[1;36m306179\u001B[0m               Higher education        \u001B[1;36m-1487.0\u001B[0m        Managers   \n\u001B[1;36m306285\u001B[0m               Higher education        \u001B[1;36m-2095.0\u001B[0m     Accountants   \n\n             ORGANIZATION_TYPE  AMT_INCOME_TOTAL  AMT_CREDIT  AMT_ANNUITY  \\\n\u001B[1;36m1504\u001B[0m    Business Entity Type \u001B[1;36m3\u001B[0m         \u001B[1;36m1080000.0\u001B[0m    \u001B[1;36m180000.0\u001B[0m       \u001B[1;36m9000.0\u001B[0m   \n\u001B[1;36m1723\u001B[0m                       XNA         \u001B[1;36m1935000.0\u001B[0m    \u001B[1;36m269550.0\u001B[0m      \u001B[1;36m10534.5\u001B[0m   \n\u001B[1;36m3371\u001B[0m                   Housing         \u001B[1;36m1350000.0\u001B[0m   \u001B[1;36m2410380.0\u001B[0m     \u001B[1;36m109053.0\u001B[0m   \n\u001B[1;36m4603\u001B[0m    Business Entity Type \u001B[1;36m3\u001B[0m         \u001B[1;36m1350000.0\u001B[0m    \u001B[1;36m405000.0\u001B[0m      \u001B[1;36m20250.0\u001B[0m   \n\u001B[1;36m5673\u001B[0m    Business Entity Type \u001B[1;36m3\u001B[0m          \u001B[1;36m967500.0\u001B[0m    \u001B[1;36m450000.0\u001B[0m      \u001B[1;36m30073.5\u001B[0m   \n\u001B[33m...\u001B[0m                        \u001B[33m...\u001B[0m               \u001B[33m...\u001B[0m         \u001B[33m...\u001B[0m          \u001B[33m...\u001B[0m   \n\u001B[1;36m304477\u001B[0m  Business Entity Type \u001B[1;36m3\u001B[0m         \u001B[1;36m2025000.0\u001B[0m    \u001B[1;36m935640.0\u001B[0m      \u001B[1;36m93487.5\u001B[0m   \n\u001B[1;36m305577\u001B[0m  Business Entity Type \u001B[1;36m3\u001B[0m         \u001B[1;36m1215000.0\u001B[0m   \u001B[1;36m1264738.5\u001B[0m      \u001B[1;36m67513.5\u001B[0m   \n\u001B[1;36m306028\u001B[0m  Business Entity Type \u001B[1;36m3\u001B[0m         \u001B[1;36m1350000.0\u001B[0m   \u001B[1;36m1575000.0\u001B[0m      \u001B[1;36m78750.0\u001B[0m   \n\u001B[1;36m306179\u001B[0m  Business Entity Type \u001B[1;36m3\u001B[0m          \u001B[1;36m949500.0\u001B[0m    \u001B[1;36m735579.0\u001B[0m      \u001B[1;36m35518.5\u001B[0m   \n\u001B[1;36m306285\u001B[0m           Self-employed          \u001B[1;36m936000.0\u001B[0m   \u001B[1;36m1014493.5\u001B[0m      \u001B[1;36m55165.5\u001B[0m   \n\n        AMT_GOODS_PRICE  EXT_SOURCE_1  EXT_SOURCE_2  EXT_SOURCE_3  \\\n\u001B[1;36m1504\u001B[0m           \u001B[1;36m180000.0\u001B[0m           NaN      \u001B[1;36m0.652924\u001B[0m      \u001B[1;36m0.456110\u001B[0m   \n\u001B[1;36m1723\u001B[0m           \u001B[1;36m225000.0\u001B[0m      \u001B[1;36m0.658977\u001B[0m      \u001B[1;36m0.268663\u001B[0m      \u001B[1;36m0.331251\u001B[0m   \n\u001B[1;36m3371\u001B[0m          \u001B[1;36m2250000.0\u001B[0m           NaN      \u001B[1;36m0.724541\u001B[0m      \u001B[1;36m0.569149\u001B[0m   \n\u001B[1;36m4603\u001B[0m           \u001B[1;36m405000.0\u001B[0m           NaN      \u001B[1;36m0.661593\u001B[0m      \u001B[1;36m0.725276\u001B[0m   \n\u001B[1;36m5673\u001B[0m           \u001B[1;36m450000.0\u001B[0m      \u001B[1;36m0.697907\u001B[0m      \u001B[1;36m0.492086\u001B[0m      \u001B[1;36m0.454321\u001B[0m   \n\u001B[33m...\u001B[0m                 \u001B[33m...\u001B[0m           \u001B[33m...\u001B[0m           \u001B[33m...\u001B[0m           \u001B[33m...\u001B[0m   \n\u001B[1;36m304477\u001B[0m         \u001B[1;36m900000.0\u001B[0m           NaN      \u001B[1;36m0.759875\u001B[0m      \u001B[1;36m0.676993\u001B[0m   \n\u001B[1;36m305577\u001B[0m        \u001B[1;36m1138500.0\u001B[0m      \u001B[1;36m0.798563\u001B[0m      \u001B[1;36m0.697679\u001B[0m      \u001B[1;36m0.260856\u001B[0m   \n\u001B[1;36m306028\u001B[0m        \u001B[1;36m1575000.0\u001B[0m      \u001B[1;36m0.490475\u001B[0m      \u001B[1;36m0.772679\u001B[0m      \u001B[1;36m0.529890\u001B[0m   \n\u001B[1;36m306179\u001B[0m         \u001B[1;36m585000.0\u001B[0m      \u001B[1;36m0.441853\u001B[0m      \u001B[1;36m0.539413\u001B[0m      \u001B[1;36m0.526295\u001B[0m   \n\u001B[1;36m306285\u001B[0m         \u001B[1;36m891000.0\u001B[0m           NaN      \u001B[1;36m0.757621\u001B[0m      \u001B[1;36m0.210350\u001B[0m   \n\n        AMT_INCOME_TOTAL_zscore  \n\u001B[1;36m1504\u001B[0m                   \u001B[1;36m3.842715\u001B[0m  \n\u001B[1;36m1723\u001B[0m                   \u001B[1;36m7.448414\u001B[0m  \n\u001B[1;36m3371\u001B[0m                   \u001B[1;36m4.981357\u001B[0m  \n\u001B[1;36m4603\u001B[0m                   \u001B[1;36m4.981357\u001B[0m  \n\u001B[1;36m5673\u001B[0m                   \u001B[1;36m3.368281\u001B[0m  \n\u001B[33m...\u001B[0m                         \u001B[33m...\u001B[0m  \n\u001B[1;36m304477\u001B[0m                 \u001B[1;36m7.827961\u001B[0m  \n\u001B[1;36m305577\u001B[0m                 \u001B[1;36m4.412036\u001B[0m  \n\u001B[1;36m306028\u001B[0m                 \u001B[1;36m4.981357\u001B[0m  \n\u001B[1;36m306179\u001B[0m                 \u001B[1;36m3.292371\u001B[0m  \n\u001B[1;36m306285\u001B[0m                 \u001B[1;36m3.235439\u001B[0m  \n\n\u001B[1m[\u001B[0m\u001B[1;36m454\u001B[0m rows x \u001B[1;36m17\u001B[0m columns\u001B[1m]\u001B[0m",
      "text/html": "<div>\n<style scoped>\n    .dataframe tbody tr th:only-of-type {\n        vertical-align: middle;\n    }\n\n    .dataframe tbody tr th {\n        vertical-align: top;\n    }\n\n    .dataframe thead th {\n        text-align: right;\n    }\n</style>\n<table border=\"1\" class=\"dataframe\">\n  <thead>\n    <tr style=\"text-align: right;\">\n      <th></th>\n      <th>SK_ID_CURR</th>\n      <th>AGE</th>\n      <th>TIME_CURRENT_JOB_YEARS</th>\n      <th>DAYS_BIRTH</th>\n      <th>CODE_GENDER</th>\n      <th>NAME_EDUCATION_TYPE</th>\n      <th>DAYS_EMPLOYED</th>\n      <th>OCCUPATION_TYPE</th>\n      <th>ORGANIZATION_TYPE</th>\n      <th>AMT_INCOME_TOTAL</th>\n      <th>AMT_CREDIT</th>\n      <th>AMT_ANNUITY</th>\n      <th>AMT_GOODS_PRICE</th>\n      <th>EXT_SOURCE_1</th>\n      <th>EXT_SOURCE_2</th>\n      <th>EXT_SOURCE_3</th>\n      <th>AMT_INCOME_TOTAL_zscore</th>\n    </tr>\n  </thead>\n  <tbody>\n    <tr>\n      <th>1504</th>\n      <td>101769</td>\n      <td>37</td>\n      <td>15.0</td>\n      <td>-13633</td>\n      <td>0</td>\n      <td>Higher education</td>\n      <td>-5536.0</td>\n      <td>NaN</td>\n      <td>Business Entity Type 3</td>\n      <td>1080000.0</td>\n      <td>180000.0</td>\n      <td>9000.0</td>\n      <td>180000.0</td>\n      <td>NaN</td>\n      <td>0.652924</td>\n      <td>0.456110</td>\n      <td>3.842715</td>\n    </tr>\n    <tr>\n      <th>1723</th>\n      <td>102015</td>\n      <td>51</td>\n      <td>NaN</td>\n      <td>-18636</td>\n      <td>1</td>\n      <td>Secondary / secondary special</td>\n      <td>NaN</td>\n      <td>NaN</td>\n      <td>XNA</td>\n      <td>1935000.0</td>\n      <td>269550.0</td>\n      <td>10534.5</td>\n      <td>225000.0</td>\n      <td>0.658977</td>\n      <td>0.268663</td>\n      <td>0.331251</td>\n      <td>7.448414</td>\n    </tr>\n    <tr>\n      <th>3371</th>\n      <td>103938</td>\n      <td>33</td>\n      <td>2.0</td>\n      <td>-12213</td>\n      <td>1</td>\n      <td>Higher education</td>\n      <td>-843.0</td>\n      <td>Managers</td>\n      <td>Housing</td>\n      <td>1350000.0</td>\n      <td>2410380.0</td>\n      <td>109053.0</td>\n      <td>2250000.0</td>\n      <td>NaN</td>\n      <td>0.724541</td>\n      <td>0.569149</td>\n      <td>4.981357</td>\n    </tr>\n    <tr>\n      <th>4603</th>\n      <td>105384</td>\n      <td>40</td>\n      <td>13.0</td>\n      <td>-14781</td>\n      <td>1</td>\n      <td>Higher education</td>\n      <td>-4768.0</td>\n      <td>Managers</td>\n      <td>Business Entity Type 3</td>\n      <td>1350000.0</td>\n      <td>405000.0</td>\n      <td>20250.0</td>\n      <td>405000.0</td>\n      <td>NaN</td>\n      <td>0.661593</td>\n      <td>0.725276</td>\n      <td>4.981357</td>\n    </tr>\n    <tr>\n      <th>5673</th>\n      <td>106637</td>\n      <td>32</td>\n      <td>1.0</td>\n      <td>-11901</td>\n      <td>0</td>\n      <td>Higher education</td>\n      <td>-546.0</td>\n      <td>Managers</td>\n      <td>Business Entity Type 3</td>\n      <td>967500.0</td>\n      <td>450000.0</td>\n      <td>30073.5</td>\n      <td>450000.0</td>\n      <td>0.697907</td>\n      <td>0.492086</td>\n      <td>0.454321</td>\n      <td>3.368281</td>\n    </tr>\n    <tr>\n      <th>...</th>\n      <td>...</td>\n      <td>...</td>\n      <td>...</td>\n      <td>...</td>\n      <td>...</td>\n      <td>...</td>\n      <td>...</td>\n      <td>...</td>\n      <td>...</td>\n      <td>...</td>\n      <td>...</td>\n      <td>...</td>\n      <td>...</td>\n      <td>...</td>\n      <td>...</td>\n      <td>...</td>\n      <td>...</td>\n    </tr>\n    <tr>\n      <th>304477</th>\n      <td>452764</td>\n      <td>42</td>\n      <td>2.0</td>\n      <td>-15532</td>\n      <td>1</td>\n      <td>Higher education</td>\n      <td>-953.0</td>\n      <td>Managers</td>\n      <td>Business Entity Type 3</td>\n      <td>2025000.0</td>\n      <td>935640.0</td>\n      <td>93487.5</td>\n      <td>900000.0</td>\n      <td>NaN</td>\n      <td>0.759875</td>\n      <td>0.676993</td>\n      <td>7.827961</td>\n    </tr>\n    <tr>\n      <th>305577</th>\n      <td>454039</td>\n      <td>57</td>\n      <td>11.0</td>\n      <td>-20986</td>\n      <td>0</td>\n      <td>Higher education</td>\n      <td>-4237.0</td>\n      <td>Managers</td>\n      <td>Business Entity Type 3</td>\n      <td>1215000.0</td>\n      <td>1264738.5</td>\n      <td>67513.5</td>\n      <td>1138500.0</td>\n      <td>0.798563</td>\n      <td>0.697679</td>\n      <td>0.260856</td>\n      <td>4.412036</td>\n    </tr>\n    <tr>\n      <th>306028</th>\n      <td>454569</td>\n      <td>35</td>\n      <td>0.0</td>\n      <td>-12947</td>\n      <td>0</td>\n      <td>Higher education</td>\n      <td>-316.0</td>\n      <td>Managers</td>\n      <td>Business Entity Type 3</td>\n      <td>1350000.0</td>\n      <td>1575000.0</td>\n      <td>78750.0</td>\n      <td>1575000.0</td>\n      <td>0.490475</td>\n      <td>0.772679</td>\n      <td>0.529890</td>\n      <td>4.981357</td>\n    </tr>\n    <tr>\n      <th>306179</th>\n      <td>454746</td>\n      <td>38</td>\n      <td>4.0</td>\n      <td>-14111</td>\n      <td>0</td>\n      <td>Higher education</td>\n      <td>-1487.0</td>\n      <td>Managers</td>\n      <td>Business Entity Type 3</td>\n      <td>949500.0</td>\n      <td>735579.0</td>\n      <td>35518.5</td>\n      <td>585000.0</td>\n      <td>0.441853</td>\n      <td>0.539413</td>\n      <td>0.526295</td>\n      <td>3.292371</td>\n    </tr>\n    <tr>\n      <th>306285</th>\n      <td>454864</td>\n      <td>39</td>\n      <td>5.0</td>\n      <td>-14510</td>\n      <td>1</td>\n      <td>Higher education</td>\n      <td>-2095.0</td>\n      <td>Accountants</td>\n      <td>Self-employed</td>\n      <td>936000.0</td>\n      <td>1014493.5</td>\n      <td>55165.5</td>\n      <td>891000.0</td>\n      <td>NaN</td>\n      <td>0.757621</td>\n      <td>0.210350</td>\n      <td>3.235439</td>\n    </tr>\n  </tbody>\n</table>\n<p>454 rows × 17 columns</p>\n</div>"
     },
     "execution_count": 85,
     "metadata": {},
     "output_type": "execute_result"
    }
   ],
   "source": [
    "viz_df_train.loc[viz_df_train[\"AMT_INCOME_TOTAL_zscore\"]>3,:]"
   ],
   "metadata": {
    "collapsed": false
   },
   "id": "2831d9df6a839a8f"
  }
 ],
 "metadata": {
  "kernelspec": {
   "name": "kedro_ocp7_scoring_model_cloud",
   "language": "python",
   "display_name": "Kedro (ocp7_scoring_model_cloud)"
  },
  "language_info": {
   "codemirror_mode": {
    "name": "ipython",
    "version": 2
   },
   "file_extension": ".py",
   "mimetype": "text/x-python",
   "name": "python",
   "nbconvert_exporter": "python",
   "pygments_lexer": "ipython2",
   "version": "2.7.6"
  }
 },
 "nbformat": 4,
 "nbformat_minor": 5
}
