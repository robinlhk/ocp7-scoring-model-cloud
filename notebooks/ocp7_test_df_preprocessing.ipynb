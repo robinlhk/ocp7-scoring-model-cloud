{
 "cells": [
  {
   "cell_type": "code",
   "execution_count": 20,
   "id": "initial_id",
   "metadata": {
    "collapsed": true,
    "ExecuteTime": {
     "end_time": "2024-05-10T12:56:41.231814500Z",
     "start_time": "2024-05-10T12:56:40.768715400Z"
    }
   },
   "outputs": [
    {
     "data": {
      "text/plain": "\u001B[2;36m[05/10/24 14:56:40]\u001B[0m\u001B[2;36m \u001B[0m\u001B[34mINFO    \u001B[0m Resolved project path as:                                              \u001B]8;id=336447;file://C:\\Users\\9509298u\\AppData\\Local\\miniconda3\\envs\\ocp7-scoring-model-cloud\\lib\\site-packages\\kedro\\ipython\\__init__.py\u001B\\\u001B[2m__init__.py\u001B[0m\u001B]8;;\u001B\\\u001B[2m:\u001B[0m\u001B]8;id=21084;file://C:\\Users\\9509298u\\AppData\\Local\\miniconda3\\envs\\ocp7-scoring-model-cloud\\lib\\site-packages\\kedro\\ipython\\__init__.py#164\u001B\\\u001B[2m164\u001B[0m\u001B]8;;\u001B\\\n\u001B[2;36m                    \u001B[0m         C:\\Users\\9509298u\\Documents\\GitHub\\OC_Projects\\ocp7-scoring-model-clou \u001B[2m               \u001B[0m\n\u001B[2;36m                    \u001B[0m         d.                                                                     \u001B[2m               \u001B[0m\n\u001B[2;36m                    \u001B[0m         To set a different path, run \u001B[32m'%reload_kedro \u001B[0m\u001B[32m<\u001B[0m\u001B[32mproject_root\u001B[0m\u001B[32m>\u001B[0m\u001B[32m'\u001B[0m            \u001B[2m               \u001B[0m\n",
      "text/html": "<pre style=\"white-space:pre;overflow-x:auto;line-height:normal;font-family:Menlo,'DejaVu Sans Mono',consolas,'Courier New',monospace\"><span style=\"color: #7fbfbf; text-decoration-color: #7fbfbf\">[05/10/24 14:56:40] </span><span style=\"color: #000080; text-decoration-color: #000080\">INFO    </span> Resolved project path as:                                              <a href=\"file://C:\\Users\\9509298u\\AppData\\Local\\miniconda3\\envs\\ocp7-scoring-model-cloud\\lib\\site-packages\\kedro\\ipython\\__init__.py\" target=\"_blank\"><span style=\"color: #7f7f7f; text-decoration-color: #7f7f7f\">__init__.py</span></a><span style=\"color: #7f7f7f; text-decoration-color: #7f7f7f\">:</span><a href=\"file://C:\\Users\\9509298u\\AppData\\Local\\miniconda3\\envs\\ocp7-scoring-model-cloud\\lib\\site-packages\\kedro\\ipython\\__init__.py#164\" target=\"_blank\"><span style=\"color: #7f7f7f; text-decoration-color: #7f7f7f\">164</span></a>\n<span style=\"color: #7fbfbf; text-decoration-color: #7fbfbf\">                    </span>         C:\\Users\\9509298u\\Documents\\GitHub\\OC_Projects\\ocp7-scoring-model-clou <span style=\"color: #7f7f7f; text-decoration-color: #7f7f7f\">               </span>\n<span style=\"color: #7fbfbf; text-decoration-color: #7fbfbf\">                    </span>         d.                                                                     <span style=\"color: #7f7f7f; text-decoration-color: #7f7f7f\">               </span>\n<span style=\"color: #7fbfbf; text-decoration-color: #7fbfbf\">                    </span>         To set a different path, run <span style=\"color: #008000; text-decoration-color: #008000\">'%reload_kedro &lt;project_root&gt;'</span>            <span style=\"color: #7f7f7f; text-decoration-color: #7f7f7f\">               </span>\n</pre>\n"
     },
     "metadata": {},
     "output_type": "display_data"
    },
    {
     "data": {
      "text/plain": "\u001B[2;36m[05/10/24 14:56:41]\u001B[0m\u001B[2;36m \u001B[0m\u001B[34mINFO    \u001B[0m Registering new custom resolver: \u001B[32m'km.random_name'\u001B[0m                    \u001B]8;id=451340;file://C:\\Users\\9509298u\\AppData\\Local\\miniconda3\\envs\\ocp7-scoring-model-cloud\\lib\\site-packages\\kedro_mlflow\\framework\\hooks\\mlflow_hook.py\u001B\\\u001B[2mmlflow_hook.py\u001B[0m\u001B]8;;\u001B\\\u001B[2m:\u001B[0m\u001B]8;id=659418;file://C:\\Users\\9509298u\\AppData\\Local\\miniconda3\\envs\\ocp7-scoring-model-cloud\\lib\\site-packages\\kedro_mlflow\\framework\\hooks\\mlflow_hook.py#65\u001B\\\u001B[2m65\u001B[0m\u001B]8;;\u001B\\\n",
      "text/html": "<pre style=\"white-space:pre;overflow-x:auto;line-height:normal;font-family:Menlo,'DejaVu Sans Mono',consolas,'Courier New',monospace\"><span style=\"color: #7fbfbf; text-decoration-color: #7fbfbf\">[05/10/24 14:56:41] </span><span style=\"color: #000080; text-decoration-color: #000080\">INFO    </span> Registering new custom resolver: <span style=\"color: #008000; text-decoration-color: #008000\">'km.random_name'</span>                    <a href=\"file://C:\\Users\\9509298u\\AppData\\Local\\miniconda3\\envs\\ocp7-scoring-model-cloud\\lib\\site-packages\\kedro_mlflow\\framework\\hooks\\mlflow_hook.py\" target=\"_blank\"><span style=\"color: #7f7f7f; text-decoration-color: #7f7f7f\">mlflow_hook.py</span></a><span style=\"color: #7f7f7f; text-decoration-color: #7f7f7f\">:</span><a href=\"file://C:\\Users\\9509298u\\AppData\\Local\\miniconda3\\envs\\ocp7-scoring-model-cloud\\lib\\site-packages\\kedro_mlflow\\framework\\hooks\\mlflow_hook.py#65\" target=\"_blank\"><span style=\"color: #7f7f7f; text-decoration-color: #7f7f7f\">65</span></a>\n</pre>\n"
     },
     "metadata": {},
     "output_type": "display_data"
    },
    {
     "data": {
      "text/plain": "\u001B[2;36m                   \u001B[0m\u001B[2;36m \u001B[0m\u001B[34mINFO    \u001B[0m The \u001B[32m'tracking_uri'\u001B[0m key in mlflow.yml is relative            \u001B]8;id=536711;file://C:\\Users\\9509298u\\AppData\\Local\\miniconda3\\envs\\ocp7-scoring-model-cloud\\lib\\site-packages\\kedro_mlflow\\config\\kedro_mlflow_config.py\u001B\\\u001B[2mkedro_mlflow_config.py\u001B[0m\u001B]8;;\u001B\\\u001B[2m:\u001B[0m\u001B]8;id=119736;file://C:\\Users\\9509298u\\AppData\\Local\\miniconda3\\envs\\ocp7-scoring-model-cloud\\lib\\site-packages\\kedro_mlflow\\config\\kedro_mlflow_config.py#260\u001B\\\u001B[2m260\u001B[0m\u001B]8;;\u001B\\\n\u001B[2;36m                    \u001B[0m         \u001B[1m(\u001B[0m\u001B[32m'server.mlflow_\u001B[0m\u001B[32m(\u001B[0m\u001B[32mtracking|registry\u001B[0m\u001B[32m)\u001B[0m\u001B[32m_uri = mlruns'\u001B[0m\u001B[1m)\u001B[0m. It is   \u001B[2m                          \u001B[0m\n\u001B[2;36m                    \u001B[0m         converted to a valid uri:                                   \u001B[2m                          \u001B[0m\n\u001B[2;36m                    \u001B[0m         \u001B[32m'file:///C:/Users/9509298u/Documents/GitHub/OC_Projects/ocp\u001B[0m \u001B[2m                          \u001B[0m\n\u001B[2;36m                    \u001B[0m         \u001B[32m7-scoring-model-cloud/mlruns'\u001B[0m                               \u001B[2m                          \u001B[0m\n",
      "text/html": "<pre style=\"white-space:pre;overflow-x:auto;line-height:normal;font-family:Menlo,'DejaVu Sans Mono',consolas,'Courier New',monospace\"><span style=\"color: #7fbfbf; text-decoration-color: #7fbfbf\">                    </span><span style=\"color: #000080; text-decoration-color: #000080\">INFO    </span> The <span style=\"color: #008000; text-decoration-color: #008000\">'tracking_uri'</span> key in mlflow.yml is relative            <a href=\"file://C:\\Users\\9509298u\\AppData\\Local\\miniconda3\\envs\\ocp7-scoring-model-cloud\\lib\\site-packages\\kedro_mlflow\\config\\kedro_mlflow_config.py\" target=\"_blank\"><span style=\"color: #7f7f7f; text-decoration-color: #7f7f7f\">kedro_mlflow_config.py</span></a><span style=\"color: #7f7f7f; text-decoration-color: #7f7f7f\">:</span><a href=\"file://C:\\Users\\9509298u\\AppData\\Local\\miniconda3\\envs\\ocp7-scoring-model-cloud\\lib\\site-packages\\kedro_mlflow\\config\\kedro_mlflow_config.py#260\" target=\"_blank\"><span style=\"color: #7f7f7f; text-decoration-color: #7f7f7f\">260</span></a>\n<span style=\"color: #7fbfbf; text-decoration-color: #7fbfbf\">                    </span>         <span style=\"font-weight: bold\">(</span><span style=\"color: #008000; text-decoration-color: #008000\">'server.mlflow_(tracking|registry)_uri = mlruns'</span><span style=\"font-weight: bold\">)</span>. It is   <span style=\"color: #7f7f7f; text-decoration-color: #7f7f7f\">                          </span>\n<span style=\"color: #7fbfbf; text-decoration-color: #7fbfbf\">                    </span>         converted to a valid uri:                                   <span style=\"color: #7f7f7f; text-decoration-color: #7f7f7f\">                          </span>\n<span style=\"color: #7fbfbf; text-decoration-color: #7fbfbf\">                    </span>         <span style=\"color: #008000; text-decoration-color: #008000\">'file:///C:/Users/9509298u/Documents/GitHub/OC_Projects/ocp</span> <span style=\"color: #7f7f7f; text-decoration-color: #7f7f7f\">                          </span>\n<span style=\"color: #7fbfbf; text-decoration-color: #7fbfbf\">                    </span>         <span style=\"color: #008000; text-decoration-color: #008000\">7-scoring-model-cloud/mlruns'</span>                               <span style=\"color: #7f7f7f; text-decoration-color: #7f7f7f\">                          </span>\n</pre>\n"
     },
     "metadata": {},
     "output_type": "display_data"
    },
    {
     "data": {
      "text/plain": "\u001B[2;36m                   \u001B[0m\u001B[2;36m \u001B[0m\u001B[34mINFO    \u001B[0m Kedro project ocp7_scoring_model_cloud                                 \u001B]8;id=940867;file://C:\\Users\\9509298u\\AppData\\Local\\miniconda3\\envs\\ocp7-scoring-model-cloud\\lib\\site-packages\\kedro\\ipython\\__init__.py\u001B\\\u001B[2m__init__.py\u001B[0m\u001B]8;;\u001B\\\u001B[2m:\u001B[0m\u001B]8;id=528650;file://C:\\Users\\9509298u\\AppData\\Local\\miniconda3\\envs\\ocp7-scoring-model-cloud\\lib\\site-packages\\kedro\\ipython\\__init__.py#134\u001B\\\u001B[2m134\u001B[0m\u001B]8;;\u001B\\\n",
      "text/html": "<pre style=\"white-space:pre;overflow-x:auto;line-height:normal;font-family:Menlo,'DejaVu Sans Mono',consolas,'Courier New',monospace\"><span style=\"color: #7fbfbf; text-decoration-color: #7fbfbf\">                    </span><span style=\"color: #000080; text-decoration-color: #000080\">INFO    </span> Kedro project ocp7_scoring_model_cloud                                 <a href=\"file://C:\\Users\\9509298u\\AppData\\Local\\miniconda3\\envs\\ocp7-scoring-model-cloud\\lib\\site-packages\\kedro\\ipython\\__init__.py\" target=\"_blank\"><span style=\"color: #7f7f7f; text-decoration-color: #7f7f7f\">__init__.py</span></a><span style=\"color: #7f7f7f; text-decoration-color: #7f7f7f\">:</span><a href=\"file://C:\\Users\\9509298u\\AppData\\Local\\miniconda3\\envs\\ocp7-scoring-model-cloud\\lib\\site-packages\\kedro\\ipython\\__init__.py#134\" target=\"_blank\"><span style=\"color: #7f7f7f; text-decoration-color: #7f7f7f\">134</span></a>\n</pre>\n"
     },
     "metadata": {},
     "output_type": "display_data"
    },
    {
     "data": {
      "text/plain": "\u001B[2;36m                   \u001B[0m\u001B[2;36m \u001B[0m\u001B[34mINFO    \u001B[0m Defined global variable \u001B[32m'context'\u001B[0m, \u001B[32m'session'\u001B[0m, \u001B[32m'catalog'\u001B[0m and            \u001B]8;id=46941;file://C:\\Users\\9509298u\\AppData\\Local\\miniconda3\\envs\\ocp7-scoring-model-cloud\\lib\\site-packages\\kedro\\ipython\\__init__.py\u001B\\\u001B[2m__init__.py\u001B[0m\u001B]8;;\u001B\\\u001B[2m:\u001B[0m\u001B]8;id=624112;file://C:\\Users\\9509298u\\AppData\\Local\\miniconda3\\envs\\ocp7-scoring-model-cloud\\lib\\site-packages\\kedro\\ipython\\__init__.py#135\u001B\\\u001B[2m135\u001B[0m\u001B]8;;\u001B\\\n\u001B[2;36m                    \u001B[0m         \u001B[32m'pipelines'\u001B[0m                                                            \u001B[2m               \u001B[0m\n",
      "text/html": "<pre style=\"white-space:pre;overflow-x:auto;line-height:normal;font-family:Menlo,'DejaVu Sans Mono',consolas,'Courier New',monospace\"><span style=\"color: #7fbfbf; text-decoration-color: #7fbfbf\">                    </span><span style=\"color: #000080; text-decoration-color: #000080\">INFO    </span> Defined global variable <span style=\"color: #008000; text-decoration-color: #008000\">'context'</span>, <span style=\"color: #008000; text-decoration-color: #008000\">'session'</span>, <span style=\"color: #008000; text-decoration-color: #008000\">'catalog'</span> and            <a href=\"file://C:\\Users\\9509298u\\AppData\\Local\\miniconda3\\envs\\ocp7-scoring-model-cloud\\lib\\site-packages\\kedro\\ipython\\__init__.py\" target=\"_blank\"><span style=\"color: #7f7f7f; text-decoration-color: #7f7f7f\">__init__.py</span></a><span style=\"color: #7f7f7f; text-decoration-color: #7f7f7f\">:</span><a href=\"file://C:\\Users\\9509298u\\AppData\\Local\\miniconda3\\envs\\ocp7-scoring-model-cloud\\lib\\site-packages\\kedro\\ipython\\__init__.py#135\" target=\"_blank\"><span style=\"color: #7f7f7f; text-decoration-color: #7f7f7f\">135</span></a>\n<span style=\"color: #7fbfbf; text-decoration-color: #7fbfbf\">                    </span>         <span style=\"color: #008000; text-decoration-color: #008000\">'pipelines'</span>                                                            <span style=\"color: #7f7f7f; text-decoration-color: #7f7f7f\">               </span>\n</pre>\n"
     },
     "metadata": {},
     "output_type": "display_data"
    },
    {
     "data": {
      "text/plain": "\u001B[2;36m                   \u001B[0m\u001B[2;36m \u001B[0m\u001B[34mINFO    \u001B[0m Registered line magic \u001B[32m'run_viz'\u001B[0m                                        \u001B]8;id=759467;file://C:\\Users\\9509298u\\AppData\\Local\\miniconda3\\envs\\ocp7-scoring-model-cloud\\lib\\site-packages\\kedro\\ipython\\__init__.py\u001B\\\u001B[2m__init__.py\u001B[0m\u001B]8;;\u001B\\\u001B[2m:\u001B[0m\u001B]8;id=455136;file://C:\\Users\\9509298u\\AppData\\Local\\miniconda3\\envs\\ocp7-scoring-model-cloud\\lib\\site-packages\\kedro\\ipython\\__init__.py#141\u001B\\\u001B[2m141\u001B[0m\u001B]8;;\u001B\\\n",
      "text/html": "<pre style=\"white-space:pre;overflow-x:auto;line-height:normal;font-family:Menlo,'DejaVu Sans Mono',consolas,'Courier New',monospace\"><span style=\"color: #7fbfbf; text-decoration-color: #7fbfbf\">                    </span><span style=\"color: #000080; text-decoration-color: #000080\">INFO    </span> Registered line magic <span style=\"color: #008000; text-decoration-color: #008000\">'run_viz'</span>                                        <a href=\"file://C:\\Users\\9509298u\\AppData\\Local\\miniconda3\\envs\\ocp7-scoring-model-cloud\\lib\\site-packages\\kedro\\ipython\\__init__.py\" target=\"_blank\"><span style=\"color: #7f7f7f; text-decoration-color: #7f7f7f\">__init__.py</span></a><span style=\"color: #7f7f7f; text-decoration-color: #7f7f7f\">:</span><a href=\"file://C:\\Users\\9509298u\\AppData\\Local\\miniconda3\\envs\\ocp7-scoring-model-cloud\\lib\\site-packages\\kedro\\ipython\\__init__.py#141\" target=\"_blank\"><span style=\"color: #7f7f7f; text-decoration-color: #7f7f7f\">141</span></a>\n</pre>\n"
     },
     "metadata": {},
     "output_type": "display_data"
    }
   ],
   "source": [
    "%reload_kedro"
   ]
  },
  {
   "cell_type": "code",
   "execution_count": 2,
   "outputs": [],
   "source": [
    "%reload_ext autoreload\n",
    "%autoreload 2\n",
    "\n",
    "import pandas as pd\n",
    "import numpy as np\n",
    "\n",
    "from sklearn.preprocessing import LabelEncoder\n",
    "\n",
    "# Suppress warnings \n",
    "import warnings\n",
    "warnings.filterwarnings('ignore')\n",
    "\n",
    "import matplotlib.pyplot as plt\n",
    "import missingno as msno\n"
   ],
   "metadata": {
    "collapsed": false,
    "ExecuteTime": {
     "end_time": "2024-05-10T12:39:18.283475700Z",
     "start_time": "2024-05-10T12:39:14.781122Z"
    }
   },
   "id": "96ae5842848c816d"
  },
  {
   "cell_type": "code",
   "execution_count": 3,
   "outputs": [],
   "source": [
    "from src.ocp7_scoring_model_cloud.pipelines.preprocessing.nodes import (\n",
    "    preprocess_application_train,\n",
    "    preprocess_bureau_and_balance,\n",
    "    preprocess_previous_applications,\n",
    "    preprocess_pos_cash,\n",
    "    preprocess_installments_payments,\n",
    "    preprocess_credit_card_balance,\n",
    "    join_datasets,\n",
    ") "
   ],
   "metadata": {
    "collapsed": false,
    "ExecuteTime": {
     "end_time": "2024-05-10T12:40:04.883611100Z",
     "start_time": "2024-05-10T12:40:04.130745600Z"
    }
   },
   "id": "179dc65efc7ff0cc"
  },
  {
   "cell_type": "code",
   "execution_count": 4,
   "outputs": [],
   "source": [
    "def preprocess_merge_datasets(base_df, bureau_df, bureau_balance_df, previous_application_df, pos_cash_df, installments_payments_df, credit_card_balance_df):\n",
    "    preprocess_train_df = preprocess_application_train(base_df)\n",
    "    bureau_agg = preprocess_bureau_and_balance(bureau_df, bureau_balance_df)\n",
    "    previous_application_agg = preprocess_previous_applications(previous_application_df)\n",
    "    pos_agg = preprocess_pos_cash(pos_cash_df)\n",
    "    ins_agg = preprocess_installments_payments(installments_payments_df)\n",
    "    cc_agg = preprocess_credit_card_balance(credit_card_balance_df)\n",
    "\n",
    "    preprocessed_df = join_datasets(preprocess_train_df, bureau_agg, previous_application_agg, pos_agg, ins_agg, cc_agg)\n",
    "\n",
    "    return preprocessed_df"
   ],
   "metadata": {
    "collapsed": false,
    "ExecuteTime": {
     "end_time": "2024-05-10T12:41:21.976786200Z",
     "start_time": "2024-05-10T12:41:21.859044200Z"
    }
   },
   "id": "b4150de4f7d2d492"
  },
  {
   "cell_type": "code",
   "execution_count": 5,
   "outputs": [
    {
     "data": {
      "text/plain": "\u001B[2;36m[05/10/24 14:49:08]\u001B[0m\u001B[2;36m \u001B[0m\u001B[34mINFO    \u001B[0m Loading data from \u001B[38;5;208mapplication_test\u001B[0m \u001B[1m(\u001B[0mCSVDataset\u001B[1m)\u001B[0m\u001B[33m...\u001B[0m                 \u001B]8;id=374309;file://C:\\Users\\9509298u\\AppData\\Local\\miniconda3\\envs\\ocp7-scoring-model-cloud\\lib\\site-packages\\kedro\\io\\data_catalog.py\u001B\\\u001B[2mdata_catalog.py\u001B[0m\u001B]8;;\u001B\\\u001B[2m:\u001B[0m\u001B]8;id=444788;file://C:\\Users\\9509298u\\AppData\\Local\\miniconda3\\envs\\ocp7-scoring-model-cloud\\lib\\site-packages\\kedro\\io\\data_catalog.py#483\u001B\\\u001B[2m483\u001B[0m\u001B]8;;\u001B\\\n",
      "text/html": "<pre style=\"white-space:pre;overflow-x:auto;line-height:normal;font-family:Menlo,'DejaVu Sans Mono',consolas,'Courier New',monospace\"><span style=\"color: #7fbfbf; text-decoration-color: #7fbfbf\">[05/10/24 14:49:08] </span><span style=\"color: #000080; text-decoration-color: #000080\">INFO    </span> Loading data from <span style=\"color: #ff8700; text-decoration-color: #ff8700\">application_test</span> <span style=\"font-weight: bold\">(</span>CSVDataset<span style=\"font-weight: bold\">)</span><span style=\"color: #808000; text-decoration-color: #808000\">...</span>                 <a href=\"file://C:\\Users\\9509298u\\AppData\\Local\\miniconda3\\envs\\ocp7-scoring-model-cloud\\lib\\site-packages\\kedro\\io\\data_catalog.py\" target=\"_blank\"><span style=\"color: #7f7f7f; text-decoration-color: #7f7f7f\">data_catalog.py</span></a><span style=\"color: #7f7f7f; text-decoration-color: #7f7f7f\">:</span><a href=\"file://C:\\Users\\9509298u\\AppData\\Local\\miniconda3\\envs\\ocp7-scoring-model-cloud\\lib\\site-packages\\kedro\\io\\data_catalog.py#483\" target=\"_blank\"><span style=\"color: #7f7f7f; text-decoration-color: #7f7f7f\">483</span></a>\n</pre>\n"
     },
     "metadata": {},
     "output_type": "display_data"
    },
    {
     "data": {
      "text/plain": "\u001B[2;36m                   \u001B[0m\u001B[2;36m \u001B[0m\u001B[34mINFO    \u001B[0m Loading data from \u001B[38;5;208mbureau\u001B[0m \u001B[1m(\u001B[0mCSVDataset\u001B[1m)\u001B[0m\u001B[33m...\u001B[0m                           \u001B]8;id=959449;file://C:\\Users\\9509298u\\AppData\\Local\\miniconda3\\envs\\ocp7-scoring-model-cloud\\lib\\site-packages\\kedro\\io\\data_catalog.py\u001B\\\u001B[2mdata_catalog.py\u001B[0m\u001B]8;;\u001B\\\u001B[2m:\u001B[0m\u001B]8;id=169116;file://C:\\Users\\9509298u\\AppData\\Local\\miniconda3\\envs\\ocp7-scoring-model-cloud\\lib\\site-packages\\kedro\\io\\data_catalog.py#483\u001B\\\u001B[2m483\u001B[0m\u001B]8;;\u001B\\\n",
      "text/html": "<pre style=\"white-space:pre;overflow-x:auto;line-height:normal;font-family:Menlo,'DejaVu Sans Mono',consolas,'Courier New',monospace\"><span style=\"color: #7fbfbf; text-decoration-color: #7fbfbf\">                    </span><span style=\"color: #000080; text-decoration-color: #000080\">INFO    </span> Loading data from <span style=\"color: #ff8700; text-decoration-color: #ff8700\">bureau</span> <span style=\"font-weight: bold\">(</span>CSVDataset<span style=\"font-weight: bold\">)</span><span style=\"color: #808000; text-decoration-color: #808000\">...</span>                           <a href=\"file://C:\\Users\\9509298u\\AppData\\Local\\miniconda3\\envs\\ocp7-scoring-model-cloud\\lib\\site-packages\\kedro\\io\\data_catalog.py\" target=\"_blank\"><span style=\"color: #7f7f7f; text-decoration-color: #7f7f7f\">data_catalog.py</span></a><span style=\"color: #7f7f7f; text-decoration-color: #7f7f7f\">:</span><a href=\"file://C:\\Users\\9509298u\\AppData\\Local\\miniconda3\\envs\\ocp7-scoring-model-cloud\\lib\\site-packages\\kedro\\io\\data_catalog.py#483\" target=\"_blank\"><span style=\"color: #7f7f7f; text-decoration-color: #7f7f7f\">483</span></a>\n</pre>\n"
     },
     "metadata": {},
     "output_type": "display_data"
    },
    {
     "data": {
      "text/plain": "\u001B[2;36m[05/10/24 14:49:10]\u001B[0m\u001B[2;36m \u001B[0m\u001B[34mINFO    \u001B[0m Loading data from \u001B[38;5;208mbureau_balance\u001B[0m \u001B[1m(\u001B[0mCSVDataset\u001B[1m)\u001B[0m\u001B[33m...\u001B[0m                   \u001B]8;id=596416;file://C:\\Users\\9509298u\\AppData\\Local\\miniconda3\\envs\\ocp7-scoring-model-cloud\\lib\\site-packages\\kedro\\io\\data_catalog.py\u001B\\\u001B[2mdata_catalog.py\u001B[0m\u001B]8;;\u001B\\\u001B[2m:\u001B[0m\u001B]8;id=808599;file://C:\\Users\\9509298u\\AppData\\Local\\miniconda3\\envs\\ocp7-scoring-model-cloud\\lib\\site-packages\\kedro\\io\\data_catalog.py#483\u001B\\\u001B[2m483\u001B[0m\u001B]8;;\u001B\\\n",
      "text/html": "<pre style=\"white-space:pre;overflow-x:auto;line-height:normal;font-family:Menlo,'DejaVu Sans Mono',consolas,'Courier New',monospace\"><span style=\"color: #7fbfbf; text-decoration-color: #7fbfbf\">[05/10/24 14:49:10] </span><span style=\"color: #000080; text-decoration-color: #000080\">INFO    </span> Loading data from <span style=\"color: #ff8700; text-decoration-color: #ff8700\">bureau_balance</span> <span style=\"font-weight: bold\">(</span>CSVDataset<span style=\"font-weight: bold\">)</span><span style=\"color: #808000; text-decoration-color: #808000\">...</span>                   <a href=\"file://C:\\Users\\9509298u\\AppData\\Local\\miniconda3\\envs\\ocp7-scoring-model-cloud\\lib\\site-packages\\kedro\\io\\data_catalog.py\" target=\"_blank\"><span style=\"color: #7f7f7f; text-decoration-color: #7f7f7f\">data_catalog.py</span></a><span style=\"color: #7f7f7f; text-decoration-color: #7f7f7f\">:</span><a href=\"file://C:\\Users\\9509298u\\AppData\\Local\\miniconda3\\envs\\ocp7-scoring-model-cloud\\lib\\site-packages\\kedro\\io\\data_catalog.py#483\" target=\"_blank\"><span style=\"color: #7f7f7f; text-decoration-color: #7f7f7f\">483</span></a>\n</pre>\n"
     },
     "metadata": {},
     "output_type": "display_data"
    },
    {
     "data": {
      "text/plain": "\u001B[2;36m[05/10/24 14:49:12]\u001B[0m\u001B[2;36m \u001B[0m\u001B[34mINFO    \u001B[0m Loading data from \u001B[38;5;208mprevious_application\u001B[0m \u001B[1m(\u001B[0mCSVDataset\u001B[1m)\u001B[0m\u001B[33m...\u001B[0m             \u001B]8;id=157343;file://C:\\Users\\9509298u\\AppData\\Local\\miniconda3\\envs\\ocp7-scoring-model-cloud\\lib\\site-packages\\kedro\\io\\data_catalog.py\u001B\\\u001B[2mdata_catalog.py\u001B[0m\u001B]8;;\u001B\\\u001B[2m:\u001B[0m\u001B]8;id=515647;file://C:\\Users\\9509298u\\AppData\\Local\\miniconda3\\envs\\ocp7-scoring-model-cloud\\lib\\site-packages\\kedro\\io\\data_catalog.py#483\u001B\\\u001B[2m483\u001B[0m\u001B]8;;\u001B\\\n",
      "text/html": "<pre style=\"white-space:pre;overflow-x:auto;line-height:normal;font-family:Menlo,'DejaVu Sans Mono',consolas,'Courier New',monospace\"><span style=\"color: #7fbfbf; text-decoration-color: #7fbfbf\">[05/10/24 14:49:12] </span><span style=\"color: #000080; text-decoration-color: #000080\">INFO    </span> Loading data from <span style=\"color: #ff8700; text-decoration-color: #ff8700\">previous_application</span> <span style=\"font-weight: bold\">(</span>CSVDataset<span style=\"font-weight: bold\">)</span><span style=\"color: #808000; text-decoration-color: #808000\">...</span>             <a href=\"file://C:\\Users\\9509298u\\AppData\\Local\\miniconda3\\envs\\ocp7-scoring-model-cloud\\lib\\site-packages\\kedro\\io\\data_catalog.py\" target=\"_blank\"><span style=\"color: #7f7f7f; text-decoration-color: #7f7f7f\">data_catalog.py</span></a><span style=\"color: #7f7f7f; text-decoration-color: #7f7f7f\">:</span><a href=\"file://C:\\Users\\9509298u\\AppData\\Local\\miniconda3\\envs\\ocp7-scoring-model-cloud\\lib\\site-packages\\kedro\\io\\data_catalog.py#483\" target=\"_blank\"><span style=\"color: #7f7f7f; text-decoration-color: #7f7f7f\">483</span></a>\n</pre>\n"
     },
     "metadata": {},
     "output_type": "display_data"
    },
    {
     "data": {
      "text/plain": "\u001B[2;36m[05/10/24 14:49:16]\u001B[0m\u001B[2;36m \u001B[0m\u001B[34mINFO    \u001B[0m Loading data from \u001B[38;5;208mpos_cash_balance\u001B[0m \u001B[1m(\u001B[0mCSVDataset\u001B[1m)\u001B[0m\u001B[33m...\u001B[0m                 \u001B]8;id=801331;file://C:\\Users\\9509298u\\AppData\\Local\\miniconda3\\envs\\ocp7-scoring-model-cloud\\lib\\site-packages\\kedro\\io\\data_catalog.py\u001B\\\u001B[2mdata_catalog.py\u001B[0m\u001B]8;;\u001B\\\u001B[2m:\u001B[0m\u001B]8;id=983386;file://C:\\Users\\9509298u\\AppData\\Local\\miniconda3\\envs\\ocp7-scoring-model-cloud\\lib\\site-packages\\kedro\\io\\data_catalog.py#483\u001B\\\u001B[2m483\u001B[0m\u001B]8;;\u001B\\\n",
      "text/html": "<pre style=\"white-space:pre;overflow-x:auto;line-height:normal;font-family:Menlo,'DejaVu Sans Mono',consolas,'Courier New',monospace\"><span style=\"color: #7fbfbf; text-decoration-color: #7fbfbf\">[05/10/24 14:49:16] </span><span style=\"color: #000080; text-decoration-color: #000080\">INFO    </span> Loading data from <span style=\"color: #ff8700; text-decoration-color: #ff8700\">pos_cash_balance</span> <span style=\"font-weight: bold\">(</span>CSVDataset<span style=\"font-weight: bold\">)</span><span style=\"color: #808000; text-decoration-color: #808000\">...</span>                 <a href=\"file://C:\\Users\\9509298u\\AppData\\Local\\miniconda3\\envs\\ocp7-scoring-model-cloud\\lib\\site-packages\\kedro\\io\\data_catalog.py\" target=\"_blank\"><span style=\"color: #7f7f7f; text-decoration-color: #7f7f7f\">data_catalog.py</span></a><span style=\"color: #7f7f7f; text-decoration-color: #7f7f7f\">:</span><a href=\"file://C:\\Users\\9509298u\\AppData\\Local\\miniconda3\\envs\\ocp7-scoring-model-cloud\\lib\\site-packages\\kedro\\io\\data_catalog.py#483\" target=\"_blank\"><span style=\"color: #7f7f7f; text-decoration-color: #7f7f7f\">483</span></a>\n</pre>\n"
     },
     "metadata": {},
     "output_type": "display_data"
    },
    {
     "data": {
      "text/plain": "\u001B[2;36m[05/10/24 14:49:19]\u001B[0m\u001B[2;36m \u001B[0m\u001B[34mINFO    \u001B[0m Loading data from \u001B[38;5;208minstallments_payments\u001B[0m \u001B[1m(\u001B[0mCSVDataset\u001B[1m)\u001B[0m\u001B[33m...\u001B[0m            \u001B]8;id=898415;file://C:\\Users\\9509298u\\AppData\\Local\\miniconda3\\envs\\ocp7-scoring-model-cloud\\lib\\site-packages\\kedro\\io\\data_catalog.py\u001B\\\u001B[2mdata_catalog.py\u001B[0m\u001B]8;;\u001B\\\u001B[2m:\u001B[0m\u001B]8;id=629838;file://C:\\Users\\9509298u\\AppData\\Local\\miniconda3\\envs\\ocp7-scoring-model-cloud\\lib\\site-packages\\kedro\\io\\data_catalog.py#483\u001B\\\u001B[2m483\u001B[0m\u001B]8;;\u001B\\\n",
      "text/html": "<pre style=\"white-space:pre;overflow-x:auto;line-height:normal;font-family:Menlo,'DejaVu Sans Mono',consolas,'Courier New',monospace\"><span style=\"color: #7fbfbf; text-decoration-color: #7fbfbf\">[05/10/24 14:49:19] </span><span style=\"color: #000080; text-decoration-color: #000080\">INFO    </span> Loading data from <span style=\"color: #ff8700; text-decoration-color: #ff8700\">installments_payments</span> <span style=\"font-weight: bold\">(</span>CSVDataset<span style=\"font-weight: bold\">)</span><span style=\"color: #808000; text-decoration-color: #808000\">...</span>            <a href=\"file://C:\\Users\\9509298u\\AppData\\Local\\miniconda3\\envs\\ocp7-scoring-model-cloud\\lib\\site-packages\\kedro\\io\\data_catalog.py\" target=\"_blank\"><span style=\"color: #7f7f7f; text-decoration-color: #7f7f7f\">data_catalog.py</span></a><span style=\"color: #7f7f7f; text-decoration-color: #7f7f7f\">:</span><a href=\"file://C:\\Users\\9509298u\\AppData\\Local\\miniconda3\\envs\\ocp7-scoring-model-cloud\\lib\\site-packages\\kedro\\io\\data_catalog.py#483\" target=\"_blank\"><span style=\"color: #7f7f7f; text-decoration-color: #7f7f7f\">483</span></a>\n</pre>\n"
     },
     "metadata": {},
     "output_type": "display_data"
    },
    {
     "data": {
      "text/plain": "\u001B[2;36m[05/10/24 14:49:24]\u001B[0m\u001B[2;36m \u001B[0m\u001B[34mINFO    \u001B[0m Loading data from \u001B[38;5;208mcredit_card_balance\u001B[0m \u001B[1m(\u001B[0mCSVDataset\u001B[1m)\u001B[0m\u001B[33m...\u001B[0m              \u001B]8;id=14462;file://C:\\Users\\9509298u\\AppData\\Local\\miniconda3\\envs\\ocp7-scoring-model-cloud\\lib\\site-packages\\kedro\\io\\data_catalog.py\u001B\\\u001B[2mdata_catalog.py\u001B[0m\u001B]8;;\u001B\\\u001B[2m:\u001B[0m\u001B]8;id=88335;file://C:\\Users\\9509298u\\AppData\\Local\\miniconda3\\envs\\ocp7-scoring-model-cloud\\lib\\site-packages\\kedro\\io\\data_catalog.py#483\u001B\\\u001B[2m483\u001B[0m\u001B]8;;\u001B\\\n",
      "text/html": "<pre style=\"white-space:pre;overflow-x:auto;line-height:normal;font-family:Menlo,'DejaVu Sans Mono',consolas,'Courier New',monospace\"><span style=\"color: #7fbfbf; text-decoration-color: #7fbfbf\">[05/10/24 14:49:24] </span><span style=\"color: #000080; text-decoration-color: #000080\">INFO    </span> Loading data from <span style=\"color: #ff8700; text-decoration-color: #ff8700\">credit_card_balance</span> <span style=\"font-weight: bold\">(</span>CSVDataset<span style=\"font-weight: bold\">)</span><span style=\"color: #808000; text-decoration-color: #808000\">...</span>              <a href=\"file://C:\\Users\\9509298u\\AppData\\Local\\miniconda3\\envs\\ocp7-scoring-model-cloud\\lib\\site-packages\\kedro\\io\\data_catalog.py\" target=\"_blank\"><span style=\"color: #7f7f7f; text-decoration-color: #7f7f7f\">data_catalog.py</span></a><span style=\"color: #7f7f7f; text-decoration-color: #7f7f7f\">:</span><a href=\"file://C:\\Users\\9509298u\\AppData\\Local\\miniconda3\\envs\\ocp7-scoring-model-cloud\\lib\\site-packages\\kedro\\io\\data_catalog.py#483\" target=\"_blank\"><span style=\"color: #7f7f7f; text-decoration-color: #7f7f7f\">483</span></a>\n</pre>\n"
     },
     "metadata": {},
     "output_type": "display_data"
    },
    {
     "name": "stdout",
     "output_type": "stream",
     "text": [
      "Train samples: 48744\n"
     ]
    }
   ],
   "source": [
    "dataset_type = \"\" #change for \"_debug\" to load the debug dataset\n",
    "\n",
    "df_test = catalog.load(\"application_test\" + dataset_type)\n",
    "bureau_df = catalog.load(\"bureau\"+dataset_type)\n",
    "bureau_balance_df = catalog.load(\"bureau_balance\"+dataset_type)\n",
    "previous_application_df = catalog.load(\"previous_application\"+dataset_type)\n",
    "pos_cash_df = catalog.load(\"pos_cash_balance\"+dataset_type)\n",
    "installments_payments_df = catalog.load(\"installments_payments\"+dataset_type)\n",
    "credit_card_balance_df = catalog.load(\"credit_card_balance\"+dataset_type)\n",
    "\n",
    "preprocessed_df = preprocess_merge_datasets(df_test, bureau_df, bureau_balance_df, previous_application_df, pos_cash_df, installments_payments_df, credit_card_balance_df)"
   ],
   "metadata": {
    "collapsed": false,
    "ExecuteTime": {
     "end_time": "2024-05-10T12:50:15.340949800Z",
     "start_time": "2024-05-10T12:49:08.303594600Z"
    }
   },
   "id": "272657673d694b71"
  },
  {
   "cell_type": "code",
   "execution_count": 8,
   "outputs": [
    {
     "data": {
      "text/plain": "\u001B[2;36m[05/10/24 14:51:42]\u001B[0m\u001B[2;36m \u001B[0m\u001B[34mINFO    \u001B[0m Saving data to \u001B[38;5;208mpreprocessed_test_df\u001B[0m \u001B[1m(\u001B[0mParquetDataset\u001B[1m)\u001B[0m\u001B[33m...\u001B[0m            \u001B]8;id=415621;file://C:\\Users\\9509298u\\AppData\\Local\\miniconda3\\envs\\ocp7-scoring-model-cloud\\lib\\site-packages\\kedro\\io\\data_catalog.py\u001B\\\u001B[2mdata_catalog.py\u001B[0m\u001B]8;;\u001B\\\u001B[2m:\u001B[0m\u001B]8;id=214086;file://C:\\Users\\9509298u\\AppData\\Local\\miniconda3\\envs\\ocp7-scoring-model-cloud\\lib\\site-packages\\kedro\\io\\data_catalog.py#525\u001B\\\u001B[2m525\u001B[0m\u001B]8;;\u001B\\\n",
      "text/html": "<pre style=\"white-space:pre;overflow-x:auto;line-height:normal;font-family:Menlo,'DejaVu Sans Mono',consolas,'Courier New',monospace\"><span style=\"color: #7fbfbf; text-decoration-color: #7fbfbf\">[05/10/24 14:51:42] </span><span style=\"color: #000080; text-decoration-color: #000080\">INFO    </span> Saving data to <span style=\"color: #ff8700; text-decoration-color: #ff8700\">preprocessed_test_df</span> <span style=\"font-weight: bold\">(</span>ParquetDataset<span style=\"font-weight: bold\">)</span><span style=\"color: #808000; text-decoration-color: #808000\">...</span>            <a href=\"file://C:\\Users\\9509298u\\AppData\\Local\\miniconda3\\envs\\ocp7-scoring-model-cloud\\lib\\site-packages\\kedro\\io\\data_catalog.py\" target=\"_blank\"><span style=\"color: #7f7f7f; text-decoration-color: #7f7f7f\">data_catalog.py</span></a><span style=\"color: #7f7f7f; text-decoration-color: #7f7f7f\">:</span><a href=\"file://C:\\Users\\9509298u\\AppData\\Local\\miniconda3\\envs\\ocp7-scoring-model-cloud\\lib\\site-packages\\kedro\\io\\data_catalog.py#525\" target=\"_blank\"><span style=\"color: #7f7f7f; text-decoration-color: #7f7f7f\">525</span></a>\n</pre>\n"
     },
     "metadata": {},
     "output_type": "display_data"
    }
   ],
   "source": [
    "catalog.save(\"preprocessed_test_df\", preprocessed_df)"
   ],
   "metadata": {
    "collapsed": false,
    "ExecuteTime": {
     "end_time": "2024-05-10T12:51:44.342758500Z",
     "start_time": "2024-05-10T12:51:42.602709500Z"
    }
   },
   "id": "7308972e248e7407"
  },
  {
   "cell_type": "code",
   "execution_count": 22,
   "outputs": [
    {
     "data": {
      "text/plain": "\u001B[2;36m[05/10/24 15:20:51]\u001B[0m\u001B[2;36m \u001B[0m\u001B[34mINFO    \u001B[0m Loading data from \u001B[38;5;208mpreprocessed_test_df\u001B[0m \u001B[1m(\u001B[0mParquetDataset\u001B[1m)\u001B[0m\u001B[33m...\u001B[0m         \u001B]8;id=355663;file://C:\\Users\\9509298u\\AppData\\Local\\miniconda3\\envs\\ocp7-scoring-model-cloud\\lib\\site-packages\\kedro\\io\\data_catalog.py\u001B\\\u001B[2mdata_catalog.py\u001B[0m\u001B]8;;\u001B\\\u001B[2m:\u001B[0m\u001B]8;id=969853;file://C:\\Users\\9509298u\\AppData\\Local\\miniconda3\\envs\\ocp7-scoring-model-cloud\\lib\\site-packages\\kedro\\io\\data_catalog.py#483\u001B\\\u001B[2m483\u001B[0m\u001B]8;;\u001B\\\n",
      "text/html": "<pre style=\"white-space:pre;overflow-x:auto;line-height:normal;font-family:Menlo,'DejaVu Sans Mono',consolas,'Courier New',monospace\"><span style=\"color: #7fbfbf; text-decoration-color: #7fbfbf\">[05/10/24 15:20:51] </span><span style=\"color: #000080; text-decoration-color: #000080\">INFO    </span> Loading data from <span style=\"color: #ff8700; text-decoration-color: #ff8700\">preprocessed_test_df</span> <span style=\"font-weight: bold\">(</span>ParquetDataset<span style=\"font-weight: bold\">)</span><span style=\"color: #808000; text-decoration-color: #808000\">...</span>         <a href=\"file://C:\\Users\\9509298u\\AppData\\Local\\miniconda3\\envs\\ocp7-scoring-model-cloud\\lib\\site-packages\\kedro\\io\\data_catalog.py\" target=\"_blank\"><span style=\"color: #7f7f7f; text-decoration-color: #7f7f7f\">data_catalog.py</span></a><span style=\"color: #7f7f7f; text-decoration-color: #7f7f7f\">:</span><a href=\"file://C:\\Users\\9509298u\\AppData\\Local\\miniconda3\\envs\\ocp7-scoring-model-cloud\\lib\\site-packages\\kedro\\io\\data_catalog.py#483\" target=\"_blank\"><span style=\"color: #7f7f7f; text-decoration-color: #7f7f7f\">483</span></a>\n</pre>\n"
     },
     "metadata": {},
     "output_type": "display_data"
    }
   ],
   "source": [
    "preprocessed_test_df = catalog.load(\"preprocessed_test_df\")"
   ],
   "metadata": {
    "collapsed": false,
    "ExecuteTime": {
     "end_time": "2024-05-10T13:20:51.915686500Z",
     "start_time": "2024-05-10T13:20:51.598984700Z"
    }
   },
   "id": "cb513b5d8ef45126"
  },
  {
   "cell_type": "code",
   "execution_count": 23,
   "outputs": [
    {
     "data": {
      "text/plain": "",
      "text/html": "<pre style=\"white-space:pre;overflow-x:auto;line-height:normal;font-family:Menlo,'DejaVu Sans Mono',consolas,'Courier New',monospace\"></pre>\n"
     },
     "metadata": {},
     "output_type": "display_data"
    },
    {
     "data": {
      "text/plain": "\u001B[1m(\u001B[0m\u001B[1;36m48744\u001B[0m, \u001B[1;36m794\u001B[0m\u001B[1m)\u001B[0m"
     },
     "execution_count": 23,
     "metadata": {},
     "output_type": "execute_result"
    }
   ],
   "source": [
    "preprocessed_test_df.shape"
   ],
   "metadata": {
    "collapsed": false,
    "ExecuteTime": {
     "end_time": "2024-05-10T13:21:00.787430800Z",
     "start_time": "2024-05-10T13:21:00.674271600Z"
    }
   },
   "id": "40e390c4f036f904"
  },
  {
   "cell_type": "code",
   "execution_count": 17,
   "outputs": [],
   "source": [
    "from src.ocp7_scoring_model_cloud.pipelines.feature_processing.nodes import get_clean_features, process_features_for_ml"
   ],
   "metadata": {
    "collapsed": false,
    "ExecuteTime": {
     "end_time": "2024-05-10T12:55:53.370691Z",
     "start_time": "2024-05-10T12:55:53.257227300Z"
    }
   },
   "id": "ba79c22cba78ab3a"
  },
  {
   "cell_type": "code",
   "execution_count": 24,
   "outputs": [
    {
     "data": {
      "text/plain": "\u001B[2;36m[05/10/24 15:22:00]\u001B[0m\u001B[2;36m \u001B[0m\u001B[34mINFO    \u001B[0m Loading data from \u001B[38;5;208mfull_df_train\u001B[0m \u001B[1m(\u001B[0mParquetDataset\u001B[1m)\u001B[0m\u001B[33m...\u001B[0m                \u001B]8;id=928214;file://C:\\Users\\9509298u\\AppData\\Local\\miniconda3\\envs\\ocp7-scoring-model-cloud\\lib\\site-packages\\kedro\\io\\data_catalog.py\u001B\\\u001B[2mdata_catalog.py\u001B[0m\u001B]8;;\u001B\\\u001B[2m:\u001B[0m\u001B]8;id=785686;file://C:\\Users\\9509298u\\AppData\\Local\\miniconda3\\envs\\ocp7-scoring-model-cloud\\lib\\site-packages\\kedro\\io\\data_catalog.py#483\u001B\\\u001B[2m483\u001B[0m\u001B]8;;\u001B\\\n",
      "text/html": "<pre style=\"white-space:pre;overflow-x:auto;line-height:normal;font-family:Menlo,'DejaVu Sans Mono',consolas,'Courier New',monospace\"><span style=\"color: #7fbfbf; text-decoration-color: #7fbfbf\">[05/10/24 15:22:00] </span><span style=\"color: #000080; text-decoration-color: #000080\">INFO    </span> Loading data from <span style=\"color: #ff8700; text-decoration-color: #ff8700\">full_df_train</span> <span style=\"font-weight: bold\">(</span>ParquetDataset<span style=\"font-weight: bold\">)</span><span style=\"color: #808000; text-decoration-color: #808000\">...</span>                <a href=\"file://C:\\Users\\9509298u\\AppData\\Local\\miniconda3\\envs\\ocp7-scoring-model-cloud\\lib\\site-packages\\kedro\\io\\data_catalog.py\" target=\"_blank\"><span style=\"color: #7f7f7f; text-decoration-color: #7f7f7f\">data_catalog.py</span></a><span style=\"color: #7f7f7f; text-decoration-color: #7f7f7f\">:</span><a href=\"file://C:\\Users\\9509298u\\AppData\\Local\\miniconda3\\envs\\ocp7-scoring-model-cloud\\lib\\site-packages\\kedro\\io\\data_catalog.py#483\" target=\"_blank\"><span style=\"color: #7f7f7f; text-decoration-color: #7f7f7f\">483</span></a>\n</pre>\n"
     },
     "metadata": {},
     "output_type": "display_data"
    }
   ],
   "source": [
    "full_df_train = catalog.load(\"full_df_train\")"
   ],
   "metadata": {
    "collapsed": false,
    "ExecuteTime": {
     "end_time": "2024-05-10T13:22:01.063549Z",
     "start_time": "2024-05-10T13:22:00.342016400Z"
    }
   },
   "id": "451d410eafe8b38e"
  },
  {
   "cell_type": "code",
   "execution_count": 26,
   "outputs": [],
   "source": [
    "features_list = [x for x in full_df_train.columns.tolist() if x not in [\"SK_ID_CURR\", \"TARGET\"]]"
   ],
   "metadata": {
    "collapsed": false,
    "ExecuteTime": {
     "end_time": "2024-05-10T13:24:41.518729400Z",
     "start_time": "2024-05-10T13:24:41.427680Z"
    }
   },
   "id": "d25f00589e9c8d66"
  },
  {
   "cell_type": "code",
   "execution_count": 28,
   "outputs": [
    {
     "data": {
      "text/plain": "\u001B[31m╭─\u001B[0m\u001B[31m──────────────────────────────\u001B[0m\u001B[31m \u001B[0m\u001B[1;31mTraceback \u001B[0m\u001B[1;2;31m(most recent call last)\u001B[0m\u001B[31m \u001B[0m\u001B[31m───────────────────────────────\u001B[0m\u001B[31m─╮\u001B[0m\n\u001B[31m│\u001B[0m in \u001B[92m<module>\u001B[0m:\u001B[94m1\u001B[0m                                                                                    \u001B[31m│\u001B[0m\n\u001B[31m│\u001B[0m                                                                                                  \u001B[31m│\u001B[0m\n\u001B[31m│\u001B[0m \u001B[31m❱ \u001B[0m1 features_test_df = preprocessed_test_df[[\u001B[33m\"\u001B[0m\u001B[33mSK_ID_CURR\u001B[0m\u001B[33m\"\u001B[0m]+features_list]                        \u001B[31m│\u001B[0m\n\u001B[31m│\u001B[0m   \u001B[2m2 \u001B[0m                                                                                             \u001B[31m│\u001B[0m\n\u001B[31m│\u001B[0m                                                                                                  \u001B[31m│\u001B[0m\n\u001B[31m│\u001B[0m \u001B[33mC:\\Users\\9509298u\\AppData\\Local\\miniconda3\\envs\\ocp7-scoring-model-cloud\\lib\\site-packages\\panda\u001B[0m \u001B[31m│\u001B[0m\n\u001B[31m│\u001B[0m \u001B[33ms\\core\\frame.py\u001B[0m:\u001B[94m3899\u001B[0m in \u001B[92m__getitem__\u001B[0m                                                              \u001B[31m│\u001B[0m\n\u001B[31m│\u001B[0m                                                                                                  \u001B[31m│\u001B[0m\n\u001B[31m│\u001B[0m \u001B[33mC:\\Users\\9509298u\\AppData\\Local\\miniconda3\\envs\\ocp7-scoring-model-cloud\\lib\\site-packages\\panda\u001B[0m \u001B[31m│\u001B[0m\n\u001B[31m│\u001B[0m \u001B[33ms\\core\\indexes\\base.py\u001B[0m:\u001B[94m6115\u001B[0m in \u001B[92m_get_indexer_strict\u001B[0m                                               \u001B[31m│\u001B[0m\n\u001B[31m│\u001B[0m                                                                                                  \u001B[31m│\u001B[0m\n\u001B[31m│\u001B[0m \u001B[33mC:\\Users\\9509298u\\AppData\\Local\\miniconda3\\envs\\ocp7-scoring-model-cloud\\lib\\site-packages\\panda\u001B[0m \u001B[31m│\u001B[0m\n\u001B[31m│\u001B[0m \u001B[33ms\\core\\indexes\\base.py\u001B[0m:\u001B[94m6179\u001B[0m in \u001B[92m_raise_if_missing\u001B[0m                                                 \u001B[31m│\u001B[0m\n\u001B[31m╰──────────────────────────────────────────────────────────────────────────────────────────────────╯\u001B[0m\n\u001B[1;91mKeyError: \u001B[0m\u001B[32m\"\u001B[0m\u001B[32m[\u001B[0m\u001B[32m'NAME_INCOME_TYPE_Maternityleave', 'NAME_FAMILY_STATUS_Unknown'\u001B[0m\u001B[32m]\u001B[0m\u001B[32m not in index\"\u001B[0m\n",
      "text/html": "<pre style=\"white-space:pre;overflow-x:auto;line-height:normal;font-family:Menlo,'DejaVu Sans Mono',consolas,'Courier New',monospace\"><span style=\"color: #800000; text-decoration-color: #800000\">╭─────────────────────────────── </span><span style=\"color: #800000; text-decoration-color: #800000; font-weight: bold\">Traceback </span><span style=\"color: #bf7f7f; text-decoration-color: #bf7f7f; font-weight: bold\">(most recent call last)</span><span style=\"color: #800000; text-decoration-color: #800000\"> ────────────────────────────────╮</span>\n<span style=\"color: #800000; text-decoration-color: #800000\">│</span> in <span style=\"color: #00ff00; text-decoration-color: #00ff00\">&lt;module&gt;</span>:<span style=\"color: #0000ff; text-decoration-color: #0000ff\">1</span>                                                                                    <span style=\"color: #800000; text-decoration-color: #800000\">│</span>\n<span style=\"color: #800000; text-decoration-color: #800000\">│</span>                                                                                                  <span style=\"color: #800000; text-decoration-color: #800000\">│</span>\n<span style=\"color: #800000; text-decoration-color: #800000\">│</span> <span style=\"color: #800000; text-decoration-color: #800000\">❱ </span>1 features_test_df = preprocessed_test_df[[<span style=\"color: #808000; text-decoration-color: #808000\">\"SK_ID_CURR\"</span>]+features_list]                        <span style=\"color: #800000; text-decoration-color: #800000\">│</span>\n<span style=\"color: #800000; text-decoration-color: #800000\">│</span>   <span style=\"color: #7f7f7f; text-decoration-color: #7f7f7f\">2 </span>                                                                                             <span style=\"color: #800000; text-decoration-color: #800000\">│</span>\n<span style=\"color: #800000; text-decoration-color: #800000\">│</span>                                                                                                  <span style=\"color: #800000; text-decoration-color: #800000\">│</span>\n<span style=\"color: #800000; text-decoration-color: #800000\">│</span> <span style=\"color: #808000; text-decoration-color: #808000\">C:\\Users\\9509298u\\AppData\\Local\\miniconda3\\envs\\ocp7-scoring-model-cloud\\lib\\site-packages\\panda</span> <span style=\"color: #800000; text-decoration-color: #800000\">│</span>\n<span style=\"color: #800000; text-decoration-color: #800000\">│</span> <span style=\"color: #808000; text-decoration-color: #808000\">s\\core\\frame.py</span>:<span style=\"color: #0000ff; text-decoration-color: #0000ff\">3899</span> in <span style=\"color: #00ff00; text-decoration-color: #00ff00\">__getitem__</span>                                                              <span style=\"color: #800000; text-decoration-color: #800000\">│</span>\n<span style=\"color: #800000; text-decoration-color: #800000\">│</span>                                                                                                  <span style=\"color: #800000; text-decoration-color: #800000\">│</span>\n<span style=\"color: #800000; text-decoration-color: #800000\">│</span> <span style=\"color: #808000; text-decoration-color: #808000\">C:\\Users\\9509298u\\AppData\\Local\\miniconda3\\envs\\ocp7-scoring-model-cloud\\lib\\site-packages\\panda</span> <span style=\"color: #800000; text-decoration-color: #800000\">│</span>\n<span style=\"color: #800000; text-decoration-color: #800000\">│</span> <span style=\"color: #808000; text-decoration-color: #808000\">s\\core\\indexes\\base.py</span>:<span style=\"color: #0000ff; text-decoration-color: #0000ff\">6115</span> in <span style=\"color: #00ff00; text-decoration-color: #00ff00\">_get_indexer_strict</span>                                               <span style=\"color: #800000; text-decoration-color: #800000\">│</span>\n<span style=\"color: #800000; text-decoration-color: #800000\">│</span>                                                                                                  <span style=\"color: #800000; text-decoration-color: #800000\">│</span>\n<span style=\"color: #800000; text-decoration-color: #800000\">│</span> <span style=\"color: #808000; text-decoration-color: #808000\">C:\\Users\\9509298u\\AppData\\Local\\miniconda3\\envs\\ocp7-scoring-model-cloud\\lib\\site-packages\\panda</span> <span style=\"color: #800000; text-decoration-color: #800000\">│</span>\n<span style=\"color: #800000; text-decoration-color: #800000\">│</span> <span style=\"color: #808000; text-decoration-color: #808000\">s\\core\\indexes\\base.py</span>:<span style=\"color: #0000ff; text-decoration-color: #0000ff\">6179</span> in <span style=\"color: #00ff00; text-decoration-color: #00ff00\">_raise_if_missing</span>                                                 <span style=\"color: #800000; text-decoration-color: #800000\">│</span>\n<span style=\"color: #800000; text-decoration-color: #800000\">╰──────────────────────────────────────────────────────────────────────────────────────────────────╯</span>\n<span style=\"color: #ff0000; text-decoration-color: #ff0000; font-weight: bold\">KeyError: </span><span style=\"color: #008000; text-decoration-color: #008000\">\"['NAME_INCOME_TYPE_Maternityleave', 'NAME_FAMILY_STATUS_Unknown'] not in index\"</span>\n</pre>\n"
     },
     "metadata": {},
     "output_type": "display_data"
    }
   ],
   "source": [
    "features_test_df = preprocessed_test_df[[\"SK_ID_CURR\"]+features_list]"
   ],
   "metadata": {
    "collapsed": false,
    "ExecuteTime": {
     "end_time": "2024-05-10T13:25:40.525968400Z",
     "start_time": "2024-05-10T13:25:40.317701800Z"
    }
   },
   "id": "ff240e6c9028fd61"
  },
  {
   "cell_type": "code",
   "execution_count": 12,
   "outputs": [],
   "source": [
    "features_test_df = get_clean_features(preprocessed_test_df)"
   ],
   "metadata": {
    "collapsed": false,
    "ExecuteTime": {
     "end_time": "2024-05-10T12:53:03.150143400Z",
     "start_time": "2024-05-10T12:53:02.203496600Z"
    }
   },
   "id": "a301f997cfd92cb6"
  },
  {
   "cell_type": "code",
   "execution_count": 18,
   "outputs": [
    {
     "name": "stdout",
     "output_type": "stream",
     "text": [
      "Training Features shape:  (48744, 481)\n"
     ]
    }
   ],
   "source": [
    "features_df = process_features_for_ml(features_test_df)"
   ],
   "metadata": {
    "collapsed": false,
    "ExecuteTime": {
     "end_time": "2024-05-10T12:55:57.927389800Z",
     "start_time": "2024-05-10T12:55:54.891342200Z"
    }
   },
   "id": "66a82f694c0f8cd2"
  },
  {
   "cell_type": "code",
   "execution_count": 19,
   "outputs": [
    {
     "data": {
      "text/plain": "",
      "text/html": "<pre style=\"white-space:pre;overflow-x:auto;line-height:normal;font-family:Menlo,'DejaVu Sans Mono',consolas,'Courier New',monospace\"></pre>\n"
     },
     "metadata": {},
     "output_type": "display_data"
    },
    {
     "data": {
      "text/plain": "\n   CODE_GENDER  FLAG_OWN_CAR  FLAG_OWN_REALTY  CNT_CHILDREN  AMT_INCOME_TOTAL  \\\n\u001B[1;36m0\u001B[0m          \u001B[1;36m0.0\u001B[0m           \u001B[1;36m0.0\u001B[0m              \u001B[1;36m0.0\u001B[0m          \u001B[1;36m0.00\u001B[0m          \u001B[1;36m0.024654\u001B[0m   \n\u001B[1;36m1\u001B[0m          \u001B[1;36m1.0\u001B[0m           \u001B[1;36m0.0\u001B[0m              \u001B[1;36m0.0\u001B[0m          \u001B[1;36m0.00\u001B[0m          \u001B[1;36m0.016440\u001B[0m   \n\u001B[1;36m2\u001B[0m          \u001B[1;36m1.0\u001B[0m           \u001B[1;36m1.0\u001B[0m              \u001B[1;36m0.0\u001B[0m          \u001B[1;36m0.00\u001B[0m          \u001B[1;36m0.040054\u001B[0m   \n\u001B[1;36m3\u001B[0m          \u001B[1;36m0.0\u001B[0m           \u001B[1;36m0.0\u001B[0m              \u001B[1;36m0.0\u001B[0m          \u001B[1;36m0.10\u001B[0m          \u001B[1;36m0.065721\u001B[0m   \n\u001B[1;36m4\u001B[0m          \u001B[1;36m1.0\u001B[0m           \u001B[1;36m1.0\u001B[0m              \u001B[1;36m1.0\u001B[0m          \u001B[1;36m0.05\u001B[0m          \u001B[1;36m0.034920\u001B[0m   \n\n   AMT_CREDIT  AMT_ANNUITY  AMT_GOODS_PRICE  REGION_POPULATION_RELATIVE  \\\n\u001B[1;36m0\u001B[0m    \u001B[1;36m0.238037\u001B[0m     \u001B[1;36m0.102453\u001B[0m         \u001B[1;36m0.184049\u001B[0m                    \u001B[1;36m0.257380\u001B[0m   \n\u001B[1;36m1\u001B[0m    \u001B[1;36m0.080785\u001B[0m     \u001B[1;36m0.084558\u001B[0m         \u001B[1;36m0.061350\u001B[0m                    \u001B[1;36m0.491855\u001B[0m   \n\u001B[1;36m2\u001B[0m    \u001B[1;36m0.280965\u001B[0m     \u001B[1;36m0.378515\u001B[0m         \u001B[1;36m0.265849\u001B[0m                    \u001B[1;36m0.260854\u001B[0m   \n\u001B[1;36m3\u001B[0m    \u001B[1;36m0.695297\u001B[0m     \u001B[1;36m0.262078\u001B[0m         \u001B[1;36m0.695297\u001B[0m                    \u001B[1;36m0.361760\u001B[0m   \n\u001B[1;36m4\u001B[0m    \u001B[1;36m0.263804\u001B[0m     \u001B[1;36m0.166995\u001B[0m         \u001B[1;36m0.263804\u001B[0m                    \u001B[1;36m0.135340\u001B[0m   \n\n   DAYS_BIRTH  \u001B[33m...\u001B[0m  INSTAL_AMT_INSTALMENT_SUM  INSTAL_AMT_PAYMENT_MIN  \\\n\u001B[1;36m0\u001B[0m    \u001B[1;36m0.333427\u001B[0m  \u001B[33m...\u001B[0m                   \u001B[1;36m0.001256\u001B[0m                \u001B[1;36m0.004364\u001B[0m   \n\u001B[1;36m1\u001B[0m    \u001B[1;36m0.399339\u001B[0m  \u001B[33m...\u001B[0m                   \u001B[1;36m0.001717\u001B[0m                \u001B[1;36m0.005316\u001B[0m   \n\u001B[1;36m2\u001B[0m    \u001B[1;36m0.288794\u001B[0m  \u001B[33m...\u001B[0m                   \u001B[1;36m0.051995\u001B[0m                \u001B[1;36m0.000007\u001B[0m   \n\u001B[1;36m3\u001B[0m    \u001B[1;36m0.628269\u001B[0m  \u001B[33m...\u001B[0m                   \u001B[1;36m0.017311\u001B[0m                \u001B[1;36m0.000001\u001B[0m   \n\u001B[1;36m4\u001B[0m    \u001B[1;36m0.680685\u001B[0m  \u001B[33m...\u001B[0m                   \u001B[1;36m0.004089\u001B[0m                \u001B[1;36m0.012257\u001B[0m   \n\n   INSTAL_AMT_PAYMENT_MAX  INSTAL_AMT_PAYMENT_MEAN  INSTAL_AMT_PAYMENT_SUM  \\\n\u001B[1;36m0\u001B[0m                \u001B[1;36m0.005031\u001B[0m                 \u001B[1;36m0.006113\u001B[0m                \u001B[1;36m0.001260\u001B[0m   \n\u001B[1;36m1\u001B[0m                \u001B[1;36m0.005107\u001B[0m                 \u001B[1;36m0.006488\u001B[0m                \u001B[1;36m0.001718\u001B[0m   \n\u001B[1;36m2\u001B[0m                \u001B[1;36m0.103948\u001B[0m                 \u001B[1;36m0.010187\u001B[0m                \u001B[1;36m0.046184\u001B[0m   \n\u001B[1;36m3\u001B[0m                \u001B[1;36m0.011314\u001B[0m                 \u001B[1;36m0.004498\u001B[0m                \u001B[1;36m0.015060\u001B[0m   \n\u001B[1;36m4\u001B[0m                \u001B[1;36m0.003199\u001B[0m                 \u001B[1;36m0.011624\u001B[0m                \u001B[1;36m0.004075\u001B[0m   \n\n   INSTAL_DAYS_ENTRY_PAYMENT_MAX  INSTAL_DAYS_ENTRY_PAYMENT_MEAN  \\\n\u001B[1;36m0\u001B[0m                       \u001B[1;36m0.442999\u001B[0m                        \u001B[1;36m0.249229\u001B[0m   \n\u001B[1;36m1\u001B[0m                       \u001B[1;36m0.839439\u001B[0m                        \u001B[1;36m0.792747\u001B[0m   \n\u001B[1;36m2\u001B[0m                       \u001B[1;36m0.995549\u001B[0m                        \u001B[1;36m0.536130\u001B[0m   \n\u001B[1;36m3\u001B[0m                       \u001B[1;36m0.990414\u001B[0m                        \u001B[1;36m0.707388\u001B[0m   \n\u001B[1;36m4\u001B[0m                       \u001B[1;36m0.840808\u001B[0m                        \u001B[1;36m0.784282\u001B[0m   \n\n   INSTAL_DAYS_ENTRY_PAYMENT_SUM  INSTAL_COUNT  SK_ID_CURR  \n\u001B[1;36m0\u001B[0m                       \u001B[1;36m0.968196\u001B[0m      \u001B[1;36m0.017910\u001B[0m      \u001B[1;36m100001\u001B[0m  \n\u001B[1;36m1\u001B[0m                       \u001B[1;36m0.988644\u001B[0m      \u001B[1;36m0.023881\u001B[0m      \u001B[1;36m100005\u001B[0m  \n\u001B[1;36m2\u001B[0m                       \u001B[1;36m0.564267\u001B[0m      \u001B[1;36m0.459701\u001B[0m      \u001B[1;36m100013\u001B[0m  \n\u001B[1;36m3\u001B[0m                       \u001B[1;36m0.799184\u001B[0m      \u001B[1;36m0.334328\u001B[0m      \u001B[1;36m100028\u001B[0m  \n\u001B[1;36m4\u001B[0m                       \u001B[1;36m0.984246\u001B[0m      \u001B[1;36m0.032836\u001B[0m      \u001B[1;36m100038\u001B[0m  \n\n\u001B[1m[\u001B[0m\u001B[1;36m5\u001B[0m rows x \u001B[1;36m482\u001B[0m columns\u001B[1m]\u001B[0m",
      "text/html": "<div>\n<style scoped>\n    .dataframe tbody tr th:only-of-type {\n        vertical-align: middle;\n    }\n\n    .dataframe tbody tr th {\n        vertical-align: top;\n    }\n\n    .dataframe thead th {\n        text-align: right;\n    }\n</style>\n<table border=\"1\" class=\"dataframe\">\n  <thead>\n    <tr style=\"text-align: right;\">\n      <th></th>\n      <th>CODE_GENDER</th>\n      <th>FLAG_OWN_CAR</th>\n      <th>FLAG_OWN_REALTY</th>\n      <th>CNT_CHILDREN</th>\n      <th>AMT_INCOME_TOTAL</th>\n      <th>AMT_CREDIT</th>\n      <th>AMT_ANNUITY</th>\n      <th>AMT_GOODS_PRICE</th>\n      <th>REGION_POPULATION_RELATIVE</th>\n      <th>DAYS_BIRTH</th>\n      <th>...</th>\n      <th>INSTAL_AMT_INSTALMENT_SUM</th>\n      <th>INSTAL_AMT_PAYMENT_MIN</th>\n      <th>INSTAL_AMT_PAYMENT_MAX</th>\n      <th>INSTAL_AMT_PAYMENT_MEAN</th>\n      <th>INSTAL_AMT_PAYMENT_SUM</th>\n      <th>INSTAL_DAYS_ENTRY_PAYMENT_MAX</th>\n      <th>INSTAL_DAYS_ENTRY_PAYMENT_MEAN</th>\n      <th>INSTAL_DAYS_ENTRY_PAYMENT_SUM</th>\n      <th>INSTAL_COUNT</th>\n      <th>SK_ID_CURR</th>\n    </tr>\n  </thead>\n  <tbody>\n    <tr>\n      <th>0</th>\n      <td>0.0</td>\n      <td>0.0</td>\n      <td>0.0</td>\n      <td>0.00</td>\n      <td>0.024654</td>\n      <td>0.238037</td>\n      <td>0.102453</td>\n      <td>0.184049</td>\n      <td>0.257380</td>\n      <td>0.333427</td>\n      <td>...</td>\n      <td>0.001256</td>\n      <td>0.004364</td>\n      <td>0.005031</td>\n      <td>0.006113</td>\n      <td>0.001260</td>\n      <td>0.442999</td>\n      <td>0.249229</td>\n      <td>0.968196</td>\n      <td>0.017910</td>\n      <td>100001</td>\n    </tr>\n    <tr>\n      <th>1</th>\n      <td>1.0</td>\n      <td>0.0</td>\n      <td>0.0</td>\n      <td>0.00</td>\n      <td>0.016440</td>\n      <td>0.080785</td>\n      <td>0.084558</td>\n      <td>0.061350</td>\n      <td>0.491855</td>\n      <td>0.399339</td>\n      <td>...</td>\n      <td>0.001717</td>\n      <td>0.005316</td>\n      <td>0.005107</td>\n      <td>0.006488</td>\n      <td>0.001718</td>\n      <td>0.839439</td>\n      <td>0.792747</td>\n      <td>0.988644</td>\n      <td>0.023881</td>\n      <td>100005</td>\n    </tr>\n    <tr>\n      <th>2</th>\n      <td>1.0</td>\n      <td>1.0</td>\n      <td>0.0</td>\n      <td>0.00</td>\n      <td>0.040054</td>\n      <td>0.280965</td>\n      <td>0.378515</td>\n      <td>0.265849</td>\n      <td>0.260854</td>\n      <td>0.288794</td>\n      <td>...</td>\n      <td>0.051995</td>\n      <td>0.000007</td>\n      <td>0.103948</td>\n      <td>0.010187</td>\n      <td>0.046184</td>\n      <td>0.995549</td>\n      <td>0.536130</td>\n      <td>0.564267</td>\n      <td>0.459701</td>\n      <td>100013</td>\n    </tr>\n    <tr>\n      <th>3</th>\n      <td>0.0</td>\n      <td>0.0</td>\n      <td>0.0</td>\n      <td>0.10</td>\n      <td>0.065721</td>\n      <td>0.695297</td>\n      <td>0.262078</td>\n      <td>0.695297</td>\n      <td>0.361760</td>\n      <td>0.628269</td>\n      <td>...</td>\n      <td>0.017311</td>\n      <td>0.000001</td>\n      <td>0.011314</td>\n      <td>0.004498</td>\n      <td>0.015060</td>\n      <td>0.990414</td>\n      <td>0.707388</td>\n      <td>0.799184</td>\n      <td>0.334328</td>\n      <td>100028</td>\n    </tr>\n    <tr>\n      <th>4</th>\n      <td>1.0</td>\n      <td>1.0</td>\n      <td>1.0</td>\n      <td>0.05</td>\n      <td>0.034920</td>\n      <td>0.263804</td>\n      <td>0.166995</td>\n      <td>0.263804</td>\n      <td>0.135340</td>\n      <td>0.680685</td>\n      <td>...</td>\n      <td>0.004089</td>\n      <td>0.012257</td>\n      <td>0.003199</td>\n      <td>0.011624</td>\n      <td>0.004075</td>\n      <td>0.840808</td>\n      <td>0.784282</td>\n      <td>0.984246</td>\n      <td>0.032836</td>\n      <td>100038</td>\n    </tr>\n  </tbody>\n</table>\n<p>5 rows × 482 columns</p>\n</div>"
     },
     "execution_count": 19,
     "metadata": {},
     "output_type": "execute_result"
    }
   ],
   "source": [
    "features_df.head(5)"
   ],
   "metadata": {
    "collapsed": false,
    "ExecuteTime": {
     "end_time": "2024-05-10T12:56:11.275239200Z",
     "start_time": "2024-05-10T12:56:11.166584900Z"
    }
   },
   "id": "692a8c7b444068f2"
  },
  {
   "cell_type": "code",
   "execution_count": 21,
   "outputs": [
    {
     "data": {
      "text/plain": "\u001B[2;36m[05/10/24 14:57:06]\u001B[0m\u001B[2;36m \u001B[0m\u001B[34mINFO    \u001B[0m Saving data to \u001B[38;5;208mfull_df_test\u001B[0m \u001B[1m(\u001B[0mParquetDataset\u001B[1m)\u001B[0m\u001B[33m...\u001B[0m                    \u001B]8;id=856955;file://C:\\Users\\9509298u\\AppData\\Local\\miniconda3\\envs\\ocp7-scoring-model-cloud\\lib\\site-packages\\kedro\\io\\data_catalog.py\u001B\\\u001B[2mdata_catalog.py\u001B[0m\u001B]8;;\u001B\\\u001B[2m:\u001B[0m\u001B]8;id=606311;file://C:\\Users\\9509298u\\AppData\\Local\\miniconda3\\envs\\ocp7-scoring-model-cloud\\lib\\site-packages\\kedro\\io\\data_catalog.py#525\u001B\\\u001B[2m525\u001B[0m\u001B]8;;\u001B\\\n",
      "text/html": "<pre style=\"white-space:pre;overflow-x:auto;line-height:normal;font-family:Menlo,'DejaVu Sans Mono',consolas,'Courier New',monospace\"><span style=\"color: #7fbfbf; text-decoration-color: #7fbfbf\">[05/10/24 14:57:06] </span><span style=\"color: #000080; text-decoration-color: #000080\">INFO    </span> Saving data to <span style=\"color: #ff8700; text-decoration-color: #ff8700\">full_df_test</span> <span style=\"font-weight: bold\">(</span>ParquetDataset<span style=\"font-weight: bold\">)</span><span style=\"color: #808000; text-decoration-color: #808000\">...</span>                    <a href=\"file://C:\\Users\\9509298u\\AppData\\Local\\miniconda3\\envs\\ocp7-scoring-model-cloud\\lib\\site-packages\\kedro\\io\\data_catalog.py\" target=\"_blank\"><span style=\"color: #7f7f7f; text-decoration-color: #7f7f7f\">data_catalog.py</span></a><span style=\"color: #7f7f7f; text-decoration-color: #7f7f7f\">:</span><a href=\"file://C:\\Users\\9509298u\\AppData\\Local\\miniconda3\\envs\\ocp7-scoring-model-cloud\\lib\\site-packages\\kedro\\io\\data_catalog.py#525\" target=\"_blank\"><span style=\"color: #7f7f7f; text-decoration-color: #7f7f7f\">525</span></a>\n</pre>\n"
     },
     "metadata": {},
     "output_type": "display_data"
    }
   ],
   "source": [
    "catalog.save(\"full_df_test\", features_df)"
   ],
   "metadata": {
    "collapsed": false,
    "ExecuteTime": {
     "end_time": "2024-05-10T12:57:06.991989400Z",
     "start_time": "2024-05-10T12:57:05.922623800Z"
    }
   },
   "id": "cd13731e22fcaa07"
  },
  {
   "cell_type": "code",
   "execution_count": null,
   "outputs": [],
   "source": [],
   "metadata": {
    "collapsed": false
   },
   "id": "f740fee57e1322a5"
  }
 ],
 "metadata": {
  "kernelspec": {
   "name": "kedro_ocp7_scoring_model_cloud",
   "language": "python",
   "display_name": "Kedro (ocp7_scoring_model_cloud)"
  },
  "language_info": {
   "codemirror_mode": {
    "name": "ipython",
    "version": 2
   },
   "file_extension": ".py",
   "mimetype": "text/x-python",
   "name": "python",
   "nbconvert_exporter": "python",
   "pygments_lexer": "ipython2",
   "version": "2.7.6"
  }
 },
 "nbformat": 4,
 "nbformat_minor": 5
}
