{
 "cells": [
  {
   "cell_type": "raw",
   "source": [
    "---\n",
    "title: \"OCP7 -- Modélisation, note technique\"\n",
    "author: \"Robin Le Huérou-Kérisel\"\n",
    "format:\n",
    "    html:\n",
    "        code-fold: true\n",
    "jupyter: python3\n",
    "---"
   ],
   "metadata": {
    "collapsed": false
   },
   "id": "e019cf72371e6143"
  },
  {
   "cell_type": "code",
   "execution_count": 1,
   "id": "initial_id",
   "metadata": {
    "collapsed": true,
    "ExecuteTime": {
     "end_time": "2024-06-03T06:57:02.484442400Z",
     "start_time": "2024-06-03T06:57:00.881192600Z"
    }
   },
   "outputs": [
    {
     "data": {
      "text/plain": "\u001B[2;36m                   \u001B[0m\u001B[2;36m \u001B[0m\u001B[34mINFO    \u001B[0m Resolved project path as:                                              \u001B]8;id=708088;file://C:\\Users\\9509298u\\AppData\\Local\\miniconda3\\envs\\ocp7-scoring-model-cloud\\lib\\site-packages\\kedro\\ipython\\__init__.py\u001B\\\u001B[2m__init__.py\u001B[0m\u001B]8;;\u001B\\\u001B[2m:\u001B[0m\u001B]8;id=937494;file://C:\\Users\\9509298u\\AppData\\Local\\miniconda3\\envs\\ocp7-scoring-model-cloud\\lib\\site-packages\\kedro\\ipython\\__init__.py#164\u001B\\\u001B[2m164\u001B[0m\u001B]8;;\u001B\\\n\u001B[2;36m                    \u001B[0m         C:\\Users\\9509298u\\Documents\\GitHub\\OC_Projects\\ocp7-scoring-model-clou \u001B[2m               \u001B[0m\n\u001B[2;36m                    \u001B[0m         d.                                                                     \u001B[2m               \u001B[0m\n\u001B[2;36m                    \u001B[0m         To set a different path, run \u001B[32m'%reload_kedro \u001B[0m\u001B[32m<\u001B[0m\u001B[32mproject_root\u001B[0m\u001B[32m>\u001B[0m\u001B[32m'\u001B[0m            \u001B[2m               \u001B[0m\n",
      "text/html": "<pre style=\"white-space:pre;overflow-x:auto;line-height:normal;font-family:Menlo,'DejaVu Sans Mono',consolas,'Courier New',monospace\"><span style=\"color: #7fbfbf; text-decoration-color: #7fbfbf\">                    </span><span style=\"color: #000080; text-decoration-color: #000080\">INFO    </span> Resolved project path as:                                              <a href=\"file://C:\\Users\\9509298u\\AppData\\Local\\miniconda3\\envs\\ocp7-scoring-model-cloud\\lib\\site-packages\\kedro\\ipython\\__init__.py\" target=\"_blank\"><span style=\"color: #7f7f7f; text-decoration-color: #7f7f7f\">__init__.py</span></a><span style=\"color: #7f7f7f; text-decoration-color: #7f7f7f\">:</span><a href=\"file://C:\\Users\\9509298u\\AppData\\Local\\miniconda3\\envs\\ocp7-scoring-model-cloud\\lib\\site-packages\\kedro\\ipython\\__init__.py#164\" target=\"_blank\"><span style=\"color: #7f7f7f; text-decoration-color: #7f7f7f\">164</span></a>\n<span style=\"color: #7fbfbf; text-decoration-color: #7fbfbf\">                    </span>         C:\\Users\\9509298u\\Documents\\GitHub\\OC_Projects\\ocp7-scoring-model-clou <span style=\"color: #7f7f7f; text-decoration-color: #7f7f7f\">               </span>\n<span style=\"color: #7fbfbf; text-decoration-color: #7fbfbf\">                    </span>         d.                                                                     <span style=\"color: #7f7f7f; text-decoration-color: #7f7f7f\">               </span>\n<span style=\"color: #7fbfbf; text-decoration-color: #7fbfbf\">                    </span>         To set a different path, run <span style=\"color: #008000; text-decoration-color: #008000\">'%reload_kedro &lt;project_root&gt;'</span>            <span style=\"color: #7f7f7f; text-decoration-color: #7f7f7f\">               </span>\n</pre>\n"
     },
     "metadata": {},
     "output_type": "display_data"
    },
    {
     "data": {
      "text/plain": "\u001B[2;36m[06/03/24 08:57:01]\u001B[0m\u001B[2;36m \u001B[0m\u001B[34mINFO    \u001B[0m Registering new custom resolver: \u001B[32m'km.random_name'\u001B[0m                    \u001B]8;id=994724;file://C:\\Users\\9509298u\\AppData\\Local\\miniconda3\\envs\\ocp7-scoring-model-cloud\\lib\\site-packages\\kedro_mlflow\\framework\\hooks\\mlflow_hook.py\u001B\\\u001B[2mmlflow_hook.py\u001B[0m\u001B]8;;\u001B\\\u001B[2m:\u001B[0m\u001B]8;id=330343;file://C:\\Users\\9509298u\\AppData\\Local\\miniconda3\\envs\\ocp7-scoring-model-cloud\\lib\\site-packages\\kedro_mlflow\\framework\\hooks\\mlflow_hook.py#65\u001B\\\u001B[2m65\u001B[0m\u001B]8;;\u001B\\\n",
      "text/html": "<pre style=\"white-space:pre;overflow-x:auto;line-height:normal;font-family:Menlo,'DejaVu Sans Mono',consolas,'Courier New',monospace\"><span style=\"color: #7fbfbf; text-decoration-color: #7fbfbf\">[06/03/24 08:57:01] </span><span style=\"color: #000080; text-decoration-color: #000080\">INFO    </span> Registering new custom resolver: <span style=\"color: #008000; text-decoration-color: #008000\">'km.random_name'</span>                    <a href=\"file://C:\\Users\\9509298u\\AppData\\Local\\miniconda3\\envs\\ocp7-scoring-model-cloud\\lib\\site-packages\\kedro_mlflow\\framework\\hooks\\mlflow_hook.py\" target=\"_blank\"><span style=\"color: #7f7f7f; text-decoration-color: #7f7f7f\">mlflow_hook.py</span></a><span style=\"color: #7f7f7f; text-decoration-color: #7f7f7f\">:</span><a href=\"file://C:\\Users\\9509298u\\AppData\\Local\\miniconda3\\envs\\ocp7-scoring-model-cloud\\lib\\site-packages\\kedro_mlflow\\framework\\hooks\\mlflow_hook.py#65\" target=\"_blank\"><span style=\"color: #7f7f7f; text-decoration-color: #7f7f7f\">65</span></a>\n</pre>\n"
     },
     "metadata": {},
     "output_type": "display_data"
    },
    {
     "data": {
      "text/plain": "\u001B[2;36m                   \u001B[0m\u001B[2;36m \u001B[0m\u001B[34mINFO    \u001B[0m The \u001B[32m'tracking_uri'\u001B[0m key in mlflow.yml is relative            \u001B]8;id=301281;file://C:\\Users\\9509298u\\AppData\\Local\\miniconda3\\envs\\ocp7-scoring-model-cloud\\lib\\site-packages\\kedro_mlflow\\config\\kedro_mlflow_config.py\u001B\\\u001B[2mkedro_mlflow_config.py\u001B[0m\u001B]8;;\u001B\\\u001B[2m:\u001B[0m\u001B]8;id=986078;file://C:\\Users\\9509298u\\AppData\\Local\\miniconda3\\envs\\ocp7-scoring-model-cloud\\lib\\site-packages\\kedro_mlflow\\config\\kedro_mlflow_config.py#260\u001B\\\u001B[2m260\u001B[0m\u001B]8;;\u001B\\\n\u001B[2;36m                    \u001B[0m         \u001B[1m(\u001B[0m\u001B[32m'server.mlflow_\u001B[0m\u001B[32m(\u001B[0m\u001B[32mtracking|registry\u001B[0m\u001B[32m)\u001B[0m\u001B[32m_uri = mlruns'\u001B[0m\u001B[1m)\u001B[0m. It is   \u001B[2m                          \u001B[0m\n\u001B[2;36m                    \u001B[0m         converted to a valid uri:                                   \u001B[2m                          \u001B[0m\n\u001B[2;36m                    \u001B[0m         \u001B[32m'file:///C:/Users/9509298u/Documents/GitHub/OC_Projects/ocp\u001B[0m \u001B[2m                          \u001B[0m\n\u001B[2;36m                    \u001B[0m         \u001B[32m7-scoring-model-cloud/mlruns'\u001B[0m                               \u001B[2m                          \u001B[0m\n",
      "text/html": "<pre style=\"white-space:pre;overflow-x:auto;line-height:normal;font-family:Menlo,'DejaVu Sans Mono',consolas,'Courier New',monospace\"><span style=\"color: #7fbfbf; text-decoration-color: #7fbfbf\">                    </span><span style=\"color: #000080; text-decoration-color: #000080\">INFO    </span> The <span style=\"color: #008000; text-decoration-color: #008000\">'tracking_uri'</span> key in mlflow.yml is relative            <a href=\"file://C:\\Users\\9509298u\\AppData\\Local\\miniconda3\\envs\\ocp7-scoring-model-cloud\\lib\\site-packages\\kedro_mlflow\\config\\kedro_mlflow_config.py\" target=\"_blank\"><span style=\"color: #7f7f7f; text-decoration-color: #7f7f7f\">kedro_mlflow_config.py</span></a><span style=\"color: #7f7f7f; text-decoration-color: #7f7f7f\">:</span><a href=\"file://C:\\Users\\9509298u\\AppData\\Local\\miniconda3\\envs\\ocp7-scoring-model-cloud\\lib\\site-packages\\kedro_mlflow\\config\\kedro_mlflow_config.py#260\" target=\"_blank\"><span style=\"color: #7f7f7f; text-decoration-color: #7f7f7f\">260</span></a>\n<span style=\"color: #7fbfbf; text-decoration-color: #7fbfbf\">                    </span>         <span style=\"font-weight: bold\">(</span><span style=\"color: #008000; text-decoration-color: #008000\">'server.mlflow_(tracking|registry)_uri = mlruns'</span><span style=\"font-weight: bold\">)</span>. It is   <span style=\"color: #7f7f7f; text-decoration-color: #7f7f7f\">                          </span>\n<span style=\"color: #7fbfbf; text-decoration-color: #7fbfbf\">                    </span>         converted to a valid uri:                                   <span style=\"color: #7f7f7f; text-decoration-color: #7f7f7f\">                          </span>\n<span style=\"color: #7fbfbf; text-decoration-color: #7fbfbf\">                    </span>         <span style=\"color: #008000; text-decoration-color: #008000\">'file:///C:/Users/9509298u/Documents/GitHub/OC_Projects/ocp</span> <span style=\"color: #7f7f7f; text-decoration-color: #7f7f7f\">                          </span>\n<span style=\"color: #7fbfbf; text-decoration-color: #7fbfbf\">                    </span>         <span style=\"color: #008000; text-decoration-color: #008000\">7-scoring-model-cloud/mlruns'</span>                               <span style=\"color: #7f7f7f; text-decoration-color: #7f7f7f\">                          </span>\n</pre>\n"
     },
     "metadata": {},
     "output_type": "display_data"
    },
    {
     "data": {
      "text/plain": "\u001B[2;36m[06/03/24 08:57:02]\u001B[0m\u001B[2;36m \u001B[0m\u001B[34mINFO    \u001B[0m Kedro project ocp7_scoring_model_cloud                                 \u001B]8;id=513129;file://C:\\Users\\9509298u\\AppData\\Local\\miniconda3\\envs\\ocp7-scoring-model-cloud\\lib\\site-packages\\kedro\\ipython\\__init__.py\u001B\\\u001B[2m__init__.py\u001B[0m\u001B]8;;\u001B\\\u001B[2m:\u001B[0m\u001B]8;id=358896;file://C:\\Users\\9509298u\\AppData\\Local\\miniconda3\\envs\\ocp7-scoring-model-cloud\\lib\\site-packages\\kedro\\ipython\\__init__.py#134\u001B\\\u001B[2m134\u001B[0m\u001B]8;;\u001B\\\n",
      "text/html": "<pre style=\"white-space:pre;overflow-x:auto;line-height:normal;font-family:Menlo,'DejaVu Sans Mono',consolas,'Courier New',monospace\"><span style=\"color: #7fbfbf; text-decoration-color: #7fbfbf\">[06/03/24 08:57:02] </span><span style=\"color: #000080; text-decoration-color: #000080\">INFO    </span> Kedro project ocp7_scoring_model_cloud                                 <a href=\"file://C:\\Users\\9509298u\\AppData\\Local\\miniconda3\\envs\\ocp7-scoring-model-cloud\\lib\\site-packages\\kedro\\ipython\\__init__.py\" target=\"_blank\"><span style=\"color: #7f7f7f; text-decoration-color: #7f7f7f\">__init__.py</span></a><span style=\"color: #7f7f7f; text-decoration-color: #7f7f7f\">:</span><a href=\"file://C:\\Users\\9509298u\\AppData\\Local\\miniconda3\\envs\\ocp7-scoring-model-cloud\\lib\\site-packages\\kedro\\ipython\\__init__.py#134\" target=\"_blank\"><span style=\"color: #7f7f7f; text-decoration-color: #7f7f7f\">134</span></a>\n</pre>\n"
     },
     "metadata": {},
     "output_type": "display_data"
    },
    {
     "data": {
      "text/plain": "\u001B[2;36m                   \u001B[0m\u001B[2;36m \u001B[0m\u001B[34mINFO    \u001B[0m Defined global variable \u001B[32m'context'\u001B[0m, \u001B[32m'session'\u001B[0m, \u001B[32m'catalog'\u001B[0m and            \u001B]8;id=329230;file://C:\\Users\\9509298u\\AppData\\Local\\miniconda3\\envs\\ocp7-scoring-model-cloud\\lib\\site-packages\\kedro\\ipython\\__init__.py\u001B\\\u001B[2m__init__.py\u001B[0m\u001B]8;;\u001B\\\u001B[2m:\u001B[0m\u001B]8;id=55083;file://C:\\Users\\9509298u\\AppData\\Local\\miniconda3\\envs\\ocp7-scoring-model-cloud\\lib\\site-packages\\kedro\\ipython\\__init__.py#135\u001B\\\u001B[2m135\u001B[0m\u001B]8;;\u001B\\\n\u001B[2;36m                    \u001B[0m         \u001B[32m'pipelines'\u001B[0m                                                            \u001B[2m               \u001B[0m\n",
      "text/html": "<pre style=\"white-space:pre;overflow-x:auto;line-height:normal;font-family:Menlo,'DejaVu Sans Mono',consolas,'Courier New',monospace\"><span style=\"color: #7fbfbf; text-decoration-color: #7fbfbf\">                    </span><span style=\"color: #000080; text-decoration-color: #000080\">INFO    </span> Defined global variable <span style=\"color: #008000; text-decoration-color: #008000\">'context'</span>, <span style=\"color: #008000; text-decoration-color: #008000\">'session'</span>, <span style=\"color: #008000; text-decoration-color: #008000\">'catalog'</span> and            <a href=\"file://C:\\Users\\9509298u\\AppData\\Local\\miniconda3\\envs\\ocp7-scoring-model-cloud\\lib\\site-packages\\kedro\\ipython\\__init__.py\" target=\"_blank\"><span style=\"color: #7f7f7f; text-decoration-color: #7f7f7f\">__init__.py</span></a><span style=\"color: #7f7f7f; text-decoration-color: #7f7f7f\">:</span><a href=\"file://C:\\Users\\9509298u\\AppData\\Local\\miniconda3\\envs\\ocp7-scoring-model-cloud\\lib\\site-packages\\kedro\\ipython\\__init__.py#135\" target=\"_blank\"><span style=\"color: #7f7f7f; text-decoration-color: #7f7f7f\">135</span></a>\n<span style=\"color: #7fbfbf; text-decoration-color: #7fbfbf\">                    </span>         <span style=\"color: #008000; text-decoration-color: #008000\">'pipelines'</span>                                                            <span style=\"color: #7f7f7f; text-decoration-color: #7f7f7f\">               </span>\n</pre>\n"
     },
     "metadata": {},
     "output_type": "display_data"
    },
    {
     "data": {
      "text/plain": "\u001B[2;36m                   \u001B[0m\u001B[2;36m \u001B[0m\u001B[34mINFO    \u001B[0m Registered line magic \u001B[32m'run_viz'\u001B[0m                                        \u001B]8;id=401123;file://C:\\Users\\9509298u\\AppData\\Local\\miniconda3\\envs\\ocp7-scoring-model-cloud\\lib\\site-packages\\kedro\\ipython\\__init__.py\u001B\\\u001B[2m__init__.py\u001B[0m\u001B]8;;\u001B\\\u001B[2m:\u001B[0m\u001B]8;id=691332;file://C:\\Users\\9509298u\\AppData\\Local\\miniconda3\\envs\\ocp7-scoring-model-cloud\\lib\\site-packages\\kedro\\ipython\\__init__.py#141\u001B\\\u001B[2m141\u001B[0m\u001B]8;;\u001B\\\n",
      "text/html": "<pre style=\"white-space:pre;overflow-x:auto;line-height:normal;font-family:Menlo,'DejaVu Sans Mono',consolas,'Courier New',monospace\"><span style=\"color: #7fbfbf; text-decoration-color: #7fbfbf\">                    </span><span style=\"color: #000080; text-decoration-color: #000080\">INFO    </span> Registered line magic <span style=\"color: #008000; text-decoration-color: #008000\">'run_viz'</span>                                        <a href=\"file://C:\\Users\\9509298u\\AppData\\Local\\miniconda3\\envs\\ocp7-scoring-model-cloud\\lib\\site-packages\\kedro\\ipython\\__init__.py\" target=\"_blank\"><span style=\"color: #7f7f7f; text-decoration-color: #7f7f7f\">__init__.py</span></a><span style=\"color: #7f7f7f; text-decoration-color: #7f7f7f\">:</span><a href=\"file://C:\\Users\\9509298u\\AppData\\Local\\miniconda3\\envs\\ocp7-scoring-model-cloud\\lib\\site-packages\\kedro\\ipython\\__init__.py#141\" target=\"_blank\"><span style=\"color: #7f7f7f; text-decoration-color: #7f7f7f\">141</span></a>\n</pre>\n"
     },
     "metadata": {},
     "output_type": "display_data"
    }
   ],
   "source": [
    "%reload_kedro"
   ]
  },
  {
   "cell_type": "code",
   "execution_count": 1,
   "outputs": [],
   "source": [
    "import warnings\n",
    "warnings.filterwarnings(\"ignore\")\n",
    "\n",
    "import pandas as pd\n",
    "import numpy as np\n",
    "from sklearn.model_selection import train_test_split\n",
    "from sklearn.ensemble import RandomForestClassifier\n",
    "from sklearn.linear_model import LogisticRegression\n",
    "from sklearn.model_selection import StratifiedKFold, cross_val_predict\n",
    "from sklearn.model_selection import GridSearchCV\n",
    "from sklearn.metrics import roc_auc_score, roc_curve\n",
    "from sklearn.dummy import DummyClassifier\n",
    "import lightgbm as lgb\n",
    "\n",
    "import matplotlib.pyplot as plt\n",
    "\n",
    "import mlflow"
   ],
   "metadata": {
    "collapsed": false,
    "ExecuteTime": {
     "end_time": "2024-06-07T11:43:27.393783300Z",
     "start_time": "2024-06-07T11:43:22.467858100Z"
    }
   },
   "id": "955e9b543661ca1c"
  },
  {
   "cell_type": "markdown",
   "source": [
    "# Métrique d'erreur business\n",
    "\n",
    "On propose de découper le problème posé en deux questions qui peuvent être résolues séparément : \n",
    "\n",
    "1) la question de l'évaluation de la probabilité de défaut des clients,\n",
    "2) la question de l'attribution d'un crédit sur la base de cette probabilité de défaut estimée.\n",
    "\n",
    "L'évaluation de la probabilité de défaut des clients peut être réalisée à l'aide d'un algorithme de classification. Ensuite il nous faut trouver une règle de décision opérationnelle sur la base de cette probabilité.\n",
    "\n",
    "Soit $P(D) = p$, la probabilité de défaut du client, $M$ le montant du crédit demandé et $i$ le taux d'intérêt appliqué par l'entreprise. On a $\\Pi_D(i) = -M $ le profit réalisé en cas de défaut du client, et $\\Pi_\\bar{D}(i) = iM$ le profit réalisé en cas de remboursement du prêt. Le profit espéré de la firme en fonction de $p$ et $i$ peut donc s'écrire : $$E(\\Pi|i,p) =(1-p)iM - piM $$\n",
    "\n",
    "On constate que cette fonction est croissante de $i$, décroissante de $p$ et qu'elle s'annule lorsque $$p=\\frac{i}{1+i}$$\n",
    "\n",
    "Cette relation nous permet de définir un seuil $\\bar{p}(i)$ sur la probabilité de défaut du client pour l'attribution d'un prêt à un taux d'intérêt $i$ donné. \n",
    "\n",
    "Par exemple, si le taux d'intérêt est de 10%, $i=0.1$, $\\bar{p}(0.1) = 0.09$. On proposera l'octroi du prêt si la probabilité de défaut prédite par le modèle est inférieure à 0.09, soit 9%. \n",
    "\n",
    "On pourrait également renverser la relation et proposer d'appliquer un taux d'intérêt plus élevé pour prendre en compte le risque du client : $$\\bar{i}(p) = \\frac{p}{1-p}$$"
   ],
   "metadata": {
    "collapsed": false
   },
   "id": "63ac6f0966d6f400"
  },
  {
   "cell_type": "code",
   "execution_count": 3,
   "outputs": [
    {
     "data": {
      "text/plain": "\u001B[2;36m[06/03/24 08:59:06]\u001B[0m\u001B[2;36m \u001B[0m\u001B[34mINFO    \u001B[0m Loading data from \u001B[38;5;208mfull_df_train\u001B[0m \u001B[1m(\u001B[0mParquetDataset\u001B[1m)\u001B[0m\u001B[33m...\u001B[0m                \u001B]8;id=604772;file://C:\\Users\\9509298u\\AppData\\Local\\miniconda3\\envs\\ocp7-scoring-model-cloud\\lib\\site-packages\\kedro\\io\\data_catalog.py\u001B\\\u001B[2mdata_catalog.py\u001B[0m\u001B]8;;\u001B\\\u001B[2m:\u001B[0m\u001B]8;id=645975;file://C:\\Users\\9509298u\\AppData\\Local\\miniconda3\\envs\\ocp7-scoring-model-cloud\\lib\\site-packages\\kedro\\io\\data_catalog.py#483\u001B\\\u001B[2m483\u001B[0m\u001B]8;;\u001B\\\n",
      "text/html": "<pre style=\"white-space:pre;overflow-x:auto;line-height:normal;font-family:Menlo,'DejaVu Sans Mono',consolas,'Courier New',monospace\"><span style=\"color: #7fbfbf; text-decoration-color: #7fbfbf\">[06/03/24 08:59:06] </span><span style=\"color: #000080; text-decoration-color: #000080\">INFO    </span> Loading data from <span style=\"color: #ff8700; text-decoration-color: #ff8700\">full_df_train</span> <span style=\"font-weight: bold\">(</span>ParquetDataset<span style=\"font-weight: bold\">)</span><span style=\"color: #808000; text-decoration-color: #808000\">...</span>                <a href=\"file://C:\\Users\\9509298u\\AppData\\Local\\miniconda3\\envs\\ocp7-scoring-model-cloud\\lib\\site-packages\\kedro\\io\\data_catalog.py\" target=\"_blank\"><span style=\"color: #7f7f7f; text-decoration-color: #7f7f7f\">data_catalog.py</span></a><span style=\"color: #7f7f7f; text-decoration-color: #7f7f7f\">:</span><a href=\"file://C:\\Users\\9509298u\\AppData\\Local\\miniconda3\\envs\\ocp7-scoring-model-cloud\\lib\\site-packages\\kedro\\io\\data_catalog.py#483\" target=\"_blank\"><span style=\"color: #7f7f7f; text-decoration-color: #7f7f7f\">483</span></a>\n</pre>\n"
     },
     "metadata": {},
     "output_type": "display_data"
    }
   ],
   "source": [
    "train_df = catalog.load(\"full_df_train\")\n",
    "#test_df = catalog.load(\"full_df_test\")"
   ],
   "metadata": {
    "collapsed": false,
    "ExecuteTime": {
     "end_time": "2024-06-03T06:59:08.626207900Z",
     "start_time": "2024-06-03T06:59:06.935770600Z"
    }
   },
   "id": "704e27514d804841"
  },
  {
   "cell_type": "code",
   "execution_count": 4,
   "outputs": [],
   "source": [
    "def split_data(df, train_size=0.8, test_size=0.2, random_state=42):\n",
    "    features = [f for f in df.columns if f not in [\"SK_ID_CURR\", \"TARGET\"]]\n",
    "    X = df[features] # Features\n",
    "    y = df[\"TARGET\"]  # Target variable\n",
    "    X_train, X_test, y_train, y_test = train_test_split(X, y, train_size=train_size, test_size=test_size, random_state=random_state)\n",
    "    return X_train, X_test, y_train, y_test\n",
    "\n",
    "def train_model(X_train, y_train, model):\n",
    "    model.fit(X_train, y_train)\n",
    "    return model\n",
    "\n",
    "def evaluate_model(X_test, y_test, model):\n",
    "    y_pred = model.predict_proba(X_test)[:,1]\n",
    "    roc_auc = roc_auc_score(y_test, y_pred)\n",
    "    return roc_auc"
   ],
   "metadata": {
    "collapsed": false,
    "ExecuteTime": {
     "end_time": "2024-06-03T06:59:08.627209900Z",
     "start_time": "2024-06-03T06:59:08.607351200Z"
    }
   },
   "id": "5b8504d7292f45cf"
  },
  {
   "cell_type": "code",
   "execution_count": 5,
   "outputs": [],
   "source": [
    "def train_and_evaluate_model(X, y, model, model_name, params):\n",
    "    if mlflow.active_run():\n",
    "        mlflow.end_run()\n",
    "    # Start an MLflow run\n",
    "    with mlflow.start_run(run_name=model_name):\n",
    "        # Fitting model\n",
    "        model = model.fit(X, y)\n",
    "        y_probs = model.predict_proba(X)\n",
    "        y_scores = y_probs[:, 1]  # get the probability of class 1\n",
    "        # Compute ROC-AUC\n",
    "        print(\"Calculating ROC-AUC score...\")\n",
    "        roc_auc = roc_auc_score(y, y_scores)\n",
    "        \n",
    "        # Log parameters, metrics, and model\n",
    "        print(\"Logging parameters, metrics, and model with MLflow...\")\n",
    "        mlflow.log_params(params)\n",
    "        mlflow.log_metric(\"ROC_AUC\", roc_auc)\n",
    "        mlflow.sklearn.log_model(model, \"model\")\n",
    "\n",
    "        # Plot ROC curve and save as an artifact\n",
    "        print(\"Plotting ROC curve...\")\n",
    "        fpr, tpr, _ = roc_curve(y, y_scores)\n",
    "        fig = plt.figure(figsize=(6,6))\n",
    "        plt.plot(fpr, tpr, label='ROC curve (area = %0.2f)' % roc_auc)\n",
    "        plt.plot([0, 1], [0, 1], 'k--')\n",
    "        plt.xlim([0.0, 1.0])\n",
    "        plt.ylim([0.0, 1.05])\n",
    "        plt.xlabel('False Positive Rate')\n",
    "        plt.ylabel('True Positive Rate')\n",
    "        plt.title('Receiver Operating Characteristic')\n",
    "        plt.legend(loc=\"lower right\")\n",
    "        roc_curve_path = \"roc_curve.png\"\n",
    "        plt.savefig(roc_curve_path)\n",
    "        plt.close(fig)\n",
    "        print(\"Saving ROC curve as an artifact...\")\n",
    "        mlflow.log_artifact(roc_curve_path)\n",
    "\n",
    "        print(\"Training and evaluation completed.\")\n",
    "        return roc_auc\n"
   ],
   "metadata": {
    "collapsed": false,
    "ExecuteTime": {
     "end_time": "2024-06-03T06:59:08.663655400Z",
     "start_time": "2024-06-03T06:59:08.634012300Z"
    }
   },
   "id": "b4490dbc2a500183"
  },
  {
   "cell_type": "code",
   "execution_count": 6,
   "outputs": [],
   "source": [
    "mlflow.set_tracking_uri(\"mlruns\")\n"
   ],
   "metadata": {
    "collapsed": false,
    "ExecuteTime": {
     "end_time": "2024-06-03T06:59:11.651130500Z",
     "start_time": "2024-06-03T06:59:11.637010400Z"
    }
   },
   "id": "15a3e0f9e40ee144"
  },
  {
   "cell_type": "code",
   "execution_count": 29,
   "outputs": [
    {
     "name": "stdout",
     "output_type": "stream",
     "text": [
      "Calculating ROC-AUC score...\n",
      "Logging parameters, metrics, and model with MLflow...\n",
      "Plotting ROC curve...\n",
      "Saving ROC curve as an artifact...\n",
      "Training and evaluation completed.\n",
      "Calculating ROC-AUC score...\n",
      "Logging parameters, metrics, and model with MLflow...\n",
      "Plotting ROC curve...\n",
      "Saving ROC curve as an artifact...\n",
      "Training and evaluation completed.\n",
      "Calculating ROC-AUC score...\n",
      "Logging parameters, metrics, and model with MLflow...\n",
      "Plotting ROC curve...\n",
      "Saving ROC curve as an artifact...\n",
      "Training and evaluation completed.\n",
      "[LightGBM] [Warning] feature_fraction is set=0.9, colsample_bytree=1.0 will be ignored. Current value: feature_fraction=0.9\n",
      "[LightGBM] [Warning] bagging_fraction is set=0.8, subsample=1.0 will be ignored. Current value: bagging_fraction=0.8\n",
      "[LightGBM] [Warning] bagging_freq is set=5, subsample_freq=0 will be ignored. Current value: bagging_freq=5\n",
      "[LightGBM] [Warning] feature_fraction is set=0.9, colsample_bytree=1.0 will be ignored. Current value: feature_fraction=0.9\n",
      "[LightGBM] [Warning] bagging_fraction is set=0.8, subsample=1.0 will be ignored. Current value: bagging_fraction=0.8\n",
      "[LightGBM] [Warning] bagging_freq is set=5, subsample_freq=0 will be ignored. Current value: bagging_freq=5\n",
      "[LightGBM] [Info] Number of positive: 9920, number of negative: 113083\n",
      "[LightGBM] [Info] Auto-choosing col-wise multi-threading, the overhead of testing was 0.122015 seconds.\n",
      "You can set `force_col_wise=true` to remove the overhead.\n",
      "[LightGBM] [Info] Total Bins 44376\n",
      "[LightGBM] [Info] Number of data points in the train set: 123003, number of used features: 454\n",
      "[LightGBM] [Info] [binary:BoostFromScore]: pavg=0.080648 -> initscore=-2.433569\n",
      "[LightGBM] [Info] Start training from score -2.433569\n",
      "[LightGBM] [Warning] feature_fraction is set=0.9, colsample_bytree=1.0 will be ignored. Current value: feature_fraction=0.9\n",
      "[LightGBM] [Warning] bagging_fraction is set=0.8, subsample=1.0 will be ignored. Current value: bagging_fraction=0.8\n",
      "[LightGBM] [Warning] bagging_freq is set=5, subsample_freq=0 will be ignored. Current value: bagging_freq=5\n",
      "Calculating ROC-AUC score...\n",
      "Logging parameters, metrics, and model with MLflow...\n",
      "Plotting ROC curve...\n",
      "Saving ROC curve as an artifact...\n",
      "Training and evaluation completed.\n"
     ]
    },
    {
     "data": {
      "text/plain": "",
      "text/html": "<pre style=\"white-space:pre;overflow-x:auto;line-height:normal;font-family:Menlo,'DejaVu Sans Mono',consolas,'Courier New',monospace\"></pre>\n"
     },
     "metadata": {},
     "output_type": "display_data"
    },
    {
     "data": {
      "text/plain": "\u001B[1;36m0.8242152620270637\u001B[0m"
     },
     "execution_count": 29,
     "metadata": {},
     "output_type": "execute_result"
    }
   ],
   "source": [
    "mlflow.set_experiment(\"OCP7_modelisation_030624_1\")\n",
    "\n",
    "# Define your dataset\n",
    "X_train, X_test, y_train, y_test = split_data(train_df.sample(frac=0.5))\n",
    "\n",
    "# Dummy classifier\n",
    "\n",
    "params_dummy = {'strategy': 'stratified'}\n",
    "model_dummy = DummyClassifier(**params_dummy)\n",
    "train_and_evaluate_model(X_train, y_train, model_dummy, \"Dummy Classifier\", params_dummy)\n",
    "\n",
    "# Random Forest\n",
    "params_rf = {'n_estimators': 50, 'max_depth': 10}\n",
    "model_rf = RandomForestClassifier(**params_rf)\n",
    "train_and_evaluate_model(X_train, y_train, model_rf, \"Random Forest\", params_rf)\n",
    "\n",
    "# Logistic Regression\n",
    "params_lr = {'C': 0.1}\n",
    "model_lr = LogisticRegression(**params_lr)\n",
    "train_and_evaluate_model(X_train, y_train, model_lr, \"Logistic Regression\", params_lr)\n",
    "\n",
    "# LightGBM\n",
    "params_lgb = {\n",
    "    'boosting_type': 'gbdt',\n",
    "    'objective': 'binary',\n",
    "    'metric': 'auc',\n",
    "    'num_leaves': 31,\n",
    "    'learning_rate': 0.05,\n",
    "    'feature_fraction': 0.9,\n",
    "    'bagging_fraction': 0.8,\n",
    "    'bagging_freq': 5,\n",
    "    'verbose': 1\n",
    "}\n",
    "\n",
    "model_lgb = lgb.LGBMClassifier(**params_lgb)\n",
    "train_and_evaluate_model(X=X_train, y=y_train, model=model_lgb, model_name=\"LightGBM\", params=params_lgb)"
   ],
   "metadata": {
    "collapsed": false,
    "ExecuteTime": {
     "end_time": "2024-05-10T14:57:17.924033500Z",
     "start_time": "2024-05-10T14:56:33.927820700Z"
    }
   },
   "id": "4ab1ba5254f3b306"
  },
  {
   "cell_type": "markdown",
   "source": [
    "On trouve que le modèle LightGBM est le plus performant. On va donc essayer de l'améliorer en utilisant une validation croisée."
   ],
   "metadata": {
    "collapsed": false
   },
   "id": "e06657ae5e03a952"
  },
  {
   "cell_type": "code",
   "execution_count": 7,
   "outputs": [
    {
     "name": "stderr",
     "output_type": "stream",
     "text": [
      "2024/06/03 09:00:45 INFO mlflow.tracking.fluent: Experiment with name 'OCP7_modelisation_030624_1' does not exist. Creating a new experiment.\n"
     ]
    },
    {
     "name": "stdout",
     "output_type": "stream",
     "text": [
      "[LightGBM] [Warning] feature_fraction is set=0.9, colsample_bytree=1.0 will be ignored. Current value: feature_fraction=0.9\n",
      "[LightGBM] [Warning] bagging_fraction is set=0.8, subsample=1.0 will be ignored. Current value: bagging_fraction=0.8\n",
      "[LightGBM] [Warning] bagging_freq is set=5, subsample_freq=0 will be ignored. Current value: bagging_freq=5\n",
      "[LightGBM] [Warning] feature_fraction is set=0.9, colsample_bytree=1.0 will be ignored. Current value: feature_fraction=0.9\n",
      "[LightGBM] [Warning] bagging_fraction is set=0.8, subsample=1.0 will be ignored. Current value: bagging_fraction=0.8\n",
      "[LightGBM] [Warning] bagging_freq is set=5, subsample_freq=0 will be ignored. Current value: bagging_freq=5\n",
      "[LightGBM] [Info] Number of positive: 9967, number of negative: 113036\n",
      "[LightGBM] [Info] Auto-choosing col-wise multi-threading, the overhead of testing was 0.097384 seconds.\n",
      "You can set `force_col_wise=true` to remove the overhead.\n",
      "[LightGBM] [Info] Total Bins 44426\n",
      "[LightGBM] [Info] Number of data points in the train set: 123003, number of used features: 452\n",
      "[LightGBM] [Info] [binary:BoostFromScore]: pavg=0.081031 -> initscore=-2.428427\n",
      "[LightGBM] [Info] Start training from score -2.428427\n",
      "[LightGBM] [Warning] feature_fraction is set=0.9, colsample_bytree=1.0 will be ignored. Current value: feature_fraction=0.9\n",
      "[LightGBM] [Warning] bagging_fraction is set=0.8, subsample=1.0 will be ignored. Current value: bagging_fraction=0.8\n",
      "[LightGBM] [Warning] bagging_freq is set=5, subsample_freq=0 will be ignored. Current value: bagging_freq=5\n",
      "Calculating ROC-AUC score...\n",
      "Logging parameters, metrics, and model with MLflow...\n",
      "Plotting ROC curve...\n",
      "Saving ROC curve as an artifact...\n",
      "Training and evaluation completed.\n"
     ]
    },
    {
     "data": {
      "text/plain": "",
      "text/html": "<pre style=\"white-space:pre;overflow-x:auto;line-height:normal;font-family:Menlo,'DejaVu Sans Mono',consolas,'Courier New',monospace\"></pre>\n"
     },
     "metadata": {},
     "output_type": "display_data"
    },
    {
     "data": {
      "text/plain": "\u001B[1;36m0.823514893816781\u001B[0m"
     },
     "execution_count": 7,
     "metadata": {},
     "output_type": "execute_result"
    }
   ],
   "source": [
    "# LightGBM\n",
    "mlflow.set_experiment(\"OCP7_modelisation_030624_1\")\n",
    "\n",
    "# Define your dataset\n",
    "X_train, X_test, y_train, y_test = split_data(train_df.sample(frac=0.5))\n",
    "params_lgb = {\n",
    "    'boosting_type': 'gbdt',\n",
    "    'objective': 'binary',\n",
    "    'metric': 'auc',\n",
    "    'num_leaves': 31,\n",
    "    'learning_rate': 0.05,\n",
    "    'feature_fraction': 0.9,\n",
    "    'bagging_fraction': 0.8,\n",
    "    'bagging_freq': 5,\n",
    "    'verbose': 1\n",
    "}\n",
    "\n",
    "model_lgb = lgb.LGBMClassifier(**params_lgb)\n",
    "train_and_evaluate_model(X=X_train, y=y_train, model=model_lgb, model_name=\"LightGBM\", params=params_lgb)"
   ],
   "metadata": {
    "collapsed": false,
    "ExecuteTime": {
     "end_time": "2024-06-03T07:00:59.393314500Z",
     "start_time": "2024-06-03T07:00:45.378124200Z"
    }
   },
   "id": "2c9db543f508ee3b"
  },
  {
   "cell_type": "code",
   "execution_count": 7,
   "outputs": [],
   "source": [
    "# Create a training and testing dataset\n",
    "X_train, X_test, y_train, y_test = split_data(train_df, train_size=0.3, test_size=0.7)"
   ],
   "metadata": {
    "collapsed": false,
    "ExecuteTime": {
     "end_time": "2024-05-20T13:22:06.654886900Z",
     "start_time": "2024-05-20T13:22:05.152581900Z"
    }
   },
   "id": "70a73dd2b5989b5"
  },
  {
   "cell_type": "code",
   "execution_count": 10,
   "outputs": [],
   "source": [
    "params_lgb = {\n",
    "    'boosting_type': 'gbdt',\n",
    "    'objective': 'binary',\n",
    "    'metric': 'auc',\n",
    "    'n_estimators':10000,\n",
    "    'verbose': -1\n",
    "}\n",
    "\n",
    "param_grid = {\n",
    "    'num_leaves': [34, 65], \n",
    "    'learning_rate': [0.02, 0.05],  \n",
    "    'max_depth': [8, 12]\n",
    "}\n",
    "\n",
    "model_lgb = lgb.LGBMClassifier(**params_lgb)"
   ],
   "metadata": {
    "collapsed": false,
    "ExecuteTime": {
     "end_time": "2024-05-20T13:28:32.226625200Z",
     "start_time": "2024-05-20T13:28:32.031073200Z"
    }
   },
   "id": "756f8ddab52958d5"
  },
  {
   "cell_type": "code",
   "execution_count": 17,
   "outputs": [],
   "source": [
    "grid_search = GridSearchCV(estimator=model_lgb, param_grid=param_grid, cv=2, scoring='roc_auc', verbose=10)"
   ],
   "metadata": {
    "collapsed": false,
    "ExecuteTime": {
     "end_time": "2024-05-20T13:37:04.904221800Z",
     "start_time": "2024-05-20T13:37:04.884249300Z"
    }
   },
   "id": "3c948b66a19b3195"
  },
  {
   "cell_type": "code",
   "execution_count": 18,
   "outputs": [
    {
     "name": "stdout",
     "output_type": "stream",
     "text": [
      "Fitting 2 folds for each of 8 candidates, totalling 16 fits\n",
      "[CV 1/2; 1/8] START learning_rate=0.02, max_depth=8, num_leaves=34..............\n",
      "[CV 1/2; 1/8] END learning_rate=0.02, max_depth=8, num_leaves=34;, score=0.733 total time= 1.5min\n",
      "[CV 2/2; 1/8] START learning_rate=0.02, max_depth=8, num_leaves=34..............\n",
      "[CV 2/2; 1/8] END learning_rate=0.02, max_depth=8, num_leaves=34;, score=0.734 total time= 1.5min\n",
      "[CV 1/2; 2/8] START learning_rate=0.02, max_depth=8, num_leaves=65..............\n",
      "[CV 1/2; 2/8] END learning_rate=0.02, max_depth=8, num_leaves=65;, score=0.726 total time= 2.2min\n",
      "[CV 2/2; 2/8] START learning_rate=0.02, max_depth=8, num_leaves=65..............\n",
      "[CV 2/2; 2/8] END learning_rate=0.02, max_depth=8, num_leaves=65;, score=0.730 total time= 2.1min\n",
      "[CV 1/2; 3/8] START learning_rate=0.02, max_depth=12, num_leaves=34.............\n",
      "[CV 1/2; 3/8] END learning_rate=0.02, max_depth=12, num_leaves=34;, score=0.739 total time= 1.4min\n",
      "[CV 2/2; 3/8] START learning_rate=0.02, max_depth=12, num_leaves=34.............\n",
      "[CV 2/2; 3/8] END learning_rate=0.02, max_depth=12, num_leaves=34;, score=0.735 total time= 1.4min\n",
      "[CV 1/2; 4/8] START learning_rate=0.02, max_depth=12, num_leaves=65.............\n",
      "[CV 1/2; 4/8] END learning_rate=0.02, max_depth=12, num_leaves=65;, score=0.744 total time= 2.3min\n",
      "[CV 2/2; 4/8] START learning_rate=0.02, max_depth=12, num_leaves=65.............\n",
      "[CV 2/2; 4/8] END learning_rate=0.02, max_depth=12, num_leaves=65;, score=0.739 total time= 2.1min\n",
      "[CV 1/2; 5/8] START learning_rate=0.05, max_depth=8, num_leaves=34..............\n",
      "[CV 1/2; 5/8] END learning_rate=0.05, max_depth=8, num_leaves=34;, score=0.732 total time= 1.3min\n",
      "[CV 2/2; 5/8] START learning_rate=0.05, max_depth=8, num_leaves=34..............\n",
      "[CV 2/2; 5/8] END learning_rate=0.05, max_depth=8, num_leaves=34;, score=0.731 total time= 1.2min\n",
      "[CV 1/2; 6/8] START learning_rate=0.05, max_depth=8, num_leaves=65..............\n",
      "[CV 1/2; 6/8] END learning_rate=0.05, max_depth=8, num_leaves=65;, score=0.734 total time= 1.5min\n",
      "[CV 2/2; 6/8] START learning_rate=0.05, max_depth=8, num_leaves=65..............\n",
      "[CV 2/2; 6/8] END learning_rate=0.05, max_depth=8, num_leaves=65;, score=0.737 total time= 1.6min\n",
      "[CV 1/2; 7/8] START learning_rate=0.05, max_depth=12, num_leaves=34.............\n",
      "[CV 1/2; 7/8] END learning_rate=0.05, max_depth=12, num_leaves=34;, score=0.742 total time= 1.4min\n",
      "[CV 2/2; 7/8] START learning_rate=0.05, max_depth=12, num_leaves=34.............\n",
      "[CV 2/2; 7/8] END learning_rate=0.05, max_depth=12, num_leaves=34;, score=0.739 total time= 1.4min\n",
      "[CV 1/2; 8/8] START learning_rate=0.05, max_depth=12, num_leaves=65.............\n",
      "[CV 1/2; 8/8] END learning_rate=0.05, max_depth=12, num_leaves=65;, score=0.747 total time= 1.5min\n",
      "[CV 2/2; 8/8] START learning_rate=0.05, max_depth=12, num_leaves=65.............\n",
      "[CV 2/2; 8/8] END learning_rate=0.05, max_depth=12, num_leaves=65;, score=0.746 total time= 1.6min\n"
     ]
    },
    {
     "data": {
      "text/plain": "GridSearchCV(cv=2,\n             estimator=LGBMClassifier(metric='auc', n_estimators=10000,\n                                      objective='binary', verbose=-1),\n             param_grid={'learning_rate': [0.02, 0.05], 'max_depth': [8, 12],\n                         'num_leaves': [34, 65]},\n             scoring='roc_auc', verbose=10)",
      "text/html": "<style>#sk-container-id-1 {\n  /* Definition of color scheme common for light and dark mode */\n  --sklearn-color-text: black;\n  --sklearn-color-line: gray;\n  /* Definition of color scheme for unfitted estimators */\n  --sklearn-color-unfitted-level-0: #fff5e6;\n  --sklearn-color-unfitted-level-1: #f6e4d2;\n  --sklearn-color-unfitted-level-2: #ffe0b3;\n  --sklearn-color-unfitted-level-3: chocolate;\n  /* Definition of color scheme for fitted estimators */\n  --sklearn-color-fitted-level-0: #f0f8ff;\n  --sklearn-color-fitted-level-1: #d4ebff;\n  --sklearn-color-fitted-level-2: #b3dbfd;\n  --sklearn-color-fitted-level-3: cornflowerblue;\n\n  /* Specific color for light theme */\n  --sklearn-color-text-on-default-background: var(--sg-text-color, var(--theme-code-foreground, var(--jp-content-font-color1, black)));\n  --sklearn-color-background: var(--sg-background-color, var(--theme-background, var(--jp-layout-color0, white)));\n  --sklearn-color-border-box: var(--sg-text-color, var(--theme-code-foreground, var(--jp-content-font-color1, black)));\n  --sklearn-color-icon: #696969;\n\n  @media (prefers-color-scheme: dark) {\n    /* Redefinition of color scheme for dark theme */\n    --sklearn-color-text-on-default-background: var(--sg-text-color, var(--theme-code-foreground, var(--jp-content-font-color1, white)));\n    --sklearn-color-background: var(--sg-background-color, var(--theme-background, var(--jp-layout-color0, #111)));\n    --sklearn-color-border-box: var(--sg-text-color, var(--theme-code-foreground, var(--jp-content-font-color1, white)));\n    --sklearn-color-icon: #878787;\n  }\n}\n\n#sk-container-id-1 {\n  color: var(--sklearn-color-text);\n}\n\n#sk-container-id-1 pre {\n  padding: 0;\n}\n\n#sk-container-id-1 input.sk-hidden--visually {\n  border: 0;\n  clip: rect(1px 1px 1px 1px);\n  clip: rect(1px, 1px, 1px, 1px);\n  height: 1px;\n  margin: -1px;\n  overflow: hidden;\n  padding: 0;\n  position: absolute;\n  width: 1px;\n}\n\n#sk-container-id-1 div.sk-dashed-wrapped {\n  border: 1px dashed var(--sklearn-color-line);\n  margin: 0 0.4em 0.5em 0.4em;\n  box-sizing: border-box;\n  padding-bottom: 0.4em;\n  background-color: var(--sklearn-color-background);\n}\n\n#sk-container-id-1 div.sk-container {\n  /* jupyter's `normalize.less` sets `[hidden] { display: none; }`\n     but bootstrap.min.css set `[hidden] { display: none !important; }`\n     so we also need the `!important` here to be able to override the\n     default hidden behavior on the sphinx rendered scikit-learn.org.\n     See: https://github.com/scikit-learn/scikit-learn/issues/21755 */\n  display: inline-block !important;\n  position: relative;\n}\n\n#sk-container-id-1 div.sk-text-repr-fallback {\n  display: none;\n}\n\ndiv.sk-parallel-item,\ndiv.sk-serial,\ndiv.sk-item {\n  /* draw centered vertical line to link estimators */\n  background-image: linear-gradient(var(--sklearn-color-text-on-default-background), var(--sklearn-color-text-on-default-background));\n  background-size: 2px 100%;\n  background-repeat: no-repeat;\n  background-position: center center;\n}\n\n/* Parallel-specific style estimator block */\n\n#sk-container-id-1 div.sk-parallel-item::after {\n  content: \"\";\n  width: 100%;\n  border-bottom: 2px solid var(--sklearn-color-text-on-default-background);\n  flex-grow: 1;\n}\n\n#sk-container-id-1 div.sk-parallel {\n  display: flex;\n  align-items: stretch;\n  justify-content: center;\n  background-color: var(--sklearn-color-background);\n  position: relative;\n}\n\n#sk-container-id-1 div.sk-parallel-item {\n  display: flex;\n  flex-direction: column;\n}\n\n#sk-container-id-1 div.sk-parallel-item:first-child::after {\n  align-self: flex-end;\n  width: 50%;\n}\n\n#sk-container-id-1 div.sk-parallel-item:last-child::after {\n  align-self: flex-start;\n  width: 50%;\n}\n\n#sk-container-id-1 div.sk-parallel-item:only-child::after {\n  width: 0;\n}\n\n/* Serial-specific style estimator block */\n\n#sk-container-id-1 div.sk-serial {\n  display: flex;\n  flex-direction: column;\n  align-items: center;\n  background-color: var(--sklearn-color-background);\n  padding-right: 1em;\n  padding-left: 1em;\n}\n\n\n/* Toggleable style: style used for estimator/Pipeline/ColumnTransformer box that is\nclickable and can be expanded/collapsed.\n- Pipeline and ColumnTransformer use this feature and define the default style\n- Estimators will overwrite some part of the style using the `sk-estimator` class\n*/\n\n/* Pipeline and ColumnTransformer style (default) */\n\n#sk-container-id-1 div.sk-toggleable {\n  /* Default theme specific background. It is overwritten whether we have a\n  specific estimator or a Pipeline/ColumnTransformer */\n  background-color: var(--sklearn-color-background);\n}\n\n/* Toggleable label */\n#sk-container-id-1 label.sk-toggleable__label {\n  cursor: pointer;\n  display: block;\n  width: 100%;\n  margin-bottom: 0;\n  padding: 0.5em;\n  box-sizing: border-box;\n  text-align: center;\n}\n\n#sk-container-id-1 label.sk-toggleable__label-arrow:before {\n  /* Arrow on the left of the label */\n  content: \"▸\";\n  float: left;\n  margin-right: 0.25em;\n  color: var(--sklearn-color-icon);\n}\n\n#sk-container-id-1 label.sk-toggleable__label-arrow:hover:before {\n  color: var(--sklearn-color-text);\n}\n\n/* Toggleable content - dropdown */\n\n#sk-container-id-1 div.sk-toggleable__content {\n  max-height: 0;\n  max-width: 0;\n  overflow: hidden;\n  text-align: left;\n  /* unfitted */\n  background-color: var(--sklearn-color-unfitted-level-0);\n}\n\n#sk-container-id-1 div.sk-toggleable__content.fitted {\n  /* fitted */\n  background-color: var(--sklearn-color-fitted-level-0);\n}\n\n#sk-container-id-1 div.sk-toggleable__content pre {\n  margin: 0.2em;\n  border-radius: 0.25em;\n  color: var(--sklearn-color-text);\n  /* unfitted */\n  background-color: var(--sklearn-color-unfitted-level-0);\n}\n\n#sk-container-id-1 div.sk-toggleable__content.fitted pre {\n  /* unfitted */\n  background-color: var(--sklearn-color-fitted-level-0);\n}\n\n#sk-container-id-1 input.sk-toggleable__control:checked~div.sk-toggleable__content {\n  /* Expand drop-down */\n  max-height: 200px;\n  max-width: 100%;\n  overflow: auto;\n}\n\n#sk-container-id-1 input.sk-toggleable__control:checked~label.sk-toggleable__label-arrow:before {\n  content: \"▾\";\n}\n\n/* Pipeline/ColumnTransformer-specific style */\n\n#sk-container-id-1 div.sk-label input.sk-toggleable__control:checked~label.sk-toggleable__label {\n  color: var(--sklearn-color-text);\n  background-color: var(--sklearn-color-unfitted-level-2);\n}\n\n#sk-container-id-1 div.sk-label.fitted input.sk-toggleable__control:checked~label.sk-toggleable__label {\n  background-color: var(--sklearn-color-fitted-level-2);\n}\n\n/* Estimator-specific style */\n\n/* Colorize estimator box */\n#sk-container-id-1 div.sk-estimator input.sk-toggleable__control:checked~label.sk-toggleable__label {\n  /* unfitted */\n  background-color: var(--sklearn-color-unfitted-level-2);\n}\n\n#sk-container-id-1 div.sk-estimator.fitted input.sk-toggleable__control:checked~label.sk-toggleable__label {\n  /* fitted */\n  background-color: var(--sklearn-color-fitted-level-2);\n}\n\n#sk-container-id-1 div.sk-label label.sk-toggleable__label,\n#sk-container-id-1 div.sk-label label {\n  /* The background is the default theme color */\n  color: var(--sklearn-color-text-on-default-background);\n}\n\n/* On hover, darken the color of the background */\n#sk-container-id-1 div.sk-label:hover label.sk-toggleable__label {\n  color: var(--sklearn-color-text);\n  background-color: var(--sklearn-color-unfitted-level-2);\n}\n\n/* Label box, darken color on hover, fitted */\n#sk-container-id-1 div.sk-label.fitted:hover label.sk-toggleable__label.fitted {\n  color: var(--sklearn-color-text);\n  background-color: var(--sklearn-color-fitted-level-2);\n}\n\n/* Estimator label */\n\n#sk-container-id-1 div.sk-label label {\n  font-family: monospace;\n  font-weight: bold;\n  display: inline-block;\n  line-height: 1.2em;\n}\n\n#sk-container-id-1 div.sk-label-container {\n  text-align: center;\n}\n\n/* Estimator-specific */\n#sk-container-id-1 div.sk-estimator {\n  font-family: monospace;\n  border: 1px dotted var(--sklearn-color-border-box);\n  border-radius: 0.25em;\n  box-sizing: border-box;\n  margin-bottom: 0.5em;\n  /* unfitted */\n  background-color: var(--sklearn-color-unfitted-level-0);\n}\n\n#sk-container-id-1 div.sk-estimator.fitted {\n  /* fitted */\n  background-color: var(--sklearn-color-fitted-level-0);\n}\n\n/* on hover */\n#sk-container-id-1 div.sk-estimator:hover {\n  /* unfitted */\n  background-color: var(--sklearn-color-unfitted-level-2);\n}\n\n#sk-container-id-1 div.sk-estimator.fitted:hover {\n  /* fitted */\n  background-color: var(--sklearn-color-fitted-level-2);\n}\n\n/* Specification for estimator info (e.g. \"i\" and \"?\") */\n\n/* Common style for \"i\" and \"?\" */\n\n.sk-estimator-doc-link,\na:link.sk-estimator-doc-link,\na:visited.sk-estimator-doc-link {\n  float: right;\n  font-size: smaller;\n  line-height: 1em;\n  font-family: monospace;\n  background-color: var(--sklearn-color-background);\n  border-radius: 1em;\n  height: 1em;\n  width: 1em;\n  text-decoration: none !important;\n  margin-left: 1ex;\n  /* unfitted */\n  border: var(--sklearn-color-unfitted-level-1) 1pt solid;\n  color: var(--sklearn-color-unfitted-level-1);\n}\n\n.sk-estimator-doc-link.fitted,\na:link.sk-estimator-doc-link.fitted,\na:visited.sk-estimator-doc-link.fitted {\n  /* fitted */\n  border: var(--sklearn-color-fitted-level-1) 1pt solid;\n  color: var(--sklearn-color-fitted-level-1);\n}\n\n/* On hover */\ndiv.sk-estimator:hover .sk-estimator-doc-link:hover,\n.sk-estimator-doc-link:hover,\ndiv.sk-label-container:hover .sk-estimator-doc-link:hover,\n.sk-estimator-doc-link:hover {\n  /* unfitted */\n  background-color: var(--sklearn-color-unfitted-level-3);\n  color: var(--sklearn-color-background);\n  text-decoration: none;\n}\n\ndiv.sk-estimator.fitted:hover .sk-estimator-doc-link.fitted:hover,\n.sk-estimator-doc-link.fitted:hover,\ndiv.sk-label-container:hover .sk-estimator-doc-link.fitted:hover,\n.sk-estimator-doc-link.fitted:hover {\n  /* fitted */\n  background-color: var(--sklearn-color-fitted-level-3);\n  color: var(--sklearn-color-background);\n  text-decoration: none;\n}\n\n/* Span, style for the box shown on hovering the info icon */\n.sk-estimator-doc-link span {\n  display: none;\n  z-index: 9999;\n  position: relative;\n  font-weight: normal;\n  right: .2ex;\n  padding: .5ex;\n  margin: .5ex;\n  width: min-content;\n  min-width: 20ex;\n  max-width: 50ex;\n  color: var(--sklearn-color-text);\n  box-shadow: 2pt 2pt 4pt #999;\n  /* unfitted */\n  background: var(--sklearn-color-unfitted-level-0);\n  border: .5pt solid var(--sklearn-color-unfitted-level-3);\n}\n\n.sk-estimator-doc-link.fitted span {\n  /* fitted */\n  background: var(--sklearn-color-fitted-level-0);\n  border: var(--sklearn-color-fitted-level-3);\n}\n\n.sk-estimator-doc-link:hover span {\n  display: block;\n}\n\n/* \"?\"-specific style due to the `<a>` HTML tag */\n\n#sk-container-id-1 a.estimator_doc_link {\n  float: right;\n  font-size: 1rem;\n  line-height: 1em;\n  font-family: monospace;\n  background-color: var(--sklearn-color-background);\n  border-radius: 1rem;\n  height: 1rem;\n  width: 1rem;\n  text-decoration: none;\n  /* unfitted */\n  color: var(--sklearn-color-unfitted-level-1);\n  border: var(--sklearn-color-unfitted-level-1) 1pt solid;\n}\n\n#sk-container-id-1 a.estimator_doc_link.fitted {\n  /* fitted */\n  border: var(--sklearn-color-fitted-level-1) 1pt solid;\n  color: var(--sklearn-color-fitted-level-1);\n}\n\n/* On hover */\n#sk-container-id-1 a.estimator_doc_link:hover {\n  /* unfitted */\n  background-color: var(--sklearn-color-unfitted-level-3);\n  color: var(--sklearn-color-background);\n  text-decoration: none;\n}\n\n#sk-container-id-1 a.estimator_doc_link.fitted:hover {\n  /* fitted */\n  background-color: var(--sklearn-color-fitted-level-3);\n}\n</style><div id=\"sk-container-id-1\" class=\"sk-top-container\"><div class=\"sk-text-repr-fallback\"><pre>GridSearchCV(cv=2,\n             estimator=LGBMClassifier(metric=&#x27;auc&#x27;, n_estimators=10000,\n                                      objective=&#x27;binary&#x27;, verbose=-1),\n             param_grid={&#x27;learning_rate&#x27;: [0.02, 0.05], &#x27;max_depth&#x27;: [8, 12],\n                         &#x27;num_leaves&#x27;: [34, 65]},\n             scoring=&#x27;roc_auc&#x27;, verbose=10)</pre><b>In a Jupyter environment, please rerun this cell to show the HTML representation or trust the notebook. <br />On GitHub, the HTML representation is unable to render, please try loading this page with nbviewer.org.</b></div><div class=\"sk-container\" hidden><div class=\"sk-item sk-dashed-wrapped\"><div class=\"sk-label-container\"><div class=\"sk-label fitted sk-toggleable\"><input class=\"sk-toggleable__control sk-hidden--visually\" id=\"sk-estimator-id-1\" type=\"checkbox\" ><label for=\"sk-estimator-id-1\" class=\"sk-toggleable__label fitted sk-toggleable__label-arrow fitted\">&nbsp;&nbsp;GridSearchCV<a class=\"sk-estimator-doc-link fitted\" rel=\"noreferrer\" target=\"_blank\" href=\"https://scikit-learn.org/1.4/modules/generated/sklearn.model_selection.GridSearchCV.html\">?<span>Documentation for GridSearchCV</span></a><span class=\"sk-estimator-doc-link fitted\">i<span>Fitted</span></span></label><div class=\"sk-toggleable__content fitted\"><pre>GridSearchCV(cv=2,\n             estimator=LGBMClassifier(metric=&#x27;auc&#x27;, n_estimators=10000,\n                                      objective=&#x27;binary&#x27;, verbose=-1),\n             param_grid={&#x27;learning_rate&#x27;: [0.02, 0.05], &#x27;max_depth&#x27;: [8, 12],\n                         &#x27;num_leaves&#x27;: [34, 65]},\n             scoring=&#x27;roc_auc&#x27;, verbose=10)</pre></div> </div></div><div class=\"sk-parallel\"><div class=\"sk-parallel-item\"><div class=\"sk-item\"><div class=\"sk-label-container\"><div class=\"sk-label fitted sk-toggleable\"><input class=\"sk-toggleable__control sk-hidden--visually\" id=\"sk-estimator-id-2\" type=\"checkbox\" ><label for=\"sk-estimator-id-2\" class=\"sk-toggleable__label fitted sk-toggleable__label-arrow fitted\">estimator: LGBMClassifier</label><div class=\"sk-toggleable__content fitted\"><pre>LGBMClassifier(metric=&#x27;auc&#x27;, n_estimators=10000, objective=&#x27;binary&#x27;, verbose=-1)</pre></div> </div></div><div class=\"sk-serial\"><div class=\"sk-item\"><div class=\"sk-estimator fitted sk-toggleable\"><input class=\"sk-toggleable__control sk-hidden--visually\" id=\"sk-estimator-id-3\" type=\"checkbox\" ><label for=\"sk-estimator-id-3\" class=\"sk-toggleable__label fitted sk-toggleable__label-arrow fitted\">LGBMClassifier</label><div class=\"sk-toggleable__content fitted\"><pre>LGBMClassifier(metric=&#x27;auc&#x27;, n_estimators=10000, objective=&#x27;binary&#x27;, verbose=-1)</pre></div> </div></div></div></div></div></div></div></div></div>"
     },
     "execution_count": 18,
     "metadata": {},
     "output_type": "execute_result"
    }
   ],
   "source": [
    "grid_search.fit(X_train, y_train)"
   ],
   "metadata": {
    "collapsed": false,
    "ExecuteTime": {
     "end_time": "2024-05-20T14:05:43.567730100Z",
     "start_time": "2024-05-20T13:37:05.732572700Z"
    }
   },
   "id": "3a31c07f3d44ea84"
  },
  {
   "cell_type": "code",
   "execution_count": 56,
   "outputs": [],
   "source": [
    "X_train, X_test, y_train, y_test = split_data(train_df)\n",
    "train_set = lgb.Dataset(X_train, y_train)\n",
    "val_set = lgb.Dataset(X_test, y_test)"
   ],
   "metadata": {
    "collapsed": false,
    "ExecuteTime": {
     "end_time": "2024-05-20T15:46:13.986900100Z",
     "start_time": "2024-05-20T15:46:12.593143600Z"
    }
   },
   "id": "8bcec0de1a40cdb0"
  },
  {
   "cell_type": "code",
   "execution_count": 61,
   "outputs": [],
   "source": [
    "# Get default hyperparameters\n",
    "model = lgb.LGBMClassifier()\n",
    "default_params = model.get_params()"
   ],
   "metadata": {
    "collapsed": false,
    "ExecuteTime": {
     "end_time": "2024-05-20T15:47:44.960392600Z",
     "start_time": "2024-05-20T15:47:44.947761200Z"
    }
   },
   "id": "397de0ef03014da5"
  },
  {
   "cell_type": "code",
   "execution_count": 62,
   "outputs": [
    {
     "name": "stdout",
     "output_type": "stream",
     "text": [
      "[LightGBM] [Warning] Unknown parameter: importance_type\n",
      "[LightGBM] [Warning] Unknown parameter: importance_type\n",
      "[LightGBM] [Warning] Unknown parameter: importance_type\n",
      "[LightGBM] [Info] Auto-choosing col-wise multi-threading, the overhead of testing was 0.146458 seconds.\n",
      "You can set `force_col_wise=true` to remove the overhead.\n",
      "[LightGBM] [Info] Total Bins 45280\n",
      "[LightGBM] [Info] Number of data points in the train set: 196804, number of used features: 456\n",
      "[LightGBM] [Warning] Unknown parameter: importance_type\n",
      "[LightGBM] [Warning] Unknown parameter: importance_type\n",
      "[LightGBM] [Warning] Unknown parameter: importance_type\n",
      "[LightGBM] [Info] Auto-choosing col-wise multi-threading, the overhead of testing was 0.167373 seconds.\n",
      "You can set `force_col_wise=true` to remove the overhead.\n",
      "[LightGBM] [Info] Total Bins 45280\n",
      "[LightGBM] [Info] Number of data points in the train set: 196804, number of used features: 456\n",
      "[LightGBM] [Warning] Unknown parameter: importance_type\n",
      "[LightGBM] [Warning] Unknown parameter: importance_type\n",
      "[LightGBM] [Warning] Unknown parameter: importance_type\n",
      "[LightGBM] [Info] Auto-choosing col-wise multi-threading, the overhead of testing was 0.163618 seconds.\n",
      "You can set `force_col_wise=true` to remove the overhead.\n",
      "[LightGBM] [Info] Total Bins 45280\n",
      "[LightGBM] [Info] Number of data points in the train set: 196804, number of used features: 456\n",
      "[LightGBM] [Warning] Unknown parameter: importance_type\n",
      "[LightGBM] [Warning] Unknown parameter: importance_type\n",
      "[LightGBM] [Warning] Unknown parameter: importance_type\n",
      "[LightGBM] [Info] Auto-choosing col-wise multi-threading, the overhead of testing was 0.154080 seconds.\n",
      "You can set `force_col_wise=true` to remove the overhead.\n",
      "[LightGBM] [Info] Total Bins 45280\n",
      "[LightGBM] [Info] Number of data points in the train set: 196804, number of used features: 456\n",
      "[LightGBM] [Warning] Unknown parameter: importance_type\n",
      "[LightGBM] [Warning] Unknown parameter: importance_type\n",
      "[LightGBM] [Warning] Unknown parameter: importance_type\n",
      "[LightGBM] [Info] Auto-choosing col-wise multi-threading, the overhead of testing was 0.171815 seconds.\n",
      "You can set `force_col_wise=true` to remove the overhead.\n",
      "[LightGBM] [Info] Total Bins 45280\n",
      "[LightGBM] [Info] Number of data points in the train set: 196804, number of used features: 456\n",
      "[LightGBM] [Warning] Unknown parameter: importance_type\n",
      "[LightGBM] [Info] Start training from score 0.080501\n",
      "[LightGBM] [Info] Start training from score 0.080501\n",
      "[LightGBM] [Info] Start training from score 0.080501\n",
      "[LightGBM] [Info] Start training from score 0.080501\n",
      "[LightGBM] [Info] Start training from score 0.080506\n",
      "Training until validation scores don't improve for 100 rounds\n",
      "Did not meet early stopping. Best iteration is:\n",
      "[100]\tcv_agg's valid auc: 0.769796 + 0.00324865\n"
     ]
    }
   ],
   "source": [
    "# Cross validation with early stopping\n",
    "cv_results = lgb.cv(default_params, train_set, metrics='auc', \n",
    "                    nfold=5, seed=42, callbacks=[lgb.early_stopping(stopping_rounds=100)])"
   ],
   "metadata": {
    "collapsed": false,
    "ExecuteTime": {
     "end_time": "2024-05-20T15:47:59.741631900Z",
     "start_time": "2024-05-20T15:47:45.070911300Z"
    }
   },
   "id": "217c26f1ef56f72a"
  },
  {
   "cell_type": "code",
   "execution_count": 65,
   "outputs": [
    {
     "data": {
      "text/plain": "",
      "text/html": "<pre style=\"white-space:pre;overflow-x:auto;line-height:normal;font-family:Menlo,'DejaVu Sans Mono',consolas,'Courier New',monospace\"></pre>\n"
     },
     "metadata": {},
     "output_type": "display_data"
    },
    {
     "data": {
      "text/plain": "\n\u001B[1m{\u001B[0m\n    \u001B[32m'valid auc-mean'\u001B[0m: \u001B[1m[\u001B[0m\n        \u001B[1;36m0.7030554191648362\u001B[0m,\n        \u001B[1;36m0.7103788606383553\u001B[0m,\n        \u001B[1;36m0.7139725044585108\u001B[0m,\n        \u001B[1;36m0.7170087269043448\u001B[0m,\n        \u001B[1;36m0.7202398504680867\u001B[0m,\n        \u001B[1;36m0.7226871865193297\u001B[0m,\n        \u001B[1;36m0.7242932003846297\u001B[0m,\n        \u001B[1;36m0.7263610369208934\u001B[0m,\n        \u001B[1;36m0.7281280035664908\u001B[0m,\n        \u001B[1;36m0.7302422187738682\u001B[0m,\n        \u001B[1;36m0.7319578035366889\u001B[0m,\n        \u001B[1;36m0.7339613560261296\u001B[0m,\n        \u001B[1;36m0.7355943872884947\u001B[0m,\n        \u001B[1;36m0.7374468396920524\u001B[0m,\n        \u001B[1;36m0.7388030922900846\u001B[0m,\n        \u001B[1;36m0.740776291332296\u001B[0m,\n        \u001B[1;36m0.7422195243827643\u001B[0m,\n        \u001B[1;36m0.7439724479172949\u001B[0m,\n        \u001B[1;36m0.745209770740302\u001B[0m,\n        \u001B[1;36m0.7470515605987046\u001B[0m,\n        \u001B[1;36m0.7482211934467908\u001B[0m,\n        \u001B[1;36m0.7494348413166397\u001B[0m,\n        \u001B[1;36m0.7511464164749384\u001B[0m,\n        \u001B[1;36m0.7520760963390046\u001B[0m,\n        \u001B[1;36m0.7528827264898352\u001B[0m,\n        \u001B[1;36m0.7535505728172579\u001B[0m,\n        \u001B[1;36m0.7541444707255797\u001B[0m,\n        \u001B[1;36m0.7548721275380622\u001B[0m,\n        \u001B[1;36m0.7554799719981391\u001B[0m,\n        \u001B[1;36m0.7560092189738187\u001B[0m,\n        \u001B[1;36m0.756497205848081\u001B[0m,\n        \u001B[1;36m0.7570644279348142\u001B[0m,\n        \u001B[1;36m0.757670804185479\u001B[0m,\n        \u001B[1;36m0.7580927723415668\u001B[0m,\n        \u001B[1;36m0.7585491683264787\u001B[0m,\n        \u001B[1;36m0.7589803114135925\u001B[0m,\n        \u001B[1;36m0.7593063537918907\u001B[0m,\n        \u001B[1;36m0.7598153916088394\u001B[0m,\n        \u001B[1;36m0.7601892002651148\u001B[0m,\n        \u001B[1;36m0.7607586219049723\u001B[0m,\n        \u001B[1;36m0.7611055580779837\u001B[0m,\n        \u001B[1;36m0.7613714032169867\u001B[0m,\n        \u001B[1;36m0.7615744127175575\u001B[0m,\n        \u001B[1;36m0.7618892070370786\u001B[0m,\n        \u001B[1;36m0.7622500201744561\u001B[0m,\n        \u001B[1;36m0.762510469180478\u001B[0m,\n        \u001B[1;36m0.7628317542001021\u001B[0m,\n        \u001B[1;36m0.7632457248128188\u001B[0m,\n        \u001B[1;36m0.7635184370302099\u001B[0m,\n        \u001B[1;36m0.763738087315882\u001B[0m,\n        \u001B[1;36m0.7640493102734588\u001B[0m,\n        \u001B[1;36m0.7643285470414067\u001B[0m,\n        \u001B[1;36m0.7645262259324943\u001B[0m,\n        \u001B[1;36m0.7647840460403745\u001B[0m,\n        \u001B[1;36m0.7649072677259436\u001B[0m,\n        \u001B[1;36m0.765096703392396\u001B[0m,\n        \u001B[1;36m0.7653289190023438\u001B[0m,\n        \u001B[1;36m0.7654903741567896\u001B[0m,\n        \u001B[1;36m0.7655792169158349\u001B[0m,\n        \u001B[1;36m0.7657551882611419\u001B[0m,\n        \u001B[1;36m0.7660256621188571\u001B[0m,\n        \u001B[1;36m0.7662278879302752\u001B[0m,\n        \u001B[1;36m0.7664283404047476\u001B[0m,\n        \u001B[1;36m0.76654275565099\u001B[0m,\n        \u001B[1;36m0.7666843368805042\u001B[0m,\n        \u001B[1;36m0.7667868994531895\u001B[0m,\n        \u001B[1;36m0.766847992653186\u001B[0m,\n        \u001B[1;36m0.7670669943343408\u001B[0m,\n        \u001B[1;36m0.7672236294285419\u001B[0m,\n        \u001B[1;36m0.767424022555639\u001B[0m,\n        \u001B[1;36m0.7675105265283466\u001B[0m,\n        \u001B[1;36m0.7676181779106346\u001B[0m,\n        \u001B[1;36m0.7676897276435809\u001B[0m,\n        \u001B[1;36m0.767736034521365\u001B[0m,\n        \u001B[1;36m0.7678275528644726\u001B[0m,\n        \u001B[1;36m0.767908501131634\u001B[0m,\n        \u001B[1;36m0.7679899206637136\u001B[0m,\n        \u001B[1;36m0.7681882716711224\u001B[0m,\n        \u001B[1;36m0.7682077150396454\u001B[0m,\n        \u001B[1;36m0.7683335134324334\u001B[0m,\n        \u001B[1;36m0.7683625627621392\u001B[0m,\n        \u001B[1;36m0.7684174398693514\u001B[0m,\n        \u001B[1;36m0.7686246967558892\u001B[0m,\n        \u001B[1;36m0.7687401437393463\u001B[0m,\n        \u001B[1;36m0.7687611240321957\u001B[0m,\n        \u001B[1;36m0.7688485913828836\u001B[0m,\n        \u001B[1;36m0.7689324934008921\u001B[0m,\n        \u001B[1;36m0.7690338812610633\u001B[0m,\n        \u001B[1;36m0.7691090214003454\u001B[0m,\n        \u001B[1;36m0.7692027152240455\u001B[0m,\n        \u001B[1;36m0.7692732415303211\u001B[0m,\n        \u001B[1;36m0.7693785299794232\u001B[0m,\n        \u001B[1;36m0.7694258560977486\u001B[0m,\n        \u001B[1;36m0.7694224221444925\u001B[0m,\n        \u001B[1;36m0.7695049559130689\u001B[0m,\n        \u001B[1;36m0.7695721790140674\u001B[0m,\n        \u001B[1;36m0.7696588488655104\u001B[0m,\n        \u001B[1;36m0.769737057809948\u001B[0m,\n        \u001B[1;36m0.7697909067961619\u001B[0m,\n        \u001B[1;36m0.7697959685349355\u001B[0m\n    \u001B[1m]\u001B[0m,\n    \u001B[32m'valid auc-stdv'\u001B[0m: \u001B[1m[\u001B[0m\n        \u001B[1;36m0.0038949245387499935\u001B[0m,\n        \u001B[1;36m0.004877447500842172\u001B[0m,\n        \u001B[1;36m0.004966673125149542\u001B[0m,\n        \u001B[1;36m0.004971595297586399\u001B[0m,\n        \u001B[1;36m0.004742577279282318\u001B[0m,\n        \u001B[1;36m0.0051678684641098226\u001B[0m,\n        \u001B[1;36m0.004519698837031091\u001B[0m,\n        \u001B[1;36m0.00451229242947995\u001B[0m,\n        \u001B[1;36m0.005314195615144341\u001B[0m,\n        \u001B[1;36m0.005397288577827571\u001B[0m,\n        \u001B[1;36m0.005747311105570386\u001B[0m,\n        \u001B[1;36m0.006062229149571925\u001B[0m,\n        \u001B[1;36m0.005823013395583195\u001B[0m,\n        \u001B[1;36m0.005342092534578576\u001B[0m,\n        \u001B[1;36m0.005275902380117209\u001B[0m,\n        \u001B[1;36m0.005008239547447364\u001B[0m,\n        \u001B[1;36m0.004824245587850169\u001B[0m,\n        \u001B[1;36m0.004672625070691108\u001B[0m,\n        \u001B[1;36m0.004449563797304392\u001B[0m,\n        \u001B[1;36m0.004396406445910643\u001B[0m,\n        \u001B[1;36m0.004393393907304153\u001B[0m,\n        \u001B[1;36m0.004143814994902825\u001B[0m,\n        \u001B[1;36m0.0033835456390883508\u001B[0m,\n        \u001B[1;36m0.0033863793844685023\u001B[0m,\n        \u001B[1;36m0.003460184856617488\u001B[0m,\n        \u001B[1;36m0.0033107653488935245\u001B[0m,\n        \u001B[1;36m0.0031814341255481274\u001B[0m,\n        \u001B[1;36m0.003108521722378946\u001B[0m,\n        \u001B[1;36m0.0029698929590298143\u001B[0m,\n        \u001B[1;36m0.002945463777901263\u001B[0m,\n        \u001B[1;36m0.0029517416254714107\u001B[0m,\n        \u001B[1;36m0.002950524413485467\u001B[0m,\n        \u001B[1;36m0.0027548044016227043\u001B[0m,\n        \u001B[1;36m0.0028853156885887505\u001B[0m,\n        \u001B[1;36m0.0027855201121600817\u001B[0m,\n        \u001B[1;36m0.002844875344215052\u001B[0m,\n        \u001B[1;36m0.0029037282840261138\u001B[0m,\n        \u001B[1;36m0.002790245834876902\u001B[0m,\n        \u001B[1;36m0.0027980908815591855\u001B[0m,\n        \u001B[1;36m0.0027742575166343664\u001B[0m,\n        \u001B[1;36m0.002803598811177526\u001B[0m,\n        \u001B[1;36m0.002740861714286158\u001B[0m,\n        \u001B[1;36m0.0027422800704071932\u001B[0m,\n        \u001B[1;36m0.0027623727615415047\u001B[0m,\n        \u001B[1;36m0.002850566116829256\u001B[0m,\n        \u001B[1;36m0.0028188248371203485\u001B[0m,\n        \u001B[1;36m0.0027225009427688618\u001B[0m,\n        \u001B[1;36m0.002940636275179571\u001B[0m,\n        \u001B[1;36m0.002936514842115704\u001B[0m,\n        \u001B[1;36m0.0029919844430888955\u001B[0m,\n        \u001B[1;36m0.0030165187639851947\u001B[0m,\n        \u001B[1;36m0.002978100047588941\u001B[0m,\n        \u001B[1;36m0.003029978124803107\u001B[0m,\n        \u001B[1;36m0.0031586810155551036\u001B[0m,\n        \u001B[1;36m0.0031655798716619167\u001B[0m,\n        \u001B[1;36m0.003167906585924857\u001B[0m,\n        \u001B[1;36m0.003044772046191606\u001B[0m,\n        \u001B[1;36m0.003030737277904324\u001B[0m,\n        \u001B[1;36m0.0029602664296577053\u001B[0m,\n        \u001B[1;36m0.002952002813822327\u001B[0m,\n        \u001B[1;36m0.002946170232379266\u001B[0m,\n        \u001B[1;36m0.003034362366204942\u001B[0m,\n        \u001B[1;36m0.0029949750689827583\u001B[0m,\n        \u001B[1;36m0.0030097453186465244\u001B[0m,\n        \u001B[1;36m0.0030283813619387872\u001B[0m,\n        \u001B[1;36m0.0029654625889920135\u001B[0m,\n        \u001B[1;36m0.0029965072651329415\u001B[0m,\n        \u001B[1;36m0.0029862902489301507\u001B[0m,\n        \u001B[1;36m0.0029454861829588588\u001B[0m,\n        \u001B[1;36m0.002882851517126575\u001B[0m,\n        \u001B[1;36m0.0028752902990847673\u001B[0m,\n        \u001B[1;36m0.002879428455134392\u001B[0m,\n        \u001B[1;36m0.0028735243574584263\u001B[0m,\n        \u001B[1;36m0.0028494977864609167\u001B[0m,\n        \u001B[1;36m0.0028217116642240817\u001B[0m,\n        \u001B[1;36m0.0027705596995614805\u001B[0m,\n        \u001B[1;36m0.002678469586809933\u001B[0m,\n        \u001B[1;36m0.0026673364309116724\u001B[0m,\n        \u001B[1;36m0.0026838579913170263\u001B[0m,\n        \u001B[1;36m0.0026925261954275728\u001B[0m,\n        \u001B[1;36m0.0027460800898032045\u001B[0m,\n        \u001B[1;36m0.0028151193928411603\u001B[0m,\n        \u001B[1;36m0.0028743934416960086\u001B[0m,\n        \u001B[1;36m0.0028778410330980416\u001B[0m,\n        \u001B[1;36m0.002903497934598943\u001B[0m,\n        \u001B[1;36m0.0029113405051877515\u001B[0m,\n        \u001B[1;36m0.002993685273301247\u001B[0m,\n        \u001B[1;36m0.0030193215247327197\u001B[0m,\n        \u001B[1;36m0.003032483591781598\u001B[0m,\n        \u001B[1;36m0.003018724522500855\u001B[0m,\n        \u001B[1;36m0.003001238420029528\u001B[0m,\n        \u001B[1;36m0.0030054396810991024\u001B[0m,\n        \u001B[1;36m0.0030533084640450275\u001B[0m,\n        \u001B[1;36m0.0030380272800983594\u001B[0m,\n        \u001B[1;36m0.0030585064754898696\u001B[0m,\n        \u001B[1;36m0.003186443592969527\u001B[0m,\n        \u001B[1;36m0.0031922684256533635\u001B[0m,\n        \u001B[1;36m0.00323360232068212\u001B[0m,\n        \u001B[1;36m0.003230908511723501\u001B[0m,\n        \u001B[1;36m0.003248646458202625\u001B[0m\n    \u001B[1m]\u001B[0m\n\u001B[1m}\u001B[0m"
     },
     "execution_count": 65,
     "metadata": {},
     "output_type": "execute_result"
    }
   ],
   "source": [
    "cv_results"
   ],
   "metadata": {
    "collapsed": false,
    "ExecuteTime": {
     "end_time": "2024-05-20T15:49:01.146474100Z",
     "start_time": "2024-05-20T15:49:01.086025600Z"
    }
   },
   "id": "cd60d888aa437d29"
  },
  {
   "cell_type": "code",
   "execution_count": 66,
   "outputs": [
    {
     "name": "stdout",
     "output_type": "stream",
     "text": [
      "The maximum validation ROC AUC was: 0.76980 with a standard deviation of 0.00325.\n",
      "The optimal number of boosting rounds (estimators) was 100.\n"
     ]
    }
   ],
   "source": [
    "print('The maximum validation ROC AUC was: {:.5f} with a standard deviation of {:.5f}.'.format(cv_results['valid auc-mean'][-1], cv_results['valid auc-stdv'][-1]))\n",
    "print('The optimal number of boosting rounds (estimators) was {}.'.format(len(cv_results['valid auc-mean'])))"
   ],
   "metadata": {
    "collapsed": false,
    "ExecuteTime": {
     "end_time": "2024-05-20T15:49:25.169270100Z",
     "start_time": "2024-05-20T15:49:25.139247Z"
    }
   },
   "id": "83a9e4d2e6caaa53"
  },
  {
   "cell_type": "code",
   "execution_count": 67,
   "outputs": [
    {
     "name": "stdout",
     "output_type": "stream",
     "text": [
      "[LightGBM] [Info] Number of positive: 19804, number of negative: 226201\n",
      "[LightGBM] [Info] Auto-choosing col-wise multi-threading, the overhead of testing was 0.178898 seconds.\n",
      "You can set `force_col_wise=true` to remove the overhead.\n",
      "[LightGBM] [Info] Total Bins 45280\n",
      "[LightGBM] [Info] Number of data points in the train set: 246005, number of used features: 456\n",
      "[LightGBM] [Info] [binary:BoostFromScore]: pavg=0.080502 -> initscore=-2.435540\n",
      "[LightGBM] [Info] Start training from score -2.435540\n",
      "The baseline model scores 0.77386 ROC AUC on the test set.\n"
     ]
    }
   ],
   "source": [
    "# Optimal number of esimators found in cv\n",
    "model.n_estimators = len(cv_results['valid auc-mean'])\n",
    "\n",
    "# Train and make predicions with model\n",
    "model.fit(X_train, y_train)\n",
    "preds = model.predict_proba(X_test)[:, 1]\n",
    "baseline_auc = roc_auc_score(y_test, preds)\n",
    "\n",
    "print('The baseline model scores {:.5f} ROC AUC on the test set.'.format(baseline_auc))"
   ],
   "metadata": {
    "collapsed": false,
    "ExecuteTime": {
     "end_time": "2024-05-20T15:50:33.137089100Z",
     "start_time": "2024-05-20T15:50:27.600083500Z"
    }
   },
   "id": "c41fa22515249830"
  },
  {
   "cell_type": "code",
   "execution_count": 45,
   "outputs": [],
   "source": [
    "# test_df = catalog.load(\"full_df_test\")\n",
    "# pd.DataFrame({\"SK_ID_CURR\": test_df[\"SK_ID_CURR\"], \"TARGET\": y_pred_test}).to_csv(\"../data/07_model_output/kaggle_output_df_200524.csv\", index=False)"
   ],
   "metadata": {
    "collapsed": false,
    "ExecuteTime": {
     "end_time": "2024-05-20T14:54:11.378406100Z",
     "start_time": "2024-05-20T14:54:11.300912300Z"
    }
   },
   "id": "412e6ff4b23b75ee"
  }
 ],
 "metadata": {
  "kernelspec": {
   "name": "kedro_ocp7_scoring_model_cloud",
   "language": "python",
   "display_name": "Kedro (ocp7_scoring_model_cloud)"
  },
  "language_info": {
   "codemirror_mode": {
    "name": "ipython",
    "version": 2
   },
   "file_extension": ".py",
   "mimetype": "text/x-python",
   "name": "python",
   "nbconvert_exporter": "python",
   "pygments_lexer": "ipython2",
   "version": "2.7.6"
  }
 },
 "nbformat": 4,
 "nbformat_minor": 5
}
