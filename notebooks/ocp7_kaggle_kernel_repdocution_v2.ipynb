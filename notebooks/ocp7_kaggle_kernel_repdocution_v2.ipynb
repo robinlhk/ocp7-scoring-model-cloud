{
 "cells": [
  {
   "cell_type": "code",
   "execution_count": 51,
   "metadata": {
    "ExecuteTime": {
     "end_time": "2024-05-10T14:23:38.284362900Z",
     "start_time": "2024-05-10T14:23:36.857636900Z"
    }
   },
   "outputs": [
    {
     "data": {
      "text/plain": "\u001B[2;36m[05/10/24 16:23:36]\u001B[0m\u001B[2;36m \u001B[0m\u001B[34mINFO    \u001B[0m Resolved project path as:                                              \u001B]8;id=923992;file://C:\\Users\\9509298u\\AppData\\Local\\miniconda3\\envs\\ocp7-scoring-model-cloud\\lib\\site-packages\\kedro\\ipython\\__init__.py\u001B\\\u001B[2m__init__.py\u001B[0m\u001B]8;;\u001B\\\u001B[2m:\u001B[0m\u001B]8;id=64225;file://C:\\Users\\9509298u\\AppData\\Local\\miniconda3\\envs\\ocp7-scoring-model-cloud\\lib\\site-packages\\kedro\\ipython\\__init__.py#164\u001B\\\u001B[2m164\u001B[0m\u001B]8;;\u001B\\\n\u001B[2;36m                    \u001B[0m         C:\\Users\\9509298u\\Documents\\GitHub\\OC_Projects\\ocp7-scoring-model-clou \u001B[2m               \u001B[0m\n\u001B[2;36m                    \u001B[0m         d.                                                                     \u001B[2m               \u001B[0m\n\u001B[2;36m                    \u001B[0m         To set a different path, run \u001B[32m'%reload_kedro \u001B[0m\u001B[32m<\u001B[0m\u001B[32mproject_root\u001B[0m\u001B[32m>\u001B[0m\u001B[32m'\u001B[0m            \u001B[2m               \u001B[0m\n",
      "text/html": "<pre style=\"white-space:pre;overflow-x:auto;line-height:normal;font-family:Menlo,'DejaVu Sans Mono',consolas,'Courier New',monospace\"><span style=\"color: #7fbfbf; text-decoration-color: #7fbfbf\">[05/10/24 16:23:36] </span><span style=\"color: #000080; text-decoration-color: #000080\">INFO    </span> Resolved project path as:                                              <a href=\"file://C:\\Users\\9509298u\\AppData\\Local\\miniconda3\\envs\\ocp7-scoring-model-cloud\\lib\\site-packages\\kedro\\ipython\\__init__.py\" target=\"_blank\"><span style=\"color: #7f7f7f; text-decoration-color: #7f7f7f\">__init__.py</span></a><span style=\"color: #7f7f7f; text-decoration-color: #7f7f7f\">:</span><a href=\"file://C:\\Users\\9509298u\\AppData\\Local\\miniconda3\\envs\\ocp7-scoring-model-cloud\\lib\\site-packages\\kedro\\ipython\\__init__.py#164\" target=\"_blank\"><span style=\"color: #7f7f7f; text-decoration-color: #7f7f7f\">164</span></a>\n<span style=\"color: #7fbfbf; text-decoration-color: #7fbfbf\">                    </span>         C:\\Users\\9509298u\\Documents\\GitHub\\OC_Projects\\ocp7-scoring-model-clou <span style=\"color: #7f7f7f; text-decoration-color: #7f7f7f\">               </span>\n<span style=\"color: #7fbfbf; text-decoration-color: #7fbfbf\">                    </span>         d.                                                                     <span style=\"color: #7f7f7f; text-decoration-color: #7f7f7f\">               </span>\n<span style=\"color: #7fbfbf; text-decoration-color: #7fbfbf\">                    </span>         To set a different path, run <span style=\"color: #008000; text-decoration-color: #008000\">'%reload_kedro &lt;project_root&gt;'</span>            <span style=\"color: #7f7f7f; text-decoration-color: #7f7f7f\">               </span>\n</pre>\n"
     },
     "metadata": {},
     "output_type": "display_data"
    },
    {
     "data": {
      "text/plain": "\u001B[2;36m[05/10/24 16:23:38]\u001B[0m\u001B[2;36m \u001B[0m\u001B[34mINFO    \u001B[0m Registering new custom resolver: \u001B[32m'km.random_name'\u001B[0m                    \u001B]8;id=556167;file://C:\\Users\\9509298u\\AppData\\Local\\miniconda3\\envs\\ocp7-scoring-model-cloud\\lib\\site-packages\\kedro_mlflow\\framework\\hooks\\mlflow_hook.py\u001B\\\u001B[2mmlflow_hook.py\u001B[0m\u001B]8;;\u001B\\\u001B[2m:\u001B[0m\u001B]8;id=656014;file://C:\\Users\\9509298u\\AppData\\Local\\miniconda3\\envs\\ocp7-scoring-model-cloud\\lib\\site-packages\\kedro_mlflow\\framework\\hooks\\mlflow_hook.py#65\u001B\\\u001B[2m65\u001B[0m\u001B]8;;\u001B\\\n",
      "text/html": "<pre style=\"white-space:pre;overflow-x:auto;line-height:normal;font-family:Menlo,'DejaVu Sans Mono',consolas,'Courier New',monospace\"><span style=\"color: #7fbfbf; text-decoration-color: #7fbfbf\">[05/10/24 16:23:38] </span><span style=\"color: #000080; text-decoration-color: #000080\">INFO    </span> Registering new custom resolver: <span style=\"color: #008000; text-decoration-color: #008000\">'km.random_name'</span>                    <a href=\"file://C:\\Users\\9509298u\\AppData\\Local\\miniconda3\\envs\\ocp7-scoring-model-cloud\\lib\\site-packages\\kedro_mlflow\\framework\\hooks\\mlflow_hook.py\" target=\"_blank\"><span style=\"color: #7f7f7f; text-decoration-color: #7f7f7f\">mlflow_hook.py</span></a><span style=\"color: #7f7f7f; text-decoration-color: #7f7f7f\">:</span><a href=\"file://C:\\Users\\9509298u\\AppData\\Local\\miniconda3\\envs\\ocp7-scoring-model-cloud\\lib\\site-packages\\kedro_mlflow\\framework\\hooks\\mlflow_hook.py#65\" target=\"_blank\"><span style=\"color: #7f7f7f; text-decoration-color: #7f7f7f\">65</span></a>\n</pre>\n"
     },
     "metadata": {},
     "output_type": "display_data"
    },
    {
     "data": {
      "text/plain": "\u001B[2;36m                   \u001B[0m\u001B[2;36m \u001B[0m\u001B[34mINFO    \u001B[0m The \u001B[32m'tracking_uri'\u001B[0m key in mlflow.yml is relative            \u001B]8;id=445103;file://C:\\Users\\9509298u\\AppData\\Local\\miniconda3\\envs\\ocp7-scoring-model-cloud\\lib\\site-packages\\kedro_mlflow\\config\\kedro_mlflow_config.py\u001B\\\u001B[2mkedro_mlflow_config.py\u001B[0m\u001B]8;;\u001B\\\u001B[2m:\u001B[0m\u001B]8;id=630404;file://C:\\Users\\9509298u\\AppData\\Local\\miniconda3\\envs\\ocp7-scoring-model-cloud\\lib\\site-packages\\kedro_mlflow\\config\\kedro_mlflow_config.py#260\u001B\\\u001B[2m260\u001B[0m\u001B]8;;\u001B\\\n\u001B[2;36m                    \u001B[0m         \u001B[1m(\u001B[0m\u001B[32m'server.mlflow_\u001B[0m\u001B[32m(\u001B[0m\u001B[32mtracking|registry\u001B[0m\u001B[32m)\u001B[0m\u001B[32m_uri = mlruns'\u001B[0m\u001B[1m)\u001B[0m. It is   \u001B[2m                          \u001B[0m\n\u001B[2;36m                    \u001B[0m         converted to a valid uri:                                   \u001B[2m                          \u001B[0m\n\u001B[2;36m                    \u001B[0m         \u001B[32m'file:///C:/Users/9509298u/Documents/GitHub/OC_Projects/ocp\u001B[0m \u001B[2m                          \u001B[0m\n\u001B[2;36m                    \u001B[0m         \u001B[32m7-scoring-model-cloud/mlruns'\u001B[0m                               \u001B[2m                          \u001B[0m\n",
      "text/html": "<pre style=\"white-space:pre;overflow-x:auto;line-height:normal;font-family:Menlo,'DejaVu Sans Mono',consolas,'Courier New',monospace\"><span style=\"color: #7fbfbf; text-decoration-color: #7fbfbf\">                    </span><span style=\"color: #000080; text-decoration-color: #000080\">INFO    </span> The <span style=\"color: #008000; text-decoration-color: #008000\">'tracking_uri'</span> key in mlflow.yml is relative            <a href=\"file://C:\\Users\\9509298u\\AppData\\Local\\miniconda3\\envs\\ocp7-scoring-model-cloud\\lib\\site-packages\\kedro_mlflow\\config\\kedro_mlflow_config.py\" target=\"_blank\"><span style=\"color: #7f7f7f; text-decoration-color: #7f7f7f\">kedro_mlflow_config.py</span></a><span style=\"color: #7f7f7f; text-decoration-color: #7f7f7f\">:</span><a href=\"file://C:\\Users\\9509298u\\AppData\\Local\\miniconda3\\envs\\ocp7-scoring-model-cloud\\lib\\site-packages\\kedro_mlflow\\config\\kedro_mlflow_config.py#260\" target=\"_blank\"><span style=\"color: #7f7f7f; text-decoration-color: #7f7f7f\">260</span></a>\n<span style=\"color: #7fbfbf; text-decoration-color: #7fbfbf\">                    </span>         <span style=\"font-weight: bold\">(</span><span style=\"color: #008000; text-decoration-color: #008000\">'server.mlflow_(tracking|registry)_uri = mlruns'</span><span style=\"font-weight: bold\">)</span>. It is   <span style=\"color: #7f7f7f; text-decoration-color: #7f7f7f\">                          </span>\n<span style=\"color: #7fbfbf; text-decoration-color: #7fbfbf\">                    </span>         converted to a valid uri:                                   <span style=\"color: #7f7f7f; text-decoration-color: #7f7f7f\">                          </span>\n<span style=\"color: #7fbfbf; text-decoration-color: #7fbfbf\">                    </span>         <span style=\"color: #008000; text-decoration-color: #008000\">'file:///C:/Users/9509298u/Documents/GitHub/OC_Projects/ocp</span> <span style=\"color: #7f7f7f; text-decoration-color: #7f7f7f\">                          </span>\n<span style=\"color: #7fbfbf; text-decoration-color: #7fbfbf\">                    </span>         <span style=\"color: #008000; text-decoration-color: #008000\">7-scoring-model-cloud/mlruns'</span>                               <span style=\"color: #7f7f7f; text-decoration-color: #7f7f7f\">                          </span>\n</pre>\n"
     },
     "metadata": {},
     "output_type": "display_data"
    },
    {
     "data": {
      "text/plain": "\u001B[2;36m                   \u001B[0m\u001B[2;36m \u001B[0m\u001B[34mINFO    \u001B[0m Kedro project ocp7_scoring_model_cloud                                 \u001B]8;id=281079;file://C:\\Users\\9509298u\\AppData\\Local\\miniconda3\\envs\\ocp7-scoring-model-cloud\\lib\\site-packages\\kedro\\ipython\\__init__.py\u001B\\\u001B[2m__init__.py\u001B[0m\u001B]8;;\u001B\\\u001B[2m:\u001B[0m\u001B]8;id=299356;file://C:\\Users\\9509298u\\AppData\\Local\\miniconda3\\envs\\ocp7-scoring-model-cloud\\lib\\site-packages\\kedro\\ipython\\__init__.py#134\u001B\\\u001B[2m134\u001B[0m\u001B]8;;\u001B\\\n",
      "text/html": "<pre style=\"white-space:pre;overflow-x:auto;line-height:normal;font-family:Menlo,'DejaVu Sans Mono',consolas,'Courier New',monospace\"><span style=\"color: #7fbfbf; text-decoration-color: #7fbfbf\">                    </span><span style=\"color: #000080; text-decoration-color: #000080\">INFO    </span> Kedro project ocp7_scoring_model_cloud                                 <a href=\"file://C:\\Users\\9509298u\\AppData\\Local\\miniconda3\\envs\\ocp7-scoring-model-cloud\\lib\\site-packages\\kedro\\ipython\\__init__.py\" target=\"_blank\"><span style=\"color: #7f7f7f; text-decoration-color: #7f7f7f\">__init__.py</span></a><span style=\"color: #7f7f7f; text-decoration-color: #7f7f7f\">:</span><a href=\"file://C:\\Users\\9509298u\\AppData\\Local\\miniconda3\\envs\\ocp7-scoring-model-cloud\\lib\\site-packages\\kedro\\ipython\\__init__.py#134\" target=\"_blank\"><span style=\"color: #7f7f7f; text-decoration-color: #7f7f7f\">134</span></a>\n</pre>\n"
     },
     "metadata": {},
     "output_type": "display_data"
    },
    {
     "data": {
      "text/plain": "\u001B[2;36m                   \u001B[0m\u001B[2;36m \u001B[0m\u001B[34mINFO    \u001B[0m Defined global variable \u001B[32m'context'\u001B[0m, \u001B[32m'session'\u001B[0m, \u001B[32m'catalog'\u001B[0m and            \u001B]8;id=184452;file://C:\\Users\\9509298u\\AppData\\Local\\miniconda3\\envs\\ocp7-scoring-model-cloud\\lib\\site-packages\\kedro\\ipython\\__init__.py\u001B\\\u001B[2m__init__.py\u001B[0m\u001B]8;;\u001B\\\u001B[2m:\u001B[0m\u001B]8;id=319569;file://C:\\Users\\9509298u\\AppData\\Local\\miniconda3\\envs\\ocp7-scoring-model-cloud\\lib\\site-packages\\kedro\\ipython\\__init__.py#135\u001B\\\u001B[2m135\u001B[0m\u001B]8;;\u001B\\\n\u001B[2;36m                    \u001B[0m         \u001B[32m'pipelines'\u001B[0m                                                            \u001B[2m               \u001B[0m\n",
      "text/html": "<pre style=\"white-space:pre;overflow-x:auto;line-height:normal;font-family:Menlo,'DejaVu Sans Mono',consolas,'Courier New',monospace\"><span style=\"color: #7fbfbf; text-decoration-color: #7fbfbf\">                    </span><span style=\"color: #000080; text-decoration-color: #000080\">INFO    </span> Defined global variable <span style=\"color: #008000; text-decoration-color: #008000\">'context'</span>, <span style=\"color: #008000; text-decoration-color: #008000\">'session'</span>, <span style=\"color: #008000; text-decoration-color: #008000\">'catalog'</span> and            <a href=\"file://C:\\Users\\9509298u\\AppData\\Local\\miniconda3\\envs\\ocp7-scoring-model-cloud\\lib\\site-packages\\kedro\\ipython\\__init__.py\" target=\"_blank\"><span style=\"color: #7f7f7f; text-decoration-color: #7f7f7f\">__init__.py</span></a><span style=\"color: #7f7f7f; text-decoration-color: #7f7f7f\">:</span><a href=\"file://C:\\Users\\9509298u\\AppData\\Local\\miniconda3\\envs\\ocp7-scoring-model-cloud\\lib\\site-packages\\kedro\\ipython\\__init__.py#135\" target=\"_blank\"><span style=\"color: #7f7f7f; text-decoration-color: #7f7f7f\">135</span></a>\n<span style=\"color: #7fbfbf; text-decoration-color: #7fbfbf\">                    </span>         <span style=\"color: #008000; text-decoration-color: #008000\">'pipelines'</span>                                                            <span style=\"color: #7f7f7f; text-decoration-color: #7f7f7f\">               </span>\n</pre>\n"
     },
     "metadata": {},
     "output_type": "display_data"
    },
    {
     "data": {
      "text/plain": "\u001B[2;36m                   \u001B[0m\u001B[2;36m \u001B[0m\u001B[34mINFO    \u001B[0m Registered line magic \u001B[32m'run_viz'\u001B[0m                                        \u001B]8;id=391195;file://C:\\Users\\9509298u\\AppData\\Local\\miniconda3\\envs\\ocp7-scoring-model-cloud\\lib\\site-packages\\kedro\\ipython\\__init__.py\u001B\\\u001B[2m__init__.py\u001B[0m\u001B]8;;\u001B\\\u001B[2m:\u001B[0m\u001B]8;id=54881;file://C:\\Users\\9509298u\\AppData\\Local\\miniconda3\\envs\\ocp7-scoring-model-cloud\\lib\\site-packages\\kedro\\ipython\\__init__.py#141\u001B\\\u001B[2m141\u001B[0m\u001B]8;;\u001B\\\n",
      "text/html": "<pre style=\"white-space:pre;overflow-x:auto;line-height:normal;font-family:Menlo,'DejaVu Sans Mono',consolas,'Courier New',monospace\"><span style=\"color: #7fbfbf; text-decoration-color: #7fbfbf\">                    </span><span style=\"color: #000080; text-decoration-color: #000080\">INFO    </span> Registered line magic <span style=\"color: #008000; text-decoration-color: #008000\">'run_viz'</span>                                        <a href=\"file://C:\\Users\\9509298u\\AppData\\Local\\miniconda3\\envs\\ocp7-scoring-model-cloud\\lib\\site-packages\\kedro\\ipython\\__init__.py\" target=\"_blank\"><span style=\"color: #7f7f7f; text-decoration-color: #7f7f7f\">__init__.py</span></a><span style=\"color: #7f7f7f; text-decoration-color: #7f7f7f\">:</span><a href=\"file://C:\\Users\\9509298u\\AppData\\Local\\miniconda3\\envs\\ocp7-scoring-model-cloud\\lib\\site-packages\\kedro\\ipython\\__init__.py#141\" target=\"_blank\"><span style=\"color: #7f7f7f; text-decoration-color: #7f7f7f\">141</span></a>\n</pre>\n"
     },
     "metadata": {},
     "output_type": "display_data"
    }
   ],
   "source": [
    "%reload_kedro"
   ]
  },
  {
   "cell_type": "code",
   "execution_count": 2,
   "metadata": {
    "ExecuteTime": {
     "end_time": "2024-05-10T14:06:47.186502600Z",
     "start_time": "2024-05-10T14:06:41.735514200Z"
    }
   },
   "outputs": [],
   "source": [
    "%reload_ext autoreload\n",
    "%autoreload 2\n",
    "\n",
    "import pandas as pd\n",
    "import numpy as np\n",
    "\n",
    "from sklearn.preprocessing import LabelEncoder\n",
    "\n",
    "# Suppress warnings \n",
    "import warnings\n",
    "warnings.filterwarnings('ignore')\n",
    "\n",
    "import matplotlib.pyplot as plt\n",
    "import missingno as msno\n"
   ]
  },
  {
   "cell_type": "code",
   "execution_count": 3,
   "metadata": {
    "ExecuteTime": {
     "end_time": "2024-05-10T14:06:47.374971300Z",
     "start_time": "2024-05-10T14:06:47.186502600Z"
    }
   },
   "outputs": [],
   "source": [
    "from src.ocp7_scoring_model_cloud.pipelines.preprocessing.nodes import preprocess_merge_datasets"
   ]
  },
  {
   "cell_type": "markdown",
   "metadata": {},
   "source": [
    "# Pipeline 1: preprocessing"
   ]
  },
  {
   "cell_type": "code",
   "execution_count": null,
   "outputs": [],
   "source": [
    "df_train = catalog.load(\"application_train\")\n",
    "df_test = catalog.load(\"application_test\")"
   ],
   "metadata": {
    "collapsed": false
   }
  },
  {
   "cell_type": "code",
   "execution_count": null,
   "outputs": [],
   "source": [
    "bureau_df = catalog.load(\"bureau\")\n",
    "bureau_balance_df = catalog.load(\"bureau_balance\")\n",
    "previous_application_df = catalog.load(\"previous_application\")\n",
    "pos_cash_df = catalog.load(\"pos_cash_balance\")\n",
    "installments_payments_df = catalog.load(\"installments_payments\")\n",
    "credit_card_balance_df = catalog.load(\"credit_card_balance\")"
   ],
   "metadata": {
    "collapsed": false
   }
  },
  {
   "cell_type": "code",
   "execution_count": null,
   "outputs": [],
   "source": [
    "preprocessed_train_df = preprocess_merge_datasets(df_train, df_test, bureau_df, bureau_balance_df, previous_application_df, pos_cash_df, installments_payments_df, credit_card_balance_df)\n",
    "catalog.save(\"preprocessed_train_df\", preprocessed_train_df)"
   ],
   "metadata": {
    "collapsed": false
   }
  },
  {
   "cell_type": "code",
   "execution_count": null,
   "outputs": [],
   "source": [
    "preprocessed_test_df = preprocess_merge_datasets(df_train, df_test, bureau_df, bureau_balance_df, previous_application_df, pos_cash_df, installments_payments_df, credit_card_balance_df)\n",
    "catalog.save(\"preprocessed_test_df\", preprocessed_test_df)"
   ],
   "metadata": {
    "collapsed": false
   }
  },
  {
   "cell_type": "markdown",
   "metadata": {},
   "source": [
    "# Pipeline 1.2: feature selection and processing"
   ]
  },
  {
   "cell_type": "code",
   "execution_count": 6,
   "outputs": [
    {
     "data": {
      "text/plain": "\u001B[2;36m[05/10/24 16:07:19]\u001B[0m\u001B[2;36m \u001B[0m\u001B[34mINFO    \u001B[0m Loading data from \u001B[38;5;208mpreprocessed_train_df\u001B[0m \u001B[1m(\u001B[0mParquetDataset\u001B[1m)\u001B[0m\u001B[33m...\u001B[0m        \u001B]8;id=524330;file://C:\\Users\\9509298u\\AppData\\Local\\miniconda3\\envs\\ocp7-scoring-model-cloud\\lib\\site-packages\\kedro\\io\\data_catalog.py\u001B\\\u001B[2mdata_catalog.py\u001B[0m\u001B]8;;\u001B\\\u001B[2m:\u001B[0m\u001B]8;id=914350;file://C:\\Users\\9509298u\\AppData\\Local\\miniconda3\\envs\\ocp7-scoring-model-cloud\\lib\\site-packages\\kedro\\io\\data_catalog.py#483\u001B\\\u001B[2m483\u001B[0m\u001B]8;;\u001B\\\n",
      "text/html": "<pre style=\"white-space:pre;overflow-x:auto;line-height:normal;font-family:Menlo,'DejaVu Sans Mono',consolas,'Courier New',monospace\"><span style=\"color: #7fbfbf; text-decoration-color: #7fbfbf\">[05/10/24 16:07:19] </span><span style=\"color: #000080; text-decoration-color: #000080\">INFO    </span> Loading data from <span style=\"color: #ff8700; text-decoration-color: #ff8700\">preprocessed_train_df</span> <span style=\"font-weight: bold\">(</span>ParquetDataset<span style=\"font-weight: bold\">)</span><span style=\"color: #808000; text-decoration-color: #808000\">...</span>        <a href=\"file://C:\\Users\\9509298u\\AppData\\Local\\miniconda3\\envs\\ocp7-scoring-model-cloud\\lib\\site-packages\\kedro\\io\\data_catalog.py\" target=\"_blank\"><span style=\"color: #7f7f7f; text-decoration-color: #7f7f7f\">data_catalog.py</span></a><span style=\"color: #7f7f7f; text-decoration-color: #7f7f7f\">:</span><a href=\"file://C:\\Users\\9509298u\\AppData\\Local\\miniconda3\\envs\\ocp7-scoring-model-cloud\\lib\\site-packages\\kedro\\io\\data_catalog.py#483\" target=\"_blank\"><span style=\"color: #7f7f7f; text-decoration-color: #7f7f7f\">483</span></a>\n</pre>\n"
     },
     "metadata": {},
     "output_type": "display_data"
    },
    {
     "data": {
      "text/plain": "\u001B[2;36m[05/10/24 16:07:21]\u001B[0m\u001B[2;36m \u001B[0m\u001B[34mINFO    \u001B[0m Loading data from \u001B[38;5;208mpreprocessed_test_df\u001B[0m \u001B[1m(\u001B[0mParquetDataset\u001B[1m)\u001B[0m\u001B[33m...\u001B[0m         \u001B]8;id=399202;file://C:\\Users\\9509298u\\AppData\\Local\\miniconda3\\envs\\ocp7-scoring-model-cloud\\lib\\site-packages\\kedro\\io\\data_catalog.py\u001B\\\u001B[2mdata_catalog.py\u001B[0m\u001B]8;;\u001B\\\u001B[2m:\u001B[0m\u001B]8;id=467479;file://C:\\Users\\9509298u\\AppData\\Local\\miniconda3\\envs\\ocp7-scoring-model-cloud\\lib\\site-packages\\kedro\\io\\data_catalog.py#483\u001B\\\u001B[2m483\u001B[0m\u001B]8;;\u001B\\\n",
      "text/html": "<pre style=\"white-space:pre;overflow-x:auto;line-height:normal;font-family:Menlo,'DejaVu Sans Mono',consolas,'Courier New',monospace\"><span style=\"color: #7fbfbf; text-decoration-color: #7fbfbf\">[05/10/24 16:07:21] </span><span style=\"color: #000080; text-decoration-color: #000080\">INFO    </span> Loading data from <span style=\"color: #ff8700; text-decoration-color: #ff8700\">preprocessed_test_df</span> <span style=\"font-weight: bold\">(</span>ParquetDataset<span style=\"font-weight: bold\">)</span><span style=\"color: #808000; text-decoration-color: #808000\">...</span>         <a href=\"file://C:\\Users\\9509298u\\AppData\\Local\\miniconda3\\envs\\ocp7-scoring-model-cloud\\lib\\site-packages\\kedro\\io\\data_catalog.py\" target=\"_blank\"><span style=\"color: #7f7f7f; text-decoration-color: #7f7f7f\">data_catalog.py</span></a><span style=\"color: #7f7f7f; text-decoration-color: #7f7f7f\">:</span><a href=\"file://C:\\Users\\9509298u\\AppData\\Local\\miniconda3\\envs\\ocp7-scoring-model-cloud\\lib\\site-packages\\kedro\\io\\data_catalog.py#483\" target=\"_blank\"><span style=\"color: #7f7f7f; text-decoration-color: #7f7f7f\">483</span></a>\n</pre>\n"
     },
     "metadata": {},
     "output_type": "display_data"
    }
   ],
   "source": [
    "preprocessed_train_df = catalog.load(\"preprocessed_train_df\")\n",
    "preprocessed_test_df = catalog.load(\"preprocessed_test_df\")"
   ],
   "metadata": {
    "collapsed": false,
    "ExecuteTime": {
     "end_time": "2024-05-10T14:07:21.294507500Z",
     "start_time": "2024-05-10T14:07:19.449094600Z"
    }
   }
  },
  {
   "cell_type": "code",
   "execution_count": 7,
   "outputs": [
    {
     "name": "stdout",
     "output_type": "stream",
     "text": [
      "(307507, 797) (48744, 794)\n"
     ]
    }
   ],
   "source": [
    "print(preprocessed_train_df.shape, preprocessed_test_df.shape)"
   ],
   "metadata": {
    "collapsed": false,
    "ExecuteTime": {
     "end_time": "2024-05-10T14:07:39.757464600Z",
     "start_time": "2024-05-10T14:07:39.599550700Z"
    }
   }
  },
  {
   "cell_type": "code",
   "execution_count": 8,
   "outputs": [],
   "source": [
    "from src.ocp7_scoring_model_cloud.pipelines.feature_processing.nodes import get_clean_features, process_features_for_ml"
   ],
   "metadata": {
    "collapsed": false,
    "ExecuteTime": {
     "end_time": "2024-05-10T14:07:51.059160700Z",
     "start_time": "2024-05-10T14:07:49.783990300Z"
    }
   }
  },
  {
   "cell_type": "code",
   "execution_count": 9,
   "outputs": [],
   "source": [
    "cleaned_features_train_df = get_clean_features(preprocessed_train_df)"
   ],
   "metadata": {
    "collapsed": false,
    "ExecuteTime": {
     "end_time": "2024-05-10T14:08:16.552730900Z",
     "start_time": "2024-05-10T14:08:10.250654300Z"
    }
   }
  },
  {
   "cell_type": "code",
   "execution_count": 10,
   "outputs": [],
   "source": [
    "cleaned_features_test_df = get_clean_features(preprocessed_test_df)"
   ],
   "metadata": {
    "collapsed": false,
    "ExecuteTime": {
     "end_time": "2024-05-10T14:08:39.277492700Z",
     "start_time": "2024-05-10T14:08:37.955420600Z"
    }
   }
  },
  {
   "cell_type": "code",
   "execution_count": 35,
   "outputs": [],
   "source": [
    "feature_pool_test = list(set(cleaned_features_train_df.columns)&(set(cleaned_features_test_df.columns)))\n",
    "feature_pool_train = feature_pool_test + [\"TARGET\"]\n"
   ],
   "metadata": {
    "collapsed": false,
    "ExecuteTime": {
     "end_time": "2024-05-10T14:16:13.890830800Z",
     "start_time": "2024-05-10T14:16:13.761585600Z"
    }
   }
  },
  {
   "cell_type": "code",
   "execution_count": 34,
   "outputs": [],
   "source": [
    "selected_features_train_df = cleaned_features_train_df[feature_pool_train]"
   ],
   "metadata": {
    "collapsed": false,
    "ExecuteTime": {
     "end_time": "2024-05-10T14:15:28.211644Z",
     "start_time": "2024-05-10T14:15:27.593492Z"
    }
   }
  },
  {
   "cell_type": "code",
   "execution_count": 36,
   "outputs": [],
   "source": [
    "selected_features_test_df = cleaned_features_test_df[feature_pool_test]"
   ],
   "metadata": {
    "collapsed": false,
    "ExecuteTime": {
     "end_time": "2024-05-10T14:16:22.859116900Z",
     "start_time": "2024-05-10T14:16:22.661742200Z"
    }
   }
  },
  {
   "cell_type": "code",
   "execution_count": 37,
   "outputs": [
    {
     "name": "stdout",
     "output_type": "stream",
     "text": [
      "Training Features shape:  (307507, 470)\n",
      "Training Features shape:  (48744, 469)\n"
     ]
    }
   ],
   "source": [
    "ml_features_train = process_features_for_ml(selected_features_train_df)\n",
    "ml_features_test = process_features_for_ml(selected_features_test_df)"
   ],
   "metadata": {
    "collapsed": false,
    "ExecuteTime": {
     "end_time": "2024-05-10T14:18:04.476817700Z",
     "start_time": "2024-05-10T14:17:33.151582100Z"
    }
   }
  },
  {
   "cell_type": "code",
   "execution_count": 38,
   "outputs": [
    {
     "name": "stdout",
     "output_type": "stream",
     "text": [
      "(307507, 471) (48744, 470)\n"
     ]
    },
    {
     "data": {
      "text/plain": "\u001B[2;36m[05/10/24 16:18:43]\u001B[0m\u001B[2;36m \u001B[0m\u001B[34mINFO    \u001B[0m Saving data to \u001B[38;5;208mfull_df_test\u001B[0m \u001B[1m(\u001B[0mParquetDataset\u001B[1m)\u001B[0m\u001B[33m...\u001B[0m                    \u001B]8;id=66534;file://C:\\Users\\9509298u\\AppData\\Local\\miniconda3\\envs\\ocp7-scoring-model-cloud\\lib\\site-packages\\kedro\\io\\data_catalog.py\u001B\\\u001B[2mdata_catalog.py\u001B[0m\u001B]8;;\u001B\\\u001B[2m:\u001B[0m\u001B]8;id=234727;file://C:\\Users\\9509298u\\AppData\\Local\\miniconda3\\envs\\ocp7-scoring-model-cloud\\lib\\site-packages\\kedro\\io\\data_catalog.py#525\u001B\\\u001B[2m525\u001B[0m\u001B]8;;\u001B\\\n",
      "text/html": "<pre style=\"white-space:pre;overflow-x:auto;line-height:normal;font-family:Menlo,'DejaVu Sans Mono',consolas,'Courier New',monospace\"><span style=\"color: #7fbfbf; text-decoration-color: #7fbfbf\">[05/10/24 16:18:43] </span><span style=\"color: #000080; text-decoration-color: #000080\">INFO    </span> Saving data to <span style=\"color: #ff8700; text-decoration-color: #ff8700\">full_df_test</span> <span style=\"font-weight: bold\">(</span>ParquetDataset<span style=\"font-weight: bold\">)</span><span style=\"color: #808000; text-decoration-color: #808000\">...</span>                    <a href=\"file://C:\\Users\\9509298u\\AppData\\Local\\miniconda3\\envs\\ocp7-scoring-model-cloud\\lib\\site-packages\\kedro\\io\\data_catalog.py\" target=\"_blank\"><span style=\"color: #7f7f7f; text-decoration-color: #7f7f7f\">data_catalog.py</span></a><span style=\"color: #7f7f7f; text-decoration-color: #7f7f7f\">:</span><a href=\"file://C:\\Users\\9509298u\\AppData\\Local\\miniconda3\\envs\\ocp7-scoring-model-cloud\\lib\\site-packages\\kedro\\io\\data_catalog.py#525\" target=\"_blank\"><span style=\"color: #7f7f7f; text-decoration-color: #7f7f7f\">525</span></a>\n</pre>\n"
     },
     "metadata": {},
     "output_type": "display_data"
    },
    {
     "data": {
      "text/plain": "\u001B[2;36m[05/10/24 16:18:44]\u001B[0m\u001B[2;36m \u001B[0m\u001B[34mINFO    \u001B[0m Saving data to \u001B[38;5;208mfull_df_train\u001B[0m \u001B[1m(\u001B[0mParquetDataset\u001B[1m)\u001B[0m\u001B[33m...\u001B[0m                   \u001B]8;id=32296;file://C:\\Users\\9509298u\\AppData\\Local\\miniconda3\\envs\\ocp7-scoring-model-cloud\\lib\\site-packages\\kedro\\io\\data_catalog.py\u001B\\\u001B[2mdata_catalog.py\u001B[0m\u001B]8;;\u001B\\\u001B[2m:\u001B[0m\u001B]8;id=634173;file://C:\\Users\\9509298u\\AppData\\Local\\miniconda3\\envs\\ocp7-scoring-model-cloud\\lib\\site-packages\\kedro\\io\\data_catalog.py#525\u001B\\\u001B[2m525\u001B[0m\u001B]8;;\u001B\\\n",
      "text/html": "<pre style=\"white-space:pre;overflow-x:auto;line-height:normal;font-family:Menlo,'DejaVu Sans Mono',consolas,'Courier New',monospace\"><span style=\"color: #7fbfbf; text-decoration-color: #7fbfbf\">[05/10/24 16:18:44] </span><span style=\"color: #000080; text-decoration-color: #000080\">INFO    </span> Saving data to <span style=\"color: #ff8700; text-decoration-color: #ff8700\">full_df_train</span> <span style=\"font-weight: bold\">(</span>ParquetDataset<span style=\"font-weight: bold\">)</span><span style=\"color: #808000; text-decoration-color: #808000\">...</span>                   <a href=\"file://C:\\Users\\9509298u\\AppData\\Local\\miniconda3\\envs\\ocp7-scoring-model-cloud\\lib\\site-packages\\kedro\\io\\data_catalog.py\" target=\"_blank\"><span style=\"color: #7f7f7f; text-decoration-color: #7f7f7f\">data_catalog.py</span></a><span style=\"color: #7f7f7f; text-decoration-color: #7f7f7f\">:</span><a href=\"file://C:\\Users\\9509298u\\AppData\\Local\\miniconda3\\envs\\ocp7-scoring-model-cloud\\lib\\site-packages\\kedro\\io\\data_catalog.py#525\" target=\"_blank\"><span style=\"color: #7f7f7f; text-decoration-color: #7f7f7f\">525</span></a>\n</pre>\n"
     },
     "metadata": {},
     "output_type": "display_data"
    }
   ],
   "source": [
    "print(ml_features_train.shape, ml_features_test.shape)\n",
    "catalog.save(\"full_df_test\", ml_features_test)\n",
    "catalog.save(\"full_df_train\", ml_features_train)"
   ],
   "metadata": {
    "collapsed": false,
    "ExecuteTime": {
     "end_time": "2024-05-10T14:18:50.271372300Z",
     "start_time": "2024-05-10T14:18:43.619651Z"
    }
   }
  },
  {
   "cell_type": "markdown",
   "metadata": {},
   "source": [
    "# Pipeline 1.3: treat imbalanced classes"
   ]
  },
  {
   "cell_type": "code",
   "execution_count": 89,
   "outputs": [
    {
     "data": {
      "text/plain": "\u001B[2;36m[04/25/24 11:11:17]\u001B[0m\u001B[2;36m \u001B[0m\u001B[34mINFO    \u001B[0m Loading data from \u001B[38;5;208mprocessed_features_df\u001B[0m \u001B[1m(\u001B[0mParquetDataset\u001B[1m)\u001B[0m\u001B[33m...\u001B[0m        \u001B]8;id=967688;file://C:\\Users\\9509298u\\AppData\\Local\\miniconda3\\envs\\ocp7-scoring-model-cloud\\lib\\site-packages\\kedro\\io\\data_catalog.py\u001B\\\u001B[2mdata_catalog.py\u001B[0m\u001B]8;;\u001B\\\u001B[2m:\u001B[0m\u001B]8;id=774942;file://C:\\Users\\9509298u\\AppData\\Local\\miniconda3\\envs\\ocp7-scoring-model-cloud\\lib\\site-packages\\kedro\\io\\data_catalog.py#483\u001B\\\u001B[2m483\u001B[0m\u001B]8;;\u001B\\\n",
      "text/html": "<pre style=\"white-space:pre;overflow-x:auto;line-height:normal;font-family:Menlo,'DejaVu Sans Mono',consolas,'Courier New',monospace\"><span style=\"color: #7fbfbf; text-decoration-color: #7fbfbf\">[04/25/24 11:11:17] </span><span style=\"color: #000080; text-decoration-color: #000080\">INFO    </span> Loading data from <span style=\"color: #ff8700; text-decoration-color: #ff8700\">processed_features_df</span> <span style=\"font-weight: bold\">(</span>ParquetDataset<span style=\"font-weight: bold\">)</span><span style=\"color: #808000; text-decoration-color: #808000\">...</span>        <a href=\"file://C:\\Users\\9509298u\\AppData\\Local\\miniconda3\\envs\\ocp7-scoring-model-cloud\\lib\\site-packages\\kedro\\io\\data_catalog.py\" target=\"_blank\"><span style=\"color: #7f7f7f; text-decoration-color: #7f7f7f\">data_catalog.py</span></a><span style=\"color: #7f7f7f; text-decoration-color: #7f7f7f\">:</span><a href=\"file://C:\\Users\\9509298u\\AppData\\Local\\miniconda3\\envs\\ocp7-scoring-model-cloud\\lib\\site-packages\\kedro\\io\\data_catalog.py#483\" target=\"_blank\"><span style=\"color: #7f7f7f; text-decoration-color: #7f7f7f\">483</span></a>\n</pre>\n"
     },
     "metadata": {},
     "output_type": "display_data"
    },
    {
     "data": {
      "text/plain": "\u001B[2;36m                   \u001B[0m\u001B[2;36m \u001B[0m\u001B[34mINFO    \u001B[0m Loading data from \u001B[38;5;208mpreprocessed_df\u001B[0m \u001B[1m(\u001B[0mParquetDataset\u001B[1m)\u001B[0m\u001B[33m...\u001B[0m              \u001B]8;id=156510;file://C:\\Users\\9509298u\\AppData\\Local\\miniconda3\\envs\\ocp7-scoring-model-cloud\\lib\\site-packages\\kedro\\io\\data_catalog.py\u001B\\\u001B[2mdata_catalog.py\u001B[0m\u001B]8;;\u001B\\\u001B[2m:\u001B[0m\u001B]8;id=912330;file://C:\\Users\\9509298u\\AppData\\Local\\miniconda3\\envs\\ocp7-scoring-model-cloud\\lib\\site-packages\\kedro\\io\\data_catalog.py#483\u001B\\\u001B[2m483\u001B[0m\u001B]8;;\u001B\\\n",
      "text/html": "<pre style=\"white-space:pre;overflow-x:auto;line-height:normal;font-family:Menlo,'DejaVu Sans Mono',consolas,'Courier New',monospace\"><span style=\"color: #7fbfbf; text-decoration-color: #7fbfbf\">                    </span><span style=\"color: #000080; text-decoration-color: #000080\">INFO    </span> Loading data from <span style=\"color: #ff8700; text-decoration-color: #ff8700\">preprocessed_df</span> <span style=\"font-weight: bold\">(</span>ParquetDataset<span style=\"font-weight: bold\">)</span><span style=\"color: #808000; text-decoration-color: #808000\">...</span>              <a href=\"file://C:\\Users\\9509298u\\AppData\\Local\\miniconda3\\envs\\ocp7-scoring-model-cloud\\lib\\site-packages\\kedro\\io\\data_catalog.py\" target=\"_blank\"><span style=\"color: #7f7f7f; text-decoration-color: #7f7f7f\">data_catalog.py</span></a><span style=\"color: #7f7f7f; text-decoration-color: #7f7f7f\">:</span><a href=\"file://C:\\Users\\9509298u\\AppData\\Local\\miniconda3\\envs\\ocp7-scoring-model-cloud\\lib\\site-packages\\kedro\\io\\data_catalog.py#483\" target=\"_blank\"><span style=\"color: #7f7f7f; text-decoration-color: #7f7f7f\">483</span></a>\n</pre>\n"
     },
     "metadata": {},
     "output_type": "display_data"
    }
   ],
   "source": [
    "features = catalog.load(\"processed_features_df\")\n",
    "preprocessed_df = catalog.load(\"preprocessed_df\")\n",
    "id_target = preprocessed_df[[\"SK_ID_CURR\", \"TARGET\"]]\n",
    "full_df = pd.concat([id_target, features], axis=1)"
   ],
   "metadata": {
    "collapsed": false,
    "ExecuteTime": {
     "end_time": "2024-04-25T09:11:18.970114200Z",
     "start_time": "2024-04-25T09:11:17.264364200Z"
    }
   }
  },
  {
   "cell_type": "code",
   "execution_count": 92,
   "outputs": [],
   "source": [
    "from imblearn.over_sampling import SMOTE"
   ],
   "metadata": {
    "collapsed": false,
    "ExecuteTime": {
     "end_time": "2024-04-25T09:11:41.747769500Z",
     "start_time": "2024-04-25T09:11:40.827867500Z"
    }
   }
  },
  {
   "cell_type": "code",
   "execution_count": 93,
   "outputs": [],
   "source": [
    "def treat_imbalanced_classes(df):\n",
    "    smote = SMOTE(sampling_strategy='minority')\n",
    "    X = df.drop([\"TARGET\", \"SK_ID_CURR\"], axis=1) # Features\n",
    "    y = df[\"TARGET\"]  # Target variable\n",
    "    X_sm, y_sm = smote.fit_resample(X, y)\n",
    "    return X_sm, y_sm"
   ],
   "metadata": {
    "collapsed": false,
    "ExecuteTime": {
     "end_time": "2024-04-25T09:12:18.153162300Z",
     "start_time": "2024-04-25T09:12:18.053379600Z"
    }
   }
  },
  {
   "cell_type": "code",
   "execution_count": 95,
   "outputs": [],
   "source": [
    "balanced_X, balanced_y = treat_imbalanced_classes(full_df)"
   ],
   "metadata": {
    "collapsed": false,
    "ExecuteTime": {
     "end_time": "2024-04-25T09:13:25.702072400Z",
     "start_time": "2024-04-25T09:13:15.534927400Z"
    }
   }
  },
  {
   "cell_type": "code",
   "execution_count": 96,
   "outputs": [],
   "source": [
    "balanced_df = pd.concat([balanced_y, balanced_X], axis=1)"
   ],
   "metadata": {
    "collapsed": false,
    "ExecuteTime": {
     "end_time": "2024-04-25T09:13:51.781566900Z",
     "start_time": "2024-04-25T09:13:39.529620800Z"
    }
   }
  },
  {
   "cell_type": "code",
   "execution_count": 99,
   "outputs": [
    {
     "data": {
      "text/plain": "\u001B[2;36m[04/25/24 11:14:59]\u001B[0m\u001B[2;36m \u001B[0m\u001B[34mINFO    \u001B[0m Saving data to \u001B[38;5;208mbalanced_df\u001B[0m \u001B[1m(\u001B[0mParquetDataset\u001B[1m)\u001B[0m\u001B[33m...\u001B[0m                     \u001B]8;id=992479;file://C:\\Users\\9509298u\\AppData\\Local\\miniconda3\\envs\\ocp7-scoring-model-cloud\\lib\\site-packages\\kedro\\io\\data_catalog.py\u001B\\\u001B[2mdata_catalog.py\u001B[0m\u001B]8;;\u001B\\\u001B[2m:\u001B[0m\u001B]8;id=833653;file://C:\\Users\\9509298u\\AppData\\Local\\miniconda3\\envs\\ocp7-scoring-model-cloud\\lib\\site-packages\\kedro\\io\\data_catalog.py#525\u001B\\\u001B[2m525\u001B[0m\u001B]8;;\u001B\\\n",
      "text/html": "<pre style=\"white-space:pre;overflow-x:auto;line-height:normal;font-family:Menlo,'DejaVu Sans Mono',consolas,'Courier New',monospace\"><span style=\"color: #7fbfbf; text-decoration-color: #7fbfbf\">[04/25/24 11:14:59] </span><span style=\"color: #000080; text-decoration-color: #000080\">INFO    </span> Saving data to <span style=\"color: #ff8700; text-decoration-color: #ff8700\">balanced_df</span> <span style=\"font-weight: bold\">(</span>ParquetDataset<span style=\"font-weight: bold\">)</span><span style=\"color: #808000; text-decoration-color: #808000\">...</span>                     <a href=\"file://C:\\Users\\9509298u\\AppData\\Local\\miniconda3\\envs\\ocp7-scoring-model-cloud\\lib\\site-packages\\kedro\\io\\data_catalog.py\" target=\"_blank\"><span style=\"color: #7f7f7f; text-decoration-color: #7f7f7f\">data_catalog.py</span></a><span style=\"color: #7f7f7f; text-decoration-color: #7f7f7f\">:</span><a href=\"file://C:\\Users\\9509298u\\AppData\\Local\\miniconda3\\envs\\ocp7-scoring-model-cloud\\lib\\site-packages\\kedro\\io\\data_catalog.py#525\" target=\"_blank\"><span style=\"color: #7f7f7f; text-decoration-color: #7f7f7f\">525</span></a>\n</pre>\n"
     },
     "metadata": {},
     "output_type": "display_data"
    },
    {
     "data": {
      "text/plain": "",
      "text/html": "<pre style=\"white-space:pre;overflow-x:auto;line-height:normal;font-family:Menlo,'DejaVu Sans Mono',consolas,'Courier New',monospace\"></pre>\n"
     },
     "metadata": {},
     "output_type": "display_data"
    },
    {
     "data": {
      "text/plain": "\u001B[1m(\u001B[0m\u001B[1;36m565364\u001B[0m, \u001B[1;36m488\u001B[0m\u001B[1m)\u001B[0m"
     },
     "execution_count": 99,
     "metadata": {},
     "output_type": "execute_result"
    }
   ],
   "source": [
    "catalog.save(\"balanced_df\", balanced_df)\n",
    "balanced_df.shape"
   ],
   "metadata": {
    "collapsed": false,
    "ExecuteTime": {
     "end_time": "2024-04-25T09:15:07.987336400Z",
     "start_time": "2024-04-25T09:14:59.030979600Z"
    }
   }
  },
  {
   "cell_type": "markdown",
   "metadata": {},
   "source": [
    "# Pipeline 2: training model"
   ]
  },
  {
   "cell_type": "code",
   "execution_count": 39,
   "metadata": {
    "ExecuteTime": {
     "end_time": "2024-05-10T14:19:27.701196Z",
     "start_time": "2024-05-10T14:19:26.953616900Z"
    }
   },
   "outputs": [
    {
     "data": {
      "text/plain": "\u001B[2;36m[05/10/24 16:19:27]\u001B[0m\u001B[2;36m \u001B[0m\u001B[34mINFO    \u001B[0m Loading data from \u001B[38;5;208mfull_df_train\u001B[0m \u001B[1m(\u001B[0mParquetDataset\u001B[1m)\u001B[0m\u001B[33m...\u001B[0m                \u001B]8;id=134708;file://C:\\Users\\9509298u\\AppData\\Local\\miniconda3\\envs\\ocp7-scoring-model-cloud\\lib\\site-packages\\kedro\\io\\data_catalog.py\u001B\\\u001B[2mdata_catalog.py\u001B[0m\u001B]8;;\u001B\\\u001B[2m:\u001B[0m\u001B]8;id=776609;file://C:\\Users\\9509298u\\AppData\\Local\\miniconda3\\envs\\ocp7-scoring-model-cloud\\lib\\site-packages\\kedro\\io\\data_catalog.py#483\u001B\\\u001B[2m483\u001B[0m\u001B]8;;\u001B\\\n",
      "text/html": "<pre style=\"white-space:pre;overflow-x:auto;line-height:normal;font-family:Menlo,'DejaVu Sans Mono',consolas,'Courier New',monospace\"><span style=\"color: #7fbfbf; text-decoration-color: #7fbfbf\">[05/10/24 16:19:27] </span><span style=\"color: #000080; text-decoration-color: #000080\">INFO    </span> Loading data from <span style=\"color: #ff8700; text-decoration-color: #ff8700\">full_df_train</span> <span style=\"font-weight: bold\">(</span>ParquetDataset<span style=\"font-weight: bold\">)</span><span style=\"color: #808000; text-decoration-color: #808000\">...</span>                <a href=\"file://C:\\Users\\9509298u\\AppData\\Local\\miniconda3\\envs\\ocp7-scoring-model-cloud\\lib\\site-packages\\kedro\\io\\data_catalog.py\" target=\"_blank\"><span style=\"color: #7f7f7f; text-decoration-color: #7f7f7f\">data_catalog.py</span></a><span style=\"color: #7f7f7f; text-decoration-color: #7f7f7f\">:</span><a href=\"file://C:\\Users\\9509298u\\AppData\\Local\\miniconda3\\envs\\ocp7-scoring-model-cloud\\lib\\site-packages\\kedro\\io\\data_catalog.py#483\" target=\"_blank\"><span style=\"color: #7f7f7f; text-decoration-color: #7f7f7f\">483</span></a>\n</pre>\n"
     },
     "metadata": {},
     "output_type": "display_data"
    }
   ],
   "source": [
    "full_df_train = catalog.load(\"full_df_train\")"
   ]
  },
  {
   "cell_type": "code",
   "execution_count": 40,
   "outputs": [],
   "source": [
    "from sklearn.model_selection import train_test_split\n",
    "from sklearn.ensemble import RandomForestClassifier\n",
    "from sklearn.linear_model import LogisticRegression\n",
    "from sklearn.metrics import roc_auc_score"
   ],
   "metadata": {
    "collapsed": false,
    "ExecuteTime": {
     "end_time": "2024-05-10T14:19:31.270734Z",
     "start_time": "2024-05-10T14:19:30.485191700Z"
    }
   }
  },
  {
   "cell_type": "code",
   "execution_count": 41,
   "outputs": [],
   "source": [
    "def split_data(df, train_size=0.8, test_size=0.2, random_state=42):\n",
    "    features = [f for f in df.columns if f not in [\"SK_ID_CURR\", \"TARGET\"]]\n",
    "    X = df[features] # Features\n",
    "    y = df[\"TARGET\"]  # Target variable\n",
    "    X_train, X_test, y_train, y_test = train_test_split(X, y, train_size=train_size, test_size=test_size, random_state=random_state)\n",
    "    return X_train, X_test, y_train, y_test\n",
    "\n",
    "def train_model(X_train, y_train, model):\n",
    "    model.fit(X_train, y_train)\n",
    "    return model\n",
    "\n",
    "def evaluate_model(X_test, y_test, model):\n",
    "    y_pred = model.predict_proba(X_test)[:,1]\n",
    "    roc_auc = roc_auc_score(y_test, y_pred)\n",
    "    return roc_auc"
   ],
   "metadata": {
    "collapsed": false,
    "ExecuteTime": {
     "end_time": "2024-05-10T14:19:31.391308500Z",
     "start_time": "2024-05-10T14:19:31.264625800Z"
    }
   }
  },
  {
   "cell_type": "code",
   "execution_count": 42,
   "outputs": [
    {
     "name": "stdout",
     "output_type": "stream",
     "text": [
      "ROC AUC score =  0.7095963635332831\n"
     ]
    }
   ],
   "source": [
    "X_train, X_test, y_train, y_test = split_data(full_df_train, train_size=0.8, test_size=0.2)\n",
    "model = train_model(X_train, y_train, LogisticRegression(C = 0.0001))\n",
    "metric = evaluate_model(X_test, y_test, model)\n",
    "print(\"ROC AUC score = \", metric)"
   ],
   "metadata": {
    "collapsed": false,
    "ExecuteTime": {
     "end_time": "2024-05-10T14:19:42.559798500Z",
     "start_time": "2024-05-10T14:19:37.369776100Z"
    }
   }
  },
  {
   "cell_type": "code",
   "execution_count": 43,
   "outputs": [
    {
     "data": {
      "text/plain": "\u001B[2;36m[05/10/24 16:19:45]\u001B[0m\u001B[2;36m \u001B[0m\u001B[34mINFO    \u001B[0m Saving data to \u001B[38;5;208mfirst_model_logistic_regression\u001B[0m \u001B[1m(\u001B[0mPickleDataset\u001B[1m)\u001B[0m\u001B[33m...\u001B[0m  \u001B]8;id=576472;file://C:\\Users\\9509298u\\AppData\\Local\\miniconda3\\envs\\ocp7-scoring-model-cloud\\lib\\site-packages\\kedro\\io\\data_catalog.py\u001B\\\u001B[2mdata_catalog.py\u001B[0m\u001B]8;;\u001B\\\u001B[2m:\u001B[0m\u001B]8;id=146923;file://C:\\Users\\9509298u\\AppData\\Local\\miniconda3\\envs\\ocp7-scoring-model-cloud\\lib\\site-packages\\kedro\\io\\data_catalog.py#525\u001B\\\u001B[2m525\u001B[0m\u001B]8;;\u001B\\\n",
      "text/html": "<pre style=\"white-space:pre;overflow-x:auto;line-height:normal;font-family:Menlo,'DejaVu Sans Mono',consolas,'Courier New',monospace\"><span style=\"color: #7fbfbf; text-decoration-color: #7fbfbf\">[05/10/24 16:19:45] </span><span style=\"color: #000080; text-decoration-color: #000080\">INFO    </span> Saving data to <span style=\"color: #ff8700; text-decoration-color: #ff8700\">first_model_logistic_regression</span> <span style=\"font-weight: bold\">(</span>PickleDataset<span style=\"font-weight: bold\">)</span><span style=\"color: #808000; text-decoration-color: #808000\">...</span>  <a href=\"file://C:\\Users\\9509298u\\AppData\\Local\\miniconda3\\envs\\ocp7-scoring-model-cloud\\lib\\site-packages\\kedro\\io\\data_catalog.py\" target=\"_blank\"><span style=\"color: #7f7f7f; text-decoration-color: #7f7f7f\">data_catalog.py</span></a><span style=\"color: #7f7f7f; text-decoration-color: #7f7f7f\">:</span><a href=\"file://C:\\Users\\9509298u\\AppData\\Local\\miniconda3\\envs\\ocp7-scoring-model-cloud\\lib\\site-packages\\kedro\\io\\data_catalog.py#525\" target=\"_blank\"><span style=\"color: #7f7f7f; text-decoration-color: #7f7f7f\">525</span></a>\n</pre>\n"
     },
     "metadata": {},
     "output_type": "display_data"
    }
   ],
   "source": [
    "#save the model\n",
    "catalog.save(\"first_model_logistic_regression\", model)\n"
   ],
   "metadata": {
    "collapsed": false,
    "ExecuteTime": {
     "end_time": "2024-05-10T14:19:45.660426700Z",
     "start_time": "2024-05-10T14:19:45.523148600Z"
    }
   }
  },
  {
   "cell_type": "markdown",
   "source": [
    "# Pipeline 3: Predictions"
   ],
   "metadata": {
    "collapsed": false
   }
  },
  {
   "cell_type": "code",
   "execution_count": 44,
   "outputs": [
    {
     "data": {
      "text/plain": "\u001B[2;36m[05/10/24 16:20:04]\u001B[0m\u001B[2;36m \u001B[0m\u001B[34mINFO    \u001B[0m Loading data from \u001B[38;5;208mfull_df_test\u001B[0m \u001B[1m(\u001B[0mParquetDataset\u001B[1m)\u001B[0m\u001B[33m...\u001B[0m                 \u001B]8;id=985119;file://C:\\Users\\9509298u\\AppData\\Local\\miniconda3\\envs\\ocp7-scoring-model-cloud\\lib\\site-packages\\kedro\\io\\data_catalog.py\u001B\\\u001B[2mdata_catalog.py\u001B[0m\u001B]8;;\u001B\\\u001B[2m:\u001B[0m\u001B]8;id=35614;file://C:\\Users\\9509298u\\AppData\\Local\\miniconda3\\envs\\ocp7-scoring-model-cloud\\lib\\site-packages\\kedro\\io\\data_catalog.py#483\u001B\\\u001B[2m483\u001B[0m\u001B]8;;\u001B\\\n",
      "text/html": "<pre style=\"white-space:pre;overflow-x:auto;line-height:normal;font-family:Menlo,'DejaVu Sans Mono',consolas,'Courier New',monospace\"><span style=\"color: #7fbfbf; text-decoration-color: #7fbfbf\">[05/10/24 16:20:04] </span><span style=\"color: #000080; text-decoration-color: #000080\">INFO    </span> Loading data from <span style=\"color: #ff8700; text-decoration-color: #ff8700\">full_df_test</span> <span style=\"font-weight: bold\">(</span>ParquetDataset<span style=\"font-weight: bold\">)</span><span style=\"color: #808000; text-decoration-color: #808000\">...</span>                 <a href=\"file://C:\\Users\\9509298u\\AppData\\Local\\miniconda3\\envs\\ocp7-scoring-model-cloud\\lib\\site-packages\\kedro\\io\\data_catalog.py\" target=\"_blank\"><span style=\"color: #7f7f7f; text-decoration-color: #7f7f7f\">data_catalog.py</span></a><span style=\"color: #7f7f7f; text-decoration-color: #7f7f7f\">:</span><a href=\"file://C:\\Users\\9509298u\\AppData\\Local\\miniconda3\\envs\\ocp7-scoring-model-cloud\\lib\\site-packages\\kedro\\io\\data_catalog.py#483\" target=\"_blank\"><span style=\"color: #7f7f7f; text-decoration-color: #7f7f7f\">483</span></a>\n</pre>\n"
     },
     "metadata": {},
     "output_type": "display_data"
    }
   ],
   "source": [
    "full_df_test = catalog.load(\"full_df_test\")"
   ],
   "metadata": {
    "collapsed": false,
    "ExecuteTime": {
     "end_time": "2024-05-10T14:20:04.357751Z",
     "start_time": "2024-05-10T14:20:04.109923400Z"
    }
   }
  },
  {
   "cell_type": "code",
   "execution_count": 45,
   "outputs": [
    {
     "data": {
      "text/plain": "\u001B[2;36m[05/10/24 16:20:07]\u001B[0m\u001B[2;36m \u001B[0m\u001B[34mINFO    \u001B[0m Loading data from \u001B[38;5;208mfirst_model_logistic_regression\u001B[0m                  \u001B]8;id=664661;file://C:\\Users\\9509298u\\AppData\\Local\\miniconda3\\envs\\ocp7-scoring-model-cloud\\lib\\site-packages\\kedro\\io\\data_catalog.py\u001B\\\u001B[2mdata_catalog.py\u001B[0m\u001B]8;;\u001B\\\u001B[2m:\u001B[0m\u001B]8;id=787948;file://C:\\Users\\9509298u\\AppData\\Local\\miniconda3\\envs\\ocp7-scoring-model-cloud\\lib\\site-packages\\kedro\\io\\data_catalog.py#483\u001B\\\u001B[2m483\u001B[0m\u001B]8;;\u001B\\\n\u001B[2;36m                    \u001B[0m         \u001B[1m(\u001B[0mPickleDataset\u001B[1m)\u001B[0m\u001B[33m...\u001B[0m                                                 \u001B[2m                   \u001B[0m\n",
      "text/html": "<pre style=\"white-space:pre;overflow-x:auto;line-height:normal;font-family:Menlo,'DejaVu Sans Mono',consolas,'Courier New',monospace\"><span style=\"color: #7fbfbf; text-decoration-color: #7fbfbf\">[05/10/24 16:20:07] </span><span style=\"color: #000080; text-decoration-color: #000080\">INFO    </span> Loading data from <span style=\"color: #ff8700; text-decoration-color: #ff8700\">first_model_logistic_regression</span>                  <a href=\"file://C:\\Users\\9509298u\\AppData\\Local\\miniconda3\\envs\\ocp7-scoring-model-cloud\\lib\\site-packages\\kedro\\io\\data_catalog.py\" target=\"_blank\"><span style=\"color: #7f7f7f; text-decoration-color: #7f7f7f\">data_catalog.py</span></a><span style=\"color: #7f7f7f; text-decoration-color: #7f7f7f\">:</span><a href=\"file://C:\\Users\\9509298u\\AppData\\Local\\miniconda3\\envs\\ocp7-scoring-model-cloud\\lib\\site-packages\\kedro\\io\\data_catalog.py#483\" target=\"_blank\"><span style=\"color: #7f7f7f; text-decoration-color: #7f7f7f\">483</span></a>\n<span style=\"color: #7fbfbf; text-decoration-color: #7fbfbf\">                    </span>         <span style=\"font-weight: bold\">(</span>PickleDataset<span style=\"font-weight: bold\">)</span><span style=\"color: #808000; text-decoration-color: #808000\">...</span>                                                 <span style=\"color: #7f7f7f; text-decoration-color: #7f7f7f\">                   </span>\n</pre>\n"
     },
     "metadata": {},
     "output_type": "display_data"
    }
   ],
   "source": [
    "model = catalog.load(\"first_model_logistic_regression\")"
   ],
   "metadata": {
    "collapsed": false,
    "ExecuteTime": {
     "end_time": "2024-05-10T14:20:07.303371Z",
     "start_time": "2024-05-10T14:20:07.118429900Z"
    }
   }
  },
  {
   "cell_type": "code",
   "execution_count": 46,
   "outputs": [],
   "source": [
    "def predict(model, df):\n",
    "    features = [f for f in df.columns if f not in [\"SK_ID_CURR\", \"TARGET\"]]\n",
    "    X = df[features] # Features\n",
    "    y_pred = model.predict_proba(X)[:,1]\n",
    "    return y_pred"
   ],
   "metadata": {
    "collapsed": false,
    "ExecuteTime": {
     "end_time": "2024-05-10T14:20:20.967694400Z",
     "start_time": "2024-05-10T14:20:20.844485800Z"
    }
   }
  },
  {
   "cell_type": "code",
   "execution_count": 47,
   "outputs": [],
   "source": [
    "y_pred = predict(model, full_df_test)"
   ],
   "metadata": {
    "collapsed": false,
    "ExecuteTime": {
     "end_time": "2024-05-10T14:20:27.155277800Z",
     "start_time": "2024-05-10T14:20:26.939346800Z"
    }
   }
  },
  {
   "cell_type": "code",
   "execution_count": 49,
   "outputs": [],
   "source": [
    "output_df = pd.DataFrame({\"SK_ID_CURR\": full_df_test[\"SK_ID_CURR\"], \"TARGET\": y_pred})"
   ],
   "metadata": {
    "collapsed": false,
    "ExecuteTime": {
     "end_time": "2024-05-10T14:21:04.587191800Z",
     "start_time": "2024-05-10T14:21:04.335263100Z"
    }
   }
  },
  {
   "cell_type": "code",
   "execution_count": 52,
   "outputs": [
    {
     "data": {
      "text/plain": "\u001B[2;36m[05/10/24 16:24:00]\u001B[0m\u001B[2;36m \u001B[0m\u001B[34mINFO    \u001B[0m Saving data to \u001B[38;5;208mkaggle_output_df\u001B[0m \u001B[1m(\u001B[0mCSVDataset\u001B[1m)\u001B[0m\u001B[33m...\u001B[0m                    \u001B]8;id=701149;file://C:\\Users\\9509298u\\AppData\\Local\\miniconda3\\envs\\ocp7-scoring-model-cloud\\lib\\site-packages\\kedro\\io\\data_catalog.py\u001B\\\u001B[2mdata_catalog.py\u001B[0m\u001B]8;;\u001B\\\u001B[2m:\u001B[0m\u001B]8;id=771413;file://C:\\Users\\9509298u\\AppData\\Local\\miniconda3\\envs\\ocp7-scoring-model-cloud\\lib\\site-packages\\kedro\\io\\data_catalog.py#525\u001B\\\u001B[2m525\u001B[0m\u001B]8;;\u001B\\\n",
      "text/html": "<pre style=\"white-space:pre;overflow-x:auto;line-height:normal;font-family:Menlo,'DejaVu Sans Mono',consolas,'Courier New',monospace\"><span style=\"color: #7fbfbf; text-decoration-color: #7fbfbf\">[05/10/24 16:24:00] </span><span style=\"color: #000080; text-decoration-color: #000080\">INFO    </span> Saving data to <span style=\"color: #ff8700; text-decoration-color: #ff8700\">kaggle_output_df</span> <span style=\"font-weight: bold\">(</span>CSVDataset<span style=\"font-weight: bold\">)</span><span style=\"color: #808000; text-decoration-color: #808000\">...</span>                    <a href=\"file://C:\\Users\\9509298u\\AppData\\Local\\miniconda3\\envs\\ocp7-scoring-model-cloud\\lib\\site-packages\\kedro\\io\\data_catalog.py\" target=\"_blank\"><span style=\"color: #7f7f7f; text-decoration-color: #7f7f7f\">data_catalog.py</span></a><span style=\"color: #7f7f7f; text-decoration-color: #7f7f7f\">:</span><a href=\"file://C:\\Users\\9509298u\\AppData\\Local\\miniconda3\\envs\\ocp7-scoring-model-cloud\\lib\\site-packages\\kedro\\io\\data_catalog.py#525\" target=\"_blank\"><span style=\"color: #7f7f7f; text-decoration-color: #7f7f7f\">525</span></a>\n</pre>\n"
     },
     "metadata": {},
     "output_type": "display_data"
    }
   ],
   "source": [
    "catalog.save(\"kaggle_output_df\", output_df)"
   ],
   "metadata": {
    "collapsed": false,
    "ExecuteTime": {
     "end_time": "2024-05-10T14:24:00.735460600Z",
     "start_time": "2024-05-10T14:24:00.487915Z"
    }
   }
  },
  {
   "cell_type": "markdown",
   "metadata": {},
   "source": [
    "# Pipeline 5: MlFlow model serving"
   ]
  },
  {
   "cell_type": "code",
   "execution_count": 11,
   "outputs": [],
   "source": [
    "from mlflow.models.signature import infer_signature"
   ],
   "metadata": {
    "collapsed": false,
    "ExecuteTime": {
     "start_time": "2024-05-01T12:33:47.660745Z"
    }
   }
  },
  {
   "cell_type": "code",
   "execution_count": 18,
   "outputs": [],
   "source": [
    "import mlflow.sklearn"
   ],
   "metadata": {
    "collapsed": false,
    "ExecuteTime": {
     "end_time": "2024-05-01T12:39:50.374223800Z",
     "start_time": "2024-05-01T12:39:50.279955800Z"
    }
   }
  },
  {
   "cell_type": "code",
   "execution_count": 16,
   "outputs": [],
   "source": [
    "X_train, X_test, y_train, y_test = split_data(full_df, train_size=0.8, test_size=0.2)"
   ],
   "metadata": {
    "collapsed": false,
    "ExecuteTime": {
     "start_time": "2024-05-01T12:38:10.932156300Z"
    }
   }
  },
  {
   "cell_type": "code",
   "execution_count": 17,
   "outputs": [],
   "source": [
    "signature = infer_signature(X_train, y_train)"
   ],
   "metadata": {
    "collapsed": false,
    "ExecuteTime": {
     "start_time": "2024-05-01T12:38:36.407803Z"
    }
   }
  },
  {
   "cell_type": "markdown",
   "source": [
    "#test to get predict_proba instead of predict method"
   ],
   "metadata": {
    "collapsed": false
   }
  },
  {
   "cell_type": "code",
   "execution_count": 35,
   "outputs": [],
   "source": [
    "import mlflow.pyfunc\n",
    "\n",
    "class CustomModelWrapper(mlflow.pyfunc.PythonModel):\n",
    "    def load_context(self, context):\n",
    "        import joblib\n",
    "        self.model = joblib.load(context.artifacts[\"model_path\"])\n",
    "    \n",
    "    def predict(self, context, model_input):\n",
    "        return self.model.predict_proba(model_input)"
   ],
   "metadata": {
    "collapsed": false,
    "ExecuteTime": {
     "end_time": "2024-05-01T14:14:20.777276600Z",
     "start_time": "2024-05-01T14:14:20.572744100Z"
    }
   }
  },
  {
   "cell_type": "code",
   "execution_count": 36,
   "outputs": [
    {
     "data": {
      "text/plain": "\u001B[2;36m[05/01/24 16:14:41]\u001B[0m\u001B[2;36m \u001B[0m\u001B[34mINFO    \u001B[0m Loading data from \u001B[38;5;208mfirst_model_logistic_regression\u001B[0m                  \u001B]8;id=686236;file://C:\\Users\\9509298u\\AppData\\Local\\miniconda3\\envs\\ocp7-scoring-model-cloud\\lib\\site-packages\\kedro\\io\\data_catalog.py\u001B\\\u001B[2mdata_catalog.py\u001B[0m\u001B]8;;\u001B\\\u001B[2m:\u001B[0m\u001B]8;id=113077;file://C:\\Users\\9509298u\\AppData\\Local\\miniconda3\\envs\\ocp7-scoring-model-cloud\\lib\\site-packages\\kedro\\io\\data_catalog.py#483\u001B\\\u001B[2m483\u001B[0m\u001B]8;;\u001B\\\n\u001B[2;36m                    \u001B[0m         \u001B[1m(\u001B[0mPickleDataset\u001B[1m)\u001B[0m\u001B[33m...\u001B[0m                                                 \u001B[2m                   \u001B[0m\n",
      "text/html": "<pre style=\"white-space:pre;overflow-x:auto;line-height:normal;font-family:Menlo,'DejaVu Sans Mono',consolas,'Courier New',monospace\"><span style=\"color: #7fbfbf; text-decoration-color: #7fbfbf\">[05/01/24 16:14:41] </span><span style=\"color: #000080; text-decoration-color: #000080\">INFO    </span> Loading data from <span style=\"color: #ff8700; text-decoration-color: #ff8700\">first_model_logistic_regression</span>                  <a href=\"file://C:\\Users\\9509298u\\AppData\\Local\\miniconda3\\envs\\ocp7-scoring-model-cloud\\lib\\site-packages\\kedro\\io\\data_catalog.py\" target=\"_blank\"><span style=\"color: #7f7f7f; text-decoration-color: #7f7f7f\">data_catalog.py</span></a><span style=\"color: #7f7f7f; text-decoration-color: #7f7f7f\">:</span><a href=\"file://C:\\Users\\9509298u\\AppData\\Local\\miniconda3\\envs\\ocp7-scoring-model-cloud\\lib\\site-packages\\kedro\\io\\data_catalog.py#483\" target=\"_blank\"><span style=\"color: #7f7f7f; text-decoration-color: #7f7f7f\">483</span></a>\n<span style=\"color: #7fbfbf; text-decoration-color: #7fbfbf\">                    </span>         <span style=\"font-weight: bold\">(</span>PickleDataset<span style=\"font-weight: bold\">)</span><span style=\"color: #808000; text-decoration-color: #808000\">...</span>                                                 <span style=\"color: #7f7f7f; text-decoration-color: #7f7f7f\">                   </span>\n</pre>\n"
     },
     "metadata": {},
     "output_type": "display_data"
    },
    {
     "data": {
      "text/plain": "Downloading artifacts:   0%|          | 0/1 [00:00<?, ?it/s]",
      "application/vnd.jupyter.widget-view+json": {
       "version_major": 2,
       "version_minor": 0,
       "model_id": "415615156a2f4105a6cabc1bf38a373f"
      }
     },
     "metadata": {},
     "output_type": "display_data"
    }
   ],
   "source": [
    "import joblib\n",
    "import mlflow.pyfunc\n",
    "\n",
    "# Example sklearn model\n",
    "model = catalog.load(\"first_model_logistic_regression\")  # Load or train your sklearn model here\n",
    "joblib.dump(model, \"model.pkl\")\n",
    "\n",
    "custom_model = CustomModelWrapper()\n",
    "custom_model_path = \"custom_model\"\n",
    "mlflow.pyfunc.save_model(\n",
    "    path=custom_model_path,\n",
    "    python_model=custom_model,\n",
    "    artifacts={\"model_path\": \"model.pkl\"}\n",
    ")\n"
   ],
   "metadata": {
    "collapsed": false,
    "ExecuteTime": {
     "end_time": "2024-05-01T14:14:50.238507800Z",
     "start_time": "2024-05-01T14:14:41.197489500Z"
    }
   }
  },
  {
   "cell_type": "code",
   "execution_count": 19,
   "outputs": [],
   "source": [
    "mlflow.sklearn.save_model(model, 'mlflow_model', signature=signature)"
   ],
   "metadata": {
    "collapsed": false,
    "ExecuteTime": {
     "end_time": "2024-05-01T12:40:00.598061200Z",
     "start_time": "2024-05-01T12:39:53.047744600Z"
    }
   }
  },
  {
   "cell_type": "markdown",
   "metadata": {},
   "source": [
    "# Pipeline 5: MlFlow model serving"
   ]
  },
  {
   "cell_type": "markdown",
   "source": [
    "model registry"
   ],
   "metadata": {
    "collapsed": false
   }
  },
  {
   "cell_type": "markdown",
   "source": [
    "# Test API REST"
   ],
   "metadata": {
    "collapsed": false
   }
  },
  {
   "cell_type": "code",
   "execution_count": 34,
   "outputs": [
    {
     "data": {
      "text/plain": "",
      "text/html": "<pre style=\"white-space:pre;overflow-x:auto;line-height:normal;font-family:Menlo,'DejaVu Sans Mono',consolas,'Courier New',monospace\"></pre>\n"
     },
     "metadata": {},
     "output_type": "display_data"
    },
    {
     "data": {
      "text/plain": "\n\u001B[1;35marray\u001B[0m\u001B[1m(\u001B[0m\u001B[1m[\u001B[0m\u001B[1;36m0.11439352\u001B[0m, \u001B[1;36m0.03989982\u001B[0m, \u001B[1;36m0.07970802\u001B[0m, \u001B[1;36m0.10639634\u001B[0m, \u001B[1;36m0.08963531\u001B[0m,\n       \u001B[1;36m0.08212018\u001B[0m, \u001B[1;36m0.04388432\u001B[0m, \u001B[1;36m0.06208959\u001B[0m, \u001B[1;36m0.06617215\u001B[0m, \u001B[1;36m0.09656168\u001B[0m,\n       \u001B[1;36m0.06654831\u001B[0m, \u001B[1;36m0.04556897\u001B[0m, \u001B[1;36m0.06973686\u001B[0m, \u001B[1;36m0.05738803\u001B[0m, \u001B[1;36m0.06681301\u001B[0m,\n       \u001B[1;36m0.12395221\u001B[0m, \u001B[1;36m0.12629016\u001B[0m, \u001B[1;36m0.07066658\u001B[0m, \u001B[1;36m0.06576296\u001B[0m, \u001B[1;36m0.06296205\u001B[0m,\n       \u001B[1;36m0.08043643\u001B[0m, \u001B[1;36m0.08470064\u001B[0m, \u001B[1;36m0.10094746\u001B[0m, \u001B[1;36m0.06227812\u001B[0m, \u001B[1;36m0.07243678\u001B[0m,\n       \u001B[1;36m0.07855003\u001B[0m, \u001B[1;36m0.09558423\u001B[0m, \u001B[1;36m0.08621617\u001B[0m, \u001B[1;36m0.07746951\u001B[0m, \u001B[1;36m0.08164195\u001B[0m,\n       \u001B[1;36m0.09315339\u001B[0m, \u001B[1;36m0.10541672\u001B[0m, \u001B[1;36m0.07569377\u001B[0m, \u001B[1;36m0.09391593\u001B[0m, \u001B[1;36m0.04744398\u001B[0m,\n       \u001B[1;36m0.05600689\u001B[0m, \u001B[1;36m0.06807798\u001B[0m, \u001B[1;36m0.0813706\u001B[0m , \u001B[1;36m0.05040415\u001B[0m, \u001B[1;36m0.06903112\u001B[0m,\n       \u001B[1;36m0.09967635\u001B[0m, \u001B[1;36m0.12069453\u001B[0m, \u001B[1;36m0.106592\u001B[0m  , \u001B[1;36m0.05335233\u001B[0m, \u001B[1;36m0.14047927\u001B[0m,\n       \u001B[1;36m0.09838955\u001B[0m, \u001B[1;36m0.09375633\u001B[0m, \u001B[1;36m0.08268255\u001B[0m, \u001B[1;36m0.07435558\u001B[0m, \u001B[1;36m0.08802498\u001B[0m,\n       \u001B[1;36m0.05678908\u001B[0m, \u001B[1;36m0.0560123\u001B[0m , \u001B[1;36m0.0987678\u001B[0m , \u001B[1;36m0.0749232\u001B[0m , \u001B[1;36m0.06496372\u001B[0m,\n       \u001B[1;36m0.07230746\u001B[0m, \u001B[1;36m0.08455143\u001B[0m, \u001B[1;36m0.06638177\u001B[0m, \u001B[1;36m0.09889717\u001B[0m, \u001B[1;36m0.06122607\u001B[0m,\n       \u001B[1;36m0.05146016\u001B[0m, \u001B[1;36m0.09998364\u001B[0m, \u001B[1;36m0.0652192\u001B[0m , \u001B[1;36m0.09936838\u001B[0m, \u001B[1;36m0.08386233\u001B[0m,\n       \u001B[1;36m0.09171283\u001B[0m, \u001B[1;36m0.06438225\u001B[0m, \u001B[1;36m0.12056862\u001B[0m, \u001B[1;36m0.06642948\u001B[0m, \u001B[1;36m0.06884188\u001B[0m,\n       \u001B[1;36m0.07146395\u001B[0m, \u001B[1;36m0.08462506\u001B[0m, \u001B[1;36m0.08773306\u001B[0m, \u001B[1;36m0.14064342\u001B[0m, \u001B[1;36m0.09143903\u001B[0m,\n       \u001B[1;36m0.10205027\u001B[0m, \u001B[1;36m0.05066697\u001B[0m, \u001B[1;36m0.09909177\u001B[0m, \u001B[1;36m0.07357908\u001B[0m, \u001B[1;36m0.06133983\u001B[0m,\n       \u001B[1;36m0.09990184\u001B[0m, \u001B[1;36m0.05731319\u001B[0m, \u001B[1;36m0.08078917\u001B[0m, \u001B[1;36m0.09000676\u001B[0m, \u001B[1;36m0.08333699\u001B[0m,\n       \u001B[1;36m0.06429375\u001B[0m, \u001B[1;36m0.05796139\u001B[0m, \u001B[1;36m0.08262571\u001B[0m, \u001B[1;36m0.08432064\u001B[0m, \u001B[1;36m0.05869391\u001B[0m,\n       \u001B[1;36m0.07411678\u001B[0m, \u001B[1;36m0.1164796\u001B[0m , \u001B[1;36m0.11509188\u001B[0m, \u001B[1;36m0.06630248\u001B[0m, \u001B[1;36m0.11316046\u001B[0m,\n       \u001B[1;36m0.10162779\u001B[0m, \u001B[1;36m0.11073774\u001B[0m, \u001B[1;36m0.09181069\u001B[0m, \u001B[1;36m0.07500551\u001B[0m, \u001B[1;36m0.04408303\u001B[0m,\n       \u001B[1;36m0.08089408\u001B[0m, \u001B[1;36m0.14076261\u001B[0m, \u001B[1;36m0.09022326\u001B[0m, \u001B[1;36m0.09171995\u001B[0m, \u001B[1;36m0.08137328\u001B[0m,\n       \u001B[1;36m0.05576707\u001B[0m, \u001B[1;36m0.06209092\u001B[0m, \u001B[1;36m0.06079165\u001B[0m, \u001B[1;36m0.05823548\u001B[0m, \u001B[1;36m0.07403214\u001B[0m,\n       \u001B[1;36m0.10584872\u001B[0m, \u001B[1;36m0.08825599\u001B[0m, \u001B[1;36m0.06353741\u001B[0m, \u001B[1;36m0.13287019\u001B[0m, \u001B[1;36m0.06663135\u001B[0m,\n       \u001B[1;36m0.12968081\u001B[0m, \u001B[1;36m0.07063061\u001B[0m, \u001B[1;36m0.07665703\u001B[0m, \u001B[1;36m0.05988372\u001B[0m, \u001B[1;36m0.09482739\u001B[0m,\n       \u001B[1;36m0.05843516\u001B[0m, \u001B[1;36m0.07093301\u001B[0m, \u001B[1;36m0.0480075\u001B[0m , \u001B[1;36m0.09180396\u001B[0m, \u001B[1;36m0.06239603\u001B[0m,\n       \u001B[1;36m0.07032309\u001B[0m, \u001B[1;36m0.07073321\u001B[0m, \u001B[1;36m0.06377647\u001B[0m, \u001B[1;36m0.14226346\u001B[0m, \u001B[1;36m0.07419874\u001B[0m,\n       \u001B[1;36m0.08111982\u001B[0m, \u001B[1;36m0.08883628\u001B[0m, \u001B[1;36m0.07494583\u001B[0m, \u001B[1;36m0.1230596\u001B[0m , \u001B[1;36m0.06387304\u001B[0m,\n       \u001B[1;36m0.09024085\u001B[0m, \u001B[1;36m0.05621728\u001B[0m, \u001B[1;36m0.08210238\u001B[0m, \u001B[1;36m0.11925985\u001B[0m, \u001B[1;36m0.0908578\u001B[0m ,\n       \u001B[1;36m0.07033171\u001B[0m, \u001B[1;36m0.09942348\u001B[0m, \u001B[1;36m0.07640759\u001B[0m, \u001B[1;36m0.04327239\u001B[0m, \u001B[1;36m0.08934565\u001B[0m,\n       \u001B[1;36m0.08664391\u001B[0m, \u001B[1;36m0.06961056\u001B[0m, \u001B[1;36m0.05591188\u001B[0m, \u001B[1;36m0.08587631\u001B[0m, \u001B[1;36m0.06166332\u001B[0m,\n       \u001B[1;36m0.10562023\u001B[0m, \u001B[1;36m0.08382357\u001B[0m, \u001B[1;36m0.0485447\u001B[0m , \u001B[1;36m0.07016623\u001B[0m, \u001B[1;36m0.10260312\u001B[0m,\n       \u001B[1;36m0.08108779\u001B[0m, \u001B[1;36m0.04215425\u001B[0m, \u001B[1;36m0.05953879\u001B[0m, \u001B[1;36m0.06871052\u001B[0m, \u001B[1;36m0.07834631\u001B[0m,\n       \u001B[1;36m0.10194935\u001B[0m, \u001B[1;36m0.05767067\u001B[0m, \u001B[1;36m0.05480816\u001B[0m, \u001B[1;36m0.12393551\u001B[0m, \u001B[1;36m0.07191851\u001B[0m,\n       \u001B[1;36m0.07361825\u001B[0m, \u001B[1;36m0.07382148\u001B[0m, \u001B[1;36m0.07558001\u001B[0m, \u001B[1;36m0.08688641\u001B[0m, \u001B[1;36m0.07633476\u001B[0m,\n       \u001B[1;36m0.06978239\u001B[0m, \u001B[1;36m0.06335808\u001B[0m, \u001B[1;36m0.07192683\u001B[0m, \u001B[1;36m0.08687678\u001B[0m, \u001B[1;36m0.07099823\u001B[0m,\n       \u001B[1;36m0.07014805\u001B[0m, \u001B[1;36m0.11616169\u001B[0m, \u001B[1;36m0.09166899\u001B[0m, \u001B[1;36m0.09589998\u001B[0m, \u001B[1;36m0.07244455\u001B[0m,\n       \u001B[1;36m0.09225729\u001B[0m, \u001B[1;36m0.06018098\u001B[0m, \u001B[1;36m0.11140758\u001B[0m, \u001B[1;36m0.07414048\u001B[0m, \u001B[1;36m0.06311485\u001B[0m,\n       \u001B[1;36m0.0595975\u001B[0m , \u001B[1;36m0.0607885\u001B[0m , \u001B[1;36m0.08606367\u001B[0m, \u001B[1;36m0.08088443\u001B[0m, \u001B[1;36m0.08185427\u001B[0m,\n       \u001B[1;36m0.05873828\u001B[0m, \u001B[1;36m0.06197495\u001B[0m, \u001B[1;36m0.06390855\u001B[0m, \u001B[1;36m0.0714342\u001B[0m , \u001B[1;36m0.06094861\u001B[0m,\n       \u001B[1;36m0.12518514\u001B[0m, \u001B[1;36m0.08949286\u001B[0m, \u001B[1;36m0.06754352\u001B[0m, \u001B[1;36m0.0983136\u001B[0m , \u001B[1;36m0.06435406\u001B[0m,\n       \u001B[1;36m0.08044633\u001B[0m, \u001B[1;36m0.06786188\u001B[0m, \u001B[1;36m0.13008379\u001B[0m, \u001B[1;36m0.09071368\u001B[0m, \u001B[1;36m0.09297708\u001B[0m,\n       \u001B[1;36m0.06378338\u001B[0m, \u001B[1;36m0.08755602\u001B[0m, \u001B[1;36m0.11142308\u001B[0m, \u001B[1;36m0.07955793\u001B[0m, \u001B[1;36m0.11557121\u001B[0m,\n       \u001B[1;36m0.08737883\u001B[0m, \u001B[1;36m0.11891096\u001B[0m, \u001B[1;36m0.0827831\u001B[0m , \u001B[1;36m0.06535214\u001B[0m, \u001B[1;36m0.11475316\u001B[0m,\n       \u001B[1;36m0.08895578\u001B[0m, \u001B[1;36m0.09099558\u001B[0m, \u001B[1;36m0.08792742\u001B[0m, \u001B[1;36m0.07267391\u001B[0m, \u001B[1;36m0.08466432\u001B[0m,\n       \u001B[1;36m0.06761854\u001B[0m, \u001B[1;36m0.09782527\u001B[0m, \u001B[1;36m0.09846307\u001B[0m, \u001B[1;36m0.07933365\u001B[0m, \u001B[1;36m0.08276424\u001B[0m,\n       \u001B[1;36m0.07981337\u001B[0m, \u001B[1;36m0.04771029\u001B[0m, \u001B[1;36m0.04669749\u001B[0m, \u001B[1;36m0.10301046\u001B[0m, \u001B[1;36m0.06896404\u001B[0m,\n       \u001B[1;36m0.07091757\u001B[0m, \u001B[1;36m0.11100513\u001B[0m, \u001B[1;36m0.1316662\u001B[0m , \u001B[1;36m0.04067524\u001B[0m, \u001B[1;36m0.0893624\u001B[0m ,\n       \u001B[1;36m0.07840131\u001B[0m, \u001B[1;36m0.07901416\u001B[0m, \u001B[1;36m0.05464547\u001B[0m, \u001B[1;36m0.0673504\u001B[0m , \u001B[1;36m0.05265029\u001B[0m,\n       \u001B[1;36m0.06904135\u001B[0m, \u001B[1;36m0.06611654\u001B[0m, \u001B[1;36m0.05774246\u001B[0m, \u001B[1;36m0.05511746\u001B[0m, \u001B[1;36m0.07112565\u001B[0m,\n       \u001B[1;36m0.10275496\u001B[0m, \u001B[1;36m0.07638963\u001B[0m, \u001B[1;36m0.05598678\u001B[0m, \u001B[1;36m0.11380673\u001B[0m, \u001B[1;36m0.05662731\u001B[0m,\n       \u001B[1;36m0.10354633\u001B[0m, \u001B[1;36m0.09193267\u001B[0m, \u001B[1;36m0.07356995\u001B[0m, \u001B[1;36m0.07564354\u001B[0m, \u001B[1;36m0.06854899\u001B[0m,\n       \u001B[1;36m0.07750754\u001B[0m, \u001B[1;36m0.07194809\u001B[0m, \u001B[1;36m0.0830365\u001B[0m , \u001B[1;36m0.08793921\u001B[0m, \u001B[1;36m0.05332609\u001B[0m,\n       \u001B[1;36m0.0982102\u001B[0m , \u001B[1;36m0.10801264\u001B[0m, \u001B[1;36m0.12131324\u001B[0m, \u001B[1;36m0.06636724\u001B[0m, \u001B[1;36m0.05954017\u001B[0m,\n       \u001B[1;36m0.07872705\u001B[0m, \u001B[1;36m0.06989976\u001B[0m, \u001B[1;36m0.07571979\u001B[0m, \u001B[1;36m0.08265832\u001B[0m, \u001B[1;36m0.12434711\u001B[0m,\n       \u001B[1;36m0.04060151\u001B[0m, \u001B[1;36m0.09373873\u001B[0m, \u001B[1;36m0.06721841\u001B[0m, \u001B[1;36m0.07252368\u001B[0m, \u001B[1;36m0.05948443\u001B[0m,\n       \u001B[1;36m0.09470729\u001B[0m, \u001B[1;36m0.05350631\u001B[0m, \u001B[1;36m0.09272939\u001B[0m, \u001B[1;36m0.11831707\u001B[0m, \u001B[1;36m0.07180764\u001B[0m,\n       \u001B[1;36m0.05215431\u001B[0m, \u001B[1;36m0.07902027\u001B[0m, \u001B[1;36m0.08254463\u001B[0m, \u001B[1;36m0.0906949\u001B[0m , \u001B[1;36m0.11870109\u001B[0m,\n       \u001B[1;36m0.05751566\u001B[0m, \u001B[1;36m0.11224336\u001B[0m, \u001B[1;36m0.06159924\u001B[0m, \u001B[1;36m0.06053719\u001B[0m, \u001B[1;36m0.10226077\u001B[0m,\n       \u001B[1;36m0.04594439\u001B[0m, \u001B[1;36m0.09690585\u001B[0m, \u001B[1;36m0.06944721\u001B[0m, \u001B[1;36m0.08732483\u001B[0m, \u001B[1;36m0.06564064\u001B[0m,\n       \u001B[1;36m0.07464392\u001B[0m, \u001B[1;36m0.07296984\u001B[0m, \u001B[1;36m0.12701964\u001B[0m, \u001B[1;36m0.09488577\u001B[0m, \u001B[1;36m0.04982331\u001B[0m,\n       \u001B[1;36m0.09777212\u001B[0m, \u001B[1;36m0.06299008\u001B[0m, \u001B[1;36m0.05816454\u001B[0m, \u001B[1;36m0.074161\u001B[0m  , \u001B[1;36m0.07317937\u001B[0m,\n       \u001B[1;36m0.07047972\u001B[0m, \u001B[1;36m0.0551556\u001B[0m , \u001B[1;36m0.10021132\u001B[0m, \u001B[1;36m0.10269093\u001B[0m, \u001B[1;36m0.13376462\u001B[0m,\n       \u001B[1;36m0.12594488\u001B[0m, \u001B[1;36m0.07415217\u001B[0m, \u001B[1;36m0.08753116\u001B[0m, \u001B[1;36m0.05810166\u001B[0m, \u001B[1;36m0.09881484\u001B[0m,\n       \u001B[1;36m0.0645597\u001B[0m , \u001B[1;36m0.05344451\u001B[0m, \u001B[1;36m0.08212688\u001B[0m, \u001B[1;36m0.06892392\u001B[0m, \u001B[1;36m0.07437866\u001B[0m,\n       \u001B[1;36m0.09291657\u001B[0m, \u001B[1;36m0.07998758\u001B[0m, \u001B[1;36m0.05802939\u001B[0m, \u001B[1;36m0.05690342\u001B[0m, \u001B[1;36m0.05154644\u001B[0m,\n       \u001B[1;36m0.06522309\u001B[0m, \u001B[1;36m0.08150262\u001B[0m, \u001B[1;36m0.08878185\u001B[0m, \u001B[1;36m0.13213226\u001B[0m, \u001B[1;36m0.09511066\u001B[0m,\n       \u001B[1;36m0.08634693\u001B[0m, \u001B[1;36m0.09529979\u001B[0m, \u001B[1;36m0.06393273\u001B[0m, \u001B[1;36m0.07035239\u001B[0m, \u001B[1;36m0.11069722\u001B[0m,\n       \u001B[1;36m0.07967488\u001B[0m, \u001B[1;36m0.08007932\u001B[0m, \u001B[1;36m0.04976632\u001B[0m, \u001B[1;36m0.0636747\u001B[0m , \u001B[1;36m0.06796112\u001B[0m,\n       \u001B[1;36m0.09449263\u001B[0m, \u001B[1;36m0.06443231\u001B[0m, \u001B[1;36m0.07051912\u001B[0m, \u001B[1;36m0.06107429\u001B[0m, \u001B[1;36m0.09393532\u001B[0m,\n       \u001B[1;36m0.05227912\u001B[0m, \u001B[1;36m0.0956627\u001B[0m , \u001B[1;36m0.05139192\u001B[0m, \u001B[1;36m0.06384474\u001B[0m, \u001B[1;36m0.09031988\u001B[0m,\n       \u001B[1;36m0.09509022\u001B[0m, \u001B[1;36m0.12328463\u001B[0m, \u001B[1;36m0.07277965\u001B[0m, \u001B[1;36m0.08413257\u001B[0m, \u001B[1;36m0.07480371\u001B[0m,\n       \u001B[1;36m0.10162495\u001B[0m, \u001B[1;36m0.07410827\u001B[0m, \u001B[1;36m0.07457177\u001B[0m, \u001B[1;36m0.09845277\u001B[0m, \u001B[1;36m0.06467885\u001B[0m,\n       \u001B[1;36m0.09669869\u001B[0m, \u001B[1;36m0.07843534\u001B[0m, \u001B[1;36m0.08495501\u001B[0m, \u001B[1;36m0.07827955\u001B[0m, \u001B[1;36m0.06498342\u001B[0m,\n       \u001B[1;36m0.08584577\u001B[0m, \u001B[1;36m0.05191226\u001B[0m, \u001B[1;36m0.08533437\u001B[0m, \u001B[1;36m0.1157139\u001B[0m , \u001B[1;36m0.05932649\u001B[0m,\n       \u001B[1;36m0.07229276\u001B[0m, \u001B[1;36m0.06036056\u001B[0m, \u001B[1;36m0.1003718\u001B[0m , \u001B[1;36m0.13825134\u001B[0m, \u001B[1;36m0.09661711\u001B[0m,\n       \u001B[1;36m0.09845565\u001B[0m, \u001B[1;36m0.07994812\u001B[0m, \u001B[1;36m0.06168775\u001B[0m, \u001B[1;36m0.07046824\u001B[0m, \u001B[1;36m0.05644782\u001B[0m,\n       \u001B[1;36m0.06420996\u001B[0m, \u001B[1;36m0.15251059\u001B[0m, \u001B[1;36m0.05674853\u001B[0m, \u001B[1;36m0.06750759\u001B[0m, \u001B[1;36m0.07279841\u001B[0m,\n       \u001B[1;36m0.06668925\u001B[0m, \u001B[1;36m0.08482587\u001B[0m, \u001B[1;36m0.0694193\u001B[0m , \u001B[1;36m0.09779915\u001B[0m, \u001B[1;36m0.09963146\u001B[0m,\n       \u001B[1;36m0.0789058\u001B[0m , \u001B[1;36m0.05119613\u001B[0m, \u001B[1;36m0.0620821\u001B[0m , \u001B[1;36m0.12198166\u001B[0m, \u001B[1;36m0.0755293\u001B[0m ,\n       \u001B[1;36m0.07053489\u001B[0m, \u001B[1;36m0.06355489\u001B[0m, \u001B[1;36m0.06689718\u001B[0m, \u001B[1;36m0.08150211\u001B[0m, \u001B[1;36m0.08897915\u001B[0m,\n       \u001B[1;36m0.06198237\u001B[0m, \u001B[1;36m0.09456063\u001B[0m, \u001B[1;36m0.08167713\u001B[0m, \u001B[1;36m0.10814197\u001B[0m, \u001B[1;36m0.07010843\u001B[0m,\n       \u001B[1;36m0.05593582\u001B[0m, \u001B[1;36m0.05922722\u001B[0m, \u001B[1;36m0.06772492\u001B[0m, \u001B[1;36m0.10637415\u001B[0m, \u001B[1;36m0.08703324\u001B[0m,\n       \u001B[1;36m0.0458174\u001B[0m , \u001B[1;36m0.0563806\u001B[0m , \u001B[1;36m0.10494416\u001B[0m, \u001B[1;36m0.14542596\u001B[0m, \u001B[1;36m0.09573727\u001B[0m,\n       \u001B[1;36m0.11382653\u001B[0m, \u001B[1;36m0.08009141\u001B[0m, \u001B[1;36m0.05846723\u001B[0m, \u001B[1;36m0.11121288\u001B[0m, \u001B[1;36m0.10008637\u001B[0m,\n       \u001B[1;36m0.05528876\u001B[0m, \u001B[1;36m0.07354929\u001B[0m, \u001B[1;36m0.05219553\u001B[0m, \u001B[1;36m0.07323911\u001B[0m, \u001B[1;36m0.13144322\u001B[0m,\n       \u001B[1;36m0.15879235\u001B[0m, \u001B[1;36m0.08071522\u001B[0m, \u001B[1;36m0.07159005\u001B[0m, \u001B[1;36m0.08142751\u001B[0m, \u001B[1;36m0.08448111\u001B[0m,\n       \u001B[1;36m0.05715464\u001B[0m, \u001B[1;36m0.09840762\u001B[0m, \u001B[1;36m0.07410749\u001B[0m, \u001B[1;36m0.07826599\u001B[0m, \u001B[1;36m0.08963838\u001B[0m,\n       \u001B[1;36m0.05630803\u001B[0m, \u001B[1;36m0.07429288\u001B[0m, \u001B[1;36m0.08362625\u001B[0m, \u001B[1;36m0.13100005\u001B[0m, \u001B[1;36m0.12565601\u001B[0m,\n       \u001B[1;36m0.12251056\u001B[0m, \u001B[1;36m0.04217418\u001B[0m, \u001B[1;36m0.0696352\u001B[0m , \u001B[1;36m0.09226824\u001B[0m, \u001B[1;36m0.0856656\u001B[0m ,\n       \u001B[1;36m0.06643778\u001B[0m, \u001B[1;36m0.07229959\u001B[0m, \u001B[1;36m0.06014987\u001B[0m, \u001B[1;36m0.05414217\u001B[0m, \u001B[1;36m0.07586073\u001B[0m,\n       \u001B[1;36m0.09115466\u001B[0m, \u001B[1;36m0.05802912\u001B[0m, \u001B[1;36m0.08006101\u001B[0m, \u001B[1;36m0.08004803\u001B[0m, \u001B[1;36m0.09464969\u001B[0m,\n       \u001B[1;36m0.10281865\u001B[0m, \u001B[1;36m0.09065901\u001B[0m, \u001B[1;36m0.05863491\u001B[0m, \u001B[1;36m0.0951341\u001B[0m , \u001B[1;36m0.07428396\u001B[0m,\n       \u001B[1;36m0.08516793\u001B[0m, \u001B[1;36m0.08712863\u001B[0m, \u001B[1;36m0.15665823\u001B[0m, \u001B[1;36m0.06430068\u001B[0m, \u001B[1;36m0.07653726\u001B[0m,\n       \u001B[1;36m0.10004772\u001B[0m, \u001B[1;36m0.05652923\u001B[0m, \u001B[1;36m0.06236333\u001B[0m, \u001B[1;36m0.10861076\u001B[0m, \u001B[1;36m0.06462747\u001B[0m,\n       \u001B[1;36m0.13306076\u001B[0m, \u001B[1;36m0.13542297\u001B[0m, \u001B[1;36m0.07551277\u001B[0m, \u001B[1;36m0.07736778\u001B[0m, \u001B[1;36m0.10898872\u001B[0m,\n       \u001B[1;36m0.07287711\u001B[0m, \u001B[1;36m0.06041308\u001B[0m, \u001B[1;36m0.10903486\u001B[0m, \u001B[1;36m0.08235446\u001B[0m, \u001B[1;36m0.07320134\u001B[0m,\n       \u001B[1;36m0.05881574\u001B[0m, \u001B[1;36m0.13362443\u001B[0m, \u001B[1;36m0.05791755\u001B[0m, \u001B[1;36m0.05982598\u001B[0m, \u001B[1;36m0.14453724\u001B[0m,\n       \u001B[1;36m0.04420312\u001B[0m, \u001B[1;36m0.07132276\u001B[0m, \u001B[1;36m0.06205332\u001B[0m, \u001B[1;36m0.10077955\u001B[0m, \u001B[1;36m0.05405857\u001B[0m,\n       \u001B[1;36m0.05920254\u001B[0m, \u001B[1;36m0.07091055\u001B[0m, \u001B[1;36m0.11886509\u001B[0m, \u001B[1;36m0.07211329\u001B[0m, \u001B[1;36m0.1074123\u001B[0m ,\n       \u001B[1;36m0.0651229\u001B[0m , \u001B[1;36m0.09488556\u001B[0m, \u001B[1;36m0.0636307\u001B[0m , \u001B[1;36m0.04734387\u001B[0m, \u001B[1;36m0.07042728\u001B[0m,\n       \u001B[1;36m0.04969764\u001B[0m, \u001B[1;36m0.08810986\u001B[0m, \u001B[1;36m0.10686003\u001B[0m, \u001B[1;36m0.08029993\u001B[0m, \u001B[1;36m0.05558868\u001B[0m,\n       \u001B[1;36m0.07092696\u001B[0m, \u001B[1;36m0.09615932\u001B[0m, \u001B[1;36m0.09459683\u001B[0m, \u001B[1;36m0.09367978\u001B[0m, \u001B[1;36m0.0696744\u001B[0m ,\n       \u001B[1;36m0.09070813\u001B[0m, \u001B[1;36m0.06301661\u001B[0m, \u001B[1;36m0.10612565\u001B[0m, \u001B[1;36m0.0661211\u001B[0m , \u001B[1;36m0.07850644\u001B[0m,\n       \u001B[1;36m0.08381135\u001B[0m, \u001B[1;36m0.08205727\u001B[0m, \u001B[1;36m0.11380859\u001B[0m, \u001B[1;36m0.13802478\u001B[0m, \u001B[1;36m0.08542721\u001B[0m,\n       \u001B[1;36m0.10890871\u001B[0m, \u001B[1;36m0.05632889\u001B[0m, \u001B[1;36m0.09731349\u001B[0m, \u001B[1;36m0.07227836\u001B[0m, \u001B[1;36m0.06066662\u001B[0m,\n       \u001B[1;36m0.07013326\u001B[0m, \u001B[1;36m0.05903021\u001B[0m, \u001B[1;36m0.07308676\u001B[0m, \u001B[1;36m0.12549156\u001B[0m, \u001B[1;36m0.07499077\u001B[0m,\n       \u001B[1;36m0.07823135\u001B[0m, \u001B[1;36m0.06058535\u001B[0m, \u001B[1;36m0.10341392\u001B[0m, \u001B[1;36m0.08268876\u001B[0m, \u001B[1;36m0.08707613\u001B[0m,\n       \u001B[1;36m0.07335522\u001B[0m, \u001B[1;36m0.08223232\u001B[0m, \u001B[1;36m0.07913475\u001B[0m, \u001B[1;36m0.06262336\u001B[0m, \u001B[1;36m0.06919814\u001B[0m,\n       \u001B[1;36m0.0551459\u001B[0m , \u001B[1;36m0.0472286\u001B[0m , \u001B[1;36m0.07007544\u001B[0m, \u001B[1;36m0.06621219\u001B[0m, \u001B[1;36m0.07210579\u001B[0m,\n       \u001B[1;36m0.07669025\u001B[0m, \u001B[1;36m0.05854563\u001B[0m, \u001B[1;36m0.11070083\u001B[0m, \u001B[1;36m0.06287278\u001B[0m, \u001B[1;36m0.10914075\u001B[0m,\n       \u001B[1;36m0.05236622\u001B[0m, \u001B[1;36m0.03670218\u001B[0m, \u001B[1;36m0.10117362\u001B[0m, \u001B[1;36m0.06965091\u001B[0m, \u001B[1;36m0.05821237\u001B[0m,\n       \u001B[1;36m0.10368675\u001B[0m, \u001B[1;36m0.05037223\u001B[0m, \u001B[1;36m0.05242592\u001B[0m, \u001B[1;36m0.08661691\u001B[0m, \u001B[1;36m0.08922514\u001B[0m,\n       \u001B[1;36m0.15131889\u001B[0m, \u001B[1;36m0.07239221\u001B[0m, \u001B[1;36m0.10713589\u001B[0m, \u001B[1;36m0.1000527\u001B[0m , \u001B[1;36m0.09031956\u001B[0m,\n       \u001B[1;36m0.07172663\u001B[0m, \u001B[1;36m0.06023265\u001B[0m, \u001B[1;36m0.11066285\u001B[0m, \u001B[1;36m0.11291683\u001B[0m, \u001B[1;36m0.08715448\u001B[0m,\n       \u001B[1;36m0.06275575\u001B[0m, \u001B[1;36m0.06128103\u001B[0m, \u001B[1;36m0.13230502\u001B[0m, \u001B[1;36m0.0966468\u001B[0m , \u001B[1;36m0.10125541\u001B[0m,\n       \u001B[1;36m0.06244491\u001B[0m, \u001B[1;36m0.08163071\u001B[0m, \u001B[1;36m0.09362222\u001B[0m, \u001B[1;36m0.07511801\u001B[0m, \u001B[1;36m0.08168174\u001B[0m,\n       \u001B[1;36m0.10200861\u001B[0m, \u001B[1;36m0.06936066\u001B[0m, \u001B[1;36m0.07434585\u001B[0m, \u001B[1;36m0.07810861\u001B[0m, \u001B[1;36m0.07020787\u001B[0m,\n       \u001B[1;36m0.06302293\u001B[0m, \u001B[1;36m0.08263403\u001B[0m, \u001B[1;36m0.07199017\u001B[0m, \u001B[1;36m0.07971816\u001B[0m, \u001B[1;36m0.08557229\u001B[0m,\n       \u001B[1;36m0.07602426\u001B[0m, \u001B[1;36m0.07793766\u001B[0m, \u001B[1;36m0.08849221\u001B[0m, \u001B[1;36m0.10233667\u001B[0m, \u001B[1;36m0.10612938\u001B[0m,\n       \u001B[1;36m0.09383876\u001B[0m, \u001B[1;36m0.06549098\u001B[0m, \u001B[1;36m0.07143059\u001B[0m, \u001B[1;36m0.11046496\u001B[0m, \u001B[1;36m0.05332062\u001B[0m,\n       \u001B[1;36m0.07895899\u001B[0m, \u001B[1;36m0.13221191\u001B[0m, \u001B[1;36m0.0376807\u001B[0m , \u001B[1;36m0.1217417\u001B[0m , \u001B[1;36m0.07821856\u001B[0m,\n       \u001B[1;36m0.0936692\u001B[0m , \u001B[1;36m0.07767926\u001B[0m, \u001B[1;36m0.05748931\u001B[0m, \u001B[1;36m0.05969491\u001B[0m, \u001B[1;36m0.10925593\u001B[0m,\n       \u001B[1;36m0.03617126\u001B[0m, \u001B[1;36m0.086239\u001B[0m  , \u001B[1;36m0.07607605\u001B[0m, \u001B[1;36m0.0666231\u001B[0m , \u001B[1;36m0.05850893\u001B[0m,\n       \u001B[1;36m0.06533073\u001B[0m, \u001B[1;36m0.09966787\u001B[0m, \u001B[1;36m0.08985915\u001B[0m, \u001B[1;36m0.04814448\u001B[0m, \u001B[1;36m0.07404592\u001B[0m,\n       \u001B[1;36m0.10722148\u001B[0m, \u001B[1;36m0.08150301\u001B[0m, \u001B[1;36m0.0560198\u001B[0m , \u001B[1;36m0.07627828\u001B[0m, \u001B[1;36m0.06822679\u001B[0m,\n       \u001B[1;36m0.09919326\u001B[0m, \u001B[1;36m0.05817666\u001B[0m, \u001B[1;36m0.12875142\u001B[0m, \u001B[1;36m0.08141661\u001B[0m, \u001B[1;36m0.0611258\u001B[0m ,\n       \u001B[1;36m0.10630419\u001B[0m, \u001B[1;36m0.06399217\u001B[0m, \u001B[1;36m0.0954689\u001B[0m , \u001B[1;36m0.08196405\u001B[0m, \u001B[1;36m0.06981969\u001B[0m,\n       \u001B[1;36m0.04969588\u001B[0m, \u001B[1;36m0.13085414\u001B[0m, \u001B[1;36m0.09069202\u001B[0m, \u001B[1;36m0.07930137\u001B[0m, \u001B[1;36m0.05496402\u001B[0m,\n       \u001B[1;36m0.07117858\u001B[0m, \u001B[1;36m0.10576386\u001B[0m, \u001B[1;36m0.06469819\u001B[0m, \u001B[1;36m0.06464343\u001B[0m, \u001B[1;36m0.07236149\u001B[0m,\n       \u001B[1;36m0.06772355\u001B[0m, \u001B[1;36m0.05259329\u001B[0m, \u001B[1;36m0.07197402\u001B[0m, \u001B[1;36m0.04748453\u001B[0m, \u001B[1;36m0.16111869\u001B[0m,\n       \u001B[1;36m0.06794602\u001B[0m, \u001B[1;36m0.09266659\u001B[0m, \u001B[1;36m0.04823278\u001B[0m, \u001B[1;36m0.0559416\u001B[0m , \u001B[1;36m0.08650388\u001B[0m,\n       \u001B[1;36m0.0957267\u001B[0m , \u001B[1;36m0.12259592\u001B[0m, \u001B[1;36m0.06786437\u001B[0m, \u001B[1;36m0.08373039\u001B[0m, \u001B[1;36m0.09317008\u001B[0m,\n       \u001B[1;36m0.06516988\u001B[0m, \u001B[1;36m0.06823758\u001B[0m, \u001B[1;36m0.05388845\u001B[0m, \u001B[1;36m0.08115795\u001B[0m, \u001B[1;36m0.10700247\u001B[0m,\n       \u001B[1;36m0.07611026\u001B[0m, \u001B[1;36m0.08022688\u001B[0m, \u001B[1;36m0.06940623\u001B[0m, \u001B[1;36m0.05954903\u001B[0m, \u001B[1;36m0.08549277\u001B[0m,\n       \u001B[1;36m0.10441443\u001B[0m, \u001B[1;36m0.04618539\u001B[0m, \u001B[1;36m0.09396411\u001B[0m, \u001B[1;36m0.05432242\u001B[0m, \u001B[1;36m0.07519298\u001B[0m,\n       \u001B[1;36m0.07984732\u001B[0m, \u001B[1;36m0.10194531\u001B[0m, \u001B[1;36m0.12299045\u001B[0m, \u001B[1;36m0.05918142\u001B[0m, \u001B[1;36m0.05780838\u001B[0m,\n       \u001B[1;36m0.06456623\u001B[0m, \u001B[1;36m0.07772302\u001B[0m, \u001B[1;36m0.06984837\u001B[0m, \u001B[1;36m0.0595694\u001B[0m , \u001B[1;36m0.11375847\u001B[0m,\n       \u001B[1;36m0.06241497\u001B[0m, \u001B[1;36m0.06604261\u001B[0m, \u001B[1;36m0.09361558\u001B[0m, \u001B[1;36m0.10336392\u001B[0m, \u001B[1;36m0.09958147\u001B[0m,\n       \u001B[1;36m0.06904165\u001B[0m, \u001B[1;36m0.0696196\u001B[0m , \u001B[1;36m0.08577298\u001B[0m, \u001B[1;36m0.10508185\u001B[0m, \u001B[1;36m0.05718707\u001B[0m,\n       \u001B[1;36m0.11142959\u001B[0m, \u001B[1;36m0.06296522\u001B[0m, \u001B[1;36m0.05972618\u001B[0m, \u001B[1;36m0.09896011\u001B[0m, \u001B[1;36m0.10460215\u001B[0m,\n       \u001B[1;36m0.08444263\u001B[0m, \u001B[1;36m0.06248974\u001B[0m, \u001B[1;36m0.05718836\u001B[0m, \u001B[1;36m0.05745287\u001B[0m, \u001B[1;36m0.08378039\u001B[0m,\n       \u001B[1;36m0.05261621\u001B[0m, \u001B[1;36m0.06309811\u001B[0m, \u001B[1;36m0.08779651\u001B[0m, \u001B[1;36m0.11380018\u001B[0m, \u001B[1;36m0.08271456\u001B[0m,\n       \u001B[1;36m0.08223326\u001B[0m, \u001B[1;36m0.08060187\u001B[0m, \u001B[1;36m0.08009753\u001B[0m, \u001B[1;36m0.07223473\u001B[0m, \u001B[1;36m0.10051409\u001B[0m,\n       \u001B[1;36m0.07105564\u001B[0m, \u001B[1;36m0.09491215\u001B[0m, \u001B[1;36m0.0638436\u001B[0m , \u001B[1;36m0.05352058\u001B[0m, \u001B[1;36m0.05272374\u001B[0m,\n       \u001B[1;36m0.07040361\u001B[0m, \u001B[1;36m0.07214693\u001B[0m, \u001B[1;36m0.10258601\u001B[0m, \u001B[1;36m0.06683008\u001B[0m, \u001B[1;36m0.06405477\u001B[0m,\n       \u001B[1;36m0.07600232\u001B[0m, \u001B[1;36m0.14509792\u001B[0m, \u001B[1;36m0.06354619\u001B[0m, \u001B[1;36m0.09693586\u001B[0m, \u001B[1;36m0.1012073\u001B[0m ,\n       \u001B[1;36m0.06499548\u001B[0m, \u001B[1;36m0.08611821\u001B[0m, \u001B[1;36m0.14935552\u001B[0m, \u001B[1;36m0.07101915\u001B[0m, \u001B[1;36m0.08397522\u001B[0m,\n       \u001B[1;36m0.07902551\u001B[0m, \u001B[1;36m0.08008628\u001B[0m, \u001B[1;36m0.07231868\u001B[0m, \u001B[1;36m0.07584967\u001B[0m, \u001B[1;36m0.06187248\u001B[0m,\n       \u001B[1;36m0.09847418\u001B[0m, \u001B[1;36m0.16945976\u001B[0m, \u001B[1;36m0.10500303\u001B[0m, \u001B[1;36m0.09435403\u001B[0m, \u001B[1;36m0.05481807\u001B[0m,\n       \u001B[1;36m0.08921167\u001B[0m, \u001B[1;36m0.09646427\u001B[0m, \u001B[1;36m0.09832653\u001B[0m, \u001B[1;36m0.08068437\u001B[0m, \u001B[1;36m0.06739504\u001B[0m,\n       \u001B[1;36m0.06947045\u001B[0m, \u001B[1;36m0.08838684\u001B[0m, \u001B[1;36m0.06372121\u001B[0m, \u001B[1;36m0.06923472\u001B[0m, \u001B[1;36m0.05920688\u001B[0m,\n       \u001B[1;36m0.08313028\u001B[0m, \u001B[1;36m0.07598721\u001B[0m, \u001B[1;36m0.07993892\u001B[0m, \u001B[1;36m0.13831376\u001B[0m, \u001B[1;36m0.05448051\u001B[0m,\n       \u001B[1;36m0.0662672\u001B[0m , \u001B[1;36m0.08432451\u001B[0m, \u001B[1;36m0.06920332\u001B[0m, \u001B[1;36m0.10065624\u001B[0m, \u001B[1;36m0.10903142\u001B[0m,\n       \u001B[1;36m0.06999427\u001B[0m, \u001B[1;36m0.04677775\u001B[0m, \u001B[1;36m0.08871701\u001B[0m, \u001B[1;36m0.10367394\u001B[0m, \u001B[1;36m0.08443608\u001B[0m,\n       \u001B[1;36m0.1331703\u001B[0m , \u001B[1;36m0.08145294\u001B[0m, \u001B[1;36m0.05420476\u001B[0m, \u001B[1;36m0.05384331\u001B[0m, \u001B[1;36m0.05052826\u001B[0m,\n       \u001B[1;36m0.04039414\u001B[0m, \u001B[1;36m0.05391441\u001B[0m, \u001B[1;36m0.06758875\u001B[0m, \u001B[1;36m0.05741083\u001B[0m, \u001B[1;36m0.06172797\u001B[0m,\n       \u001B[1;36m0.06019698\u001B[0m, \u001B[1;36m0.06042043\u001B[0m, \u001B[1;36m0.09506222\u001B[0m, \u001B[1;36m0.15188796\u001B[0m, \u001B[1;36m0.05491641\u001B[0m,\n       \u001B[1;36m0.08227927\u001B[0m, \u001B[1;36m0.07975841\u001B[0m, \u001B[1;36m0.08184577\u001B[0m, \u001B[1;36m0.05054245\u001B[0m, \u001B[1;36m0.07570647\u001B[0m,\n       \u001B[1;36m0.07691495\u001B[0m, \u001B[1;36m0.11665988\u001B[0m, \u001B[1;36m0.07297717\u001B[0m, \u001B[1;36m0.08507603\u001B[0m, \u001B[1;36m0.09653165\u001B[0m,\n       \u001B[1;36m0.06810861\u001B[0m, \u001B[1;36m0.0626035\u001B[0m , \u001B[1;36m0.06237316\u001B[0m, \u001B[1;36m0.05850364\u001B[0m, \u001B[1;36m0.11716803\u001B[0m,\n       \u001B[1;36m0.07785604\u001B[0m, \u001B[1;36m0.08523219\u001B[0m, \u001B[1;36m0.05230236\u001B[0m, \u001B[1;36m0.07418112\u001B[0m, \u001B[1;36m0.08098214\u001B[0m,\n       \u001B[1;36m0.06103481\u001B[0m, \u001B[1;36m0.07235642\u001B[0m, \u001B[1;36m0.11601528\u001B[0m, \u001B[1;36m0.05116197\u001B[0m, \u001B[1;36m0.08127333\u001B[0m,\n       \u001B[1;36m0.05242154\u001B[0m, \u001B[1;36m0.08239894\u001B[0m, \u001B[1;36m0.09154045\u001B[0m, \u001B[1;36m0.04883709\u001B[0m, \u001B[1;36m0.07422623\u001B[0m,\n       \u001B[1;36m0.07998773\u001B[0m, \u001B[1;36m0.06130837\u001B[0m, \u001B[1;36m0.05870568\u001B[0m, \u001B[1;36m0.06108\u001B[0m   , \u001B[1;36m0.11076772\u001B[0m,\n       \u001B[1;36m0.05791404\u001B[0m, \u001B[1;36m0.08806139\u001B[0m, \u001B[1;36m0.0571489\u001B[0m , \u001B[1;36m0.07290949\u001B[0m, \u001B[1;36m0.08350628\u001B[0m,\n       \u001B[1;36m0.0758119\u001B[0m , \u001B[1;36m0.1062581\u001B[0m , \u001B[1;36m0.09562445\u001B[0m, \u001B[1;36m0.0848806\u001B[0m , \u001B[1;36m0.09476721\u001B[0m,\n       \u001B[1;36m0.06296997\u001B[0m, \u001B[1;36m0.09086207\u001B[0m, \u001B[1;36m0.07228061\u001B[0m, \u001B[1;36m0.14635647\u001B[0m, \u001B[1;36m0.04566308\u001B[0m,\n       \u001B[1;36m0.06667001\u001B[0m, \u001B[1;36m0.07777253\u001B[0m, \u001B[1;36m0.08941841\u001B[0m, \u001B[1;36m0.10503958\u001B[0m, \u001B[1;36m0.06530772\u001B[0m,\n       \u001B[1;36m0.10282447\u001B[0m, \u001B[1;36m0.08564761\u001B[0m, \u001B[1;36m0.07223789\u001B[0m, \u001B[1;36m0.06135961\u001B[0m, \u001B[1;36m0.07514633\u001B[0m,\n       \u001B[1;36m0.0962105\u001B[0m , \u001B[1;36m0.10486757\u001B[0m, \u001B[1;36m0.08382205\u001B[0m, \u001B[1;36m0.06437215\u001B[0m, \u001B[1;36m0.06028091\u001B[0m,\n       \u001B[1;36m0.12272041\u001B[0m, \u001B[1;36m0.09553275\u001B[0m, \u001B[1;36m0.04152492\u001B[0m, \u001B[1;36m0.05157373\u001B[0m, \u001B[1;36m0.07770078\u001B[0m,\n       \u001B[1;36m0.06516037\u001B[0m, \u001B[1;36m0.07612445\u001B[0m, \u001B[1;36m0.05843483\u001B[0m, \u001B[1;36m0.06752506\u001B[0m, \u001B[1;36m0.0560653\u001B[0m ,\n       \u001B[1;36m0.10682897\u001B[0m, \u001B[1;36m0.08353504\u001B[0m, \u001B[1;36m0.09006794\u001B[0m, \u001B[1;36m0.09310636\u001B[0m, \u001B[1;36m0.08285481\u001B[0m,\n       \u001B[1;36m0.07458938\u001B[0m, \u001B[1;36m0.13918314\u001B[0m, \u001B[1;36m0.08645341\u001B[0m, \u001B[1;36m0.0915327\u001B[0m , \u001B[1;36m0.08503332\u001B[0m,\n       \u001B[1;36m0.11222773\u001B[0m, \u001B[1;36m0.06025348\u001B[0m, \u001B[1;36m0.09825543\u001B[0m, \u001B[1;36m0.07323485\u001B[0m, \u001B[1;36m0.06649777\u001B[0m,\n       \u001B[1;36m0.08522497\u001B[0m, \u001B[1;36m0.05636374\u001B[0m, \u001B[1;36m0.1006137\u001B[0m , \u001B[1;36m0.07439732\u001B[0m, \u001B[1;36m0.09751438\u001B[0m,\n       \u001B[1;36m0.08737139\u001B[0m, \u001B[1;36m0.07213106\u001B[0m, \u001B[1;36m0.10058331\u001B[0m, \u001B[1;36m0.06796877\u001B[0m, \u001B[1;36m0.07674232\u001B[0m,\n       \u001B[1;36m0.12095851\u001B[0m, \u001B[1;36m0.07103476\u001B[0m, \u001B[1;36m0.0610576\u001B[0m , \u001B[1;36m0.10355631\u001B[0m, \u001B[1;36m0.076282\u001B[0m  ,\n       \u001B[1;36m0.07413087\u001B[0m, \u001B[1;36m0.10816519\u001B[0m, \u001B[1;36m0.07802131\u001B[0m, \u001B[1;36m0.05130693\u001B[0m, \u001B[1;36m0.05079189\u001B[0m,\n       \u001B[1;36m0.08979367\u001B[0m, \u001B[1;36m0.04932175\u001B[0m, \u001B[1;36m0.10126557\u001B[0m, \u001B[1;36m0.08353432\u001B[0m, \u001B[1;36m0.12224128\u001B[0m,\n       \u001B[1;36m0.06230727\u001B[0m, \u001B[1;36m0.09159348\u001B[0m, \u001B[1;36m0.07393794\u001B[0m, \u001B[1;36m0.08867643\u001B[0m, \u001B[1;36m0.07339691\u001B[0m,\n       \u001B[1;36m0.07576623\u001B[0m, \u001B[1;36m0.08259206\u001B[0m, \u001B[1;36m0.09886793\u001B[0m, \u001B[1;36m0.07075857\u001B[0m, \u001B[1;36m0.09248471\u001B[0m,\n       \u001B[1;36m0.07252051\u001B[0m, \u001B[1;36m0.12052154\u001B[0m, \u001B[1;36m0.14444989\u001B[0m, \u001B[1;36m0.08928063\u001B[0m, \u001B[1;36m0.09335693\u001B[0m,\n       \u001B[1;36m0.08065795\u001B[0m, \u001B[1;36m0.08436519\u001B[0m, \u001B[1;36m0.05310279\u001B[0m, \u001B[1;36m0.07123479\u001B[0m, \u001B[1;36m0.07664095\u001B[0m,\n       \u001B[1;36m0.05879013\u001B[0m, \u001B[1;36m0.07622268\u001B[0m, \u001B[1;36m0.08756732\u001B[0m, \u001B[1;36m0.08667478\u001B[0m, \u001B[1;36m0.11644335\u001B[0m,\n       \u001B[1;36m0.06499769\u001B[0m, \u001B[1;36m0.09480554\u001B[0m, \u001B[1;36m0.06862854\u001B[0m, \u001B[1;36m0.09260611\u001B[0m, \u001B[1;36m0.07813601\u001B[0m,\n       \u001B[1;36m0.07436917\u001B[0m, \u001B[1;36m0.07703646\u001B[0m, \u001B[1;36m0.07052461\u001B[0m, \u001B[1;36m0.119796\u001B[0m  , \u001B[1;36m0.08365174\u001B[0m,\n       \u001B[1;36m0.08723371\u001B[0m, \u001B[1;36m0.1427877\u001B[0m , \u001B[1;36m0.10802464\u001B[0m, \u001B[1;36m0.07964607\u001B[0m, \u001B[1;36m0.08391219\u001B[0m,\n       \u001B[1;36m0.074277\u001B[0m  , \u001B[1;36m0.08976713\u001B[0m, \u001B[1;36m0.11212303\u001B[0m, \u001B[1;36m0.08308652\u001B[0m, \u001B[1;36m0.06394869\u001B[0m,\n       \u001B[1;36m0.07527935\u001B[0m, \u001B[1;36m0.13412992\u001B[0m, \u001B[1;36m0.08357807\u001B[0m, \u001B[1;36m0.07237376\u001B[0m, \u001B[1;36m0.17046381\u001B[0m,\n       \u001B[1;36m0.06663699\u001B[0m, \u001B[1;36m0.06241854\u001B[0m, \u001B[1;36m0.10679357\u001B[0m, \u001B[1;36m0.0674882\u001B[0m , \u001B[1;36m0.09477125\u001B[0m,\n       \u001B[1;36m0.0583403\u001B[0m , \u001B[1;36m0.10377251\u001B[0m, \u001B[1;36m0.10157576\u001B[0m, \u001B[1;36m0.06785574\u001B[0m, \u001B[1;36m0.10937878\u001B[0m,\n       \u001B[1;36m0.05183978\u001B[0m, \u001B[1;36m0.08608964\u001B[0m, \u001B[1;36m0.07298908\u001B[0m, \u001B[1;36m0.06294608\u001B[0m, \u001B[1;36m0.06433238\u001B[0m,\n       \u001B[1;36m0.07884735\u001B[0m, \u001B[1;36m0.08569313\u001B[0m, \u001B[1;36m0.04759634\u001B[0m, \u001B[1;36m0.06033126\u001B[0m, \u001B[1;36m0.07079585\u001B[0m,\n       \u001B[1;36m0.1357398\u001B[0m , \u001B[1;36m0.05843559\u001B[0m, \u001B[1;36m0.0482517\u001B[0m , \u001B[1;36m0.0654286\u001B[0m , \u001B[1;36m0.14235442\u001B[0m,\n       \u001B[1;36m0.040095\u001B[0m  , \u001B[1;36m0.05082859\u001B[0m, \u001B[1;36m0.11896028\u001B[0m, \u001B[1;36m0.05855394\u001B[0m, \u001B[1;36m0.06029539\u001B[0m,\n       \u001B[1;36m0.06575727\u001B[0m, \u001B[1;36m0.07901939\u001B[0m, \u001B[1;36m0.09599852\u001B[0m, \u001B[1;36m0.07414512\u001B[0m, \u001B[1;36m0.05179599\u001B[0m,\n       \u001B[1;36m0.08458848\u001B[0m, \u001B[1;36m0.13436437\u001B[0m, \u001B[1;36m0.06389811\u001B[0m, \u001B[1;36m0.08474371\u001B[0m, \u001B[1;36m0.09649236\u001B[0m,\n       \u001B[1;36m0.07332628\u001B[0m, \u001B[1;36m0.10930284\u001B[0m, \u001B[1;36m0.07442556\u001B[0m, \u001B[1;36m0.07449626\u001B[0m, \u001B[1;36m0.07685934\u001B[0m,\n       \u001B[1;36m0.06798898\u001B[0m, \u001B[1;36m0.0953053\u001B[0m , \u001B[1;36m0.06142103\u001B[0m, \u001B[1;36m0.0718771\u001B[0m , \u001B[1;36m0.09083635\u001B[0m\u001B[1m]\u001B[0m\u001B[1m)\u001B[0m"
     },
     "execution_count": 34,
     "metadata": {},
     "output_type": "execute_result"
    }
   ],
   "source": [
    "predict(model, full_df.head(2))"
   ],
   "metadata": {
    "collapsed": false,
    "ExecuteTime": {
     "end_time": "2024-05-01T14:07:50.213338800Z",
     "start_time": "2024-05-01T14:07:50.056117200Z"
    }
   }
  },
  {
   "cell_type": "code",
   "execution_count": 23,
   "outputs": [],
   "source": [
    "df = full_df.head(10)\n",
    "features = [f for f in df.columns if f not in [\"SK_ID_CURR\", \"TARGET\"]]\n",
    "df_query = df[features]"
   ],
   "metadata": {
    "collapsed": false,
    "ExecuteTime": {
     "end_time": "2024-05-07T16:12:50.684735500Z",
     "start_time": "2024-05-07T16:12:50.450475900Z"
    }
   }
  },
  {
   "cell_type": "code",
   "execution_count": 24,
   "outputs": [
    {
     "data": {
      "text/plain": "",
      "text/html": "<pre style=\"white-space:pre;overflow-x:auto;line-height:normal;font-family:Menlo,'DejaVu Sans Mono',consolas,'Courier New',monospace\"></pre>\n"
     },
     "metadata": {},
     "output_type": "display_data"
    },
    {
     "data": {
      "text/plain": "\n   CODE_GENDER  FLAG_OWN_CAR  FLAG_OWN_REALTY  CNT_CHILDREN  AMT_INCOME_TOTAL  \\\n\u001B[1;36m0\u001B[0m          \u001B[1;36m0.0\u001B[0m           \u001B[1;36m0.0\u001B[0m              \u001B[1;36m0.0\u001B[0m      \u001B[1;36m0.000000\u001B[0m          \u001B[1;36m0.001512\u001B[0m   \n\u001B[1;36m1\u001B[0m          \u001B[1;36m1.0\u001B[0m           \u001B[1;36m0.0\u001B[0m              \u001B[1;36m1.0\u001B[0m      \u001B[1;36m0.000000\u001B[0m          \u001B[1;36m0.002089\u001B[0m   \n\u001B[1;36m2\u001B[0m          \u001B[1;36m0.0\u001B[0m           \u001B[1;36m1.0\u001B[0m              \u001B[1;36m0.0\u001B[0m      \u001B[1;36m0.000000\u001B[0m          \u001B[1;36m0.000358\u001B[0m   \n\u001B[1;36m3\u001B[0m          \u001B[1;36m1.0\u001B[0m           \u001B[1;36m0.0\u001B[0m              \u001B[1;36m0.0\u001B[0m      \u001B[1;36m0.000000\u001B[0m          \u001B[1;36m0.000935\u001B[0m   \n\u001B[1;36m4\u001B[0m          \u001B[1;36m0.0\u001B[0m           \u001B[1;36m0.0\u001B[0m              \u001B[1;36m0.0\u001B[0m      \u001B[1;36m0.000000\u001B[0m          \u001B[1;36m0.000819\u001B[0m   \n\u001B[1;36m5\u001B[0m          \u001B[1;36m0.0\u001B[0m           \u001B[1;36m0.0\u001B[0m              \u001B[1;36m0.0\u001B[0m      \u001B[1;36m0.000000\u001B[0m          \u001B[1;36m0.000627\u001B[0m   \n\u001B[1;36m6\u001B[0m          \u001B[1;36m1.0\u001B[0m           \u001B[1;36m1.0\u001B[0m              \u001B[1;36m0.0\u001B[0m      \u001B[1;36m0.052632\u001B[0m          \u001B[1;36m0.001243\u001B[0m   \n\u001B[1;36m7\u001B[0m          \u001B[1;36m0.0\u001B[0m           \u001B[1;36m1.0\u001B[0m              \u001B[1;36m0.0\u001B[0m      \u001B[1;36m0.000000\u001B[0m          \u001B[1;36m0.002858\u001B[0m   \n\u001B[1;36m8\u001B[0m          \u001B[1;36m1.0\u001B[0m           \u001B[1;36m0.0\u001B[0m              \u001B[1;36m0.0\u001B[0m      \u001B[1;36m0.000000\u001B[0m          \u001B[1;36m0.000742\u001B[0m   \n\u001B[1;36m9\u001B[0m          \u001B[1;36m0.0\u001B[0m           \u001B[1;36m0.0\u001B[0m              \u001B[1;36m0.0\u001B[0m      \u001B[1;36m0.000000\u001B[0m          \u001B[1;36m0.000935\u001B[0m   \n\n   AMT_CREDIT  AMT_ANNUITY  AMT_GOODS_PRICE  REGION_POPULATION_RELATIVE  \\\n\u001B[1;36m0\u001B[0m    \u001B[1;36m0.090287\u001B[0m     \u001B[1;36m0.090032\u001B[0m         \u001B[1;36m0.077441\u001B[0m                    \u001B[1;36m0.256321\u001B[0m   \n\u001B[1;36m1\u001B[0m    \u001B[1;36m0.311736\u001B[0m     \u001B[1;36m0.132924\u001B[0m         \u001B[1;36m0.271605\u001B[0m                    \u001B[1;36m0.045016\u001B[0m   \n\u001B[1;36m2\u001B[0m    \u001B[1;36m0.022472\u001B[0m     \u001B[1;36m0.020025\u001B[0m         \u001B[1;36m0.023569\u001B[0m                    \u001B[1;36m0.134897\u001B[0m   \n\u001B[1;36m3\u001B[0m    \u001B[1;36m0.066837\u001B[0m     \u001B[1;36m0.109477\u001B[0m         \u001B[1;36m0.063973\u001B[0m                    \u001B[1;36m0.107023\u001B[0m   \n\u001B[1;36m4\u001B[0m    \u001B[1;36m0.116854\u001B[0m     \u001B[1;36m0.078975\u001B[0m         \u001B[1;36m0.117845\u001B[0m                    \u001B[1;36m0.392880\u001B[0m   \n\u001B[1;36m5\u001B[0m    \u001B[1;36m0.111235\u001B[0m     \u001B[1;36m0.101018\u001B[0m         \u001B[1;36m0.103255\u001B[0m                    \u001B[1;36m0.491595\u001B[0m   \n\u001B[1;36m6\u001B[0m    \u001B[1;36m0.378458\u001B[0m     \u001B[1;36m0.154774\u001B[0m         \u001B[1;36m0.337823\u001B[0m                    \u001B[1;36m0.491595\u001B[0m   \n\u001B[1;36m7\u001B[0m    \u001B[1;36m0.370787\u001B[0m     \u001B[1;36m0.157792\u001B[0m         \u001B[1;36m0.371493\u001B[0m                    \u001B[1;36m0.039215\u001B[0m   \n\u001B[1;36m8\u001B[0m    \u001B[1;36m0.243348\u001B[0m     \u001B[1;36m0.125623\u001B[0m         \u001B[1;36m0.217733\u001B[0m                    \u001B[1;36m0.254009\u001B[0m   \n\u001B[1;36m9\u001B[0m    \u001B[1;36m0.089888\u001B[0m     \u001B[1;36m0.072675\u001B[0m         \u001B[1;36m0.090909\u001B[0m                    \u001B[1;36m0.268617\u001B[0m   \n\n   DAYS_BIRTH  \u001B[33m...\u001B[0m  INSTAL_AMT_INSTALMENT_MEAN  INSTAL_AMT_INSTALMENT_SUM  \\\n\u001B[1;36m0\u001B[0m    \u001B[1;36m0.888839\u001B[0m  \u001B[33m...\u001B[0m                    \u001B[1;36m0.004615\u001B[0m                   \u001B[1;36m0.009436\u001B[0m   \n\u001B[1;36m1\u001B[0m    \u001B[1;36m0.477114\u001B[0m  \u001B[33m...\u001B[0m                    \u001B[1;36m0.025854\u001B[0m                   \u001B[1;36m0.069555\u001B[0m   \n\u001B[1;36m2\u001B[0m    \u001B[1;36m0.348534\u001B[0m  \u001B[33m...\u001B[0m                    \u001B[1;36m0.002833\u001B[0m                   \u001B[1;36m0.000915\u001B[0m   \n\u001B[1;36m3\u001B[0m    \u001B[1;36m0.350846\u001B[0m  \u001B[33m...\u001B[0m                    \u001B[1;36m0.025133\u001B[0m                   \u001B[1;36m0.043272\u001B[0m   \n\u001B[1;36m4\u001B[0m    \u001B[1;36m0.298591\u001B[0m  \u001B[33m...\u001B[0m                    \u001B[1;36m0.005057\u001B[0m                   \u001B[1;36m0.035918\u001B[0m   \n\u001B[1;36m5\u001B[0m    \u001B[1;36m0.467193\u001B[0m  \u001B[33m...\u001B[0m                    \u001B[1;36m0.011061\u001B[0m                   \u001B[1;36m0.041659\u001B[0m   \n\u001B[1;36m6\u001B[0m    \u001B[1;36m0.645490\u001B[0m  \u001B[33m...\u001B[0m                    \u001B[1;36m0.003820\u001B[0m                   \u001B[1;36m0.020967\u001B[0m   \n\u001B[1;36m7\u001B[0m    \u001B[1;36m0.359583\u001B[0m  \u001B[33m...\u001B[0m                    \u001B[1;36m0.010960\u001B[0m                   \u001B[1;36m0.011794\u001B[0m   \n\u001B[1;36m8\u001B[0m    \u001B[1;36m0.289177\u001B[0m  \u001B[33m...\u001B[0m                    \u001B[1;36m0.005420\u001B[0m                   \u001B[1;36m0.075827\u001B[0m   \n\u001B[1;36m9\u001B[0m    \u001B[1;36m0.606539\u001B[0m  \u001B[33m...\u001B[0m                    \u001B[1;36m0.003827\u001B[0m                   \u001B[1;36m0.019766\u001B[0m   \n\n   INSTAL_AMT_PAYMENT_MIN  INSTAL_AMT_PAYMENT_MAX  INSTAL_AMT_PAYMENT_MEAN  \\\n\u001B[1;36m0\u001B[0m            \u001B[1;36m3.693928e-03\u001B[0m                \u001B[1;36m0.014078\u001B[0m                 \u001B[1;36m0.004615\u001B[0m   \n\u001B[1;36m1\u001B[0m            \u001B[1;36m2.660304e-03\u001B[0m                \u001B[1;36m0.148704\u001B[0m                 \u001B[1;36m0.025854\u001B[0m   \n\u001B[1;36m2\u001B[0m            \u001B[1;36m2.138973e-03\u001B[0m                \u001B[1;36m0.002804\u001B[0m                 \u001B[1;36m0.002833\u001B[0m   \n\u001B[1;36m3\u001B[0m            \u001B[1;36m9.913480e-04\u001B[0m                \u001B[1;36m0.183425\u001B[0m                 \u001B[1;36m0.025133\u001B[0m   \n\u001B[1;36m4\u001B[0m            \u001B[1;36m7.186806e-08\u001B[0m                \u001B[1;36m0.006013\u001B[0m                 \u001B[1;36m0.004877\u001B[0m   \n\u001B[1;36m5\u001B[0m            \u001B[1;36m9.069749e-05\u001B[0m                \u001B[1;36m0.114601\u001B[0m                 \u001B[1;36m0.010924\u001B[0m   \n\u001B[1;36m6\u001B[0m            \u001B[1;36m2.457600e-03\u001B[0m                \u001B[1;36m0.004598\u001B[0m                 \u001B[1;36m0.003820\u001B[0m   \n\u001B[1;36m7\u001B[0m            \u001B[1;36m1.090853e-02\u001B[0m                \u001B[1;36m0.007282\u001B[0m                 \u001B[1;36m0.010959\u001B[0m   \n\u001B[1;36m8\u001B[0m            \u001B[1;36m1.795444e-04\u001B[0m                \u001B[1;36m0.012325\u001B[0m                 \u001B[1;36m0.004523\u001B[0m   \n\u001B[1;36m9\u001B[0m            \u001B[1;36m2.335712e-06\u001B[0m                \u001B[1;36m0.015561\u001B[0m                 \u001B[1;36m0.004173\u001B[0m   \n\n   INSTAL_AMT_PAYMENT_SUM  INSTAL_DAYS_ENTRY_PAYMENT_MAX  \\\n\u001B[1;36m0\u001B[0m                \u001B[1;36m0.008600\u001B[0m                       \u001B[1;36m0.984365\u001B[0m   \n\u001B[1;36m1\u001B[0m                \u001B[1;36m0.063393\u001B[0m                       \u001B[1;36m0.823127\u001B[0m   \n\u001B[1;36m2\u001B[0m                \u001B[1;36m0.000834\u001B[0m                       \u001B[1;36m0.763518\u001B[0m   \n\u001B[1;36m3\u001B[0m                \u001B[1;36m0.039439\u001B[0m                       \u001B[1;36m0.996417\u001B[0m   \n\u001B[1;36m4\u001B[0m                \u001B[1;36m0.031567\u001B[0m                       \u001B[1;36m0.995765\u001B[0m   \n\u001B[1;36m5\u001B[0m                \u001B[1;36m0.037499\u001B[0m                       \u001B[1;36m0.973616\u001B[0m   \n\u001B[1;36m6\u001B[0m                \u001B[1;36m0.019109\u001B[0m                       \u001B[1;36m0.981433\u001B[0m   \n\u001B[1;36m7\u001B[0m                \u001B[1;36m0.010749\u001B[0m                       \u001B[1;36m0.748208\u001B[0m   \n\u001B[1;36m8\u001B[0m                \u001B[1;36m0.057671\u001B[0m                       \u001B[1;36m0.988274\u001B[0m   \n\u001B[1;36m9\u001B[0m                \u001B[1;36m0.019644\u001B[0m                       \u001B[1;36m0.951140\u001B[0m   \n\n   INSTAL_DAYS_ENTRY_PAYMENT_MEAN  INSTAL_DAYS_ENTRY_PAYMENT_SUM  INSTAL_COUNT  \n\u001B[1;36m0\u001B[0m                        \u001B[1;36m0.898168\u001B[0m                       \u001B[1;36m0.990053\u001B[0m      \u001B[1;36m0.048518\u001B[0m  \n\u001B[1;36m1\u001B[0m                        \u001B[1;36m0.549439\u001B[0m                       \u001B[1;36m0.942518\u001B[0m      \u001B[1;36m0.064690\u001B[0m  \n\u001B[1;36m2\u001B[0m                        \u001B[1;36m0.752716\u001B[0m                       \u001B[1;36m0.996207\u001B[0m      \u001B[1;36m0.005391\u001B[0m  \n\u001B[1;36m3\u001B[0m                        \u001B[1;36m0.912443\u001B[0m                       \u001B[1;36m0.992787\u001B[0m      \u001B[1;36m0.040431\u001B[0m  \n\u001B[1;36m4\u001B[0m                        \u001B[1;36m0.664523\u001B[0m                       \u001B[1;36m0.886924\u001B[0m      \u001B[1;36m0.175202\u001B[0m  \n\u001B[1;36m5\u001B[0m                        \u001B[1;36m0.597523\u001B[0m                       \u001B[1;36m0.928094\u001B[0m      \u001B[1;36m0.091644\u001B[0m  \n\u001B[1;36m6\u001B[0m                        \u001B[1;36m0.719227\u001B[0m                       \u001B[1;36m0.926830\u001B[0m      \u001B[1;36m0.134771\u001B[0m  \n\u001B[1;36m7\u001B[0m                        \u001B[1;36m0.702445\u001B[0m                       \u001B[1;36m0.984798\u001B[0m      \u001B[1;36m0.024259\u001B[0m  \n\u001B[1;36m8\u001B[0m                        \u001B[1;36m0.625840\u001B[0m                       \u001B[1;36m0.751668\u001B[0m      \u001B[1;36m0.347709\u001B[0m  \n\u001B[1;36m9\u001B[0m                        \u001B[1;36m0.775974\u001B[0m                       \u001B[1;36m0.945004\u001B[0m      \u001B[1;36m0.126685\u001B[0m  \n\n\u001B[1m[\u001B[0m\u001B[1;36m10\u001B[0m rows x \u001B[1;36m487\u001B[0m columns\u001B[1m]\u001B[0m",
      "text/html": "<div>\n<style scoped>\n    .dataframe tbody tr th:only-of-type {\n        vertical-align: middle;\n    }\n\n    .dataframe tbody tr th {\n        vertical-align: top;\n    }\n\n    .dataframe thead th {\n        text-align: right;\n    }\n</style>\n<table border=\"1\" class=\"dataframe\">\n  <thead>\n    <tr style=\"text-align: right;\">\n      <th></th>\n      <th>CODE_GENDER</th>\n      <th>FLAG_OWN_CAR</th>\n      <th>FLAG_OWN_REALTY</th>\n      <th>CNT_CHILDREN</th>\n      <th>AMT_INCOME_TOTAL</th>\n      <th>AMT_CREDIT</th>\n      <th>AMT_ANNUITY</th>\n      <th>AMT_GOODS_PRICE</th>\n      <th>REGION_POPULATION_RELATIVE</th>\n      <th>DAYS_BIRTH</th>\n      <th>...</th>\n      <th>INSTAL_AMT_INSTALMENT_MEAN</th>\n      <th>INSTAL_AMT_INSTALMENT_SUM</th>\n      <th>INSTAL_AMT_PAYMENT_MIN</th>\n      <th>INSTAL_AMT_PAYMENT_MAX</th>\n      <th>INSTAL_AMT_PAYMENT_MEAN</th>\n      <th>INSTAL_AMT_PAYMENT_SUM</th>\n      <th>INSTAL_DAYS_ENTRY_PAYMENT_MAX</th>\n      <th>INSTAL_DAYS_ENTRY_PAYMENT_MEAN</th>\n      <th>INSTAL_DAYS_ENTRY_PAYMENT_SUM</th>\n      <th>INSTAL_COUNT</th>\n    </tr>\n  </thead>\n  <tbody>\n    <tr>\n      <th>0</th>\n      <td>0.0</td>\n      <td>0.0</td>\n      <td>0.0</td>\n      <td>0.000000</td>\n      <td>0.001512</td>\n      <td>0.090287</td>\n      <td>0.090032</td>\n      <td>0.077441</td>\n      <td>0.256321</td>\n      <td>0.888839</td>\n      <td>...</td>\n      <td>0.004615</td>\n      <td>0.009436</td>\n      <td>3.693928e-03</td>\n      <td>0.014078</td>\n      <td>0.004615</td>\n      <td>0.008600</td>\n      <td>0.984365</td>\n      <td>0.898168</td>\n      <td>0.990053</td>\n      <td>0.048518</td>\n    </tr>\n    <tr>\n      <th>1</th>\n      <td>1.0</td>\n      <td>0.0</td>\n      <td>1.0</td>\n      <td>0.000000</td>\n      <td>0.002089</td>\n      <td>0.311736</td>\n      <td>0.132924</td>\n      <td>0.271605</td>\n      <td>0.045016</td>\n      <td>0.477114</td>\n      <td>...</td>\n      <td>0.025854</td>\n      <td>0.069555</td>\n      <td>2.660304e-03</td>\n      <td>0.148704</td>\n      <td>0.025854</td>\n      <td>0.063393</td>\n      <td>0.823127</td>\n      <td>0.549439</td>\n      <td>0.942518</td>\n      <td>0.064690</td>\n    </tr>\n    <tr>\n      <th>2</th>\n      <td>0.0</td>\n      <td>1.0</td>\n      <td>0.0</td>\n      <td>0.000000</td>\n      <td>0.000358</td>\n      <td>0.022472</td>\n      <td>0.020025</td>\n      <td>0.023569</td>\n      <td>0.134897</td>\n      <td>0.348534</td>\n      <td>...</td>\n      <td>0.002833</td>\n      <td>0.000915</td>\n      <td>2.138973e-03</td>\n      <td>0.002804</td>\n      <td>0.002833</td>\n      <td>0.000834</td>\n      <td>0.763518</td>\n      <td>0.752716</td>\n      <td>0.996207</td>\n      <td>0.005391</td>\n    </tr>\n    <tr>\n      <th>3</th>\n      <td>1.0</td>\n      <td>0.0</td>\n      <td>0.0</td>\n      <td>0.000000</td>\n      <td>0.000935</td>\n      <td>0.066837</td>\n      <td>0.109477</td>\n      <td>0.063973</td>\n      <td>0.107023</td>\n      <td>0.350846</td>\n      <td>...</td>\n      <td>0.025133</td>\n      <td>0.043272</td>\n      <td>9.913480e-04</td>\n      <td>0.183425</td>\n      <td>0.025133</td>\n      <td>0.039439</td>\n      <td>0.996417</td>\n      <td>0.912443</td>\n      <td>0.992787</td>\n      <td>0.040431</td>\n    </tr>\n    <tr>\n      <th>4</th>\n      <td>0.0</td>\n      <td>0.0</td>\n      <td>0.0</td>\n      <td>0.000000</td>\n      <td>0.000819</td>\n      <td>0.116854</td>\n      <td>0.078975</td>\n      <td>0.117845</td>\n      <td>0.392880</td>\n      <td>0.298591</td>\n      <td>...</td>\n      <td>0.005057</td>\n      <td>0.035918</td>\n      <td>7.186806e-08</td>\n      <td>0.006013</td>\n      <td>0.004877</td>\n      <td>0.031567</td>\n      <td>0.995765</td>\n      <td>0.664523</td>\n      <td>0.886924</td>\n      <td>0.175202</td>\n    </tr>\n    <tr>\n      <th>5</th>\n      <td>0.0</td>\n      <td>0.0</td>\n      <td>0.0</td>\n      <td>0.000000</td>\n      <td>0.000627</td>\n      <td>0.111235</td>\n      <td>0.101018</td>\n      <td>0.103255</td>\n      <td>0.491595</td>\n      <td>0.467193</td>\n      <td>...</td>\n      <td>0.011061</td>\n      <td>0.041659</td>\n      <td>9.069749e-05</td>\n      <td>0.114601</td>\n      <td>0.010924</td>\n      <td>0.037499</td>\n      <td>0.973616</td>\n      <td>0.597523</td>\n      <td>0.928094</td>\n      <td>0.091644</td>\n    </tr>\n    <tr>\n      <th>6</th>\n      <td>1.0</td>\n      <td>1.0</td>\n      <td>0.0</td>\n      <td>0.052632</td>\n      <td>0.001243</td>\n      <td>0.378458</td>\n      <td>0.154774</td>\n      <td>0.337823</td>\n      <td>0.491595</td>\n      <td>0.645490</td>\n      <td>...</td>\n      <td>0.003820</td>\n      <td>0.020967</td>\n      <td>2.457600e-03</td>\n      <td>0.004598</td>\n      <td>0.003820</td>\n      <td>0.019109</td>\n      <td>0.981433</td>\n      <td>0.719227</td>\n      <td>0.926830</td>\n      <td>0.134771</td>\n    </tr>\n    <tr>\n      <th>7</th>\n      <td>0.0</td>\n      <td>1.0</td>\n      <td>0.0</td>\n      <td>0.000000</td>\n      <td>0.002858</td>\n      <td>0.370787</td>\n      <td>0.157792</td>\n      <td>0.371493</td>\n      <td>0.039215</td>\n      <td>0.359583</td>\n      <td>...</td>\n      <td>0.010960</td>\n      <td>0.011794</td>\n      <td>1.090853e-02</td>\n      <td>0.007282</td>\n      <td>0.010959</td>\n      <td>0.010749</td>\n      <td>0.748208</td>\n      <td>0.702445</td>\n      <td>0.984798</td>\n      <td>0.024259</td>\n    </tr>\n    <tr>\n      <th>8</th>\n      <td>1.0</td>\n      <td>0.0</td>\n      <td>0.0</td>\n      <td>0.000000</td>\n      <td>0.000742</td>\n      <td>0.243348</td>\n      <td>0.125623</td>\n      <td>0.217733</td>\n      <td>0.254009</td>\n      <td>0.289177</td>\n      <td>...</td>\n      <td>0.005420</td>\n      <td>0.075827</td>\n      <td>1.795444e-04</td>\n      <td>0.012325</td>\n      <td>0.004523</td>\n      <td>0.057671</td>\n      <td>0.988274</td>\n      <td>0.625840</td>\n      <td>0.751668</td>\n      <td>0.347709</td>\n    </tr>\n    <tr>\n      <th>9</th>\n      <td>0.0</td>\n      <td>0.0</td>\n      <td>0.0</td>\n      <td>0.000000</td>\n      <td>0.000935</td>\n      <td>0.089888</td>\n      <td>0.072675</td>\n      <td>0.090909</td>\n      <td>0.268617</td>\n      <td>0.606539</td>\n      <td>...</td>\n      <td>0.003827</td>\n      <td>0.019766</td>\n      <td>2.335712e-06</td>\n      <td>0.015561</td>\n      <td>0.004173</td>\n      <td>0.019644</td>\n      <td>0.951140</td>\n      <td>0.775974</td>\n      <td>0.945004</td>\n      <td>0.126685</td>\n    </tr>\n  </tbody>\n</table>\n<p>10 rows × 487 columns</p>\n</div>"
     },
     "execution_count": 24,
     "metadata": {},
     "output_type": "execute_result"
    }
   ],
   "source": [
    "df_query"
   ],
   "metadata": {
    "collapsed": false,
    "ExecuteTime": {
     "end_time": "2024-05-07T16:12:54.613825300Z",
     "start_time": "2024-05-07T16:12:54.411628800Z"
    }
   }
  },
  {
   "cell_type": "code",
   "execution_count": 27,
   "outputs": [
    {
     "data": {
      "text/plain": "",
      "text/html": "<pre style=\"white-space:pre;overflow-x:auto;line-height:normal;font-family:Menlo,'DejaVu Sans Mono',consolas,'Courier New',monospace\"></pre>\n"
     },
     "metadata": {},
     "output_type": "display_data"
    },
    {
     "data": {
      "text/plain": "\n   CODE_GENDER  FLAG_OWN_CAR  FLAG_OWN_REALTY  CNT_CHILDREN  AMT_INCOME_TOTAL  \\\n\u001B[1;36m0\u001B[0m          \u001B[1;36m0.0\u001B[0m           \u001B[1;36m0.0\u001B[0m              \u001B[1;36m0.0\u001B[0m      \u001B[1;36m0.000000\u001B[0m          \u001B[1;36m0.001512\u001B[0m   \n\u001B[1;36m1\u001B[0m          \u001B[1;36m1.0\u001B[0m           \u001B[1;36m0.0\u001B[0m              \u001B[1;36m1.0\u001B[0m      \u001B[1;36m0.000000\u001B[0m          \u001B[1;36m0.002089\u001B[0m   \n\u001B[1;36m2\u001B[0m          \u001B[1;36m0.0\u001B[0m           \u001B[1;36m1.0\u001B[0m              \u001B[1;36m0.0\u001B[0m      \u001B[1;36m0.000000\u001B[0m          \u001B[1;36m0.000358\u001B[0m   \n\u001B[1;36m3\u001B[0m          \u001B[1;36m1.0\u001B[0m           \u001B[1;36m0.0\u001B[0m              \u001B[1;36m0.0\u001B[0m      \u001B[1;36m0.000000\u001B[0m          \u001B[1;36m0.000935\u001B[0m   \n\u001B[1;36m4\u001B[0m          \u001B[1;36m0.0\u001B[0m           \u001B[1;36m0.0\u001B[0m              \u001B[1;36m0.0\u001B[0m      \u001B[1;36m0.000000\u001B[0m          \u001B[1;36m0.000819\u001B[0m   \n\u001B[1;36m5\u001B[0m          \u001B[1;36m0.0\u001B[0m           \u001B[1;36m0.0\u001B[0m              \u001B[1;36m0.0\u001B[0m      \u001B[1;36m0.000000\u001B[0m          \u001B[1;36m0.000627\u001B[0m   \n\u001B[1;36m6\u001B[0m          \u001B[1;36m1.0\u001B[0m           \u001B[1;36m1.0\u001B[0m              \u001B[1;36m0.0\u001B[0m      \u001B[1;36m0.052632\u001B[0m          \u001B[1;36m0.001243\u001B[0m   \n\u001B[1;36m7\u001B[0m          \u001B[1;36m0.0\u001B[0m           \u001B[1;36m1.0\u001B[0m              \u001B[1;36m0.0\u001B[0m      \u001B[1;36m0.000000\u001B[0m          \u001B[1;36m0.002858\u001B[0m   \n\u001B[1;36m8\u001B[0m          \u001B[1;36m1.0\u001B[0m           \u001B[1;36m0.0\u001B[0m              \u001B[1;36m0.0\u001B[0m      \u001B[1;36m0.000000\u001B[0m          \u001B[1;36m0.000742\u001B[0m   \n\u001B[1;36m9\u001B[0m          \u001B[1;36m0.0\u001B[0m           \u001B[1;36m0.0\u001B[0m              \u001B[1;36m0.0\u001B[0m      \u001B[1;36m0.000000\u001B[0m          \u001B[1;36m0.000935\u001B[0m   \n\n   AMT_CREDIT  AMT_ANNUITY  AMT_GOODS_PRICE  REGION_POPULATION_RELATIVE  \\\n\u001B[1;36m0\u001B[0m    \u001B[1;36m0.090287\u001B[0m     \u001B[1;36m0.090032\u001B[0m         \u001B[1;36m0.077441\u001B[0m                    \u001B[1;36m0.256321\u001B[0m   \n\u001B[1;36m1\u001B[0m    \u001B[1;36m0.311736\u001B[0m     \u001B[1;36m0.132924\u001B[0m         \u001B[1;36m0.271605\u001B[0m                    \u001B[1;36m0.045016\u001B[0m   \n\u001B[1;36m2\u001B[0m    \u001B[1;36m0.022472\u001B[0m     \u001B[1;36m0.020025\u001B[0m         \u001B[1;36m0.023569\u001B[0m                    \u001B[1;36m0.134897\u001B[0m   \n\u001B[1;36m3\u001B[0m    \u001B[1;36m0.066837\u001B[0m     \u001B[1;36m0.109477\u001B[0m         \u001B[1;36m0.063973\u001B[0m                    \u001B[1;36m0.107023\u001B[0m   \n\u001B[1;36m4\u001B[0m    \u001B[1;36m0.116854\u001B[0m     \u001B[1;36m0.078975\u001B[0m         \u001B[1;36m0.117845\u001B[0m                    \u001B[1;36m0.392880\u001B[0m   \n\u001B[1;36m5\u001B[0m    \u001B[1;36m0.111235\u001B[0m     \u001B[1;36m0.101018\u001B[0m         \u001B[1;36m0.103255\u001B[0m                    \u001B[1;36m0.491595\u001B[0m   \n\u001B[1;36m6\u001B[0m    \u001B[1;36m0.378458\u001B[0m     \u001B[1;36m0.154774\u001B[0m         \u001B[1;36m0.337823\u001B[0m                    \u001B[1;36m0.491595\u001B[0m   \n\u001B[1;36m7\u001B[0m    \u001B[1;36m0.370787\u001B[0m     \u001B[1;36m0.157792\u001B[0m         \u001B[1;36m0.371493\u001B[0m                    \u001B[1;36m0.039215\u001B[0m   \n\u001B[1;36m8\u001B[0m    \u001B[1;36m0.243348\u001B[0m     \u001B[1;36m0.125623\u001B[0m         \u001B[1;36m0.217733\u001B[0m                    \u001B[1;36m0.254009\u001B[0m   \n\u001B[1;36m9\u001B[0m    \u001B[1;36m0.089888\u001B[0m     \u001B[1;36m0.072675\u001B[0m         \u001B[1;36m0.090909\u001B[0m                    \u001B[1;36m0.268617\u001B[0m   \n\n   DAYS_BIRTH  \u001B[33m...\u001B[0m  INSTAL_AMT_INSTALMENT_MEAN  INSTAL_AMT_INSTALMENT_SUM  \\\n\u001B[1;36m0\u001B[0m    \u001B[1;36m0.888839\u001B[0m  \u001B[33m...\u001B[0m                    \u001B[1;36m0.004615\u001B[0m                   \u001B[1;36m0.009436\u001B[0m   \n\u001B[1;36m1\u001B[0m    \u001B[1;36m0.477114\u001B[0m  \u001B[33m...\u001B[0m                    \u001B[1;36m0.025854\u001B[0m                   \u001B[1;36m0.069555\u001B[0m   \n\u001B[1;36m2\u001B[0m    \u001B[1;36m0.348534\u001B[0m  \u001B[33m...\u001B[0m                    \u001B[1;36m0.002833\u001B[0m                   \u001B[1;36m0.000915\u001B[0m   \n\u001B[1;36m3\u001B[0m    \u001B[1;36m0.350846\u001B[0m  \u001B[33m...\u001B[0m                    \u001B[1;36m0.025133\u001B[0m                   \u001B[1;36m0.043272\u001B[0m   \n\u001B[1;36m4\u001B[0m    \u001B[1;36m0.298591\u001B[0m  \u001B[33m...\u001B[0m                    \u001B[1;36m0.005057\u001B[0m                   \u001B[1;36m0.035918\u001B[0m   \n\u001B[1;36m5\u001B[0m    \u001B[1;36m0.467193\u001B[0m  \u001B[33m...\u001B[0m                    \u001B[1;36m0.011061\u001B[0m                   \u001B[1;36m0.041659\u001B[0m   \n\u001B[1;36m6\u001B[0m    \u001B[1;36m0.645490\u001B[0m  \u001B[33m...\u001B[0m                    \u001B[1;36m0.003820\u001B[0m                   \u001B[1;36m0.020967\u001B[0m   \n\u001B[1;36m7\u001B[0m    \u001B[1;36m0.359583\u001B[0m  \u001B[33m...\u001B[0m                    \u001B[1;36m0.010960\u001B[0m                   \u001B[1;36m0.011794\u001B[0m   \n\u001B[1;36m8\u001B[0m    \u001B[1;36m0.289177\u001B[0m  \u001B[33m...\u001B[0m                    \u001B[1;36m0.005420\u001B[0m                   \u001B[1;36m0.075827\u001B[0m   \n\u001B[1;36m9\u001B[0m    \u001B[1;36m0.606539\u001B[0m  \u001B[33m...\u001B[0m                    \u001B[1;36m0.003827\u001B[0m                   \u001B[1;36m0.019766\u001B[0m   \n\n   INSTAL_AMT_PAYMENT_MIN  INSTAL_AMT_PAYMENT_MAX  INSTAL_AMT_PAYMENT_MEAN  \\\n\u001B[1;36m0\u001B[0m            \u001B[1;36m3.693928e-03\u001B[0m                \u001B[1;36m0.014078\u001B[0m                 \u001B[1;36m0.004615\u001B[0m   \n\u001B[1;36m1\u001B[0m            \u001B[1;36m2.660304e-03\u001B[0m                \u001B[1;36m0.148704\u001B[0m                 \u001B[1;36m0.025854\u001B[0m   \n\u001B[1;36m2\u001B[0m            \u001B[1;36m2.138973e-03\u001B[0m                \u001B[1;36m0.002804\u001B[0m                 \u001B[1;36m0.002833\u001B[0m   \n\u001B[1;36m3\u001B[0m            \u001B[1;36m9.913480e-04\u001B[0m                \u001B[1;36m0.183425\u001B[0m                 \u001B[1;36m0.025133\u001B[0m   \n\u001B[1;36m4\u001B[0m            \u001B[1;36m7.186806e-08\u001B[0m                \u001B[1;36m0.006013\u001B[0m                 \u001B[1;36m0.004877\u001B[0m   \n\u001B[1;36m5\u001B[0m            \u001B[1;36m9.069749e-05\u001B[0m                \u001B[1;36m0.114601\u001B[0m                 \u001B[1;36m0.010924\u001B[0m   \n\u001B[1;36m6\u001B[0m            \u001B[1;36m2.457600e-03\u001B[0m                \u001B[1;36m0.004598\u001B[0m                 \u001B[1;36m0.003820\u001B[0m   \n\u001B[1;36m7\u001B[0m            \u001B[1;36m1.090853e-02\u001B[0m                \u001B[1;36m0.007282\u001B[0m                 \u001B[1;36m0.010959\u001B[0m   \n\u001B[1;36m8\u001B[0m            \u001B[1;36m1.795444e-04\u001B[0m                \u001B[1;36m0.012325\u001B[0m                 \u001B[1;36m0.004523\u001B[0m   \n\u001B[1;36m9\u001B[0m            \u001B[1;36m2.335712e-06\u001B[0m                \u001B[1;36m0.015561\u001B[0m                 \u001B[1;36m0.004173\u001B[0m   \n\n   INSTAL_AMT_PAYMENT_SUM  INSTAL_DAYS_ENTRY_PAYMENT_MAX  \\\n\u001B[1;36m0\u001B[0m                \u001B[1;36m0.008600\u001B[0m                       \u001B[1;36m0.984365\u001B[0m   \n\u001B[1;36m1\u001B[0m                \u001B[1;36m0.063393\u001B[0m                       \u001B[1;36m0.823127\u001B[0m   \n\u001B[1;36m2\u001B[0m                \u001B[1;36m0.000834\u001B[0m                       \u001B[1;36m0.763518\u001B[0m   \n\u001B[1;36m3\u001B[0m                \u001B[1;36m0.039439\u001B[0m                       \u001B[1;36m0.996417\u001B[0m   \n\u001B[1;36m4\u001B[0m                \u001B[1;36m0.031567\u001B[0m                       \u001B[1;36m0.995765\u001B[0m   \n\u001B[1;36m5\u001B[0m                \u001B[1;36m0.037499\u001B[0m                       \u001B[1;36m0.973616\u001B[0m   \n\u001B[1;36m6\u001B[0m                \u001B[1;36m0.019109\u001B[0m                       \u001B[1;36m0.981433\u001B[0m   \n\u001B[1;36m7\u001B[0m                \u001B[1;36m0.010749\u001B[0m                       \u001B[1;36m0.748208\u001B[0m   \n\u001B[1;36m8\u001B[0m                \u001B[1;36m0.057671\u001B[0m                       \u001B[1;36m0.988274\u001B[0m   \n\u001B[1;36m9\u001B[0m                \u001B[1;36m0.019644\u001B[0m                       \u001B[1;36m0.951140\u001B[0m   \n\n   INSTAL_DAYS_ENTRY_PAYMENT_MEAN  INSTAL_DAYS_ENTRY_PAYMENT_SUM  INSTAL_COUNT  \n\u001B[1;36m0\u001B[0m                        \u001B[1;36m0.898168\u001B[0m                       \u001B[1;36m0.990053\u001B[0m      \u001B[1;36m0.048518\u001B[0m  \n\u001B[1;36m1\u001B[0m                        \u001B[1;36m0.549439\u001B[0m                       \u001B[1;36m0.942518\u001B[0m      \u001B[1;36m0.064690\u001B[0m  \n\u001B[1;36m2\u001B[0m                        \u001B[1;36m0.752716\u001B[0m                       \u001B[1;36m0.996207\u001B[0m      \u001B[1;36m0.005391\u001B[0m  \n\u001B[1;36m3\u001B[0m                        \u001B[1;36m0.912443\u001B[0m                       \u001B[1;36m0.992787\u001B[0m      \u001B[1;36m0.040431\u001B[0m  \n\u001B[1;36m4\u001B[0m                        \u001B[1;36m0.664523\u001B[0m                       \u001B[1;36m0.886924\u001B[0m      \u001B[1;36m0.175202\u001B[0m  \n\u001B[1;36m5\u001B[0m                        \u001B[1;36m0.597523\u001B[0m                       \u001B[1;36m0.928094\u001B[0m      \u001B[1;36m0.091644\u001B[0m  \n\u001B[1;36m6\u001B[0m                        \u001B[1;36m0.719227\u001B[0m                       \u001B[1;36m0.926830\u001B[0m      \u001B[1;36m0.134771\u001B[0m  \n\u001B[1;36m7\u001B[0m                        \u001B[1;36m0.702445\u001B[0m                       \u001B[1;36m0.984798\u001B[0m      \u001B[1;36m0.024259\u001B[0m  \n\u001B[1;36m8\u001B[0m                        \u001B[1;36m0.625840\u001B[0m                       \u001B[1;36m0.751668\u001B[0m      \u001B[1;36m0.347709\u001B[0m  \n\u001B[1;36m9\u001B[0m                        \u001B[1;36m0.775974\u001B[0m                       \u001B[1;36m0.945004\u001B[0m      \u001B[1;36m0.126685\u001B[0m  \n\n\u001B[1m[\u001B[0m\u001B[1;36m10\u001B[0m rows x \u001B[1;36m487\u001B[0m columns\u001B[1m]\u001B[0m",
      "text/html": "<div>\n<style scoped>\n    .dataframe tbody tr th:only-of-type {\n        vertical-align: middle;\n    }\n\n    .dataframe tbody tr th {\n        vertical-align: top;\n    }\n\n    .dataframe thead th {\n        text-align: right;\n    }\n</style>\n<table border=\"1\" class=\"dataframe\">\n  <thead>\n    <tr style=\"text-align: right;\">\n      <th></th>\n      <th>CODE_GENDER</th>\n      <th>FLAG_OWN_CAR</th>\n      <th>FLAG_OWN_REALTY</th>\n      <th>CNT_CHILDREN</th>\n      <th>AMT_INCOME_TOTAL</th>\n      <th>AMT_CREDIT</th>\n      <th>AMT_ANNUITY</th>\n      <th>AMT_GOODS_PRICE</th>\n      <th>REGION_POPULATION_RELATIVE</th>\n      <th>DAYS_BIRTH</th>\n      <th>...</th>\n      <th>INSTAL_AMT_INSTALMENT_MEAN</th>\n      <th>INSTAL_AMT_INSTALMENT_SUM</th>\n      <th>INSTAL_AMT_PAYMENT_MIN</th>\n      <th>INSTAL_AMT_PAYMENT_MAX</th>\n      <th>INSTAL_AMT_PAYMENT_MEAN</th>\n      <th>INSTAL_AMT_PAYMENT_SUM</th>\n      <th>INSTAL_DAYS_ENTRY_PAYMENT_MAX</th>\n      <th>INSTAL_DAYS_ENTRY_PAYMENT_MEAN</th>\n      <th>INSTAL_DAYS_ENTRY_PAYMENT_SUM</th>\n      <th>INSTAL_COUNT</th>\n    </tr>\n  </thead>\n  <tbody>\n    <tr>\n      <th>0</th>\n      <td>0.0</td>\n      <td>0.0</td>\n      <td>0.0</td>\n      <td>0.000000</td>\n      <td>0.001512</td>\n      <td>0.090287</td>\n      <td>0.090032</td>\n      <td>0.077441</td>\n      <td>0.256321</td>\n      <td>0.888839</td>\n      <td>...</td>\n      <td>0.004615</td>\n      <td>0.009436</td>\n      <td>3.693928e-03</td>\n      <td>0.014078</td>\n      <td>0.004615</td>\n      <td>0.008600</td>\n      <td>0.984365</td>\n      <td>0.898168</td>\n      <td>0.990053</td>\n      <td>0.048518</td>\n    </tr>\n    <tr>\n      <th>1</th>\n      <td>1.0</td>\n      <td>0.0</td>\n      <td>1.0</td>\n      <td>0.000000</td>\n      <td>0.002089</td>\n      <td>0.311736</td>\n      <td>0.132924</td>\n      <td>0.271605</td>\n      <td>0.045016</td>\n      <td>0.477114</td>\n      <td>...</td>\n      <td>0.025854</td>\n      <td>0.069555</td>\n      <td>2.660304e-03</td>\n      <td>0.148704</td>\n      <td>0.025854</td>\n      <td>0.063393</td>\n      <td>0.823127</td>\n      <td>0.549439</td>\n      <td>0.942518</td>\n      <td>0.064690</td>\n    </tr>\n    <tr>\n      <th>2</th>\n      <td>0.0</td>\n      <td>1.0</td>\n      <td>0.0</td>\n      <td>0.000000</td>\n      <td>0.000358</td>\n      <td>0.022472</td>\n      <td>0.020025</td>\n      <td>0.023569</td>\n      <td>0.134897</td>\n      <td>0.348534</td>\n      <td>...</td>\n      <td>0.002833</td>\n      <td>0.000915</td>\n      <td>2.138973e-03</td>\n      <td>0.002804</td>\n      <td>0.002833</td>\n      <td>0.000834</td>\n      <td>0.763518</td>\n      <td>0.752716</td>\n      <td>0.996207</td>\n      <td>0.005391</td>\n    </tr>\n    <tr>\n      <th>3</th>\n      <td>1.0</td>\n      <td>0.0</td>\n      <td>0.0</td>\n      <td>0.000000</td>\n      <td>0.000935</td>\n      <td>0.066837</td>\n      <td>0.109477</td>\n      <td>0.063973</td>\n      <td>0.107023</td>\n      <td>0.350846</td>\n      <td>...</td>\n      <td>0.025133</td>\n      <td>0.043272</td>\n      <td>9.913480e-04</td>\n      <td>0.183425</td>\n      <td>0.025133</td>\n      <td>0.039439</td>\n      <td>0.996417</td>\n      <td>0.912443</td>\n      <td>0.992787</td>\n      <td>0.040431</td>\n    </tr>\n    <tr>\n      <th>4</th>\n      <td>0.0</td>\n      <td>0.0</td>\n      <td>0.0</td>\n      <td>0.000000</td>\n      <td>0.000819</td>\n      <td>0.116854</td>\n      <td>0.078975</td>\n      <td>0.117845</td>\n      <td>0.392880</td>\n      <td>0.298591</td>\n      <td>...</td>\n      <td>0.005057</td>\n      <td>0.035918</td>\n      <td>7.186806e-08</td>\n      <td>0.006013</td>\n      <td>0.004877</td>\n      <td>0.031567</td>\n      <td>0.995765</td>\n      <td>0.664523</td>\n      <td>0.886924</td>\n      <td>0.175202</td>\n    </tr>\n    <tr>\n      <th>5</th>\n      <td>0.0</td>\n      <td>0.0</td>\n      <td>0.0</td>\n      <td>0.000000</td>\n      <td>0.000627</td>\n      <td>0.111235</td>\n      <td>0.101018</td>\n      <td>0.103255</td>\n      <td>0.491595</td>\n      <td>0.467193</td>\n      <td>...</td>\n      <td>0.011061</td>\n      <td>0.041659</td>\n      <td>9.069749e-05</td>\n      <td>0.114601</td>\n      <td>0.010924</td>\n      <td>0.037499</td>\n      <td>0.973616</td>\n      <td>0.597523</td>\n      <td>0.928094</td>\n      <td>0.091644</td>\n    </tr>\n    <tr>\n      <th>6</th>\n      <td>1.0</td>\n      <td>1.0</td>\n      <td>0.0</td>\n      <td>0.052632</td>\n      <td>0.001243</td>\n      <td>0.378458</td>\n      <td>0.154774</td>\n      <td>0.337823</td>\n      <td>0.491595</td>\n      <td>0.645490</td>\n      <td>...</td>\n      <td>0.003820</td>\n      <td>0.020967</td>\n      <td>2.457600e-03</td>\n      <td>0.004598</td>\n      <td>0.003820</td>\n      <td>0.019109</td>\n      <td>0.981433</td>\n      <td>0.719227</td>\n      <td>0.926830</td>\n      <td>0.134771</td>\n    </tr>\n    <tr>\n      <th>7</th>\n      <td>0.0</td>\n      <td>1.0</td>\n      <td>0.0</td>\n      <td>0.000000</td>\n      <td>0.002858</td>\n      <td>0.370787</td>\n      <td>0.157792</td>\n      <td>0.371493</td>\n      <td>0.039215</td>\n      <td>0.359583</td>\n      <td>...</td>\n      <td>0.010960</td>\n      <td>0.011794</td>\n      <td>1.090853e-02</td>\n      <td>0.007282</td>\n      <td>0.010959</td>\n      <td>0.010749</td>\n      <td>0.748208</td>\n      <td>0.702445</td>\n      <td>0.984798</td>\n      <td>0.024259</td>\n    </tr>\n    <tr>\n      <th>8</th>\n      <td>1.0</td>\n      <td>0.0</td>\n      <td>0.0</td>\n      <td>0.000000</td>\n      <td>0.000742</td>\n      <td>0.243348</td>\n      <td>0.125623</td>\n      <td>0.217733</td>\n      <td>0.254009</td>\n      <td>0.289177</td>\n      <td>...</td>\n      <td>0.005420</td>\n      <td>0.075827</td>\n      <td>1.795444e-04</td>\n      <td>0.012325</td>\n      <td>0.004523</td>\n      <td>0.057671</td>\n      <td>0.988274</td>\n      <td>0.625840</td>\n      <td>0.751668</td>\n      <td>0.347709</td>\n    </tr>\n    <tr>\n      <th>9</th>\n      <td>0.0</td>\n      <td>0.0</td>\n      <td>0.0</td>\n      <td>0.000000</td>\n      <td>0.000935</td>\n      <td>0.089888</td>\n      <td>0.072675</td>\n      <td>0.090909</td>\n      <td>0.268617</td>\n      <td>0.606539</td>\n      <td>...</td>\n      <td>0.003827</td>\n      <td>0.019766</td>\n      <td>2.335712e-06</td>\n      <td>0.015561</td>\n      <td>0.004173</td>\n      <td>0.019644</td>\n      <td>0.951140</td>\n      <td>0.775974</td>\n      <td>0.945004</td>\n      <td>0.126685</td>\n    </tr>\n  </tbody>\n</table>\n<p>10 rows × 487 columns</p>\n</div>"
     },
     "execution_count": 27,
     "metadata": {},
     "output_type": "execute_result"
    }
   ],
   "source": [
    "df_query"
   ],
   "metadata": {
    "collapsed": false,
    "ExecuteTime": {
     "end_time": "2024-05-07T16:14:53.388069900Z",
     "start_time": "2024-05-07T16:14:53.160987300Z"
    }
   }
  },
  {
   "cell_type": "code",
   "execution_count": 31,
   "outputs": [],
   "source": [
    "import requests\n",
    "import pandas as pd\n",
    "def request_prediction(model_uri, data):\n",
    "    # Convert DataFrame to a list of dictionaries (records format)\n",
    "    data_records = data.to_dict(orient='records')\n",
    "    \n",
    "    # Create the input payload\n",
    "    data = {'dataframe_records': data_records}\n",
    "    # Set up the request headers and URL\n",
    "    headers = {'Content-Type': 'application/json'}\n",
    "    url = \"http://localhost:5000/invocations\"\n",
    "    \n",
    "    # Send the POST request\n",
    "    response = requests.post(url, headers=headers, json=data)\n",
    "    \n",
    "    # Check the response\n",
    "    if response.status_code == 200:\n",
    "        predictions = response.json()\n",
    "        return predictions\n",
    "    else:\n",
    "        return print(\"Error:\", response.status_code, response.text)\n"
   ],
   "metadata": {
    "collapsed": false,
    "ExecuteTime": {
     "end_time": "2024-05-07T16:17:00.420283600Z",
     "start_time": "2024-05-07T16:17:00.222789100Z"
    }
   }
  },
  {
   "cell_type": "code",
   "execution_count": 33,
   "outputs": [
    {
     "data": {
      "text/plain": "",
      "text/html": "<pre style=\"white-space:pre;overflow-x:auto;line-height:normal;font-family:Menlo,'DejaVu Sans Mono',consolas,'Courier New',monospace\"></pre>\n"
     },
     "metadata": {},
     "output_type": "display_data"
    },
    {
     "data": {
      "text/plain": "\n\u001B[1m{\u001B[0m\n    \u001B[32m'predictions'\u001B[0m: \u001B[1m[\u001B[0m\n        \u001B[1m[\u001B[0m\u001B[1;36m0.8856064814516993\u001B[0m, \u001B[1;36m0.11439351854830068\u001B[0m\u001B[1m]\u001B[0m,\n        \u001B[1m[\u001B[0m\u001B[1;36m0.9601001795927657\u001B[0m, \u001B[1;36m0.039899820407234325\u001B[0m\u001B[1m]\u001B[0m,\n        \u001B[1m[\u001B[0m\u001B[1;36m0.920291983594061\u001B[0m, \u001B[1;36m0.0797080164059391\u001B[0m\u001B[1m]\u001B[0m,\n        \u001B[1m[\u001B[0m\u001B[1;36m0.8936036603311639\u001B[0m, \u001B[1;36m0.10639633966883615\u001B[0m\u001B[1m]\u001B[0m,\n        \u001B[1m[\u001B[0m\u001B[1;36m0.9103646889350232\u001B[0m, \u001B[1;36m0.08963531106497674\u001B[0m\u001B[1m]\u001B[0m,\n        \u001B[1m[\u001B[0m\u001B[1;36m0.9178798161410359\u001B[0m, \u001B[1;36m0.08212018385896416\u001B[0m\u001B[1m]\u001B[0m,\n        \u001B[1m[\u001B[0m\u001B[1;36m0.9561156790957355\u001B[0m, \u001B[1;36m0.04388432090426451\u001B[0m\u001B[1m]\u001B[0m,\n        \u001B[1m[\u001B[0m\u001B[1;36m0.9379104137143044\u001B[0m, \u001B[1;36m0.06208958628569562\u001B[0m\u001B[1m]\u001B[0m,\n        \u001B[1m[\u001B[0m\u001B[1;36m0.9338278547840814\u001B[0m, \u001B[1;36m0.0661721452159186\u001B[0m\u001B[1m]\u001B[0m,\n        \u001B[1m[\u001B[0m\u001B[1;36m0.9034383238781599\u001B[0m, \u001B[1;36m0.09656167612184006\u001B[0m\u001B[1m]\u001B[0m\n    \u001B[1m]\u001B[0m\n\u001B[1m}\u001B[0m"
     },
     "execution_count": 33,
     "metadata": {},
     "output_type": "execute_result"
    }
   ],
   "source": [
    "request_prediction(\"http://\", df_query)"
   ],
   "metadata": {
    "collapsed": false,
    "ExecuteTime": {
     "end_time": "2024-05-07T16:21:08.488201700Z",
     "start_time": "2024-05-07T16:21:08.166576200Z"
    }
   }
  },
  {
   "cell_type": "code",
   "execution_count": 35,
   "outputs": [
    {
     "data": {
      "text/plain": "",
      "text/html": "<pre style=\"white-space:pre;overflow-x:auto;line-height:normal;font-family:Menlo,'DejaVu Sans Mono',consolas,'Courier New',monospace\"></pre>\n"
     },
     "metadata": {},
     "output_type": "display_data"
    },
    {
     "data": {
      "text/plain": "\n     SK_ID_CURR  TARGET  CODE_GENDER  FLAG_OWN_CAR  FLAG_OWN_REALTY  \\\n\u001B[1;36m0\u001B[0m        \u001B[1;36m100002\u001B[0m       \u001B[1;36m1\u001B[0m          \u001B[1;36m0.0\u001B[0m           \u001B[1;36m0.0\u001B[0m              \u001B[1;36m0.0\u001B[0m   \n\u001B[1;36m26\u001B[0m       \u001B[1;36m100031\u001B[0m       \u001B[1;36m1\u001B[0m          \u001B[1;36m1.0\u001B[0m           \u001B[1;36m0.0\u001B[0m              \u001B[1;36m0.0\u001B[0m   \n\u001B[1;36m40\u001B[0m       \u001B[1;36m100047\u001B[0m       \u001B[1;36m1\u001B[0m          \u001B[1;36m0.0\u001B[0m           \u001B[1;36m0.0\u001B[0m              \u001B[1;36m0.0\u001B[0m   \n\u001B[1;36m42\u001B[0m       \u001B[1;36m100049\u001B[0m       \u001B[1;36m1\u001B[0m          \u001B[1;36m1.0\u001B[0m           \u001B[1;36m0.0\u001B[0m              \u001B[1;36m1.0\u001B[0m   \n\u001B[1;36m81\u001B[0m       \u001B[1;36m100096\u001B[0m       \u001B[1;36m1\u001B[0m          \u001B[1;36m1.0\u001B[0m           \u001B[1;36m0.0\u001B[0m              \u001B[1;36m0.0\u001B[0m   \n\u001B[1;36m94\u001B[0m       \u001B[1;36m100112\u001B[0m       \u001B[1;36m1\u001B[0m          \u001B[1;36m0.0\u001B[0m           \u001B[1;36m1.0\u001B[0m              \u001B[1;36m0.0\u001B[0m   \n\u001B[1;36m110\u001B[0m      \u001B[1;36m100130\u001B[0m       \u001B[1;36m1\u001B[0m          \u001B[1;36m1.0\u001B[0m           \u001B[1;36m0.0\u001B[0m              \u001B[1;36m0.0\u001B[0m   \n\u001B[1;36m138\u001B[0m      \u001B[1;36m100160\u001B[0m       \u001B[1;36m1\u001B[0m          \u001B[1;36m0.0\u001B[0m           \u001B[1;36m0.0\u001B[0m              \u001B[1;36m0.0\u001B[0m   \n\u001B[1;36m154\u001B[0m      \u001B[1;36m100181\u001B[0m       \u001B[1;36m1\u001B[0m          \u001B[1;36m1.0\u001B[0m           \u001B[1;36m0.0\u001B[0m              \u001B[1;36m0.0\u001B[0m   \n\u001B[1;36m163\u001B[0m      \u001B[1;36m100192\u001B[0m       \u001B[1;36m1\u001B[0m          \u001B[1;36m1.0\u001B[0m           \u001B[1;36m0.0\u001B[0m              \u001B[1;36m1.0\u001B[0m   \n\n     CNT_CHILDREN  AMT_INCOME_TOTAL  AMT_CREDIT  AMT_ANNUITY  AMT_GOODS_PRICE  \\\n\u001B[1;36m0\u001B[0m        \u001B[1;36m0.000000\u001B[0m          \u001B[1;36m0.001512\u001B[0m    \u001B[1;36m0.090287\u001B[0m     \u001B[1;36m0.090032\u001B[0m         \u001B[1;36m0.077441\u001B[0m   \n\u001B[1;36m26\u001B[0m       \u001B[1;36m0.000000\u001B[0m          \u001B[1;36m0.000742\u001B[0m    \u001B[1;36m0.233456\u001B[0m     \u001B[1;36m0.099298\u001B[0m         \u001B[1;36m0.164983\u001B[0m   \n\u001B[1;36m40\u001B[0m       \u001B[1;36m0.000000\u001B[0m          \u001B[1;36m0.001512\u001B[0m    \u001B[1;36m0.286787\u001B[0m     \u001B[1;36m0.130309\u001B[0m         \u001B[1;36m0.203143\u001B[0m   \n\u001B[1;36m42\u001B[0m       \u001B[1;36m0.000000\u001B[0m          \u001B[1;36m0.000935\u001B[0m    \u001B[1;36m0.060892\u001B[0m     \u001B[1;36m0.057108\u001B[0m         \u001B[1;36m0.049383\u001B[0m   \n\u001B[1;36m81\u001B[0m       \u001B[1;36m0.000000\u001B[0m          \u001B[1;36m0.000473\u001B[0m    \u001B[1;36m0.051685\u001B[0m     \u001B[1;36m0.050614\u001B[0m         \u001B[1;36m0.052750\u001B[0m   \n\u001B[1;36m94\u001B[0m       \u001B[1;36m0.000000\u001B[0m          \u001B[1;36m0.002474\u001B[0m    \u001B[1;36m0.226831\u001B[0m     \u001B[1;36m0.243717\u001B[0m         \u001B[1;36m0.214366\u001B[0m   \n\u001B[1;36m110\u001B[0m      \u001B[1;36m0.052632\u001B[0m          \u001B[1;36m0.001127\u001B[0m    \u001B[1;36m0.169537\u001B[0m     \u001B[1;36m0.113829\u001B[0m         \u001B[1;36m0.135802\u001B[0m   \n\u001B[1;36m138\u001B[0m      \u001B[1;36m0.000000\u001B[0m          \u001B[1;36m0.002281\u001B[0m    \u001B[1;36m0.157303\u001B[0m     \u001B[1;36m0.137013\u001B[0m         \u001B[1;36m0.158249\u001B[0m   \n\u001B[1;36m154\u001B[0m      \u001B[1;36m0.000000\u001B[0m          \u001B[1;36m0.001127\u001B[0m    \u001B[1;36m0.050092\u001B[0m     \u001B[1;36m0.043103\u001B[0m         \u001B[1;36m0.031425\u001B[0m   \n\u001B[1;36m163\u001B[0m      \u001B[1;36m0.000000\u001B[0m          \u001B[1;36m0.000737\u001B[0m    \u001B[1;36m0.044944\u001B[0m     \u001B[1;36m0.075746\u001B[0m         \u001B[1;36m0.046016\u001B[0m   \n\n     \u001B[33m...\u001B[0m  INSTAL_AMT_INSTALMENT_MEAN  INSTAL_AMT_INSTALMENT_SUM  \\\n\u001B[1;36m0\u001B[0m    \u001B[33m...\u001B[0m                    \u001B[1;36m0.004615\u001B[0m                   \u001B[1;36m0.009436\u001B[0m   \n\u001B[1;36m26\u001B[0m   \u001B[33m...\u001B[0m                    \u001B[1;36m0.005020\u001B[0m                   \u001B[1;36m0.014108\u001B[0m   \n\u001B[1;36m40\u001B[0m   \u001B[33m...\u001B[0m                    \u001B[1;36m0.005361\u001B[0m                   \u001B[1;36m0.011538\u001B[0m   \n\u001B[1;36m42\u001B[0m   \u001B[33m...\u001B[0m                    \u001B[1;36m0.002021\u001B[0m                   \u001B[1;36m0.012616\u001B[0m   \n\u001B[1;36m81\u001B[0m   \u001B[33m...\u001B[0m                    \u001B[1;36m0.005020\u001B[0m                   \u001B[1;36m0.014108\u001B[0m   \n\u001B[1;36m94\u001B[0m   \u001B[33m...\u001B[0m                    \u001B[1;36m0.006282\u001B[0m                   \u001B[1;36m0.013520\u001B[0m   \n\u001B[1;36m110\u001B[0m  \u001B[33m...\u001B[0m                    \u001B[1;36m0.006810\u001B[0m                   \u001B[1;36m0.009526\u001B[0m   \n\u001B[1;36m138\u001B[0m  \u001B[33m...\u001B[0m                    \u001B[1;36m0.005020\u001B[0m                   \u001B[1;36m0.014108\u001B[0m   \n\u001B[1;36m154\u001B[0m  \u001B[33m...\u001B[0m                    \u001B[1;36m0.004630\u001B[0m                   \u001B[1;36m0.021422\u001B[0m   \n\u001B[1;36m163\u001B[0m  \u001B[33m...\u001B[0m                    \u001B[1;36m0.005020\u001B[0m                   \u001B[1;36m0.014108\u001B[0m   \n\n     INSTAL_AMT_PAYMENT_MIN  INSTAL_AMT_PAYMENT_MAX  INSTAL_AMT_PAYMENT_MEAN  \\\n\u001B[1;36m0\u001B[0m                  \u001B[1;36m0.003694\u001B[0m                \u001B[1;36m0.014078\u001B[0m                 \u001B[1;36m0.004615\u001B[0m   \n\u001B[1;36m26\u001B[0m                 \u001B[1;36m0.000924\u001B[0m                \u001B[1;36m0.009545\u001B[0m                 \u001B[1;36m0.004881\u001B[0m   \n\u001B[1;36m40\u001B[0m                 \u001B[1;36m0.001828\u001B[0m                \u001B[1;36m0.032515\u001B[0m                 \u001B[1;36m0.005361\u001B[0m   \n\u001B[1;36m42\u001B[0m                 \u001B[1;36m0.000005\u001B[0m                \u001B[1;36m0.002068\u001B[0m                 \u001B[1;36m0.001910\u001B[0m   \n\u001B[1;36m81\u001B[0m                 \u001B[1;36m0.000924\u001B[0m                \u001B[1;36m0.009545\u001B[0m                 \u001B[1;36m0.004881\u001B[0m   \n\u001B[1;36m94\u001B[0m                 \u001B[1;36m0.001788\u001B[0m                \u001B[1;36m0.011932\u001B[0m                 \u001B[1;36m0.007629\u001B[0m   \n\u001B[1;36m110\u001B[0m                \u001B[1;36m0.004490\u001B[0m                \u001B[1;36m0.019290\u001B[0m                 \u001B[1;36m0.006810\u001B[0m   \n\u001B[1;36m138\u001B[0m                \u001B[1;36m0.000924\u001B[0m                \u001B[1;36m0.009545\u001B[0m                 \u001B[1;36m0.004881\u001B[0m   \n\u001B[1;36m154\u001B[0m                \u001B[1;36m0.000687\u001B[0m                \u001B[1;36m0.005566\u001B[0m                 \u001B[1;36m0.004629\u001B[0m   \n\u001B[1;36m163\u001B[0m                \u001B[1;36m0.000924\u001B[0m                \u001B[1;36m0.009545\u001B[0m                 \u001B[1;36m0.004881\u001B[0m   \n\n     INSTAL_AMT_PAYMENT_SUM  INSTAL_DAYS_ENTRY_PAYMENT_MAX  \\\n\u001B[1;36m0\u001B[0m                  \u001B[1;36m0.008600\u001B[0m                       \u001B[1;36m0.984365\u001B[0m   \n\u001B[1;36m26\u001B[0m                 \u001B[1;36m0.012476\u001B[0m                       \u001B[1;36m0.978827\u001B[0m   \n\u001B[1;36m40\u001B[0m                 \u001B[1;36m0.010516\u001B[0m                       \u001B[1;36m0.618567\u001B[0m   \n\u001B[1;36m42\u001B[0m                 \u001B[1;36m0.010863\u001B[0m                       \u001B[1;36m0.990879\u001B[0m   \n\u001B[1;36m81\u001B[0m                 \u001B[1;36m0.012476\u001B[0m                       \u001B[1;36m0.978827\u001B[0m   \n\u001B[1;36m94\u001B[0m                 \u001B[1;36m0.014965\u001B[0m                       \u001B[1;36m0.961889\u001B[0m   \n\u001B[1;36m110\u001B[0m                \u001B[1;36m0.008683\u001B[0m                       \u001B[1;36m0.988274\u001B[0m   \n\u001B[1;36m138\u001B[0m                \u001B[1;36m0.012476\u001B[0m                       \u001B[1;36m0.978827\u001B[0m   \n\u001B[1;36m154\u001B[0m                \u001B[1;36m0.019524\u001B[0m                       \u001B[1;36m0.988925\u001B[0m   \n\u001B[1;36m163\u001B[0m                \u001B[1;36m0.012476\u001B[0m                       \u001B[1;36m0.978827\u001B[0m   \n\n     INSTAL_DAYS_ENTRY_PAYMENT_MEAN  INSTAL_DAYS_ENTRY_PAYMENT_SUM  \\\n\u001B[1;36m0\u001B[0m                          \u001B[1;36m0.898168\u001B[0m                       \u001B[1;36m0.990053\u001B[0m   \n\u001B[1;36m26\u001B[0m                         \u001B[1;36m0.737753\u001B[0m                       \u001B[1;36m0.964934\u001B[0m   \n\u001B[1;36m40\u001B[0m                         \u001B[1;36m0.385561\u001B[0m                       \u001B[1;36m0.937324\u001B[0m   \n\u001B[1;36m42\u001B[0m                         \u001B[1;36m0.719215\u001B[0m                       \u001B[1;36m0.916783\u001B[0m   \n\u001B[1;36m81\u001B[0m                         \u001B[1;36m0.737753\u001B[0m                       \u001B[1;36m0.964934\u001B[0m   \n\u001B[1;36m94\u001B[0m                         \u001B[1;36m0.784404\u001B[0m                       \u001B[1;36m0.977944\u001B[0m   \n\u001B[1;36m110\u001B[0m                        \u001B[1;36m0.894143\u001B[0m                       \u001B[1;36m0.992928\u001B[0m   \n\u001B[1;36m138\u001B[0m                        \u001B[1;36m0.737753\u001B[0m                       \u001B[1;36m0.964934\u001B[0m   \n\u001B[1;36m154\u001B[0m                        \u001B[1;36m0.721180\u001B[0m                       \u001B[1;36m0.938735\u001B[0m   \n\u001B[1;36m163\u001B[0m                        \u001B[1;36m0.737753\u001B[0m                       \u001B[1;36m0.964934\u001B[0m   \n\n     INSTAL_COUNT  \n\u001B[1;36m0\u001B[0m        \u001B[1;36m0.048518\u001B[0m  \n\u001B[1;36m26\u001B[0m       \u001B[1;36m0.064690\u001B[0m  \n\u001B[1;36m40\u001B[0m       \u001B[1;36m0.051213\u001B[0m  \n\u001B[1;36m42\u001B[0m       \u001B[1;36m0.153639\u001B[0m  \n\u001B[1;36m81\u001B[0m       \u001B[1;36m0.064690\u001B[0m  \n\u001B[1;36m94\u001B[0m       \u001B[1;36m0.051213\u001B[0m  \n\u001B[1;36m110\u001B[0m      \u001B[1;36m0.032345\u001B[0m  \n\u001B[1;36m138\u001B[0m      \u001B[1;36m0.064690\u001B[0m  \n\u001B[1;36m154\u001B[0m      \u001B[1;36m0.113208\u001B[0m  \n\u001B[1;36m163\u001B[0m      \u001B[1;36m0.064690\u001B[0m  \n\n\u001B[1m[\u001B[0m\u001B[1;36m10\u001B[0m rows x \u001B[1;36m489\u001B[0m columns\u001B[1m]\u001B[0m",
      "text/html": "<div>\n<style scoped>\n    .dataframe tbody tr th:only-of-type {\n        vertical-align: middle;\n    }\n\n    .dataframe tbody tr th {\n        vertical-align: top;\n    }\n\n    .dataframe thead th {\n        text-align: right;\n    }\n</style>\n<table border=\"1\" class=\"dataframe\">\n  <thead>\n    <tr style=\"text-align: right;\">\n      <th></th>\n      <th>SK_ID_CURR</th>\n      <th>TARGET</th>\n      <th>CODE_GENDER</th>\n      <th>FLAG_OWN_CAR</th>\n      <th>FLAG_OWN_REALTY</th>\n      <th>CNT_CHILDREN</th>\n      <th>AMT_INCOME_TOTAL</th>\n      <th>AMT_CREDIT</th>\n      <th>AMT_ANNUITY</th>\n      <th>AMT_GOODS_PRICE</th>\n      <th>...</th>\n      <th>INSTAL_AMT_INSTALMENT_MEAN</th>\n      <th>INSTAL_AMT_INSTALMENT_SUM</th>\n      <th>INSTAL_AMT_PAYMENT_MIN</th>\n      <th>INSTAL_AMT_PAYMENT_MAX</th>\n      <th>INSTAL_AMT_PAYMENT_MEAN</th>\n      <th>INSTAL_AMT_PAYMENT_SUM</th>\n      <th>INSTAL_DAYS_ENTRY_PAYMENT_MAX</th>\n      <th>INSTAL_DAYS_ENTRY_PAYMENT_MEAN</th>\n      <th>INSTAL_DAYS_ENTRY_PAYMENT_SUM</th>\n      <th>INSTAL_COUNT</th>\n    </tr>\n  </thead>\n  <tbody>\n    <tr>\n      <th>0</th>\n      <td>100002</td>\n      <td>1</td>\n      <td>0.0</td>\n      <td>0.0</td>\n      <td>0.0</td>\n      <td>0.000000</td>\n      <td>0.001512</td>\n      <td>0.090287</td>\n      <td>0.090032</td>\n      <td>0.077441</td>\n      <td>...</td>\n      <td>0.004615</td>\n      <td>0.009436</td>\n      <td>0.003694</td>\n      <td>0.014078</td>\n      <td>0.004615</td>\n      <td>0.008600</td>\n      <td>0.984365</td>\n      <td>0.898168</td>\n      <td>0.990053</td>\n      <td>0.048518</td>\n    </tr>\n    <tr>\n      <th>26</th>\n      <td>100031</td>\n      <td>1</td>\n      <td>1.0</td>\n      <td>0.0</td>\n      <td>0.0</td>\n      <td>0.000000</td>\n      <td>0.000742</td>\n      <td>0.233456</td>\n      <td>0.099298</td>\n      <td>0.164983</td>\n      <td>...</td>\n      <td>0.005020</td>\n      <td>0.014108</td>\n      <td>0.000924</td>\n      <td>0.009545</td>\n      <td>0.004881</td>\n      <td>0.012476</td>\n      <td>0.978827</td>\n      <td>0.737753</td>\n      <td>0.964934</td>\n      <td>0.064690</td>\n    </tr>\n    <tr>\n      <th>40</th>\n      <td>100047</td>\n      <td>1</td>\n      <td>0.0</td>\n      <td>0.0</td>\n      <td>0.0</td>\n      <td>0.000000</td>\n      <td>0.001512</td>\n      <td>0.286787</td>\n      <td>0.130309</td>\n      <td>0.203143</td>\n      <td>...</td>\n      <td>0.005361</td>\n      <td>0.011538</td>\n      <td>0.001828</td>\n      <td>0.032515</td>\n      <td>0.005361</td>\n      <td>0.010516</td>\n      <td>0.618567</td>\n      <td>0.385561</td>\n      <td>0.937324</td>\n      <td>0.051213</td>\n    </tr>\n    <tr>\n      <th>42</th>\n      <td>100049</td>\n      <td>1</td>\n      <td>1.0</td>\n      <td>0.0</td>\n      <td>1.0</td>\n      <td>0.000000</td>\n      <td>0.000935</td>\n      <td>0.060892</td>\n      <td>0.057108</td>\n      <td>0.049383</td>\n      <td>...</td>\n      <td>0.002021</td>\n      <td>0.012616</td>\n      <td>0.000005</td>\n      <td>0.002068</td>\n      <td>0.001910</td>\n      <td>0.010863</td>\n      <td>0.990879</td>\n      <td>0.719215</td>\n      <td>0.916783</td>\n      <td>0.153639</td>\n    </tr>\n    <tr>\n      <th>81</th>\n      <td>100096</td>\n      <td>1</td>\n      <td>1.0</td>\n      <td>0.0</td>\n      <td>0.0</td>\n      <td>0.000000</td>\n      <td>0.000473</td>\n      <td>0.051685</td>\n      <td>0.050614</td>\n      <td>0.052750</td>\n      <td>...</td>\n      <td>0.005020</td>\n      <td>0.014108</td>\n      <td>0.000924</td>\n      <td>0.009545</td>\n      <td>0.004881</td>\n      <td>0.012476</td>\n      <td>0.978827</td>\n      <td>0.737753</td>\n      <td>0.964934</td>\n      <td>0.064690</td>\n    </tr>\n    <tr>\n      <th>94</th>\n      <td>100112</td>\n      <td>1</td>\n      <td>0.0</td>\n      <td>1.0</td>\n      <td>0.0</td>\n      <td>0.000000</td>\n      <td>0.002474</td>\n      <td>0.226831</td>\n      <td>0.243717</td>\n      <td>0.214366</td>\n      <td>...</td>\n      <td>0.006282</td>\n      <td>0.013520</td>\n      <td>0.001788</td>\n      <td>0.011932</td>\n      <td>0.007629</td>\n      <td>0.014965</td>\n      <td>0.961889</td>\n      <td>0.784404</td>\n      <td>0.977944</td>\n      <td>0.051213</td>\n    </tr>\n    <tr>\n      <th>110</th>\n      <td>100130</td>\n      <td>1</td>\n      <td>1.0</td>\n      <td>0.0</td>\n      <td>0.0</td>\n      <td>0.052632</td>\n      <td>0.001127</td>\n      <td>0.169537</td>\n      <td>0.113829</td>\n      <td>0.135802</td>\n      <td>...</td>\n      <td>0.006810</td>\n      <td>0.009526</td>\n      <td>0.004490</td>\n      <td>0.019290</td>\n      <td>0.006810</td>\n      <td>0.008683</td>\n      <td>0.988274</td>\n      <td>0.894143</td>\n      <td>0.992928</td>\n      <td>0.032345</td>\n    </tr>\n    <tr>\n      <th>138</th>\n      <td>100160</td>\n      <td>1</td>\n      <td>0.0</td>\n      <td>0.0</td>\n      <td>0.0</td>\n      <td>0.000000</td>\n      <td>0.002281</td>\n      <td>0.157303</td>\n      <td>0.137013</td>\n      <td>0.158249</td>\n      <td>...</td>\n      <td>0.005020</td>\n      <td>0.014108</td>\n      <td>0.000924</td>\n      <td>0.009545</td>\n      <td>0.004881</td>\n      <td>0.012476</td>\n      <td>0.978827</td>\n      <td>0.737753</td>\n      <td>0.964934</td>\n      <td>0.064690</td>\n    </tr>\n    <tr>\n      <th>154</th>\n      <td>100181</td>\n      <td>1</td>\n      <td>1.0</td>\n      <td>0.0</td>\n      <td>0.0</td>\n      <td>0.000000</td>\n      <td>0.001127</td>\n      <td>0.050092</td>\n      <td>0.043103</td>\n      <td>0.031425</td>\n      <td>...</td>\n      <td>0.004630</td>\n      <td>0.021422</td>\n      <td>0.000687</td>\n      <td>0.005566</td>\n      <td>0.004629</td>\n      <td>0.019524</td>\n      <td>0.988925</td>\n      <td>0.721180</td>\n      <td>0.938735</td>\n      <td>0.113208</td>\n    </tr>\n    <tr>\n      <th>163</th>\n      <td>100192</td>\n      <td>1</td>\n      <td>1.0</td>\n      <td>0.0</td>\n      <td>1.0</td>\n      <td>0.000000</td>\n      <td>0.000737</td>\n      <td>0.044944</td>\n      <td>0.075746</td>\n      <td>0.046016</td>\n      <td>...</td>\n      <td>0.005020</td>\n      <td>0.014108</td>\n      <td>0.000924</td>\n      <td>0.009545</td>\n      <td>0.004881</td>\n      <td>0.012476</td>\n      <td>0.978827</td>\n      <td>0.737753</td>\n      <td>0.964934</td>\n      <td>0.064690</td>\n    </tr>\n  </tbody>\n</table>\n<p>10 rows × 489 columns</p>\n</div>"
     },
     "execution_count": 35,
     "metadata": {},
     "output_type": "execute_result"
    }
   ],
   "source": [
    "full_df[full_df[\"TARGET\"]==1].head(10)"
   ],
   "metadata": {
    "collapsed": false,
    "ExecuteTime": {
     "end_time": "2024-05-07T16:37:52.953552300Z",
     "start_time": "2024-05-07T16:37:52.316446900Z"
    }
   }
  }
 ],
 "metadata": {
  "kernelspec": {
   "name": "kedro_ocp7_scoring_model_cloud",
   "language": "python",
   "display_name": "Kedro (ocp7_scoring_model_cloud)"
  },
  "language_info": {
   "codemirror_mode": {
    "name": "ipython",
    "version": 3
   },
   "file_extension": ".py",
   "mimetype": "text/x-python",
   "name": "python",
   "nbconvert_exporter": "python",
   "pygments_lexer": "ipython3",
   "version": "3.10.14"
  }
 },
 "nbformat": 4,
 "nbformat_minor": 2
}
