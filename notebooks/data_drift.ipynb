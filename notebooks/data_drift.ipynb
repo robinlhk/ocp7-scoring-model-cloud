{
 "cells": [
  {
   "cell_type": "code",
   "execution_count": null,
   "id": "initial_id",
   "metadata": {
    "collapsed": true
   },
   "outputs": [],
   "source": [
    "%reload_kedro"
   ]
  },
  {
   "cell_type": "code",
   "execution_count": null,
   "outputs": [],
   "source": [
    "import pandas as pd\n",
    "\n",
    "from sklearn import datasets\n",
    "\n",
    "from evidently.test_suite import TestSuite\n",
    "from evidently.test_preset import DataStabilityTestPreset\n",
    "\n",
    "from evidently.report import Report\n",
    "from evidently.metric_preset import DataDriftPreset"
   ],
   "metadata": {
    "collapsed": false
   },
   "id": "5e7cce634ee2177f"
  },
  {
   "cell_type": "code",
   "execution_count": null,
   "outputs": [],
   "source": [
    "train_df = catalog.load(\"full_df_train\")\n",
    "test_df = catalog.load(\"full_df_test\")"
   ],
   "metadata": {
    "collapsed": false
   },
   "id": "81c5eaab3f8c014f"
  },
  {
   "cell_type": "code",
   "execution_count": null,
   "outputs": [],
   "source": [
    "invididual_variables = [\"DAYS_BIRTH\", \"CODE_GENDER\", \"NAME_EDUCATION_TYPE\"]\n",
    "work_variables = [\"DAYS_EMPLOYED\", \"OCCUPATION_TYPE\", \"ORGANIZATION_TYPE\", \"AMT_INCOME_TOTAL\"]\n",
    "loan_variables = [\"AMT_CREDIT\", \"AMT_ANNUITY\", \"AMT_GOODS_PRICE\"]\n",
    "ext_variables = [\"EXT_SOURCE_1\", \"EXT_SOURCE_2\", \"EXT_SOURCE_3\"]\n",
    "variables_interest = invididual_variables + work_variables + loan_variables + ext_variables"
   ],
   "metadata": {
    "collapsed": false
   },
   "id": "c058cb935a076e4b"
  },
  {
   "cell_type": "code",
   "execution_count": null,
   "outputs": [],
   "source": [
    "data_stability= TestSuite(tests=[\n",
    "    DataStabilityTestPreset(),\n",
    "])\n",
    "data_stability.run(current_data=train_df.drop([\"TARGET\"], axis=1).loc[:10, variables_interest], reference_data=test_df.loc[:10, variables_interest], column_mapping=None)\n",
    "data_stability "
   ],
   "metadata": {
    "collapsed": false
   },
   "id": "1b858dd4c1ddb476"
  },
  {
   "cell_type": "code",
   "execution_count": null,
   "outputs": [],
   "source": [],
   "metadata": {
    "collapsed": false
   },
   "id": "8f637e2a508f5387"
  }
 ],
 "metadata": {
  "kernelspec": {
   "name": "kedro_ocp7_scoring_model_cloud",
   "language": "python",
   "display_name": "Kedro (ocp7_scoring_model_cloud)"
  },
  "language_info": {
   "codemirror_mode": {
    "name": "ipython",
    "version": 2
   },
   "file_extension": ".py",
   "mimetype": "text/x-python",
   "name": "python",
   "nbconvert_exporter": "python",
   "pygments_lexer": "ipython2",
   "version": "2.7.6"
  }
 },
 "nbformat": 4,
 "nbformat_minor": 5
}
