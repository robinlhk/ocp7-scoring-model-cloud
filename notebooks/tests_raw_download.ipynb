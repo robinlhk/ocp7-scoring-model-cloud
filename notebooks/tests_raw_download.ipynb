{
 "cells": [
  {
   "cell_type": "code",
   "execution_count": 1,
   "id": "initial_id",
   "metadata": {
    "collapsed": true,
    "ExecuteTime": {
     "end_time": "2024-04-23T11:39:16.382205400Z",
     "start_time": "2024-04-23T11:39:15.261744Z"
    }
   },
   "outputs": [
    {
     "data": {
      "text/plain": "\u001B[2;36m                   \u001B[0m\u001B[2;36m \u001B[0m\u001B[34mINFO    \u001B[0m Resolved project path as:                                              \u001B]8;id=926591;file://C:\\Users\\9509298u\\AppData\\Local\\miniconda3\\envs\\ocp7-scoring-model-cloud\\lib\\site-packages\\kedro\\ipython\\__init__.py\u001B\\\u001B[2m__init__.py\u001B[0m\u001B]8;;\u001B\\\u001B[2m:\u001B[0m\u001B]8;id=623087;file://C:\\Users\\9509298u\\AppData\\Local\\miniconda3\\envs\\ocp7-scoring-model-cloud\\lib\\site-packages\\kedro\\ipython\\__init__.py#164\u001B\\\u001B[2m164\u001B[0m\u001B]8;;\u001B\\\n\u001B[2;36m                    \u001B[0m         C:\\Users\\9509298u\\Documents\\GitHub\\OC_Projects\\ocp7-scoring-model-clou \u001B[2m               \u001B[0m\n\u001B[2;36m                    \u001B[0m         d.                                                                     \u001B[2m               \u001B[0m\n\u001B[2;36m                    \u001B[0m         To set a different path, run \u001B[32m'%reload_kedro \u001B[0m\u001B[32m<\u001B[0m\u001B[32mproject_root\u001B[0m\u001B[32m>\u001B[0m\u001B[32m'\u001B[0m            \u001B[2m               \u001B[0m\n",
      "text/html": "<pre style=\"white-space:pre;overflow-x:auto;line-height:normal;font-family:Menlo,'DejaVu Sans Mono',consolas,'Courier New',monospace\"><span style=\"color: #7fbfbf; text-decoration-color: #7fbfbf\">                    </span><span style=\"color: #000080; text-decoration-color: #000080\">INFO    </span> Resolved project path as:                                              <a href=\"file://C:\\Users\\9509298u\\AppData\\Local\\miniconda3\\envs\\ocp7-scoring-model-cloud\\lib\\site-packages\\kedro\\ipython\\__init__.py\" target=\"_blank\"><span style=\"color: #7f7f7f; text-decoration-color: #7f7f7f\">__init__.py</span></a><span style=\"color: #7f7f7f; text-decoration-color: #7f7f7f\">:</span><a href=\"file://C:\\Users\\9509298u\\AppData\\Local\\miniconda3\\envs\\ocp7-scoring-model-cloud\\lib\\site-packages\\kedro\\ipython\\__init__.py#164\" target=\"_blank\"><span style=\"color: #7f7f7f; text-decoration-color: #7f7f7f\">164</span></a>\n<span style=\"color: #7fbfbf; text-decoration-color: #7fbfbf\">                    </span>         C:\\Users\\9509298u\\Documents\\GitHub\\OC_Projects\\ocp7-scoring-model-clou <span style=\"color: #7f7f7f; text-decoration-color: #7f7f7f\">               </span>\n<span style=\"color: #7fbfbf; text-decoration-color: #7fbfbf\">                    </span>         d.                                                                     <span style=\"color: #7f7f7f; text-decoration-color: #7f7f7f\">               </span>\n<span style=\"color: #7fbfbf; text-decoration-color: #7fbfbf\">                    </span>         To set a different path, run <span style=\"color: #008000; text-decoration-color: #008000\">'%reload_kedro &lt;project_root&gt;'</span>            <span style=\"color: #7f7f7f; text-decoration-color: #7f7f7f\">               </span>\n</pre>\n"
     },
     "metadata": {},
     "output_type": "display_data"
    },
    {
     "data": {
      "text/plain": "\u001B[2;36m                   \u001B[0m\u001B[2;36m \u001B[0m\u001B[34mINFO    \u001B[0m Registering new custom resolver: \u001B[32m'km.random_name'\u001B[0m                    \u001B]8;id=24111;file://C:\\Users\\9509298u\\AppData\\Local\\miniconda3\\envs\\ocp7-scoring-model-cloud\\lib\\site-packages\\kedro_mlflow\\framework\\hooks\\mlflow_hook.py\u001B\\\u001B[2mmlflow_hook.py\u001B[0m\u001B]8;;\u001B\\\u001B[2m:\u001B[0m\u001B]8;id=550609;file://C:\\Users\\9509298u\\AppData\\Local\\miniconda3\\envs\\ocp7-scoring-model-cloud\\lib\\site-packages\\kedro_mlflow\\framework\\hooks\\mlflow_hook.py#65\u001B\\\u001B[2m65\u001B[0m\u001B]8;;\u001B\\\n",
      "text/html": "<pre style=\"white-space:pre;overflow-x:auto;line-height:normal;font-family:Menlo,'DejaVu Sans Mono',consolas,'Courier New',monospace\"><span style=\"color: #7fbfbf; text-decoration-color: #7fbfbf\">                    </span><span style=\"color: #000080; text-decoration-color: #000080\">INFO    </span> Registering new custom resolver: <span style=\"color: #008000; text-decoration-color: #008000\">'km.random_name'</span>                    <a href=\"file://C:\\Users\\9509298u\\AppData\\Local\\miniconda3\\envs\\ocp7-scoring-model-cloud\\lib\\site-packages\\kedro_mlflow\\framework\\hooks\\mlflow_hook.py\" target=\"_blank\"><span style=\"color: #7f7f7f; text-decoration-color: #7f7f7f\">mlflow_hook.py</span></a><span style=\"color: #7f7f7f; text-decoration-color: #7f7f7f\">:</span><a href=\"file://C:\\Users\\9509298u\\AppData\\Local\\miniconda3\\envs\\ocp7-scoring-model-cloud\\lib\\site-packages\\kedro_mlflow\\framework\\hooks\\mlflow_hook.py#65\" target=\"_blank\"><span style=\"color: #7f7f7f; text-decoration-color: #7f7f7f\">65</span></a>\n</pre>\n"
     },
     "metadata": {},
     "output_type": "display_data"
    },
    {
     "data": {
      "text/plain": "\u001B[2;36m                   \u001B[0m\u001B[2;36m \u001B[0m\u001B[31mWARNING \u001B[0m No \u001B[32m'mlflow.yml'\u001B[0m config file found in environment. Default            \u001B]8;id=374937;file://C:\\Users\\9509298u\\AppData\\Local\\miniconda3\\envs\\ocp7-scoring-model-cloud\\lib\\site-packages\\kedro_mlflow\\framework\\hooks\\mlflow_hook.py\u001B\\\u001B[2mmlflow_hook.py\u001B[0m\u001B]8;;\u001B\\\u001B[2m:\u001B[0m\u001B]8;id=20483;file://C:\\Users\\9509298u\\AppData\\Local\\miniconda3\\envs\\ocp7-scoring-model-cloud\\lib\\site-packages\\kedro_mlflow\\framework\\hooks\\mlflow_hook.py#78\u001B\\\u001B[2m78\u001B[0m\u001B]8;;\u001B\\\n\u001B[2;36m                    \u001B[0m         configuration will be used. Use ``kedro mlflow init`` command in CLI \u001B[2m                 \u001B[0m\n\u001B[2;36m                    \u001B[0m         to customize the configuration.                                      \u001B[2m                 \u001B[0m\n",
      "text/html": "<pre style=\"white-space:pre;overflow-x:auto;line-height:normal;font-family:Menlo,'DejaVu Sans Mono',consolas,'Courier New',monospace\"><span style=\"color: #7fbfbf; text-decoration-color: #7fbfbf\">                    </span><span style=\"color: #800000; text-decoration-color: #800000\">WARNING </span> No <span style=\"color: #008000; text-decoration-color: #008000\">'mlflow.yml'</span> config file found in environment. Default            <a href=\"file://C:\\Users\\9509298u\\AppData\\Local\\miniconda3\\envs\\ocp7-scoring-model-cloud\\lib\\site-packages\\kedro_mlflow\\framework\\hooks\\mlflow_hook.py\" target=\"_blank\"><span style=\"color: #7f7f7f; text-decoration-color: #7f7f7f\">mlflow_hook.py</span></a><span style=\"color: #7f7f7f; text-decoration-color: #7f7f7f\">:</span><a href=\"file://C:\\Users\\9509298u\\AppData\\Local\\miniconda3\\envs\\ocp7-scoring-model-cloud\\lib\\site-packages\\kedro_mlflow\\framework\\hooks\\mlflow_hook.py#78\" target=\"_blank\"><span style=\"color: #7f7f7f; text-decoration-color: #7f7f7f\">78</span></a>\n<span style=\"color: #7fbfbf; text-decoration-color: #7fbfbf\">                    </span>         configuration will be used. Use ``kedro mlflow init`` command in CLI <span style=\"color: #7f7f7f; text-decoration-color: #7f7f7f\">                 </span>\n<span style=\"color: #7fbfbf; text-decoration-color: #7fbfbf\">                    </span>         to customize the configuration.                                      <span style=\"color: #7f7f7f; text-decoration-color: #7f7f7f\">                 </span>\n</pre>\n"
     },
     "metadata": {},
     "output_type": "display_data"
    },
    {
     "data": {
      "text/plain": "\u001B[2;36m                   \u001B[0m\u001B[2;36m \u001B[0m\u001B[34mINFO    \u001B[0m The \u001B[32m'tracking_uri'\u001B[0m key in mlflow.yml is relative            \u001B]8;id=648441;file://C:\\Users\\9509298u\\AppData\\Local\\miniconda3\\envs\\ocp7-scoring-model-cloud\\lib\\site-packages\\kedro_mlflow\\config\\kedro_mlflow_config.py\u001B\\\u001B[2mkedro_mlflow_config.py\u001B[0m\u001B]8;;\u001B\\\u001B[2m:\u001B[0m\u001B]8;id=555498;file://C:\\Users\\9509298u\\AppData\\Local\\miniconda3\\envs\\ocp7-scoring-model-cloud\\lib\\site-packages\\kedro_mlflow\\config\\kedro_mlflow_config.py#260\u001B\\\u001B[2m260\u001B[0m\u001B]8;;\u001B\\\n\u001B[2;36m                    \u001B[0m         \u001B[1m(\u001B[0m\u001B[32m'server.mlflow_\u001B[0m\u001B[32m(\u001B[0m\u001B[32mtracking|registry\u001B[0m\u001B[32m)\u001B[0m\u001B[32m_uri = mlruns'\u001B[0m\u001B[1m)\u001B[0m. It is   \u001B[2m                          \u001B[0m\n\u001B[2;36m                    \u001B[0m         converted to a valid uri:                                   \u001B[2m                          \u001B[0m\n\u001B[2;36m                    \u001B[0m         \u001B[32m'file:///C:/Users/9509298u/Documents/GitHub/OC_Projects/ocp\u001B[0m \u001B[2m                          \u001B[0m\n\u001B[2;36m                    \u001B[0m         \u001B[32m7-scoring-model-cloud/mlruns'\u001B[0m                               \u001B[2m                          \u001B[0m\n",
      "text/html": "<pre style=\"white-space:pre;overflow-x:auto;line-height:normal;font-family:Menlo,'DejaVu Sans Mono',consolas,'Courier New',monospace\"><span style=\"color: #7fbfbf; text-decoration-color: #7fbfbf\">                    </span><span style=\"color: #000080; text-decoration-color: #000080\">INFO    </span> The <span style=\"color: #008000; text-decoration-color: #008000\">'tracking_uri'</span> key in mlflow.yml is relative            <a href=\"file://C:\\Users\\9509298u\\AppData\\Local\\miniconda3\\envs\\ocp7-scoring-model-cloud\\lib\\site-packages\\kedro_mlflow\\config\\kedro_mlflow_config.py\" target=\"_blank\"><span style=\"color: #7f7f7f; text-decoration-color: #7f7f7f\">kedro_mlflow_config.py</span></a><span style=\"color: #7f7f7f; text-decoration-color: #7f7f7f\">:</span><a href=\"file://C:\\Users\\9509298u\\AppData\\Local\\miniconda3\\envs\\ocp7-scoring-model-cloud\\lib\\site-packages\\kedro_mlflow\\config\\kedro_mlflow_config.py#260\" target=\"_blank\"><span style=\"color: #7f7f7f; text-decoration-color: #7f7f7f\">260</span></a>\n<span style=\"color: #7fbfbf; text-decoration-color: #7fbfbf\">                    </span>         <span style=\"font-weight: bold\">(</span><span style=\"color: #008000; text-decoration-color: #008000\">'server.mlflow_(tracking|registry)_uri = mlruns'</span><span style=\"font-weight: bold\">)</span>. It is   <span style=\"color: #7f7f7f; text-decoration-color: #7f7f7f\">                          </span>\n<span style=\"color: #7fbfbf; text-decoration-color: #7fbfbf\">                    </span>         converted to a valid uri:                                   <span style=\"color: #7f7f7f; text-decoration-color: #7f7f7f\">                          </span>\n<span style=\"color: #7fbfbf; text-decoration-color: #7fbfbf\">                    </span>         <span style=\"color: #008000; text-decoration-color: #008000\">'file:///C:/Users/9509298u/Documents/GitHub/OC_Projects/ocp</span> <span style=\"color: #7f7f7f; text-decoration-color: #7f7f7f\">                          </span>\n<span style=\"color: #7fbfbf; text-decoration-color: #7fbfbf\">                    </span>         <span style=\"color: #008000; text-decoration-color: #008000\">7-scoring-model-cloud/mlruns'</span>                               <span style=\"color: #7f7f7f; text-decoration-color: #7f7f7f\">                          </span>\n</pre>\n"
     },
     "metadata": {},
     "output_type": "display_data"
    },
    {
     "data": {
      "text/plain": "\u001B[2;36m[04/23/24 13:39:16]\u001B[0m\u001B[2;36m \u001B[0m\u001B[34mINFO    \u001B[0m Kedro project ocp7_scoring_model_cloud                                 \u001B]8;id=907557;file://C:\\Users\\9509298u\\AppData\\Local\\miniconda3\\envs\\ocp7-scoring-model-cloud\\lib\\site-packages\\kedro\\ipython\\__init__.py\u001B\\\u001B[2m__init__.py\u001B[0m\u001B]8;;\u001B\\\u001B[2m:\u001B[0m\u001B]8;id=949892;file://C:\\Users\\9509298u\\AppData\\Local\\miniconda3\\envs\\ocp7-scoring-model-cloud\\lib\\site-packages\\kedro\\ipython\\__init__.py#134\u001B\\\u001B[2m134\u001B[0m\u001B]8;;\u001B\\\n",
      "text/html": "<pre style=\"white-space:pre;overflow-x:auto;line-height:normal;font-family:Menlo,'DejaVu Sans Mono',consolas,'Courier New',monospace\"><span style=\"color: #7fbfbf; text-decoration-color: #7fbfbf\">[04/23/24 13:39:16] </span><span style=\"color: #000080; text-decoration-color: #000080\">INFO    </span> Kedro project ocp7_scoring_model_cloud                                 <a href=\"file://C:\\Users\\9509298u\\AppData\\Local\\miniconda3\\envs\\ocp7-scoring-model-cloud\\lib\\site-packages\\kedro\\ipython\\__init__.py\" target=\"_blank\"><span style=\"color: #7f7f7f; text-decoration-color: #7f7f7f\">__init__.py</span></a><span style=\"color: #7f7f7f; text-decoration-color: #7f7f7f\">:</span><a href=\"file://C:\\Users\\9509298u\\AppData\\Local\\miniconda3\\envs\\ocp7-scoring-model-cloud\\lib\\site-packages\\kedro\\ipython\\__init__.py#134\" target=\"_blank\"><span style=\"color: #7f7f7f; text-decoration-color: #7f7f7f\">134</span></a>\n</pre>\n"
     },
     "metadata": {},
     "output_type": "display_data"
    },
    {
     "data": {
      "text/plain": "\u001B[2;36m                   \u001B[0m\u001B[2;36m \u001B[0m\u001B[34mINFO    \u001B[0m Defined global variable \u001B[32m'context'\u001B[0m, \u001B[32m'session'\u001B[0m, \u001B[32m'catalog'\u001B[0m and            \u001B]8;id=371889;file://C:\\Users\\9509298u\\AppData\\Local\\miniconda3\\envs\\ocp7-scoring-model-cloud\\lib\\site-packages\\kedro\\ipython\\__init__.py\u001B\\\u001B[2m__init__.py\u001B[0m\u001B]8;;\u001B\\\u001B[2m:\u001B[0m\u001B]8;id=475511;file://C:\\Users\\9509298u\\AppData\\Local\\miniconda3\\envs\\ocp7-scoring-model-cloud\\lib\\site-packages\\kedro\\ipython\\__init__.py#135\u001B\\\u001B[2m135\u001B[0m\u001B]8;;\u001B\\\n\u001B[2;36m                    \u001B[0m         \u001B[32m'pipelines'\u001B[0m                                                            \u001B[2m               \u001B[0m\n",
      "text/html": "<pre style=\"white-space:pre;overflow-x:auto;line-height:normal;font-family:Menlo,'DejaVu Sans Mono',consolas,'Courier New',monospace\"><span style=\"color: #7fbfbf; text-decoration-color: #7fbfbf\">                    </span><span style=\"color: #000080; text-decoration-color: #000080\">INFO    </span> Defined global variable <span style=\"color: #008000; text-decoration-color: #008000\">'context'</span>, <span style=\"color: #008000; text-decoration-color: #008000\">'session'</span>, <span style=\"color: #008000; text-decoration-color: #008000\">'catalog'</span> and            <a href=\"file://C:\\Users\\9509298u\\AppData\\Local\\miniconda3\\envs\\ocp7-scoring-model-cloud\\lib\\site-packages\\kedro\\ipython\\__init__.py\" target=\"_blank\"><span style=\"color: #7f7f7f; text-decoration-color: #7f7f7f\">__init__.py</span></a><span style=\"color: #7f7f7f; text-decoration-color: #7f7f7f\">:</span><a href=\"file://C:\\Users\\9509298u\\AppData\\Local\\miniconda3\\envs\\ocp7-scoring-model-cloud\\lib\\site-packages\\kedro\\ipython\\__init__.py#135\" target=\"_blank\"><span style=\"color: #7f7f7f; text-decoration-color: #7f7f7f\">135</span></a>\n<span style=\"color: #7fbfbf; text-decoration-color: #7fbfbf\">                    </span>         <span style=\"color: #008000; text-decoration-color: #008000\">'pipelines'</span>                                                            <span style=\"color: #7f7f7f; text-decoration-color: #7f7f7f\">               </span>\n</pre>\n"
     },
     "metadata": {},
     "output_type": "display_data"
    },
    {
     "data": {
      "text/plain": "\u001B[2;36m                   \u001B[0m\u001B[2;36m \u001B[0m\u001B[34mINFO    \u001B[0m Registered line magic \u001B[32m'run_viz'\u001B[0m                                        \u001B]8;id=2939;file://C:\\Users\\9509298u\\AppData\\Local\\miniconda3\\envs\\ocp7-scoring-model-cloud\\lib\\site-packages\\kedro\\ipython\\__init__.py\u001B\\\u001B[2m__init__.py\u001B[0m\u001B]8;;\u001B\\\u001B[2m:\u001B[0m\u001B]8;id=981882;file://C:\\Users\\9509298u\\AppData\\Local\\miniconda3\\envs\\ocp7-scoring-model-cloud\\lib\\site-packages\\kedro\\ipython\\__init__.py#141\u001B\\\u001B[2m141\u001B[0m\u001B]8;;\u001B\\\n",
      "text/html": "<pre style=\"white-space:pre;overflow-x:auto;line-height:normal;font-family:Menlo,'DejaVu Sans Mono',consolas,'Courier New',monospace\"><span style=\"color: #7fbfbf; text-decoration-color: #7fbfbf\">                    </span><span style=\"color: #000080; text-decoration-color: #000080\">INFO    </span> Registered line magic <span style=\"color: #008000; text-decoration-color: #008000\">'run_viz'</span>                                        <a href=\"file://C:\\Users\\9509298u\\AppData\\Local\\miniconda3\\envs\\ocp7-scoring-model-cloud\\lib\\site-packages\\kedro\\ipython\\__init__.py\" target=\"_blank\"><span style=\"color: #7f7f7f; text-decoration-color: #7f7f7f\">__init__.py</span></a><span style=\"color: #7f7f7f; text-decoration-color: #7f7f7f\">:</span><a href=\"file://C:\\Users\\9509298u\\AppData\\Local\\miniconda3\\envs\\ocp7-scoring-model-cloud\\lib\\site-packages\\kedro\\ipython\\__init__.py#141\" target=\"_blank\"><span style=\"color: #7f7f7f; text-decoration-color: #7f7f7f\">141</span></a>\n</pre>\n"
     },
     "metadata": {},
     "output_type": "display_data"
    }
   ],
   "source": [
    "%reload_kedro"
   ]
  },
  {
   "cell_type": "code",
   "execution_count": 3,
   "outputs": [
    {
     "data": {
      "text/plain": "",
      "text/html": "<pre style=\"white-space:pre;overflow-x:auto;line-height:normal;font-family:Menlo,'DejaVu Sans Mono',consolas,'Courier New',monospace\"></pre>\n"
     },
     "metadata": {},
     "output_type": "display_data"
    },
    {
     "data": {
      "text/plain": "\n\u001B[1m[\u001B[0m\n    \u001B[32m'application_train'\u001B[0m,\n    \u001B[32m'application_test'\u001B[0m,\n    \u001B[32m'bureau'\u001B[0m,\n    \u001B[32m'bureau_balance'\u001B[0m,\n    \u001B[32m'credit_card_balance'\u001B[0m,\n    \u001B[32m'installments_payments'\u001B[0m,\n    \u001B[32m'pos_cash_balance'\u001B[0m,\n    \u001B[32m'previous_application'\u001B[0m,\n    \u001B[32m'home_credit_columns_description'\u001B[0m,\n    \u001B[32m'application_train_debug'\u001B[0m,\n    \u001B[32m'application_test_debug'\u001B[0m,\n    \u001B[32m'bureau_debug'\u001B[0m,\n    \u001B[32m'bureau_balance_debug'\u001B[0m,\n    \u001B[32m'credit_card_balance_debug'\u001B[0m,\n    \u001B[32m'installments_payments_debug'\u001B[0m,\n    \u001B[32m'pos_cash_balance_debug'\u001B[0m,\n    \u001B[32m'previous_application_debug'\u001B[0m,\n    \u001B[32m'preprocess_train_df'\u001B[0m,\n    \u001B[32m'bureau_agg'\u001B[0m,\n    \u001B[32m'previous_application_agg'\u001B[0m,\n    \u001B[32m'pos_cash_balance_agg'\u001B[0m,\n    \u001B[32m'installments_payments_agg'\u001B[0m,\n    \u001B[32m'credit_card_balance_agg'\u001B[0m,\n    \u001B[32m'preprocessed_df'\u001B[0m,\n    \u001B[32m'preprocessed_df_debug'\u001B[0m,\n    \u001B[32m'parameters'\u001B[0m,\n    \u001B[32m'params:url'\u001B[0m\n\u001B[1m]\u001B[0m"
     },
     "execution_count": 3,
     "metadata": {},
     "output_type": "execute_result"
    }
   ],
   "source": [
    "catalog.list()"
   ],
   "metadata": {
    "collapsed": false,
    "ExecuteTime": {
     "end_time": "2024-04-23T11:39:55.209684100Z",
     "start_time": "2024-04-23T11:39:55.157462200Z"
    }
   },
   "id": "da35fb0bc1e07951"
  },
  {
   "cell_type": "code",
   "execution_count": 4,
   "outputs": [],
   "source": [
    "from src.ocp7_scoring_model_cloud.pipelines.get_raw_data.nodes import check_raw_data_folder_empty, download_and_extract_data"
   ],
   "metadata": {
    "collapsed": false,
    "ExecuteTime": {
     "end_time": "2024-04-23T11:41:15.224932700Z",
     "start_time": "2024-04-23T11:41:15.194930Z"
    }
   },
   "id": "1dbea80ecd2fac95"
  },
  {
   "cell_type": "code",
   "execution_count": 5,
   "outputs": [
    {
     "data": {
      "text/plain": "",
      "text/html": "<pre style=\"white-space:pre;overflow-x:auto;line-height:normal;font-family:Menlo,'DejaVu Sans Mono',consolas,'Courier New',monospace\"></pre>\n"
     },
     "metadata": {},
     "output_type": "display_data"
    },
    {
     "data": {
      "text/plain": "\u001B[3;91mFalse\u001B[0m"
     },
     "execution_count": 5,
     "metadata": {},
     "output_type": "execute_result"
    }
   ],
   "source": [
    "check_raw_data_folder_empty()"
   ],
   "metadata": {
    "collapsed": false,
    "ExecuteTime": {
     "end_time": "2024-04-23T11:41:23.387974700Z",
     "start_time": "2024-04-23T11:41:23.368975100Z"
    }
   },
   "id": "4f00f724ff046e49"
  },
  {
   "cell_type": "code",
   "execution_count": 12,
   "outputs": [],
   "source": [
    "import p"
   ],
   "metadata": {
    "collapsed": false,
    "ExecuteTime": {
     "end_time": "2024-04-23T11:42:38.022603500Z",
     "start_time": "2024-04-23T11:42:38.007524300Z"
    }
   },
   "id": "cade7a1d5ee4146c"
  },
  {
   "cell_type": "code",
   "execution_count": 14,
   "outputs": [
    {
     "data": {
      "text/plain": "\u001B[91m╭──────────────────────────────────────────────────────────────────────────────────────────────────╮\u001B[0m\n\u001B[91m│\u001B[0m \u001B[1;35mos.path\u001B[0m\u001B[1m(\u001B[0m\u001B[35m/data/\u001B[0m\u001B[95m01_raw\u001B[0m\u001B[1m)\u001B[0m                                                                            \u001B[91m│\u001B[0m\n\u001B[91m│\u001B[0m                 \u001B[1;91m▲\u001B[0m                                                                                \u001B[91m│\u001B[0m\n\u001B[91m╰──────────────────────────────────────────────────────────────────────────────────────────────────╯\u001B[0m\n\u001B[1;91mSyntaxError: \u001B[0minvalid decimal literal\n",
      "text/html": "<pre style=\"white-space:pre;overflow-x:auto;line-height:normal;font-family:Menlo,'DejaVu Sans Mono',consolas,'Courier New',monospace\"><span style=\"color: #ff0000; text-decoration-color: #ff0000\">╭──────────────────────────────────────────────────────────────────────────────────────────────────╮</span>\n<span style=\"color: #ff0000; text-decoration-color: #ff0000\">│</span> <span style=\"color: #800080; text-decoration-color: #800080; font-weight: bold\">os.path</span><span style=\"font-weight: bold\">(</span><span style=\"color: #800080; text-decoration-color: #800080\">/data/</span><span style=\"color: #ff00ff; text-decoration-color: #ff00ff\">01_raw</span><span style=\"font-weight: bold\">)</span>                                                                            <span style=\"color: #ff0000; text-decoration-color: #ff0000\">│</span>\n<span style=\"color: #ff0000; text-decoration-color: #ff0000\">│</span>                 <span style=\"color: #ff0000; text-decoration-color: #ff0000; font-weight: bold\">▲</span>                                                                                <span style=\"color: #ff0000; text-decoration-color: #ff0000\">│</span>\n<span style=\"color: #ff0000; text-decoration-color: #ff0000\">╰──────────────────────────────────────────────────────────────────────────────────────────────────╯</span>\n<span style=\"color: #ff0000; text-decoration-color: #ff0000; font-weight: bold\">SyntaxError: </span>invalid decimal literal\n</pre>\n"
     },
     "metadata": {},
     "output_type": "display_data"
    }
   ],
   "source": [],
   "metadata": {
    "collapsed": false,
    "ExecuteTime": {
     "end_time": "2024-04-23T11:43:05.269035200Z",
     "start_time": "2024-04-23T11:43:05.252604400Z"
    }
   },
   "id": "7a886f6992234f4d"
  },
  {
   "cell_type": "code",
   "execution_count": 8,
   "outputs": [
    {
     "data": {
      "text/plain": "\u001B[31m╭─\u001B[0m\u001B[31m──────────────────────────────\u001B[0m\u001B[31m \u001B[0m\u001B[1;31mTraceback \u001B[0m\u001B[1;2;31m(most recent call last)\u001B[0m\u001B[31m \u001B[0m\u001B[31m───────────────────────────────\u001B[0m\u001B[31m─╮\u001B[0m\n\u001B[31m│\u001B[0m in \u001B[92m<module>\u001B[0m:\u001B[94m1\u001B[0m                                                                                    \u001B[31m│\u001B[0m\n\u001B[31m│\u001B[0m                                                                                                  \u001B[31m│\u001B[0m\n\u001B[31m│\u001B[0m \u001B[31m❱ \u001B[0m1 context.project_path + path(\u001B[33m\"\u001B[0m\u001B[33m/data/01_raw\u001B[0m\u001B[33m\"\u001B[0m)                                                  \u001B[31m│\u001B[0m\n\u001B[31m│\u001B[0m   \u001B[2m2 \u001B[0m                                                                                             \u001B[31m│\u001B[0m\n\u001B[31m╰──────────────────────────────────────────────────────────────────────────────────────────────────╯\u001B[0m\n\u001B[1;91mNameError: \u001B[0mname \u001B[32m'path'\u001B[0m is not defined\n",
      "text/html": "<pre style=\"white-space:pre;overflow-x:auto;line-height:normal;font-family:Menlo,'DejaVu Sans Mono',consolas,'Courier New',monospace\"><span style=\"color: #800000; text-decoration-color: #800000\">╭─────────────────────────────── </span><span style=\"color: #800000; text-decoration-color: #800000; font-weight: bold\">Traceback </span><span style=\"color: #bf7f7f; text-decoration-color: #bf7f7f; font-weight: bold\">(most recent call last)</span><span style=\"color: #800000; text-decoration-color: #800000\"> ────────────────────────────────╮</span>\n<span style=\"color: #800000; text-decoration-color: #800000\">│</span> in <span style=\"color: #00ff00; text-decoration-color: #00ff00\">&lt;module&gt;</span>:<span style=\"color: #0000ff; text-decoration-color: #0000ff\">1</span>                                                                                    <span style=\"color: #800000; text-decoration-color: #800000\">│</span>\n<span style=\"color: #800000; text-decoration-color: #800000\">│</span>                                                                                                  <span style=\"color: #800000; text-decoration-color: #800000\">│</span>\n<span style=\"color: #800000; text-decoration-color: #800000\">│</span> <span style=\"color: #800000; text-decoration-color: #800000\">❱ </span>1 context.project_path + path(<span style=\"color: #808000; text-decoration-color: #808000\">\"/data/01_raw\"</span>)                                                  <span style=\"color: #800000; text-decoration-color: #800000\">│</span>\n<span style=\"color: #800000; text-decoration-color: #800000\">│</span>   <span style=\"color: #7f7f7f; text-decoration-color: #7f7f7f\">2 </span>                                                                                             <span style=\"color: #800000; text-decoration-color: #800000\">│</span>\n<span style=\"color: #800000; text-decoration-color: #800000\">╰──────────────────────────────────────────────────────────────────────────────────────────────────╯</span>\n<span style=\"color: #ff0000; text-decoration-color: #ff0000; font-weight: bold\">NameError: </span>name <span style=\"color: #008000; text-decoration-color: #008000\">'path'</span> is not defined\n</pre>\n"
     },
     "metadata": {},
     "output_type": "display_data"
    }
   ],
   "source": [
    "context.project_path + path()"
   ],
   "metadata": {
    "collapsed": false,
    "ExecuteTime": {
     "end_time": "2024-04-23T11:42:09.581362700Z",
     "start_time": "2024-04-23T11:42:09.556363900Z"
    }
   },
   "id": "ad670dba61f5f9ae"
  },
  {
   "cell_type": "code",
   "execution_count": null,
   "outputs": [],
   "source": [],
   "metadata": {
    "collapsed": false
   },
   "id": "b7a701e62be61b97"
  }
 ],
 "metadata": {
  "kernelspec": {
   "name": "kedro_ocp7_scoring_model_cloud",
   "language": "python",
   "display_name": "Kedro (ocp7_scoring_model_cloud)"
  },
  "language_info": {
   "codemirror_mode": {
    "name": "ipython",
    "version": 2
   },
   "file_extension": ".py",
   "mimetype": "text/x-python",
   "name": "python",
   "nbconvert_exporter": "python",
   "pygments_lexer": "ipython2",
   "version": "2.7.6"
  }
 },
 "nbformat": 4,
 "nbformat_minor": 5
}
