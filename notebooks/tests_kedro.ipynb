{
 "cells": [
  {
   "cell_type": "code",
   "execution_count": 1,
   "id": "2c6e8cc4-1f20-479c-8049-f5881f9ea7e7",
   "metadata": {},
   "outputs": [
    {
     "data": {
      "text/html": [
       "<pre style=\"white-space:pre;overflow-x:auto;line-height:normal;font-family:Menlo,'DejaVu Sans Mono',consolas,'Courier New',monospace\"><span style=\"color: #7fbfbf; text-decoration-color: #7fbfbf\">[04/08/24 10:24:53] </span><span style=\"color: #000080; text-decoration-color: #000080\">INFO    </span> Resolved project path as:                                              <a href=\"file:///home/robinlhk/miniconda3/envs/ocp7-kedro-env/lib/python3.10/site-packages/kedro/ipython/__init__.py\" target=\"_blank\"><span style=\"color: #7f7f7f; text-decoration-color: #7f7f7f\">__init__.py</span></a><span style=\"color: #7f7f7f; text-decoration-color: #7f7f7f\">:</span><a href=\"file:///home/robinlhk/miniconda3/envs/ocp7-kedro-env/lib/python3.10/site-packages/kedro/ipython/__init__.py#164\" target=\"_blank\"><span style=\"color: #7f7f7f; text-decoration-color: #7f7f7f\">164</span></a>\n",
       "<span style=\"color: #7fbfbf; text-decoration-color: #7fbfbf\">                    </span>         <span style=\"color: #800080; text-decoration-color: #800080\">/home/robinlhk/Documents/Github_projects/</span><span style=\"color: #ff00ff; text-decoration-color: #ff00ff\">ocp7-scoring-model-cloud.</span>     <span style=\"color: #7f7f7f; text-decoration-color: #7f7f7f\">               </span>\n",
       "<span style=\"color: #7fbfbf; text-decoration-color: #7fbfbf\">                    </span>         To set a different path, run <span style=\"color: #008000; text-decoration-color: #008000\">'%reload_kedro &lt;project_root&gt;'</span>            <span style=\"color: #7f7f7f; text-decoration-color: #7f7f7f\">               </span>\n",
       "</pre>\n"
      ],
      "text/plain": [
       "\u001b[2;36m[04/08/24 10:24:53]\u001b[0m\u001b[2;36m \u001b[0m\u001b[34mINFO    \u001b[0m Resolved project path as:                                              \u001b]8;id=79241;file:///home/robinlhk/miniconda3/envs/ocp7-kedro-env/lib/python3.10/site-packages/kedro/ipython/__init__.py\u001b\\\u001b[2m__init__.py\u001b[0m\u001b]8;;\u001b\\\u001b[2m:\u001b[0m\u001b]8;id=793225;file:///home/robinlhk/miniconda3/envs/ocp7-kedro-env/lib/python3.10/site-packages/kedro/ipython/__init__.py#164\u001b\\\u001b[2m164\u001b[0m\u001b]8;;\u001b\\\n",
       "\u001b[2;36m                    \u001b[0m         \u001b[35m/home/robinlhk/Documents/Github_projects/\u001b[0m\u001b[95mocp7-scoring-model-cloud.\u001b[0m     \u001b[2m               \u001b[0m\n",
       "\u001b[2;36m                    \u001b[0m         To set a different path, run \u001b[32m'%reload_kedro \u001b[0m\u001b[32m<\u001b[0m\u001b[32mproject_root\u001b[0m\u001b[32m>\u001b[0m\u001b[32m'\u001b[0m            \u001b[2m               \u001b[0m\n"
      ]
     },
     "metadata": {},
     "output_type": "display_data"
    },
    {
     "data": {
      "text/html": [
       "<pre style=\"white-space:pre;overflow-x:auto;line-height:normal;font-family:Menlo,'DejaVu Sans Mono',consolas,'Courier New',monospace\"><span style=\"color: #7fbfbf; text-decoration-color: #7fbfbf\">[04/08/24 10:24:54] </span><span style=\"color: #000080; text-decoration-color: #000080\">INFO    </span> Kedro project ocp7_scoring_model_cloud                                 <a href=\"file:///home/robinlhk/miniconda3/envs/ocp7-kedro-env/lib/python3.10/site-packages/kedro/ipython/__init__.py\" target=\"_blank\"><span style=\"color: #7f7f7f; text-decoration-color: #7f7f7f\">__init__.py</span></a><span style=\"color: #7f7f7f; text-decoration-color: #7f7f7f\">:</span><a href=\"file:///home/robinlhk/miniconda3/envs/ocp7-kedro-env/lib/python3.10/site-packages/kedro/ipython/__init__.py#134\" target=\"_blank\"><span style=\"color: #7f7f7f; text-decoration-color: #7f7f7f\">134</span></a>\n",
       "</pre>\n"
      ],
      "text/plain": [
       "\u001b[2;36m[04/08/24 10:24:54]\u001b[0m\u001b[2;36m \u001b[0m\u001b[34mINFO    \u001b[0m Kedro project ocp7_scoring_model_cloud                                 \u001b]8;id=469420;file:///home/robinlhk/miniconda3/envs/ocp7-kedro-env/lib/python3.10/site-packages/kedro/ipython/__init__.py\u001b\\\u001b[2m__init__.py\u001b[0m\u001b]8;;\u001b\\\u001b[2m:\u001b[0m\u001b]8;id=516468;file:///home/robinlhk/miniconda3/envs/ocp7-kedro-env/lib/python3.10/site-packages/kedro/ipython/__init__.py#134\u001b\\\u001b[2m134\u001b[0m\u001b]8;;\u001b\\\n"
      ]
     },
     "metadata": {},
     "output_type": "display_data"
    },
    {
     "data": {
      "text/html": [
       "<pre style=\"white-space:pre;overflow-x:auto;line-height:normal;font-family:Menlo,'DejaVu Sans Mono',consolas,'Courier New',monospace\"><span style=\"color: #7fbfbf; text-decoration-color: #7fbfbf\">                    </span><span style=\"color: #000080; text-decoration-color: #000080\">INFO    </span> Defined global variable <span style=\"color: #008000; text-decoration-color: #008000\">'context'</span>, <span style=\"color: #008000; text-decoration-color: #008000\">'session'</span>, <span style=\"color: #008000; text-decoration-color: #008000\">'catalog'</span> and            <a href=\"file:///home/robinlhk/miniconda3/envs/ocp7-kedro-env/lib/python3.10/site-packages/kedro/ipython/__init__.py\" target=\"_blank\"><span style=\"color: #7f7f7f; text-decoration-color: #7f7f7f\">__init__.py</span></a><span style=\"color: #7f7f7f; text-decoration-color: #7f7f7f\">:</span><a href=\"file:///home/robinlhk/miniconda3/envs/ocp7-kedro-env/lib/python3.10/site-packages/kedro/ipython/__init__.py#135\" target=\"_blank\"><span style=\"color: #7f7f7f; text-decoration-color: #7f7f7f\">135</span></a>\n",
       "<span style=\"color: #7fbfbf; text-decoration-color: #7fbfbf\">                    </span>         <span style=\"color: #008000; text-decoration-color: #008000\">'pipelines'</span>                                                            <span style=\"color: #7f7f7f; text-decoration-color: #7f7f7f\">               </span>\n",
       "</pre>\n"
      ],
      "text/plain": [
       "\u001b[2;36m                   \u001b[0m\u001b[2;36m \u001b[0m\u001b[34mINFO    \u001b[0m Defined global variable \u001b[32m'context'\u001b[0m, \u001b[32m'session'\u001b[0m, \u001b[32m'catalog'\u001b[0m and            \u001b]8;id=604422;file:///home/robinlhk/miniconda3/envs/ocp7-kedro-env/lib/python3.10/site-packages/kedro/ipython/__init__.py\u001b\\\u001b[2m__init__.py\u001b[0m\u001b]8;;\u001b\\\u001b[2m:\u001b[0m\u001b]8;id=922879;file:///home/robinlhk/miniconda3/envs/ocp7-kedro-env/lib/python3.10/site-packages/kedro/ipython/__init__.py#135\u001b\\\u001b[2m135\u001b[0m\u001b]8;;\u001b\\\n",
       "\u001b[2;36m                    \u001b[0m         \u001b[32m'pipelines'\u001b[0m                                                            \u001b[2m               \u001b[0m\n"
      ]
     },
     "metadata": {},
     "output_type": "display_data"
    },
    {
     "data": {
      "text/html": [
       "<pre style=\"white-space:pre;overflow-x:auto;line-height:normal;font-family:Menlo,'DejaVu Sans Mono',consolas,'Courier New',monospace\"><span style=\"color: #7fbfbf; text-decoration-color: #7fbfbf\">                    </span><span style=\"color: #000080; text-decoration-color: #000080\">INFO    </span> Registered line magic <span style=\"color: #008000; text-decoration-color: #008000\">'run_viz'</span>                                        <a href=\"file:///home/robinlhk/miniconda3/envs/ocp7-kedro-env/lib/python3.10/site-packages/kedro/ipython/__init__.py\" target=\"_blank\"><span style=\"color: #7f7f7f; text-decoration-color: #7f7f7f\">__init__.py</span></a><span style=\"color: #7f7f7f; text-decoration-color: #7f7f7f\">:</span><a href=\"file:///home/robinlhk/miniconda3/envs/ocp7-kedro-env/lib/python3.10/site-packages/kedro/ipython/__init__.py#141\" target=\"_blank\"><span style=\"color: #7f7f7f; text-decoration-color: #7f7f7f\">141</span></a>\n",
       "</pre>\n"
      ],
      "text/plain": [
       "\u001b[2;36m                   \u001b[0m\u001b[2;36m \u001b[0m\u001b[34mINFO    \u001b[0m Registered line magic \u001b[32m'run_viz'\u001b[0m                                        \u001b]8;id=163089;file:///home/robinlhk/miniconda3/envs/ocp7-kedro-env/lib/python3.10/site-packages/kedro/ipython/__init__.py\u001b\\\u001b[2m__init__.py\u001b[0m\u001b]8;;\u001b\\\u001b[2m:\u001b[0m\u001b]8;id=476211;file:///home/robinlhk/miniconda3/envs/ocp7-kedro-env/lib/python3.10/site-packages/kedro/ipython/__init__.py#141\u001b\\\u001b[2m141\u001b[0m\u001b]8;;\u001b\\\n"
      ]
     },
     "metadata": {},
     "output_type": "display_data"
    }
   ],
   "source": [
    "import pandas as pd\n",
    "import numpy as np\n",
    "\n",
    "from sklearn.preprocessing import LabelEncoder\n",
    "\n",
    "# Suppress warnings \n",
    "import warnings\n",
    "warnings.filterwarnings('ignore')\n",
    "\n",
    "import matplotlib.pyplot as plt\n",
    "import missingno as msno\n",
    "\n",
    "%reload_kedro"
   ]
  },
  {
   "cell_type": "code",
   "execution_count": 18,
   "id": "41ce8127",
   "metadata": {},
   "outputs": [
    {
     "data": {
      "text/html": [
       "<pre style=\"white-space:pre;overflow-x:auto;line-height:normal;font-family:Menlo,'DejaVu Sans Mono',consolas,'Courier New',monospace\"></pre>\n"
      ],
      "text/plain": []
     },
     "metadata": {},
     "output_type": "display_data"
    },
    {
     "data": {
      "text/plain": [
       "\n",
       "\u001b[1m[\u001b[0m\n",
       "    \u001b[32m'application_train'\u001b[0m,\n",
       "    \u001b[32m'application_test'\u001b[0m,\n",
       "    \u001b[32m'bureau'\u001b[0m,\n",
       "    \u001b[32m'bureau_balance'\u001b[0m,\n",
       "    \u001b[32m'credit_card_balance'\u001b[0m,\n",
       "    \u001b[32m'installments_payments'\u001b[0m,\n",
       "    \u001b[32m'pos_cash_balance'\u001b[0m,\n",
       "    \u001b[32m'previous_application'\u001b[0m,\n",
       "    \u001b[32m'home_credit_columns_description'\u001b[0m,\n",
       "    \u001b[32m'parameters'\u001b[0m\n",
       "\u001b[1m]\u001b[0m"
      ]
     },
     "execution_count": 18,
     "metadata": {},
     "output_type": "execute_result"
    }
   ],
   "source": [
    "catalog.list()"
   ]
  },
  {
   "cell_type": "code",
   "execution_count": 2,
   "id": "5db82cc6-36d2-4405-a9b6-cfe8a794ac1c",
   "metadata": {},
   "outputs": [
    {
     "data": {
      "text/html": [
       "<pre style=\"white-space:pre;overflow-x:auto;line-height:normal;font-family:Menlo,'DejaVu Sans Mono',consolas,'Courier New',monospace\"><span style=\"color: #7fbfbf; text-decoration-color: #7fbfbf\">[04/08/24 10:24:56] </span><span style=\"color: #000080; text-decoration-color: #000080\">INFO    </span> Loading data from <span style=\"color: #ff8700; text-decoration-color: #ff8700\">application_train</span> <span style=\"font-weight: bold\">(</span>CSVDataset<span style=\"font-weight: bold\">)</span><span style=\"color: #808000; text-decoration-color: #808000\">...</span>                <a href=\"file:///home/robinlhk/miniconda3/envs/ocp7-kedro-env/lib/python3.10/site-packages/kedro/io/data_catalog.py\" target=\"_blank\"><span style=\"color: #7f7f7f; text-decoration-color: #7f7f7f\">data_catalog.py</span></a><span style=\"color: #7f7f7f; text-decoration-color: #7f7f7f\">:</span><a href=\"file:///home/robinlhk/miniconda3/envs/ocp7-kedro-env/lib/python3.10/site-packages/kedro/io/data_catalog.py#483\" target=\"_blank\"><span style=\"color: #7f7f7f; text-decoration-color: #7f7f7f\">483</span></a>\n",
       "</pre>\n"
      ],
      "text/plain": [
       "\u001b[2;36m[04/08/24 10:24:56]\u001b[0m\u001b[2;36m \u001b[0m\u001b[34mINFO    \u001b[0m Loading data from \u001b[38;5;208mapplication_train\u001b[0m \u001b[1m(\u001b[0mCSVDataset\u001b[1m)\u001b[0m\u001b[33m...\u001b[0m                \u001b]8;id=76760;file:///home/robinlhk/miniconda3/envs/ocp7-kedro-env/lib/python3.10/site-packages/kedro/io/data_catalog.py\u001b\\\u001b[2mdata_catalog.py\u001b[0m\u001b]8;;\u001b\\\u001b[2m:\u001b[0m\u001b]8;id=123488;file:///home/robinlhk/miniconda3/envs/ocp7-kedro-env/lib/python3.10/site-packages/kedro/io/data_catalog.py#483\u001b\\\u001b[2m483\u001b[0m\u001b]8;;\u001b\\\n"
      ]
     },
     "metadata": {},
     "output_type": "display_data"
    },
    {
     "data": {
      "text/html": [
       "<pre style=\"white-space:pre;overflow-x:auto;line-height:normal;font-family:Menlo,'DejaVu Sans Mono',consolas,'Courier New',monospace\"><span style=\"color: #7fbfbf; text-decoration-color: #7fbfbf\">[04/08/24 10:25:00] </span><span style=\"color: #000080; text-decoration-color: #000080\">INFO    </span> Loading data from <span style=\"color: #ff8700; text-decoration-color: #ff8700\">application_test</span> <span style=\"font-weight: bold\">(</span>CSVDataset<span style=\"font-weight: bold\">)</span><span style=\"color: #808000; text-decoration-color: #808000\">...</span>                 <a href=\"file:///home/robinlhk/miniconda3/envs/ocp7-kedro-env/lib/python3.10/site-packages/kedro/io/data_catalog.py\" target=\"_blank\"><span style=\"color: #7f7f7f; text-decoration-color: #7f7f7f\">data_catalog.py</span></a><span style=\"color: #7f7f7f; text-decoration-color: #7f7f7f\">:</span><a href=\"file:///home/robinlhk/miniconda3/envs/ocp7-kedro-env/lib/python3.10/site-packages/kedro/io/data_catalog.py#483\" target=\"_blank\"><span style=\"color: #7f7f7f; text-decoration-color: #7f7f7f\">483</span></a>\n",
       "</pre>\n"
      ],
      "text/plain": [
       "\u001b[2;36m[04/08/24 10:25:00]\u001b[0m\u001b[2;36m \u001b[0m\u001b[34mINFO    \u001b[0m Loading data from \u001b[38;5;208mapplication_test\u001b[0m \u001b[1m(\u001b[0mCSVDataset\u001b[1m)\u001b[0m\u001b[33m...\u001b[0m                 \u001b]8;id=776705;file:///home/robinlhk/miniconda3/envs/ocp7-kedro-env/lib/python3.10/site-packages/kedro/io/data_catalog.py\u001b\\\u001b[2mdata_catalog.py\u001b[0m\u001b]8;;\u001b\\\u001b[2m:\u001b[0m\u001b]8;id=862367;file:///home/robinlhk/miniconda3/envs/ocp7-kedro-env/lib/python3.10/site-packages/kedro/io/data_catalog.py#483\u001b\\\u001b[2m483\u001b[0m\u001b]8;;\u001b\\\n"
      ]
     },
     "metadata": {},
     "output_type": "display_data"
    }
   ],
   "source": [
    "df_train = catalog.load(\"application_train\")\n",
    "df_test = catalog.load(\"application_test\")"
   ]
  },
  {
   "cell_type": "code",
   "execution_count": 26,
   "id": "6d825bd3",
   "metadata": {},
   "outputs": [
    {
     "data": {
      "text/html": [
       "<pre style=\"white-space:pre;overflow-x:auto;line-height:normal;font-family:Menlo,'DejaVu Sans Mono',consolas,'Courier New',monospace\"></pre>\n"
      ],
      "text/plain": []
     },
     "metadata": {},
     "output_type": "display_data"
    },
    {
     "data": {
      "text/plain": [
       "\u001b[1m<\u001b[0m\u001b[1;95mAxes:\u001b[0m\u001b[39m \u001b[0m\u001b[1m>\u001b[0m"
      ]
     },
     "execution_count": 26,
     "metadata": {},
     "output_type": "execute_result"
    },
    {
     "data": {
      "text/html": [
       "<pre style=\"white-space:pre;overflow-x:auto;line-height:normal;font-family:Menlo,'DejaVu Sans Mono',consolas,'Courier New',monospace\"></pre>\n"
      ],
      "text/plain": []
     },
     "metadata": {},
     "output_type": "display_data"
    },
    {
     "data": {
      "image/png": "[encoded data removed]",
      "text/plain": [
       "\u001b[1m<\u001b[0m\u001b[1;95mFigure\u001b[0m\u001b[39m size 250\u001b[0m\u001b[1;36m0x1000\u001b[0m\u001b[39m with \u001b[0m\u001b[1;36m2\u001b[0m\u001b[39m Axes\u001b[0m\u001b[1m>\u001b[0m"
      ]
     },
     "metadata": {},
     "output_type": "display_data"
    }
   ],
   "source": [
    "msno.matrix(df_train)"
   ]
  },
  {
   "cell_type": "code",
   "execution_count": 27,
   "id": "5de38c7a",
   "metadata": {},
   "outputs": [
    {
     "data": {
      "text/html": [
       "<pre style=\"white-space:pre;overflow-x:auto;line-height:normal;font-family:Menlo,'DejaVu Sans Mono',consolas,'Courier New',monospace\"></pre>\n"
      ],
      "text/plain": []
     },
     "metadata": {},
     "output_type": "display_data"
    },
    {
     "data": {
      "text/plain": [
       "\u001b[1m<\u001b[0m\u001b[1;95mAxes:\u001b[0m\u001b[39m \u001b[0m\u001b[1m>\u001b[0m"
      ]
     },
     "execution_count": 27,
     "metadata": {},
     "output_type": "execute_result"
    },
    {
     "data": {
      "text/html": [
       "<pre style=\"white-space:pre;overflow-x:auto;line-height:normal;font-family:Menlo,'DejaVu Sans Mono',consolas,'Courier New',monospace\"></pre>\n"
      ],
      "text/plain": []
     },
     "metadata": {},
     "output_type": "display_data"
    },
    {
     "data": {
      "image/png": "[encoded data removed]",
      "text/plain": [
       "\u001b[1m<\u001b[0m\u001b[1;95mFigure\u001b[0m\u001b[39m size 250\u001b[0m\u001b[1;36m0x1000\u001b[0m\u001b[39m with \u001b[0m\u001b[1;36m2\u001b[0m\u001b[39m Axes\u001b[0m\u001b[1m>\u001b[0m"
      ]
     },
     "metadata": {},
     "output_type": "display_data"
    }
   ],
   "source": [
    "msno.matrix(df_test)"
   ]
  },
  {
   "cell_type": "code",
   "execution_count": 3,
   "id": "8ff4c372",
   "metadata": {},
   "outputs": [],
   "source": [
    "import pycaret as pc"
   ]
  },
  {
   "cell_type": "code",
   "execution_count": 4,
   "id": "f4bddf9c",
   "metadata": {},
   "outputs": [
    {
     "data": {
      "text/html": [
       "<pre style=\"white-space:pre;overflow-x:auto;line-height:normal;font-family:Menlo,'DejaVu Sans Mono',consolas,'Courier New',monospace\"></pre>\n"
      ],
      "text/plain": []
     },
     "metadata": {},
     "output_type": "display_data"
    },
    {
     "data": {
      "text/plain": [
       "\u001b[32m'3.3.0'\u001b[0m"
      ]
     },
     "execution_count": 4,
     "metadata": {},
     "output_type": "execute_result"
    }
   ],
   "source": [
    "pc.__version__"
   ]
  },
  {
   "cell_type": "code",
   "execution_count": 8,
   "id": "ab5da7c2",
   "metadata": {},
   "outputs": [
    {
     "data": {
      "text/html": [
       "<pre style=\"white-space:pre;overflow-x:auto;line-height:normal;font-family:Menlo,'DejaVu Sans Mono',consolas,'Courier New',monospace\"></pre>\n"
      ],
      "text/plain": []
     },
     "metadata": {},
     "output_type": "display_data"
    },
    {
     "data": {
      "text/html": [
       "<style type=\"text/css\">\n",
       "#T_19d3f_row10_col1 {\n",
       "  background-color: lightgreen;\n",
       "}\n",
       "</style>\n",
       "<table id=\"T_19d3f\">\n",
       "  <thead>\n",
       "    <tr>\n",
       "      <th class=\"blank level0\" >&nbsp;</th>\n",
       "      <th id=\"T_19d3f_level0_col0\" class=\"col_heading level0 col0\" >Description</th>\n",
       "      <th id=\"T_19d3f_level0_col1\" class=\"col_heading level0 col1\" >Value</th>\n",
       "    </tr>\n",
       "  </thead>\n",
       "  <tbody>\n",
       "    <tr>\n",
       "      <th id=\"T_19d3f_level0_row0\" class=\"row_heading level0 row0\" >0</th>\n",
       "      <td id=\"T_19d3f_row0_col0\" class=\"data row0 col0\" >Session id</td>\n",
       "      <td id=\"T_19d3f_row0_col1\" class=\"data row0 col1\" >123</td>\n",
       "    </tr>\n",
       "    <tr>\n",
       "      <th id=\"T_19d3f_level0_row1\" class=\"row_heading level0 row1\" >1</th>\n",
       "      <td id=\"T_19d3f_row1_col0\" class=\"data row1 col0\" >Target</td>\n",
       "      <td id=\"T_19d3f_row1_col1\" class=\"data row1 col1\" >TARGET</td>\n",
       "    </tr>\n",
       "    <tr>\n",
       "      <th id=\"T_19d3f_level0_row2\" class=\"row_heading level0 row2\" >2</th>\n",
       "      <td id=\"T_19d3f_row2_col0\" class=\"data row2 col0\" >Target type</td>\n",
       "      <td id=\"T_19d3f_row2_col1\" class=\"data row2 col1\" >Binary</td>\n",
       "    </tr>\n",
       "    <tr>\n",
       "      <th id=\"T_19d3f_level0_row3\" class=\"row_heading level0 row3\" >3</th>\n",
       "      <td id=\"T_19d3f_row3_col0\" class=\"data row3 col0\" >Original data shape</td>\n",
       "      <td id=\"T_19d3f_row3_col1\" class=\"data row3 col1\" >(1000, 122)</td>\n",
       "    </tr>\n",
       "    <tr>\n",
       "      <th id=\"T_19d3f_level0_row4\" class=\"row_heading level0 row4\" >4</th>\n",
       "      <td id=\"T_19d3f_row4_col0\" class=\"data row4 col0\" >Transformed data shape</td>\n",
       "      <td id=\"T_19d3f_row4_col1\" class=\"data row4 col1\" >(1000, 177)</td>\n",
       "    </tr>\n",
       "    <tr>\n",
       "      <th id=\"T_19d3f_level0_row5\" class=\"row_heading level0 row5\" >5</th>\n",
       "      <td id=\"T_19d3f_row5_col0\" class=\"data row5 col0\" >Transformed train set shape</td>\n",
       "      <td id=\"T_19d3f_row5_col1\" class=\"data row5 col1\" >(700, 177)</td>\n",
       "    </tr>\n",
       "    <tr>\n",
       "      <th id=\"T_19d3f_level0_row6\" class=\"row_heading level0 row6\" >6</th>\n",
       "      <td id=\"T_19d3f_row6_col0\" class=\"data row6 col0\" >Transformed test set shape</td>\n",
       "      <td id=\"T_19d3f_row6_col1\" class=\"data row6 col1\" >(300, 177)</td>\n",
       "    </tr>\n",
       "    <tr>\n",
       "      <th id=\"T_19d3f_level0_row7\" class=\"row_heading level0 row7\" >7</th>\n",
       "      <td id=\"T_19d3f_row7_col0\" class=\"data row7 col0\" >Numeric features</td>\n",
       "      <td id=\"T_19d3f_row7_col1\" class=\"data row7 col1\" >105</td>\n",
       "    </tr>\n",
       "    <tr>\n",
       "      <th id=\"T_19d3f_level0_row8\" class=\"row_heading level0 row8\" >8</th>\n",
       "      <td id=\"T_19d3f_row8_col0\" class=\"data row8 col0\" >Categorical features</td>\n",
       "      <td id=\"T_19d3f_row8_col1\" class=\"data row8 col1\" >16</td>\n",
       "    </tr>\n",
       "    <tr>\n",
       "      <th id=\"T_19d3f_level0_row9\" class=\"row_heading level0 row9\" >9</th>\n",
       "      <td id=\"T_19d3f_row9_col0\" class=\"data row9 col0\" >Rows with missing values</td>\n",
       "      <td id=\"T_19d3f_row9_col1\" class=\"data row9 col1\" >97.4%</td>\n",
       "    </tr>\n",
       "    <tr>\n",
       "      <th id=\"T_19d3f_level0_row10\" class=\"row_heading level0 row10\" >10</th>\n",
       "      <td id=\"T_19d3f_row10_col0\" class=\"data row10 col0\" >Preprocess</td>\n",
       "      <td id=\"T_19d3f_row10_col1\" class=\"data row10 col1\" >True</td>\n",
       "    </tr>\n",
       "    <tr>\n",
       "      <th id=\"T_19d3f_level0_row11\" class=\"row_heading level0 row11\" >11</th>\n",
       "      <td id=\"T_19d3f_row11_col0\" class=\"data row11 col0\" >Imputation type</td>\n",
       "      <td id=\"T_19d3f_row11_col1\" class=\"data row11 col1\" >simple</td>\n",
       "    </tr>\n",
       "    <tr>\n",
       "      <th id=\"T_19d3f_level0_row12\" class=\"row_heading level0 row12\" >12</th>\n",
       "      <td id=\"T_19d3f_row12_col0\" class=\"data row12 col0\" >Numeric imputation</td>\n",
       "      <td id=\"T_19d3f_row12_col1\" class=\"data row12 col1\" >mean</td>\n",
       "    </tr>\n",
       "    <tr>\n",
       "      <th id=\"T_19d3f_level0_row13\" class=\"row_heading level0 row13\" >13</th>\n",
       "      <td id=\"T_19d3f_row13_col0\" class=\"data row13 col0\" >Categorical imputation</td>\n",
       "      <td id=\"T_19d3f_row13_col1\" class=\"data row13 col1\" >mode</td>\n",
       "    </tr>\n",
       "    <tr>\n",
       "      <th id=\"T_19d3f_level0_row14\" class=\"row_heading level0 row14\" >14</th>\n",
       "      <td id=\"T_19d3f_row14_col0\" class=\"data row14 col0\" >Maximum one-hot encoding</td>\n",
       "      <td id=\"T_19d3f_row14_col1\" class=\"data row14 col1\" >25</td>\n",
       "    </tr>\n",
       "    <tr>\n",
       "      <th id=\"T_19d3f_level0_row15\" class=\"row_heading level0 row15\" >15</th>\n",
       "      <td id=\"T_19d3f_row15_col0\" class=\"data row15 col0\" >Encoding method</td>\n",
       "      <td id=\"T_19d3f_row15_col1\" class=\"data row15 col1\" >None</td>\n",
       "    </tr>\n",
       "    <tr>\n",
       "      <th id=\"T_19d3f_level0_row16\" class=\"row_heading level0 row16\" >16</th>\n",
       "      <td id=\"T_19d3f_row16_col0\" class=\"data row16 col0\" >Fold Generator</td>\n",
       "      <td id=\"T_19d3f_row16_col1\" class=\"data row16 col1\" >StratifiedKFold</td>\n",
       "    </tr>\n",
       "    <tr>\n",
       "      <th id=\"T_19d3f_level0_row17\" class=\"row_heading level0 row17\" >17</th>\n",
       "      <td id=\"T_19d3f_row17_col0\" class=\"data row17 col0\" >Fold Number</td>\n",
       "      <td id=\"T_19d3f_row17_col1\" class=\"data row17 col1\" >10</td>\n",
       "    </tr>\n",
       "    <tr>\n",
       "      <th id=\"T_19d3f_level0_row18\" class=\"row_heading level0 row18\" >18</th>\n",
       "      <td id=\"T_19d3f_row18_col0\" class=\"data row18 col0\" >CPU Jobs</td>\n",
       "      <td id=\"T_19d3f_row18_col1\" class=\"data row18 col1\" >-1</td>\n",
       "    </tr>\n",
       "    <tr>\n",
       "      <th id=\"T_19d3f_level0_row19\" class=\"row_heading level0 row19\" >19</th>\n",
       "      <td id=\"T_19d3f_row19_col0\" class=\"data row19 col0\" >Use GPU</td>\n",
       "      <td id=\"T_19d3f_row19_col1\" class=\"data row19 col1\" >False</td>\n",
       "    </tr>\n",
       "    <tr>\n",
       "      <th id=\"T_19d3f_level0_row20\" class=\"row_heading level0 row20\" >20</th>\n",
       "      <td id=\"T_19d3f_row20_col0\" class=\"data row20 col0\" >Log Experiment</td>\n",
       "      <td id=\"T_19d3f_row20_col1\" class=\"data row20 col1\" >False</td>\n",
       "    </tr>\n",
       "    <tr>\n",
       "      <th id=\"T_19d3f_level0_row21\" class=\"row_heading level0 row21\" >21</th>\n",
       "      <td id=\"T_19d3f_row21_col0\" class=\"data row21 col0\" >Experiment Name</td>\n",
       "      <td id=\"T_19d3f_row21_col1\" class=\"data row21 col1\" >clf-default-name</td>\n",
       "    </tr>\n",
       "    <tr>\n",
       "      <th id=\"T_19d3f_level0_row22\" class=\"row_heading level0 row22\" >22</th>\n",
       "      <td id=\"T_19d3f_row22_col0\" class=\"data row22 col0\" >USI</td>\n",
       "      <td id=\"T_19d3f_row22_col1\" class=\"data row22 col1\" >6d88</td>\n",
       "    </tr>\n",
       "  </tbody>\n",
       "</table>\n"
      ],
      "text/plain": [
       "\u001b[1m<\u001b[0m\u001b[1;95mpandas.io.formats.style.Styler\u001b[0m\u001b[39m object at \u001b[0m\u001b[1;36m0x7efcd9056dd0\u001b[0m\u001b[1m>\u001b[0m"
      ]
     },
     "metadata": {},
     "output_type": "display_data"
    },
    {
     "data": {
      "text/html": [
       "<pre style=\"white-space:pre;overflow-x:auto;line-height:normal;font-family:Menlo,'DejaVu Sans Mono',consolas,'Courier New',monospace\"></pre>\n"
      ],
      "text/plain": []
     },
     "metadata": {},
     "output_type": "display_data"
    }
   ],
   "source": [
    "from pycaret.classification import *\n",
    "\n",
    "s = setup(df_train.head(1000), target = 'TARGET', session_id = 123)"
   ]
  },
  {
   "cell_type": "code",
   "execution_count": 9,
   "id": "f80ab140",
   "metadata": {},
   "outputs": [
    {
     "data": {
      "text/html": [
       "<pre style=\"white-space:pre;overflow-x:auto;line-height:normal;font-family:Menlo,'DejaVu Sans Mono',consolas,'Courier New',monospace\"></pre>\n"
      ],
      "text/plain": []
     },
     "metadata": {},
     "output_type": "display_data"
    },
    {
     "data": {
      "text/html": [],
      "text/plain": [
       "\u001b[1m<\u001b[0m\u001b[1;95mIPython.core.display.HTML\u001b[0m\u001b[39m object\u001b[0m\u001b[1m>\u001b[0m"
      ]
     },
     "metadata": {},
     "output_type": "display_data"
    },
    {
     "data": {
      "text/html": [
       "<pre style=\"white-space:pre;overflow-x:auto;line-height:normal;font-family:Menlo,'DejaVu Sans Mono',consolas,'Courier New',monospace\"></pre>\n"
      ],
      "text/plain": []
     },
     "metadata": {},
     "output_type": "display_data"
    },
    {
     "data": {
      "text/html": [
       "<style type=\"text/css\">\n",
       "#T_cba5a th {\n",
       "  text-align: left;\n",
       "}\n",
       "#T_cba5a_row0_col0, #T_cba5a_row0_col3, #T_cba5a_row0_col4, #T_cba5a_row0_col5, #T_cba5a_row0_col6, #T_cba5a_row0_col7, #T_cba5a_row1_col0, #T_cba5a_row1_col3, #T_cba5a_row1_col4, #T_cba5a_row1_col5, #T_cba5a_row1_col6, #T_cba5a_row1_col7, #T_cba5a_row2_col0, #T_cba5a_row2_col3, #T_cba5a_row2_col4, #T_cba5a_row2_col5, #T_cba5a_row2_col6, #T_cba5a_row2_col7, #T_cba5a_row3_col0, #T_cba5a_row3_col3, #T_cba5a_row3_col4, #T_cba5a_row3_col5, #T_cba5a_row3_col6, #T_cba5a_row3_col7, #T_cba5a_row4_col0, #T_cba5a_row4_col3, #T_cba5a_row4_col4, #T_cba5a_row4_col5, #T_cba5a_row4_col6, #T_cba5a_row4_col7, #T_cba5a_row5_col0, #T_cba5a_row5_col3, #T_cba5a_row5_col4, #T_cba5a_row5_col5, #T_cba5a_row5_col6, #T_cba5a_row5_col7, #T_cba5a_row6_col0, #T_cba5a_row6_col1, #T_cba5a_row6_col3, #T_cba5a_row6_col4, #T_cba5a_row6_col5, #T_cba5a_row6_col6, #T_cba5a_row6_col7, #T_cba5a_row7_col0, #T_cba5a_row7_col1, #T_cba5a_row7_col3, #T_cba5a_row7_col4, #T_cba5a_row7_col5, #T_cba5a_row7_col6, #T_cba5a_row7_col7, #T_cba5a_row8_col0, #T_cba5a_row8_col1, #T_cba5a_row8_col3, #T_cba5a_row8_col4, #T_cba5a_row8_col5, #T_cba5a_row8_col6, #T_cba5a_row8_col7, #T_cba5a_row9_col0, #T_cba5a_row9_col1, #T_cba5a_row9_col3, #T_cba5a_row9_col4, #T_cba5a_row9_col5, #T_cba5a_row9_col6, #T_cba5a_row9_col7, #T_cba5a_row10_col0, #T_cba5a_row10_col1, #T_cba5a_row10_col3, #T_cba5a_row10_col4, #T_cba5a_row10_col5, #T_cba5a_row10_col6, #T_cba5a_row10_col7, #T_cba5a_row11_col0, #T_cba5a_row11_col1, #T_cba5a_row11_col3, #T_cba5a_row11_col5, #T_cba5a_row11_col6, #T_cba5a_row11_col7, #T_cba5a_row12_col0, #T_cba5a_row12_col1, #T_cba5a_row12_col4 {\n",
       "  text-align: left;\n",
       "}\n",
       "#T_cba5a_row0_col1, #T_cba5a_row0_col2, #T_cba5a_row1_col1, #T_cba5a_row1_col2, #T_cba5a_row2_col1, #T_cba5a_row2_col2, #T_cba5a_row3_col1, #T_cba5a_row3_col2, #T_cba5a_row4_col1, #T_cba5a_row4_col2, #T_cba5a_row5_col1, #T_cba5a_row5_col2, #T_cba5a_row6_col2, #T_cba5a_row7_col2, #T_cba5a_row8_col2, #T_cba5a_row9_col2, #T_cba5a_row10_col2, #T_cba5a_row11_col2, #T_cba5a_row11_col4, #T_cba5a_row12_col2, #T_cba5a_row12_col3, #T_cba5a_row12_col5, #T_cba5a_row12_col6, #T_cba5a_row12_col7 {\n",
       "  text-align: left;\n",
       "  background-color: yellow;\n",
       "}\n",
       "#T_cba5a_row0_col8, #T_cba5a_row2_col8, #T_cba5a_row3_col8, #T_cba5a_row4_col8, #T_cba5a_row5_col8, #T_cba5a_row6_col8, #T_cba5a_row7_col8, #T_cba5a_row8_col8, #T_cba5a_row9_col8, #T_cba5a_row10_col8, #T_cba5a_row11_col8, #T_cba5a_row12_col8 {\n",
       "  text-align: left;\n",
       "  background-color: lightgrey;\n",
       "}\n",
       "#T_cba5a_row1_col8 {\n",
       "  text-align: left;\n",
       "  background-color: yellow;\n",
       "  background-color: lightgrey;\n",
       "}\n",
       "</style>\n",
       "<table id=\"T_cba5a\">\n",
       "  <thead>\n",
       "    <tr>\n",
       "      <th class=\"blank level0\" >&nbsp;</th>\n",
       "      <th id=\"T_cba5a_level0_col0\" class=\"col_heading level0 col0\" >Model</th>\n",
       "      <th id=\"T_cba5a_level0_col1\" class=\"col_heading level0 col1\" >Accuracy</th>\n",
       "      <th id=\"T_cba5a_level0_col2\" class=\"col_heading level0 col2\" >AUC</th>\n",
       "      <th id=\"T_cba5a_level0_col3\" class=\"col_heading level0 col3\" >Recall</th>\n",
       "      <th id=\"T_cba5a_level0_col4\" class=\"col_heading level0 col4\" >Prec.</th>\n",
       "      <th id=\"T_cba5a_level0_col5\" class=\"col_heading level0 col5\" >F1</th>\n",
       "      <th id=\"T_cba5a_level0_col6\" class=\"col_heading level0 col6\" >Kappa</th>\n",
       "      <th id=\"T_cba5a_level0_col7\" class=\"col_heading level0 col7\" >MCC</th>\n",
       "      <th id=\"T_cba5a_level0_col8\" class=\"col_heading level0 col8\" >TT (Sec)</th>\n",
       "    </tr>\n",
       "  </thead>\n",
       "  <tbody>\n",
       "    <tr>\n",
       "      <th id=\"T_cba5a_level0_row0\" class=\"row_heading level0 row0\" >nb</th>\n",
       "      <td id=\"T_cba5a_row0_col0\" class=\"data row0 col0\" >Naive Bayes</td>\n",
       "      <td id=\"T_cba5a_row0_col1\" class=\"data row0 col1\" >0.9300</td>\n",
       "      <td id=\"T_cba5a_row0_col2\" class=\"data row0 col2\" >0.0000</td>\n",
       "      <td id=\"T_cba5a_row0_col3\" class=\"data row0 col3\" >0.0000</td>\n",
       "      <td id=\"T_cba5a_row0_col4\" class=\"data row0 col4\" >0.0000</td>\n",
       "      <td id=\"T_cba5a_row0_col5\" class=\"data row0 col5\" >0.0000</td>\n",
       "      <td id=\"T_cba5a_row0_col6\" class=\"data row0 col6\" >0.0000</td>\n",
       "      <td id=\"T_cba5a_row0_col7\" class=\"data row0 col7\" >0.0000</td>\n",
       "      <td id=\"T_cba5a_row0_col8\" class=\"data row0 col8\" >0.1110</td>\n",
       "    </tr>\n",
       "    <tr>\n",
       "      <th id=\"T_cba5a_level0_row1\" class=\"row_heading level0 row1\" >svm</th>\n",
       "      <td id=\"T_cba5a_row1_col0\" class=\"data row1 col0\" >SVM - Linear Kernel</td>\n",
       "      <td id=\"T_cba5a_row1_col1\" class=\"data row1 col1\" >0.9300</td>\n",
       "      <td id=\"T_cba5a_row1_col2\" class=\"data row1 col2\" >0.0000</td>\n",
       "      <td id=\"T_cba5a_row1_col3\" class=\"data row1 col3\" >0.0000</td>\n",
       "      <td id=\"T_cba5a_row1_col4\" class=\"data row1 col4\" >0.0000</td>\n",
       "      <td id=\"T_cba5a_row1_col5\" class=\"data row1 col5\" >0.0000</td>\n",
       "      <td id=\"T_cba5a_row1_col6\" class=\"data row1 col6\" >0.0000</td>\n",
       "      <td id=\"T_cba5a_row1_col7\" class=\"data row1 col7\" >0.0000</td>\n",
       "      <td id=\"T_cba5a_row1_col8\" class=\"data row1 col8\" >0.0840</td>\n",
       "    </tr>\n",
       "    <tr>\n",
       "      <th id=\"T_cba5a_level0_row2\" class=\"row_heading level0 row2\" >ridge</th>\n",
       "      <td id=\"T_cba5a_row2_col0\" class=\"data row2 col0\" >Ridge Classifier</td>\n",
       "      <td id=\"T_cba5a_row2_col1\" class=\"data row2 col1\" >0.9300</td>\n",
       "      <td id=\"T_cba5a_row2_col2\" class=\"data row2 col2\" >0.0000</td>\n",
       "      <td id=\"T_cba5a_row2_col3\" class=\"data row2 col3\" >0.0200</td>\n",
       "      <td id=\"T_cba5a_row2_col4\" class=\"data row2 col4\" >0.1000</td>\n",
       "      <td id=\"T_cba5a_row2_col5\" class=\"data row2 col5\" >0.0333</td>\n",
       "      <td id=\"T_cba5a_row2_col6\" class=\"data row2 col6\" >0.0293</td>\n",
       "      <td id=\"T_cba5a_row2_col7\" class=\"data row2 col7\" >0.0401</td>\n",
       "      <td id=\"T_cba5a_row2_col8\" class=\"data row2 col8\" >0.0850</td>\n",
       "    </tr>\n",
       "    <tr>\n",
       "      <th id=\"T_cba5a_level0_row3\" class=\"row_heading level0 row3\" >rf</th>\n",
       "      <td id=\"T_cba5a_row3_col0\" class=\"data row3 col0\" >Random Forest Classifier</td>\n",
       "      <td id=\"T_cba5a_row3_col1\" class=\"data row3 col1\" >0.9300</td>\n",
       "      <td id=\"T_cba5a_row3_col2\" class=\"data row3 col2\" >0.0000</td>\n",
       "      <td id=\"T_cba5a_row3_col3\" class=\"data row3 col3\" >0.0000</td>\n",
       "      <td id=\"T_cba5a_row3_col4\" class=\"data row3 col4\" >0.0000</td>\n",
       "      <td id=\"T_cba5a_row3_col5\" class=\"data row3 col5\" >0.0000</td>\n",
       "      <td id=\"T_cba5a_row3_col6\" class=\"data row3 col6\" >0.0000</td>\n",
       "      <td id=\"T_cba5a_row3_col7\" class=\"data row3 col7\" >0.0000</td>\n",
       "      <td id=\"T_cba5a_row3_col8\" class=\"data row3 col8\" >0.1610</td>\n",
       "    </tr>\n",
       "    <tr>\n",
       "      <th id=\"T_cba5a_level0_row4\" class=\"row_heading level0 row4\" >et</th>\n",
       "      <td id=\"T_cba5a_row4_col0\" class=\"data row4 col0\" >Extra Trees Classifier</td>\n",
       "      <td id=\"T_cba5a_row4_col1\" class=\"data row4 col1\" >0.9300</td>\n",
       "      <td id=\"T_cba5a_row4_col2\" class=\"data row4 col2\" >0.0000</td>\n",
       "      <td id=\"T_cba5a_row4_col3\" class=\"data row4 col3\" >0.0000</td>\n",
       "      <td id=\"T_cba5a_row4_col4\" class=\"data row4 col4\" >0.0000</td>\n",
       "      <td id=\"T_cba5a_row4_col5\" class=\"data row4 col5\" >0.0000</td>\n",
       "      <td id=\"T_cba5a_row4_col6\" class=\"data row4 col6\" >0.0000</td>\n",
       "      <td id=\"T_cba5a_row4_col7\" class=\"data row4 col7\" >0.0000</td>\n",
       "      <td id=\"T_cba5a_row4_col8\" class=\"data row4 col8\" >0.1810</td>\n",
       "    </tr>\n",
       "    <tr>\n",
       "      <th id=\"T_cba5a_level0_row5\" class=\"row_heading level0 row5\" >dummy</th>\n",
       "      <td id=\"T_cba5a_row5_col0\" class=\"data row5 col0\" >Dummy Classifier</td>\n",
       "      <td id=\"T_cba5a_row5_col1\" class=\"data row5 col1\" >0.9300</td>\n",
       "      <td id=\"T_cba5a_row5_col2\" class=\"data row5 col2\" >0.0000</td>\n",
       "      <td id=\"T_cba5a_row5_col3\" class=\"data row5 col3\" >0.0000</td>\n",
       "      <td id=\"T_cba5a_row5_col4\" class=\"data row5 col4\" >0.0000</td>\n",
       "      <td id=\"T_cba5a_row5_col5\" class=\"data row5 col5\" >0.0000</td>\n",
       "      <td id=\"T_cba5a_row5_col6\" class=\"data row5 col6\" >0.0000</td>\n",
       "      <td id=\"T_cba5a_row5_col7\" class=\"data row5 col7\" >0.0000</td>\n",
       "      <td id=\"T_cba5a_row5_col8\" class=\"data row5 col8\" >0.1220</td>\n",
       "    </tr>\n",
       "    <tr>\n",
       "      <th id=\"T_cba5a_level0_row6\" class=\"row_heading level0 row6\" >lr</th>\n",
       "      <td id=\"T_cba5a_row6_col0\" class=\"data row6 col0\" >Logistic Regression</td>\n",
       "      <td id=\"T_cba5a_row6_col1\" class=\"data row6 col1\" >0.9286</td>\n",
       "      <td id=\"T_cba5a_row6_col2\" class=\"data row6 col2\" >0.0000</td>\n",
       "      <td id=\"T_cba5a_row6_col3\" class=\"data row6 col3\" >0.0000</td>\n",
       "      <td id=\"T_cba5a_row6_col4\" class=\"data row6 col4\" >0.0000</td>\n",
       "      <td id=\"T_cba5a_row6_col5\" class=\"data row6 col5\" >0.0000</td>\n",
       "      <td id=\"T_cba5a_row6_col6\" class=\"data row6 col6\" >-0.0024</td>\n",
       "      <td id=\"T_cba5a_row6_col7\" class=\"data row6 col7\" >-0.0033</td>\n",
       "      <td id=\"T_cba5a_row6_col8\" class=\"data row6 col8\" >0.5160</td>\n",
       "    </tr>\n",
       "    <tr>\n",
       "      <th id=\"T_cba5a_level0_row7\" class=\"row_heading level0 row7\" >knn</th>\n",
       "      <td id=\"T_cba5a_row7_col0\" class=\"data row7 col0\" >K Neighbors Classifier</td>\n",
       "      <td id=\"T_cba5a_row7_col1\" class=\"data row7 col1\" >0.9286</td>\n",
       "      <td id=\"T_cba5a_row7_col2\" class=\"data row7 col2\" >0.0000</td>\n",
       "      <td id=\"T_cba5a_row7_col3\" class=\"data row7 col3\" >0.0000</td>\n",
       "      <td id=\"T_cba5a_row7_col4\" class=\"data row7 col4\" >0.0000</td>\n",
       "      <td id=\"T_cba5a_row7_col5\" class=\"data row7 col5\" >0.0000</td>\n",
       "      <td id=\"T_cba5a_row7_col6\" class=\"data row7 col6\" >-0.0024</td>\n",
       "      <td id=\"T_cba5a_row7_col7\" class=\"data row7 col7\" >-0.0033</td>\n",
       "      <td id=\"T_cba5a_row7_col8\" class=\"data row7 col8\" >0.0900</td>\n",
       "    </tr>\n",
       "    <tr>\n",
       "      <th id=\"T_cba5a_level0_row8\" class=\"row_heading level0 row8\" >qda</th>\n",
       "      <td id=\"T_cba5a_row8_col0\" class=\"data row8 col0\" >Quadratic Discriminant Analysis</td>\n",
       "      <td id=\"T_cba5a_row8_col1\" class=\"data row8 col1\" >0.9229</td>\n",
       "      <td id=\"T_cba5a_row8_col2\" class=\"data row8 col2\" >0.0000</td>\n",
       "      <td id=\"T_cba5a_row8_col3\" class=\"data row8 col3\" >0.0000</td>\n",
       "      <td id=\"T_cba5a_row8_col4\" class=\"data row8 col4\" >0.0000</td>\n",
       "      <td id=\"T_cba5a_row8_col5\" class=\"data row8 col5\" >0.0000</td>\n",
       "      <td id=\"T_cba5a_row8_col6\" class=\"data row8 col6\" >-0.0109</td>\n",
       "      <td id=\"T_cba5a_row8_col7\" class=\"data row8 col7\" >-0.0129</td>\n",
       "      <td id=\"T_cba5a_row8_col8\" class=\"data row8 col8\" >0.0970</td>\n",
       "    </tr>\n",
       "    <tr>\n",
       "      <th id=\"T_cba5a_level0_row9\" class=\"row_heading level0 row9\" >ada</th>\n",
       "      <td id=\"T_cba5a_row9_col0\" class=\"data row9 col0\" >Ada Boost Classifier</td>\n",
       "      <td id=\"T_cba5a_row9_col1\" class=\"data row9 col1\" >0.9186</td>\n",
       "      <td id=\"T_cba5a_row9_col2\" class=\"data row9 col2\" >0.0000</td>\n",
       "      <td id=\"T_cba5a_row9_col3\" class=\"data row9 col3\" >0.1200</td>\n",
       "      <td id=\"T_cba5a_row9_col4\" class=\"data row9 col4\" >0.2167</td>\n",
       "      <td id=\"T_cba5a_row9_col5\" class=\"data row9 col5\" >0.1536</td>\n",
       "      <td id=\"T_cba5a_row9_col6\" class=\"data row9 col6\" >0.1213</td>\n",
       "      <td id=\"T_cba5a_row9_col7\" class=\"data row9 col7\" >0.1259</td>\n",
       "      <td id=\"T_cba5a_row9_col8\" class=\"data row9 col8\" >0.1510</td>\n",
       "    </tr>\n",
       "    <tr>\n",
       "      <th id=\"T_cba5a_level0_row10\" class=\"row_heading level0 row10\" >gbc</th>\n",
       "      <td id=\"T_cba5a_row10_col0\" class=\"data row10 col0\" >Gradient Boosting Classifier</td>\n",
       "      <td id=\"T_cba5a_row10_col1\" class=\"data row10 col1\" >0.9157</td>\n",
       "      <td id=\"T_cba5a_row10_col2\" class=\"data row10 col2\" >0.0000</td>\n",
       "      <td id=\"T_cba5a_row10_col3\" class=\"data row10 col3\" >0.0400</td>\n",
       "      <td id=\"T_cba5a_row10_col4\" class=\"data row10 col4\" >0.0833</td>\n",
       "      <td id=\"T_cba5a_row10_col5\" class=\"data row10 col5\" >0.0536</td>\n",
       "      <td id=\"T_cba5a_row10_col6\" class=\"data row10 col6\" >0.0275</td>\n",
       "      <td id=\"T_cba5a_row10_col7\" class=\"data row10 col7\" >0.0285</td>\n",
       "      <td id=\"T_cba5a_row10_col8\" class=\"data row10 col8\" >0.3110</td>\n",
       "    </tr>\n",
       "    <tr>\n",
       "      <th id=\"T_cba5a_level0_row11\" class=\"row_heading level0 row11\" >lda</th>\n",
       "      <td id=\"T_cba5a_row11_col0\" class=\"data row11 col0\" >Linear Discriminant Analysis</td>\n",
       "      <td id=\"T_cba5a_row11_col1\" class=\"data row11 col1\" >0.8843</td>\n",
       "      <td id=\"T_cba5a_row11_col2\" class=\"data row11 col2\" >0.0000</td>\n",
       "      <td id=\"T_cba5a_row11_col3\" class=\"data row11 col3\" >0.1400</td>\n",
       "      <td id=\"T_cba5a_row11_col4\" class=\"data row11 col4\" >0.2283</td>\n",
       "      <td id=\"T_cba5a_row11_col5\" class=\"data row11 col5\" >0.1564</td>\n",
       "      <td id=\"T_cba5a_row11_col6\" class=\"data row11 col6\" >0.0966</td>\n",
       "      <td id=\"T_cba5a_row11_col7\" class=\"data row11 col7\" >0.1084</td>\n",
       "      <td id=\"T_cba5a_row11_col8\" class=\"data row11 col8\" >0.1100</td>\n",
       "    </tr>\n",
       "    <tr>\n",
       "      <th id=\"T_cba5a_level0_row12\" class=\"row_heading level0 row12\" >dt</th>\n",
       "      <td id=\"T_cba5a_row12_col0\" class=\"data row12 col0\" >Decision Tree Classifier</td>\n",
       "      <td id=\"T_cba5a_row12_col1\" class=\"data row12 col1\" >0.8743</td>\n",
       "      <td id=\"T_cba5a_row12_col2\" class=\"data row12 col2\" >0.0000</td>\n",
       "      <td id=\"T_cba5a_row12_col3\" class=\"data row12 col3\" >0.2800</td>\n",
       "      <td id=\"T_cba5a_row12_col4\" class=\"data row12 col4\" >0.2226</td>\n",
       "      <td id=\"T_cba5a_row12_col5\" class=\"data row12 col5\" >0.2374</td>\n",
       "      <td id=\"T_cba5a_row12_col6\" class=\"data row12 col6\" >0.1732</td>\n",
       "      <td id=\"T_cba5a_row12_col7\" class=\"data row12 col7\" >0.1789</td>\n",
       "      <td id=\"T_cba5a_row12_col8\" class=\"data row12 col8\" >0.1040</td>\n",
       "    </tr>\n",
       "  </tbody>\n",
       "</table>\n"
      ],
      "text/plain": [
       "\u001b[1m<\u001b[0m\u001b[1;95mpandas.io.formats.style.Styler\u001b[0m\u001b[39m object at \u001b[0m\u001b[1;36m0x7efcbc656e00\u001b[0m\u001b[1m>\u001b[0m"
      ]
     },
     "metadata": {},
     "output_type": "display_data"
    },
    {
     "data": {
      "text/html": [],
      "text/plain": [
       "\u001b[1m<\u001b[0m\u001b[1;95mIPython.core.display.HTML\u001b[0m\u001b[39m object\u001b[0m\u001b[1m>\u001b[0m"
      ]
     },
     "metadata": {},
     "output_type": "display_data"
    },
    {
     "data": {
      "text/html": [
       "<pre style=\"white-space:pre;overflow-x:auto;line-height:normal;font-family:Menlo,'DejaVu Sans Mono',consolas,'Courier New',monospace\"></pre>\n"
      ],
      "text/plain": []
     },
     "metadata": {},
     "output_type": "display_data"
    },
    {
     "data": {
      "text/html": [
       "<pre style=\"white-space:pre;overflow-x:auto;line-height:normal;font-family:Menlo,'DejaVu Sans Mono',consolas,'Courier New',monospace\"></pre>\n"
      ],
      "text/plain": []
     },
     "metadata": {},
     "output_type": "display_data"
    },
    {
     "data": {
      "text/html": [
       "<pre style=\"white-space:pre;overflow-x:auto;line-height:normal;font-family:Menlo,'DejaVu Sans Mono',consolas,'Courier New',monospace\"></pre>\n"
      ],
      "text/plain": []
     },
     "metadata": {},
     "output_type": "display_data"
    },
    {
     "data": {
      "text/html": [
       "<pre style=\"white-space:pre;overflow-x:auto;line-height:normal;font-family:Menlo,'DejaVu Sans Mono',consolas,'Courier New',monospace\"></pre>\n"
      ],
      "text/plain": []
     },
     "metadata": {},
     "output_type": "display_data"
    },
    {
     "data": {
      "text/html": [
       "<pre style=\"white-space:pre;overflow-x:auto;line-height:normal;font-family:Menlo,'DejaVu Sans Mono',consolas,'Courier New',monospace\"></pre>\n"
      ],
      "text/plain": []
     },
     "metadata": {},
     "output_type": "display_data"
    },
    {
     "data": {
      "text/html": [
       "<pre style=\"white-space:pre;overflow-x:auto;line-height:normal;font-family:Menlo,'DejaVu Sans Mono',consolas,'Courier New',monospace\"></pre>\n"
      ],
      "text/plain": []
     },
     "metadata": {},
     "output_type": "display_data"
    },
    {
     "data": {
      "text/html": [
       "<pre style=\"white-space:pre;overflow-x:auto;line-height:normal;font-family:Menlo,'DejaVu Sans Mono',consolas,'Courier New',monospace\"></pre>\n"
      ],
      "text/plain": []
     },
     "metadata": {},
     "output_type": "display_data"
    },
    {
     "data": {
      "text/html": [
       "<pre style=\"white-space:pre;overflow-x:auto;line-height:normal;font-family:Menlo,'DejaVu Sans Mono',consolas,'Courier New',monospace\"></pre>\n"
      ],
      "text/plain": []
     },
     "metadata": {},
     "output_type": "display_data"
    },
    {
     "data": {
      "text/html": [
       "<pre style=\"white-space:pre;overflow-x:auto;line-height:normal;font-family:Menlo,'DejaVu Sans Mono',consolas,'Courier New',monospace\"></pre>\n"
      ],
      "text/plain": []
     },
     "metadata": {},
     "output_type": "display_data"
    },
    {
     "data": {
      "text/html": [
       "<pre style=\"white-space:pre;overflow-x:auto;line-height:normal;font-family:Menlo,'DejaVu Sans Mono',consolas,'Courier New',monospace\"></pre>\n"
      ],
      "text/plain": []
     },
     "metadata": {},
     "output_type": "display_data"
    },
    {
     "data": {
      "text/html": [
       "<pre style=\"white-space:pre;overflow-x:auto;line-height:normal;font-family:Menlo,'DejaVu Sans Mono',consolas,'Courier New',monospace\"></pre>\n"
      ],
      "text/plain": []
     },
     "metadata": {},
     "output_type": "display_data"
    },
    {
     "data": {
      "text/html": [
       "<pre style=\"white-space:pre;overflow-x:auto;line-height:normal;font-family:Menlo,'DejaVu Sans Mono',consolas,'Courier New',monospace\"></pre>\n"
      ],
      "text/plain": []
     },
     "metadata": {},
     "output_type": "display_data"
    },
    {
     "data": {
      "text/html": [
       "<pre style=\"white-space:pre;overflow-x:auto;line-height:normal;font-family:Menlo,'DejaVu Sans Mono',consolas,'Courier New',monospace\"></pre>\n"
      ],
      "text/plain": []
     },
     "metadata": {},
     "output_type": "display_data"
    },
    {
     "data": {
      "text/html": [
       "<pre style=\"white-space:pre;overflow-x:auto;line-height:normal;font-family:Menlo,'DejaVu Sans Mono',consolas,'Courier New',monospace\"></pre>\n"
      ],
      "text/plain": []
     },
     "metadata": {},
     "output_type": "display_data"
    },
    {
     "data": {
      "text/html": [
       "<pre style=\"white-space:pre;overflow-x:auto;line-height:normal;font-family:Menlo,'DejaVu Sans Mono',consolas,'Courier New',monospace\"></pre>\n"
      ],
      "text/plain": []
     },
     "metadata": {},
     "output_type": "display_data"
    },
    {
     "data": {
      "text/html": [
       "<pre style=\"white-space:pre;overflow-x:auto;line-height:normal;font-family:Menlo,'DejaVu Sans Mono',consolas,'Courier New',monospace\"></pre>\n"
      ],
      "text/plain": []
     },
     "metadata": {},
     "output_type": "display_data"
    },
    {
     "data": {
      "text/html": [
       "<pre style=\"white-space:pre;overflow-x:auto;line-height:normal;font-family:Menlo,'DejaVu Sans Mono',consolas,'Courier New',monospace\"></pre>\n"
      ],
      "text/plain": []
     },
     "metadata": {},
     "output_type": "display_data"
    },
    {
     "data": {
      "text/html": [
       "<pre style=\"white-space:pre;overflow-x:auto;line-height:normal;font-family:Menlo,'DejaVu Sans Mono',consolas,'Courier New',monospace\"></pre>\n"
      ],
      "text/plain": []
     },
     "metadata": {},
     "output_type": "display_data"
    },
    {
     "data": {
      "text/html": [
       "<pre style=\"white-space:pre;overflow-x:auto;line-height:normal;font-family:Menlo,'DejaVu Sans Mono',consolas,'Courier New',monospace\"></pre>\n"
      ],
      "text/plain": []
     },
     "metadata": {},
     "output_type": "display_data"
    },
    {
     "data": {
      "text/html": [
       "<pre style=\"white-space:pre;overflow-x:auto;line-height:normal;font-family:Menlo,'DejaVu Sans Mono',consolas,'Courier New',monospace\"></pre>\n"
      ],
      "text/plain": []
     },
     "metadata": {},
     "output_type": "display_data"
    },
    {
     "data": {
      "text/html": [
       "<pre style=\"white-space:pre;overflow-x:auto;line-height:normal;font-family:Menlo,'DejaVu Sans Mono',consolas,'Courier New',monospace\"></pre>\n"
      ],
      "text/plain": []
     },
     "metadata": {},
     "output_type": "display_data"
    },
    {
     "data": {
      "text/html": [
       "<pre style=\"white-space:pre;overflow-x:auto;line-height:normal;font-family:Menlo,'DejaVu Sans Mono',consolas,'Courier New',monospace\"></pre>\n"
      ],
      "text/plain": []
     },
     "metadata": {},
     "output_type": "display_data"
    },
    {
     "data": {
      "text/html": [
       "<pre style=\"white-space:pre;overflow-x:auto;line-height:normal;font-family:Menlo,'DejaVu Sans Mono',consolas,'Courier New',monospace\"></pre>\n"
      ],
      "text/plain": []
     },
     "metadata": {},
     "output_type": "display_data"
    },
    {
     "data": {
      "text/html": [
       "<pre style=\"white-space:pre;overflow-x:auto;line-height:normal;font-family:Menlo,'DejaVu Sans Mono',consolas,'Courier New',monospace\"></pre>\n"
      ],
      "text/plain": []
     },
     "metadata": {},
     "output_type": "display_data"
    },
    {
     "data": {
      "text/html": [
       "<pre style=\"white-space:pre;overflow-x:auto;line-height:normal;font-family:Menlo,'DejaVu Sans Mono',consolas,'Courier New',monospace\"></pre>\n"
      ],
      "text/plain": []
     },
     "metadata": {},
     "output_type": "display_data"
    },
    {
     "data": {
      "text/html": [
       "<pre style=\"white-space:pre;overflow-x:auto;line-height:normal;font-family:Menlo,'DejaVu Sans Mono',consolas,'Courier New',monospace\"></pre>\n"
      ],
      "text/plain": []
     },
     "metadata": {},
     "output_type": "display_data"
    },
    {
     "data": {
      "text/html": [
       "<pre style=\"white-space:pre;overflow-x:auto;line-height:normal;font-family:Menlo,'DejaVu Sans Mono',consolas,'Courier New',monospace\"></pre>\n"
      ],
      "text/plain": []
     },
     "metadata": {},
     "output_type": "display_data"
    },
    {
     "data": {
      "text/html": [
       "<pre style=\"white-space:pre;overflow-x:auto;line-height:normal;font-family:Menlo,'DejaVu Sans Mono',consolas,'Courier New',monospace\"></pre>\n"
      ],
      "text/plain": []
     },
     "metadata": {},
     "output_type": "display_data"
    },
    {
     "data": {
      "text/html": [
       "<pre style=\"white-space:pre;overflow-x:auto;line-height:normal;font-family:Menlo,'DejaVu Sans Mono',consolas,'Courier New',monospace\"></pre>\n"
      ],
      "text/plain": []
     },
     "metadata": {},
     "output_type": "display_data"
    },
    {
     "data": {
      "text/html": [
       "<pre style=\"white-space:pre;overflow-x:auto;line-height:normal;font-family:Menlo,'DejaVu Sans Mono',consolas,'Courier New',monospace\"></pre>\n"
      ],
      "text/plain": []
     },
     "metadata": {},
     "output_type": "display_data"
    },
    {
     "data": {
      "text/html": [
       "<pre style=\"white-space:pre;overflow-x:auto;line-height:normal;font-family:Menlo,'DejaVu Sans Mono',consolas,'Courier New',monospace\"></pre>\n"
      ],
      "text/plain": []
     },
     "metadata": {},
     "output_type": "display_data"
    },
    {
     "data": {
      "text/html": [
       "<pre style=\"white-space:pre;overflow-x:auto;line-height:normal;font-family:Menlo,'DejaVu Sans Mono',consolas,'Courier New',monospace\"></pre>\n"
      ],
      "text/plain": []
     },
     "metadata": {},
     "output_type": "display_data"
    },
    {
     "data": {
      "text/html": [
       "<pre style=\"white-space:pre;overflow-x:auto;line-height:normal;font-family:Menlo,'DejaVu Sans Mono',consolas,'Courier New',monospace\"></pre>\n"
      ],
      "text/plain": []
     },
     "metadata": {},
     "output_type": "display_data"
    },
    {
     "data": {
      "text/html": [
       "<pre style=\"white-space:pre;overflow-x:auto;line-height:normal;font-family:Menlo,'DejaVu Sans Mono',consolas,'Courier New',monospace\"></pre>\n"
      ],
      "text/plain": []
     },
     "metadata": {},
     "output_type": "display_data"
    },
    {
     "data": {
      "text/html": [
       "<pre style=\"white-space:pre;overflow-x:auto;line-height:normal;font-family:Menlo,'DejaVu Sans Mono',consolas,'Courier New',monospace\"></pre>\n"
      ],
      "text/plain": []
     },
     "metadata": {},
     "output_type": "display_data"
    },
    {
     "data": {
      "text/html": [
       "<pre style=\"white-space:pre;overflow-x:auto;line-height:normal;font-family:Menlo,'DejaVu Sans Mono',consolas,'Courier New',monospace\"></pre>\n"
      ],
      "text/plain": []
     },
     "metadata": {},
     "output_type": "display_data"
    },
    {
     "data": {
      "text/html": [
       "<pre style=\"white-space:pre;overflow-x:auto;line-height:normal;font-family:Menlo,'DejaVu Sans Mono',consolas,'Courier New',monospace\"></pre>\n"
      ],
      "text/plain": []
     },
     "metadata": {},
     "output_type": "display_data"
    },
    {
     "data": {
      "text/html": [
       "<pre style=\"white-space:pre;overflow-x:auto;line-height:normal;font-family:Menlo,'DejaVu Sans Mono',consolas,'Courier New',monospace\"></pre>\n"
      ],
      "text/plain": []
     },
     "metadata": {},
     "output_type": "display_data"
    },
    {
     "data": {
      "text/html": [
       "<pre style=\"white-space:pre;overflow-x:auto;line-height:normal;font-family:Menlo,'DejaVu Sans Mono',consolas,'Courier New',monospace\"></pre>\n"
      ],
      "text/plain": []
     },
     "metadata": {},
     "output_type": "display_data"
    },
    {
     "data": {
      "text/html": [
       "<pre style=\"white-space:pre;overflow-x:auto;line-height:normal;font-family:Menlo,'DejaVu Sans Mono',consolas,'Courier New',monospace\"></pre>\n"
      ],
      "text/plain": []
     },
     "metadata": {},
     "output_type": "display_data"
    },
    {
     "data": {
      "text/html": [
       "<pre style=\"white-space:pre;overflow-x:auto;line-height:normal;font-family:Menlo,'DejaVu Sans Mono',consolas,'Courier New',monospace\"></pre>\n"
      ],
      "text/plain": []
     },
     "metadata": {},
     "output_type": "display_data"
    },
    {
     "data": {
      "text/html": [
       "<pre style=\"white-space:pre;overflow-x:auto;line-height:normal;font-family:Menlo,'DejaVu Sans Mono',consolas,'Courier New',monospace\"></pre>\n"
      ],
      "text/plain": []
     },
     "metadata": {},
     "output_type": "display_data"
    },
    {
     "data": {
      "text/html": [
       "<pre style=\"white-space:pre;overflow-x:auto;line-height:normal;font-family:Menlo,'DejaVu Sans Mono',consolas,'Courier New',monospace\"></pre>\n"
      ],
      "text/plain": []
     },
     "metadata": {},
     "output_type": "display_data"
    },
    {
     "data": {
      "text/html": [
       "<pre style=\"white-space:pre;overflow-x:auto;line-height:normal;font-family:Menlo,'DejaVu Sans Mono',consolas,'Courier New',monospace\"></pre>\n"
      ],
      "text/plain": []
     },
     "metadata": {},
     "output_type": "display_data"
    },
    {
     "data": {
      "text/html": [
       "<pre style=\"white-space:pre;overflow-x:auto;line-height:normal;font-family:Menlo,'DejaVu Sans Mono',consolas,'Courier New',monospace\"></pre>\n"
      ],
      "text/plain": []
     },
     "metadata": {},
     "output_type": "display_data"
    },
    {
     "data": {
      "text/html": [
       "<pre style=\"white-space:pre;overflow-x:auto;line-height:normal;font-family:Menlo,'DejaVu Sans Mono',consolas,'Courier New',monospace\"></pre>\n"
      ],
      "text/plain": []
     },
     "metadata": {},
     "output_type": "display_data"
    },
    {
     "data": {
      "text/html": [
       "<pre style=\"white-space:pre;overflow-x:auto;line-height:normal;font-family:Menlo,'DejaVu Sans Mono',consolas,'Courier New',monospace\"></pre>\n"
      ],
      "text/plain": []
     },
     "metadata": {},
     "output_type": "display_data"
    },
    {
     "data": {
      "text/html": [
       "<pre style=\"white-space:pre;overflow-x:auto;line-height:normal;font-family:Menlo,'DejaVu Sans Mono',consolas,'Courier New',monospace\"></pre>\n"
      ],
      "text/plain": []
     },
     "metadata": {},
     "output_type": "display_data"
    },
    {
     "data": {
      "text/html": [
       "<pre style=\"white-space:pre;overflow-x:auto;line-height:normal;font-family:Menlo,'DejaVu Sans Mono',consolas,'Courier New',monospace\"></pre>\n"
      ],
      "text/plain": []
     },
     "metadata": {},
     "output_type": "display_data"
    },
    {
     "data": {
      "text/html": [
       "<pre style=\"white-space:pre;overflow-x:auto;line-height:normal;font-family:Menlo,'DejaVu Sans Mono',consolas,'Courier New',monospace\"></pre>\n"
      ],
      "text/plain": []
     },
     "metadata": {},
     "output_type": "display_data"
    },
    {
     "data": {
      "text/html": [
       "<pre style=\"white-space:pre;overflow-x:auto;line-height:normal;font-family:Menlo,'DejaVu Sans Mono',consolas,'Courier New',monospace\"></pre>\n"
      ],
      "text/plain": []
     },
     "metadata": {},
     "output_type": "display_data"
    },
    {
     "data": {
      "text/html": [
       "<pre style=\"white-space:pre;overflow-x:auto;line-height:normal;font-family:Menlo,'DejaVu Sans Mono',consolas,'Courier New',monospace\"></pre>\n"
      ],
      "text/plain": []
     },
     "metadata": {},
     "output_type": "display_data"
    },
    {
     "data": {
      "text/html": [
       "<pre style=\"white-space:pre;overflow-x:auto;line-height:normal;font-family:Menlo,'DejaVu Sans Mono',consolas,'Courier New',monospace\"></pre>\n"
      ],
      "text/plain": []
     },
     "metadata": {},
     "output_type": "display_data"
    },
    {
     "data": {
      "text/html": [
       "<pre style=\"white-space:pre;overflow-x:auto;line-height:normal;font-family:Menlo,'DejaVu Sans Mono',consolas,'Courier New',monospace\"></pre>\n"
      ],
      "text/plain": []
     },
     "metadata": {},
     "output_type": "display_data"
    },
    {
     "data": {
      "text/html": [
       "<pre style=\"white-space:pre;overflow-x:auto;line-height:normal;font-family:Menlo,'DejaVu Sans Mono',consolas,'Courier New',monospace\"></pre>\n"
      ],
      "text/plain": []
     },
     "metadata": {},
     "output_type": "display_data"
    },
    {
     "data": {
      "text/html": [
       "<pre style=\"white-space:pre;overflow-x:auto;line-height:normal;font-family:Menlo,'DejaVu Sans Mono',consolas,'Courier New',monospace\"></pre>\n"
      ],
      "text/plain": []
     },
     "metadata": {},
     "output_type": "display_data"
    },
    {
     "data": {
      "text/html": [
       "<pre style=\"white-space:pre;overflow-x:auto;line-height:normal;font-family:Menlo,'DejaVu Sans Mono',consolas,'Courier New',monospace\"></pre>\n"
      ],
      "text/plain": []
     },
     "metadata": {},
     "output_type": "display_data"
    },
    {
     "data": {
      "text/html": [
       "<pre style=\"white-space:pre;overflow-x:auto;line-height:normal;font-family:Menlo,'DejaVu Sans Mono',consolas,'Courier New',monospace\"></pre>\n"
      ],
      "text/plain": []
     },
     "metadata": {},
     "output_type": "display_data"
    },
    {
     "data": {
      "text/html": [
       "<pre style=\"white-space:pre;overflow-x:auto;line-height:normal;font-family:Menlo,'DejaVu Sans Mono',consolas,'Courier New',monospace\"></pre>\n"
      ],
      "text/plain": []
     },
     "metadata": {},
     "output_type": "display_data"
    },
    {
     "data": {
      "text/html": [
       "<pre style=\"white-space:pre;overflow-x:auto;line-height:normal;font-family:Menlo,'DejaVu Sans Mono',consolas,'Courier New',monospace\"></pre>\n"
      ],
      "text/plain": []
     },
     "metadata": {},
     "output_type": "display_data"
    },
    {
     "data": {
      "text/html": [
       "<pre style=\"white-space:pre;overflow-x:auto;line-height:normal;font-family:Menlo,'DejaVu Sans Mono',consolas,'Courier New',monospace\"></pre>\n"
      ],
      "text/plain": []
     },
     "metadata": {},
     "output_type": "display_data"
    },
    {
     "data": {
      "text/html": [
       "<pre style=\"white-space:pre;overflow-x:auto;line-height:normal;font-family:Menlo,'DejaVu Sans Mono',consolas,'Courier New',monospace\"></pre>\n"
      ],
      "text/plain": []
     },
     "metadata": {},
     "output_type": "display_data"
    },
    {
     "data": {
      "text/html": [
       "<pre style=\"white-space:pre;overflow-x:auto;line-height:normal;font-family:Menlo,'DejaVu Sans Mono',consolas,'Courier New',monospace\"></pre>\n"
      ],
      "text/plain": []
     },
     "metadata": {},
     "output_type": "display_data"
    },
    {
     "data": {
      "text/html": [
       "<pre style=\"white-space:pre;overflow-x:auto;line-height:normal;font-family:Menlo,'DejaVu Sans Mono',consolas,'Courier New',monospace\"></pre>\n"
      ],
      "text/plain": []
     },
     "metadata": {},
     "output_type": "display_data"
    },
    {
     "data": {
      "text/html": [
       "<pre style=\"white-space:pre;overflow-x:auto;line-height:normal;font-family:Menlo,'DejaVu Sans Mono',consolas,'Courier New',monospace\"></pre>\n"
      ],
      "text/plain": []
     },
     "metadata": {},
     "output_type": "display_data"
    },
    {
     "data": {
      "text/html": [
       "<pre style=\"white-space:pre;overflow-x:auto;line-height:normal;font-family:Menlo,'DejaVu Sans Mono',consolas,'Courier New',monospace\"></pre>\n"
      ],
      "text/plain": []
     },
     "metadata": {},
     "output_type": "display_data"
    },
    {
     "data": {
      "text/html": [
       "<pre style=\"white-space:pre;overflow-x:auto;line-height:normal;font-family:Menlo,'DejaVu Sans Mono',consolas,'Courier New',monospace\"></pre>\n"
      ],
      "text/plain": []
     },
     "metadata": {},
     "output_type": "display_data"
    },
    {
     "data": {
      "text/html": [
       "<pre style=\"white-space:pre;overflow-x:auto;line-height:normal;font-family:Menlo,'DejaVu Sans Mono',consolas,'Courier New',monospace\"></pre>\n"
      ],
      "text/plain": []
     },
     "metadata": {},
     "output_type": "display_data"
    },
    {
     "data": {
      "text/html": [
       "<pre style=\"white-space:pre;overflow-x:auto;line-height:normal;font-family:Menlo,'DejaVu Sans Mono',consolas,'Courier New',monospace\"></pre>\n"
      ],
      "text/plain": []
     },
     "metadata": {},
     "output_type": "display_data"
    },
    {
     "data": {
      "text/html": [
       "<pre style=\"white-space:pre;overflow-x:auto;line-height:normal;font-family:Menlo,'DejaVu Sans Mono',consolas,'Courier New',monospace\"></pre>\n"
      ],
      "text/plain": []
     },
     "metadata": {},
     "output_type": "display_data"
    },
    {
     "data": {
      "text/html": [
       "<pre style=\"white-space:pre;overflow-x:auto;line-height:normal;font-family:Menlo,'DejaVu Sans Mono',consolas,'Courier New',monospace\"></pre>\n"
      ],
      "text/plain": []
     },
     "metadata": {},
     "output_type": "display_data"
    },
    {
     "data": {
      "text/html": [
       "<pre style=\"white-space:pre;overflow-x:auto;line-height:normal;font-family:Menlo,'DejaVu Sans Mono',consolas,'Courier New',monospace\"></pre>\n"
      ],
      "text/plain": []
     },
     "metadata": {},
     "output_type": "display_data"
    },
    {
     "data": {
      "text/html": [
       "<pre style=\"white-space:pre;overflow-x:auto;line-height:normal;font-family:Menlo,'DejaVu Sans Mono',consolas,'Courier New',monospace\"></pre>\n"
      ],
      "text/plain": []
     },
     "metadata": {},
     "output_type": "display_data"
    },
    {
     "data": {
      "text/html": [
       "<pre style=\"white-space:pre;overflow-x:auto;line-height:normal;font-family:Menlo,'DejaVu Sans Mono',consolas,'Courier New',monospace\"></pre>\n"
      ],
      "text/plain": []
     },
     "metadata": {},
     "output_type": "display_data"
    },
    {
     "data": {
      "text/html": [
       "<pre style=\"white-space:pre;overflow-x:auto;line-height:normal;font-family:Menlo,'DejaVu Sans Mono',consolas,'Courier New',monospace\"></pre>\n"
      ],
      "text/plain": []
     },
     "metadata": {},
     "output_type": "display_data"
    },
    {
     "data": {
      "text/html": [
       "<pre style=\"white-space:pre;overflow-x:auto;line-height:normal;font-family:Menlo,'DejaVu Sans Mono',consolas,'Courier New',monospace\"></pre>\n"
      ],
      "text/plain": []
     },
     "metadata": {},
     "output_type": "display_data"
    },
    {
     "data": {
      "text/html": [
       "<pre style=\"white-space:pre;overflow-x:auto;line-height:normal;font-family:Menlo,'DejaVu Sans Mono',consolas,'Courier New',monospace\"></pre>\n"
      ],
      "text/plain": []
     },
     "metadata": {},
     "output_type": "display_data"
    },
    {
     "data": {
      "text/html": [
       "<pre style=\"white-space:pre;overflow-x:auto;line-height:normal;font-family:Menlo,'DejaVu Sans Mono',consolas,'Courier New',monospace\"></pre>\n"
      ],
      "text/plain": []
     },
     "metadata": {},
     "output_type": "display_data"
    },
    {
     "data": {
      "text/html": [
       "<pre style=\"white-space:pre;overflow-x:auto;line-height:normal;font-family:Menlo,'DejaVu Sans Mono',consolas,'Courier New',monospace\"></pre>\n"
      ],
      "text/plain": []
     },
     "metadata": {},
     "output_type": "display_data"
    },
    {
     "data": {
      "text/html": [
       "<pre style=\"white-space:pre;overflow-x:auto;line-height:normal;font-family:Menlo,'DejaVu Sans Mono',consolas,'Courier New',monospace\"></pre>\n"
      ],
      "text/plain": []
     },
     "metadata": {},
     "output_type": "display_data"
    },
    {
     "data": {
      "text/html": [
       "<pre style=\"white-space:pre;overflow-x:auto;line-height:normal;font-family:Menlo,'DejaVu Sans Mono',consolas,'Courier New',monospace\"></pre>\n"
      ],
      "text/plain": []
     },
     "metadata": {},
     "output_type": "display_data"
    },
    {
     "data": {
      "text/html": [
       "<pre style=\"white-space:pre;overflow-x:auto;line-height:normal;font-family:Menlo,'DejaVu Sans Mono',consolas,'Courier New',monospace\"></pre>\n"
      ],
      "text/plain": []
     },
     "metadata": {},
     "output_type": "display_data"
    },
    {
     "data": {
      "text/html": [
       "<pre style=\"white-space:pre;overflow-x:auto;line-height:normal;font-family:Menlo,'DejaVu Sans Mono',consolas,'Courier New',monospace\"></pre>\n"
      ],
      "text/plain": []
     },
     "metadata": {},
     "output_type": "display_data"
    },
    {
     "data": {
      "text/html": [
       "<pre style=\"white-space:pre;overflow-x:auto;line-height:normal;font-family:Menlo,'DejaVu Sans Mono',consolas,'Courier New',monospace\"></pre>\n"
      ],
      "text/plain": []
     },
     "metadata": {},
     "output_type": "display_data"
    },
    {
     "data": {
      "text/html": [
       "<pre style=\"white-space:pre;overflow-x:auto;line-height:normal;font-family:Menlo,'DejaVu Sans Mono',consolas,'Courier New',monospace\"></pre>\n"
      ],
      "text/plain": []
     },
     "metadata": {},
     "output_type": "display_data"
    },
    {
     "data": {
      "text/html": [
       "<pre style=\"white-space:pre;overflow-x:auto;line-height:normal;font-family:Menlo,'DejaVu Sans Mono',consolas,'Courier New',monospace\"></pre>\n"
      ],
      "text/plain": []
     },
     "metadata": {},
     "output_type": "display_data"
    },
    {
     "data": {
      "text/html": [
       "<pre style=\"white-space:pre;overflow-x:auto;line-height:normal;font-family:Menlo,'DejaVu Sans Mono',consolas,'Courier New',monospace\"></pre>\n"
      ],
      "text/plain": []
     },
     "metadata": {},
     "output_type": "display_data"
    },
    {
     "data": {
      "text/html": [
       "<pre style=\"white-space:pre;overflow-x:auto;line-height:normal;font-family:Menlo,'DejaVu Sans Mono',consolas,'Courier New',monospace\"></pre>\n"
      ],
      "text/plain": []
     },
     "metadata": {},
     "output_type": "display_data"
    },
    {
     "data": {
      "text/html": [
       "<pre style=\"white-space:pre;overflow-x:auto;line-height:normal;font-family:Menlo,'DejaVu Sans Mono',consolas,'Courier New',monospace\"></pre>\n"
      ],
      "text/plain": []
     },
     "metadata": {},
     "output_type": "display_data"
    },
    {
     "data": {
      "text/html": [
       "<pre style=\"white-space:pre;overflow-x:auto;line-height:normal;font-family:Menlo,'DejaVu Sans Mono',consolas,'Courier New',monospace\"></pre>\n"
      ],
      "text/plain": []
     },
     "metadata": {},
     "output_type": "display_data"
    },
    {
     "data": {
      "text/html": [
       "<pre style=\"white-space:pre;overflow-x:auto;line-height:normal;font-family:Menlo,'DejaVu Sans Mono',consolas,'Courier New',monospace\"></pre>\n"
      ],
      "text/plain": []
     },
     "metadata": {},
     "output_type": "display_data"
    },
    {
     "data": {
      "text/html": [
       "<pre style=\"white-space:pre;overflow-x:auto;line-height:normal;font-family:Menlo,'DejaVu Sans Mono',consolas,'Courier New',monospace\"></pre>\n"
      ],
      "text/plain": []
     },
     "metadata": {},
     "output_type": "display_data"
    },
    {
     "data": {
      "text/html": [
       "<pre style=\"white-space:pre;overflow-x:auto;line-height:normal;font-family:Menlo,'DejaVu Sans Mono',consolas,'Courier New',monospace\"></pre>\n"
      ],
      "text/plain": []
     },
     "metadata": {},
     "output_type": "display_data"
    },
    {
     "data": {
      "text/html": [
       "<pre style=\"white-space:pre;overflow-x:auto;line-height:normal;font-family:Menlo,'DejaVu Sans Mono',consolas,'Courier New',monospace\"></pre>\n"
      ],
      "text/plain": []
     },
     "metadata": {},
     "output_type": "display_data"
    },
    {
     "data": {
      "text/html": [
       "<pre style=\"white-space:pre;overflow-x:auto;line-height:normal;font-family:Menlo,'DejaVu Sans Mono',consolas,'Courier New',monospace\"></pre>\n"
      ],
      "text/plain": []
     },
     "metadata": {},
     "output_type": "display_data"
    },
    {
     "data": {
      "text/html": [
       "<pre style=\"white-space:pre;overflow-x:auto;line-height:normal;font-family:Menlo,'DejaVu Sans Mono',consolas,'Courier New',monospace\"></pre>\n"
      ],
      "text/plain": []
     },
     "metadata": {},
     "output_type": "display_data"
    }
   ],
   "source": [
    "# model training and selection\n",
    "best = compare_models()"
   ]
  }
 ],
 "metadata": {
  "kernelspec": {
   "display_name": "Kedro (ocp7_scoring_model_cloud)",
   "language": "python",
   "name": "kedro_ocp7_scoring_model_cloud"
  },
  "language_info": {
   "codemirror_mode": {
    "name": "ipython",
    "version": 3
   },
   "file_extension": ".py",
   "mimetype": "text/x-python",
   "name": "python",
   "nbconvert_exporter": "python",
   "pygments_lexer": "ipython3",
   "version": "3.10.14"
  }
 },
 "nbformat": 4,
 "nbformat_minor": 5
}
